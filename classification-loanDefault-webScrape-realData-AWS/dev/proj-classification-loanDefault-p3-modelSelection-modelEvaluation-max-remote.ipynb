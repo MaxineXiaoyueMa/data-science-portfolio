{
 "cells": [
  {
   "cell_type": "markdown",
   "metadata": {},
   "source": [
    "# Loan Default Prediction - Classfication\n",
    "\n",
    "## Part 3. Model Selection + Model Evaluation\n",
    "\n",
    "**This notebook contains code for:**\n",
    "1. **Model selection,**\n",
    "2. **Model evaluation.**\n",
    "\n",
    "---\n",
    "<a id='toc'></a>\n",
    "**Table of Contents**\n",
    "1. [**Train/Test Split**](#split): Chronologically\n",
    "2. [**Model Selection**](#select)\n",
    "    Metrics: F1_Score, ROC_AUC_Score, Average_Precision\n",
    "    1. Models to Try:\n",
    "        - Linear Models: \n",
    "            - Logistic Regression\n",
    "            - SVM: SGDClassifier\n",
    "        - Naive Bayes\n",
    "        - Tree Based Models:\n",
    "            - Random Forest Classficaiton\n",
    "    2. [Model Training](#train)\n",
    "        1. [Build Pipeline](#train)\n",
    "        2. [GridSearch](#grid)\n",
    "    3. [XGBoost Classification](#xgb)\n",
    "    4. [Feature importance and model performance](#plot)\n",
    "3. [**Analysis/Evaluation Data Split**](#azeval): further split test data into analyze portion for threshold selection and evaluation portion for performance evaluation of chosen model/hyperparameters/threshold.\n",
    "3. [**ROC Analysis & Threshold Selection**](#thres)\n",
    "    1. [Model Selection](#thres)\n",
    "    2. [Threshold Selection](#thres-select): using self defined metrics listed below, three thresholds were chosen.\n",
    "        1. [metrics](#thres-select):\n",
    "            1. effective default rate: dr\\*(1-tpr)/((dr\\*(1-tpr) + (1-dr)\\*(1-fpr))\n",
    "            2. percentage of loans left in total number of Loans: dr\\*(1-tpr) + (1-dr)\\*(1-fpr)\n",
    "        2. [thresholds](#thres-thres):\n",
    "            1. 5% effective default rate\n",
    "            2. 8% effective default rate\n",
    "            3. 10% effective default rate\n",
    "3. [**Model Evaluation**](#eval)\n",
    "4. [**Notes**](#notes)\n",
    "---"
   ]
  },
  {
   "cell_type": "code",
   "execution_count": 2,
   "metadata": {},
   "outputs": [],
   "source": [
    "import numpy as np\n",
    "import pandas as pd\n",
    "pd.set_option('max_columns', 200)\n",
    "pd.set_option('max_rows', 200)\n",
    "\n",
    "import matplotlib.pyplot as plt\n",
    "%matplotlib inline\n",
    "import seaborn as sns\n",
    "sns.set_style('darkgrid')\n",
    "\n",
    "from sklearn.dummy import DummyClassifier\n",
    "from sklearn.linear_model import LogisticRegression, SGDClassifier\n",
    "from sklearn.svm import SVC\n",
    "from sklearn.naive_bayes import GaussianNB\n",
    "from sklearn.ensemble import RandomForestClassifier\n",
    "from xgboost import XGBClassifier, plot_importance\n",
    "\n",
    "from sklearn.preprocessing import StandardScaler, QuantileTransformer\n",
    "from sklearn.metrics import roc_auc_score, average_precision_score, f1_score, recall_score, roc_curve\n",
    "from sklearn.model_selection import GridSearchCV, TimeSeriesSplit, train_test_split, StratifiedKFold\n",
    "from sklearn.pipeline import make_pipeline\n",
    "\n",
    "import pickle\n",
    "from timeit import default_timer as timer\n",
    "from datetime import timedelta"
   ]
  },
  {
   "cell_type": "code",
   "execution_count": 2,
   "metadata": {},
   "outputs": [
    {
     "data": {
      "text/plain": [
       "48"
      ]
     },
     "execution_count": 2,
     "metadata": {},
     "output_type": "execute_result"
    }
   ],
   "source": [
    "import multiprocessing\n",
    "\n",
    "multiprocessing.cpu_count()"
   ]
  },
  {
   "cell_type": "code",
   "execution_count": 3,
   "metadata": {},
   "outputs": [],
   "source": [
    "start_file = timer()"
   ]
  },
  {
   "cell_type": "code",
   "execution_count": 4,
   "metadata": {},
   "outputs": [
    {
     "name": "stdout",
     "output_type": "stream",
     "text": [
      "CPU times: user 5.75 s, sys: 595 ms, total: 6.35 s\n",
      "Wall time: 6.35 s\n"
     ]
    },
    {
     "data": {
      "text/plain": [
       "(545714, 168)"
      ]
     },
     "execution_count": 4,
     "metadata": {},
     "output_type": "execute_result"
    }
   ],
   "source": [
    "%%time\n",
    "df = pd.read_csv(\"../data/abt/analytical_base_table-w-issue_d.csv\")\n",
    "df.shape"
   ]
  },
  {
   "cell_type": "code",
   "execution_count": 5,
   "metadata": {},
   "outputs": [
    {
     "data": {
      "text/plain": [
       "0.16749432853106205"
      ]
     },
     "execution_count": 5,
     "metadata": {},
     "output_type": "execute_result"
    }
   ],
   "source": [
    "df.loan_status.mean()"
   ]
  },
  {
   "cell_type": "markdown",
   "metadata": {},
   "source": [
    "[back to top](#toc)\n",
    "\n",
    "<a id = 'split'></a>\n",
    "### 1. Train/test split"
   ]
  },
  {
   "cell_type": "code",
   "execution_count": 6,
   "metadata": {},
   "outputs": [
    {
     "data": {
      "text/plain": [
       "436571"
      ]
     },
     "execution_count": 6,
     "metadata": {},
     "output_type": "execute_result"
    }
   ],
   "source": [
    "# 80% in training\n",
    "int(df.shape[0]*0.8)"
   ]
  },
  {
   "cell_type": "code",
   "execution_count": 7,
   "metadata": {},
   "outputs": [],
   "source": [
    "df = df.sort_values(by = 'issue_d')"
   ]
  },
  {
   "cell_type": "code",
   "execution_count": 8,
   "metadata": {},
   "outputs": [
    {
     "data": {
      "text/plain": [
       "2016-08-01    442803\n",
       "2016-09-01    450968\n",
       "2016-10-01    458909\n",
       "2016-11-01    466569\n",
       "2016-12-01    472819\n",
       "Name: issue_d, dtype: int64"
      ]
     },
     "execution_count": 8,
     "metadata": {},
     "output_type": "execute_result"
    }
   ],
   "source": [
    "# find the month cut off for train/test split\n",
    "np.cumsum(df.issue_d.value_counts().sort_index())[\n",
    "    (np.cumsum(df.issue_d.value_counts().sort_index()) > int(df.shape[0]*0.8))].head()"
   ]
  },
  {
   "cell_type": "code",
   "execution_count": 9,
   "metadata": {},
   "outputs": [
    {
     "data": {
      "text/plain": [
       "(442803, 168)"
      ]
     },
     "execution_count": 9,
     "metadata": {},
     "output_type": "execute_result"
    }
   ],
   "source": [
    "df_train = df.loc[df.issue_d < '2016-09-01', :]\n",
    "df_train.shape"
   ]
  },
  {
   "cell_type": "code",
   "execution_count": 10,
   "metadata": {},
   "outputs": [
    {
     "data": {
      "text/plain": [
       "(102911, 168)"
      ]
     },
     "execution_count": 10,
     "metadata": {},
     "output_type": "execute_result"
    }
   ],
   "source": [
    "df_test=df.loc[df.issue_d > '2016-08-01', :]\n",
    "df_test.shape"
   ]
  },
  {
   "cell_type": "code",
   "execution_count": 11,
   "metadata": {},
   "outputs": [
    {
     "name": "stdout",
     "output_type": "stream",
     "text": [
      "(545714, 168)\n"
     ]
    },
    {
     "data": {
      "text/plain": [
       "545714"
      ]
     },
     "execution_count": 11,
     "metadata": {},
     "output_type": "execute_result"
    }
   ],
   "source": [
    "print (df.shape)\n",
    "df_train.shape[0] + df_test.shape[0]"
   ]
  },
  {
   "cell_type": "code",
   "execution_count": 12,
   "metadata": {},
   "outputs": [
    {
     "data": {
      "text/plain": [
       "array(['2007-07-01', '2007-08-01', '2007-09-01', '2007-10-01',\n",
       "       '2007-11-01', '2007-12-01', '2008-01-01', '2008-02-01',\n",
       "       '2008-03-01', '2008-04-01', '2008-05-01', '2008-06-01',\n",
       "       '2008-07-01', '2008-08-01', '2008-09-01', '2008-10-01',\n",
       "       '2008-11-01', '2008-12-01', '2009-01-01', '2009-02-01',\n",
       "       '2009-03-01', '2009-04-01', '2009-05-01', '2009-06-01',\n",
       "       '2009-07-01', '2009-08-01', '2009-09-01', '2009-10-01',\n",
       "       '2009-11-01', '2009-12-01', '2010-01-01', '2010-02-01',\n",
       "       '2010-03-01', '2010-04-01', '2010-05-01', '2010-06-01',\n",
       "       '2010-07-01', '2010-08-01', '2010-09-01', '2010-10-01',\n",
       "       '2010-11-01', '2010-12-01', '2011-01-01', '2011-02-01',\n",
       "       '2011-03-01', '2011-04-01', '2011-05-01', '2011-06-01',\n",
       "       '2011-07-01', '2011-08-01', '2011-09-01', '2011-10-01',\n",
       "       '2011-11-01', '2011-12-01', '2012-01-01', '2012-02-01',\n",
       "       '2012-03-01', '2012-04-01', '2012-05-01', '2012-06-01',\n",
       "       '2012-07-01', '2012-08-01', '2012-09-01', '2012-10-01',\n",
       "       '2012-11-01', '2012-12-01', '2013-01-01', '2013-02-01',\n",
       "       '2013-03-01', '2013-04-01', '2013-05-01', '2013-06-01',\n",
       "       '2013-07-01', '2013-08-01', '2013-09-01', '2013-10-01',\n",
       "       '2013-11-01', '2013-12-01', '2014-01-01', '2014-02-01',\n",
       "       '2014-03-01', '2014-04-01', '2014-05-01', '2014-06-01',\n",
       "       '2014-07-01', '2014-08-01', '2014-09-01', '2014-10-01',\n",
       "       '2014-11-01', '2014-12-01', '2015-01-01', '2015-02-01',\n",
       "       '2015-03-01', '2015-04-01', '2015-05-01', '2015-06-01',\n",
       "       '2015-07-01', '2015-08-01', '2015-09-01', '2015-10-01',\n",
       "       '2015-11-01', '2015-12-01', '2016-01-01', '2016-02-01',\n",
       "       '2016-03-01', '2016-04-01', '2016-05-01', '2016-06-01',\n",
       "       '2016-07-01', '2016-08-01'], dtype=object)"
      ]
     },
     "execution_count": 12,
     "metadata": {},
     "output_type": "execute_result"
    }
   ],
   "source": [
    "df_train.issue_d.unique()"
   ]
  },
  {
   "cell_type": "code",
   "execution_count": 13,
   "metadata": {},
   "outputs": [
    {
     "data": {
      "text/plain": [
       "array(['2016-09-01', '2016-10-01', '2016-11-01', '2016-12-01',\n",
       "       '2017-01-01', '2017-02-01', '2017-03-01', '2017-04-01',\n",
       "       '2017-05-01', '2017-06-01', '2017-07-01', '2017-08-01',\n",
       "       '2017-09-01', '2017-10-01', '2017-11-01', '2017-12-01',\n",
       "       '2018-01-01', '2018-02-01', '2018-03-01', '2018-04-01',\n",
       "       '2018-05-01', '2018-06-01', '2018-07-01', '2018-08-01',\n",
       "       '2018-09-01', '2018-10-01', '2018-11-01', '2018-12-01',\n",
       "       '2019-01-01', '2019-02-01', '2019-03-01', '2019-04-01',\n",
       "       '2019-05-01', '2019-06-01', '2019-07-01', '2019-08-01',\n",
       "       '2019-09-01'], dtype=object)"
      ]
     },
     "execution_count": 13,
     "metadata": {},
     "output_type": "execute_result"
    }
   ],
   "source": [
    "df_test.issue_d.unique()"
   ]
  },
  {
   "cell_type": "code",
   "execution_count": 14,
   "metadata": {},
   "outputs": [],
   "source": [
    "abt_train = df_train.drop('issue_d', axis = 1)"
   ]
  },
  {
   "cell_type": "code",
   "execution_count": 15,
   "metadata": {},
   "outputs": [],
   "source": [
    "abt_test=df_test.drop('issue_d', axis = 1)"
   ]
  },
  {
   "cell_type": "code",
   "execution_count": 16,
   "metadata": {},
   "outputs": [
    {
     "name": "stdout",
     "output_type": "stream",
     "text": [
      "(442803, 167) (102911, 167)\n"
     ]
    }
   ],
   "source": [
    "print (abt_train.shape, abt_test.shape)"
   ]
  },
  {
   "cell_type": "code",
   "execution_count": 17,
   "metadata": {},
   "outputs": [
    {
     "name": "stdout",
     "output_type": "stream",
     "text": [
      "CPU times: user 26.8 s, sys: 445 ms, total: 27.2 s\n",
      "Wall time: 29 s\n"
     ]
    }
   ],
   "source": [
    "%%time\n",
    "abt_train.to_csv('../data/abt/analytical_base_table-train.csv', index = False)\n",
    "abt_test.to_csv('../data/abt/analytical_base_table-test.csv', index = False)"
   ]
  },
  {
   "cell_type": "code",
   "execution_count": 18,
   "metadata": {},
   "outputs": [],
   "source": [
    "abt_train = pd.read_csv('../data/abt/analytical_base_table-train.csv')"
   ]
  },
  {
   "cell_type": "code",
   "execution_count": 19,
   "metadata": {},
   "outputs": [
    {
     "name": "stdout",
     "output_type": "stream",
     "text": [
      "(442803, 166) (442803,)\n"
     ]
    }
   ],
   "source": [
    "y_train = abt_train.loan_status\n",
    "X_train = abt_train.drop('loan_status', axis = 1)\n",
    "print (X_train.shape, y_train.shape)"
   ]
  },
  {
   "cell_type": "markdown",
   "metadata": {},
   "source": [
    "**Notes**: \n",
    "Train data are all loans issued prior to 2016 august."
   ]
  },
  {
   "cell_type": "markdown",
   "metadata": {},
   "source": [
    "[back to top](#toc)\n",
    "\n",
    "<a id = 'select'></a>\n",
    "### 2. Model selection\n",
    "#### 2.A. Candidate models\n",
    "\n",
    "1. Baseline model: Dummy Classifier\n",
    "2. Linear models:\n",
    "    1. Logistic Regresson\n",
    "    2. Svm\n",
    "3. Naive Bayes\n",
    "4. Tree-based models:\n",
    "    1. Random Forest\n",
    "    2. Xgboost"
   ]
  },
  {
   "cell_type": "code",
   "execution_count": 20,
   "metadata": {},
   "outputs": [],
   "source": [
    "# gridsearch parameters\n",
    "cv = TimeSeriesSplit(n_splits = 5)\n",
    "scoring = {'Recall':'recall',\n",
    "           'AP': 'average_precision', \n",
    "           'ROC': 'roc_auc', \n",
    "}\n",
    "refit = 'ROC'\n",
    "n_jobs = -1"
   ]
  },
  {
   "cell_type": "markdown",
   "metadata": {},
   "source": [
    "[back to top](#toc)\n",
    "\n",
    "<a id = 'train'></a>\n",
    "#### 2.B. Model training\n",
    "##### 2.B.a. Build pipelines"
   ]
  },
  {
   "cell_type": "code",
   "execution_count": 30,
   "metadata": {},
   "outputs": [
    {
     "data": {
      "text/plain": [
       "{'dummy': Pipeline(memory=None,\n",
       "          steps=[('standardscaler',\n",
       "                  StandardScaler(copy=True, with_mean=True, with_std=True)),\n",
       "                 ('dummyclassifier',\n",
       "                  DummyClassifier(constant=None, random_state=26,\n",
       "                                  strategy='warn'))],\n",
       "          verbose=False),\n",
       " 'nb': Pipeline(memory=None,\n",
       "          steps=[('standardscaler',\n",
       "                  StandardScaler(copy=True, with_mean=True, with_std=True)),\n",
       "                 ('gaussiannb', GaussianNB(priors=None, var_smoothing=1e-09))],\n",
       "          verbose=False),\n",
       " 'lr': Pipeline(memory=None,\n",
       "          steps=[('standardscaler',\n",
       "                  StandardScaler(copy=True, with_mean=True, with_std=True)),\n",
       "                 ('logisticregression',\n",
       "                  LogisticRegression(C=1.0, class_weight=None, dual=False,\n",
       "                                     fit_intercept=True, intercept_scaling=1,\n",
       "                                     l1_ratio=None, max_iter=100,\n",
       "                                     multi_class='auto', n_jobs=-1, penalty='l2',\n",
       "                                     random_state=26, solver='lbfgs', tol=0.0001,\n",
       "                                     verbose=0, warm_start=False))],\n",
       "          verbose=False),\n",
       " 'svm': Pipeline(memory=None,\n",
       "          steps=[('standardscaler',\n",
       "                  StandardScaler(copy=True, with_mean=True, with_std=True)),\n",
       "                 ('sgdclassifier',\n",
       "                  SGDClassifier(alpha=0.0001, average=False, class_weight=None,\n",
       "                                early_stopping=False, epsilon=0.1, eta0=0.0,\n",
       "                                fit_intercept=True, l1_ratio=0.15,\n",
       "                                learning_rate='optimal', loss='hinge',\n",
       "                                max_iter=1000, n_iter_no_change=5, n_jobs=-1,\n",
       "                                penalty='l2', power_t=0.5, random_state=26,\n",
       "                                shuffle=True, tol=0.001, validation_fraction=0.1,\n",
       "                                verbose=0, warm_start=False))],\n",
       "          verbose=False),\n",
       " 'rf': Pipeline(memory=None,\n",
       "          steps=[('standardscaler',\n",
       "                  StandardScaler(copy=True, with_mean=True, with_std=True)),\n",
       "                 ('randomforestclassifier',\n",
       "                  RandomForestClassifier(bootstrap=True, ccp_alpha=0.0,\n",
       "                                         class_weight=None, criterion='gini',\n",
       "                                         max_depth=None, max_features='auto',\n",
       "                                         max_leaf_nodes=None, max_samples=None,\n",
       "                                         min_impurity_decrease=0.0,\n",
       "                                         min_impurity_split=None,\n",
       "                                         min_samples_leaf=1, min_samples_split=2,\n",
       "                                         min_weight_fraction_leaf=0.0,\n",
       "                                         n_estimators=100, n_jobs=1,\n",
       "                                         oob_score=False, random_state=26,\n",
       "                                         verbose=0, warm_start=False))],\n",
       "          verbose=False)}"
      ]
     },
     "execution_count": 30,
     "metadata": {},
     "output_type": "execute_result"
    }
   ],
   "source": [
    "pipelines = {'dummy': make_pipeline(StandardScaler(),DummyClassifier(random_state = 26)),\n",
    "            'nb': make_pipeline(StandardScaler(), GaussianNB()),\n",
    "             'lr': make_pipeline(StandardScaler(), LogisticRegression(random_state = 26, n_jobs = -1)),\n",
    "             'svm': make_pipeline(StandardScaler(), SGDClassifier(random_state = 26, n_jobs = -1)),\n",
    "            'rf': make_pipeline(StandardScaler(), RandomForestClassifier(random_state = 26, n_jobs = 1))}\n",
    "             \n",
    "pipelines"
   ]
  },
  {
   "cell_type": "code",
   "execution_count": 31,
   "metadata": {},
   "outputs": [],
   "source": [
    "dummy_hyperparameters = {'dummyclassifier__strategy': ['stratified',]}\n",
    "\n",
    "nb_hyperparameters = {'gaussiannb__var_smoothing': [1e-09]}\n",
    "\n",
    "lr_hyperparameters = {'logisticregression__penalty': ['l2',],\n",
    "                     'logisticregression__C': np.logspace(-7, 7, 8)}\n",
    "\n",
    "svm_hyperparameters = {'sgdclassifier__class_weight':['balanced', None],\n",
    "                      'sgdclassifier__alpha': np.logspace(-3, 3, 7)}\n",
    "\n",
    "rf_hyperparameters = {'randomforestclassifier__n_estimators': [100, 200, 400],                    \n",
    "                      'randomforestclassifier__max_features': ['sqrt', 'log2', None],\n",
    "                      'randomforestclassifier__min_samples_leaf':[1, 3, 10]}"
   ]
  },
  {
   "cell_type": "code",
   "execution_count": 32,
   "metadata": {},
   "outputs": [],
   "source": [
    "hyperparameters = {'dummy': dummy_hyperparameters,\n",
    "                  'nb': nb_hyperparameters,\n",
    "                  'lr': lr_hyperparameters,\n",
    "                  'svm': svm_hyperparameters,\n",
    "                  'rf': rf_hyperparameters}"
   ]
  },
  {
   "cell_type": "markdown",
   "metadata": {},
   "source": [
    "[back to top](#toc)\n",
    "\n",
    "<a id = 'grid'></a>\n",
    "##### 2.B.b. Gridsearch"
   ]
  },
  {
   "cell_type": "code",
   "execution_count": 33,
   "metadata": {},
   "outputs": [
    {
     "name": "stdout",
     "output_type": "stream",
     "text": [
      "dummy has been fitted. It took 0:00:21.772326 to train.\n",
      "nb has been fitted. It took 0:00:23.380904 to train.\n",
      "lr has been fitted. It took 0:03:11.539471 to train.\n",
      "svm has been fitted. It took 0:00:49.290094 to train.\n",
      "rf has been fitted. It took 2:39:07.912561 to train.\n",
      "CPU times: user 6min 48s, sys: 19.9 s, total: 7min 8s\n",
      "Wall time: 2h 43min 53s\n"
     ]
    }
   ],
   "source": [
    "# gridseach for each model and their parameter grid\n",
    "%%time\n",
    "fitted_models = {}\n",
    "for name, pipeline in pipelines.items():\n",
    "    try:\n",
    "        start_model = timer()\n",
    "        model = GridSearchCV(pipeline, hyperparameters[name], \n",
    "                             cv = cv, scoring =scoring, refit = refit, \n",
    "                             n_jobs=-1)\n",
    "        model.fit(X_train, y_train)\n",
    "        fitted_models[name] = model\n",
    "        with open('fitted_models.pkl', 'wb') as f:\n",
    "            pickle.dump(fitted_models, f)\n",
    "        print (name, 'has been fitted. It took {} to train.'.format(timedelta(seconds = timer() - start_model)))    \n",
    "    except:\n",
    "        print(name, 'was not fitted due to an error')"
   ]
  },
  {
   "cell_type": "code",
   "execution_count": 34,
   "metadata": {},
   "outputs": [],
   "source": [
    "# save the fitted models\n",
    "with open ('fitted_models.pkl', 'wb') as f:\n",
    "    pickle.dump(fitted_models, f)"
   ]
  },
  {
   "cell_type": "code",
   "execution_count": 35,
   "metadata": {},
   "outputs": [
    {
     "name": "stdout",
     "output_type": "stream",
     "text": [
      "dummy 0.49815510077229924\n",
      "{'dummyclassifier__strategy': 'stratified'}\n",
      "\n",
      "\n",
      "nb 0.6062008251171507\n",
      "{'gaussiannb__var_smoothing': 1e-09}\n",
      "\n",
      "\n",
      "lr 0.6796721623756593\n",
      "{'logisticregression__C': 0.001, 'logisticregression__penalty': 'l2'}\n",
      "\n",
      "\n",
      "svm 0.6783408218095512\n",
      "{'sgdclassifier__alpha': 0.1, 'sgdclassifier__class_weight': 'balanced'}\n",
      "\n",
      "\n",
      "rf 0.6845188628369502\n",
      "{'randomforestclassifier__max_features': 'log2', 'randomforestclassifier__min_samples_leaf': 10, 'randomforestclassifier__n_estimators': 400}\n",
      "\n",
      "\n"
     ]
    }
   ],
   "source": [
    "# check each model and best hyperparameter pair's performance as roc-auc score\n",
    "for name, model in fitted_models.items():\n",
    "    print (name, model.best_score_)\n",
    "    print (model.best_params_)\n",
    "    print ('\\n')"
   ]
  },
  {
   "cell_type": "markdown",
   "metadata": {},
   "source": [
    "[back to top](#toc)\n",
    "\n",
    "<a id = 'xgb'></a>\n",
    "#### 2.C. Xgboost Classifier\n",
    "1. use early stopping to first find the number of trees\n",
    "2. sequentially tune each parameter"
   ]
  },
  {
   "cell_type": "code",
   "execution_count": 36,
   "metadata": {},
   "outputs": [
    {
     "data": {
      "text/plain": [
       "XGBClassifier(base_score=None, booster=None, colsample_bylevel=None,\n",
       "              colsample_bynode=None, colsample_bytree=1, gamma=0, gpu_id=None,\n",
       "              importance_type='gain', interaction_constraints=None,\n",
       "              learning_rate=0.1, max_delta_step=None, max_depth=6,\n",
       "              min_child_weight=1, missing=nan, monotone_constraints=None,\n",
       "              n_estimators=300, n_jobs=-1, num_parallel_tree=None,\n",
       "              objective='binary:logistic', random_state=26, reg_alpha=None,\n",
       "              reg_lambda=None, scale_pos_weight=None, subsample=1,\n",
       "              tree_method=None, validate_parameters=False, verbosity=None)"
      ]
     },
     "execution_count": 36,
     "metadata": {},
     "output_type": "execute_result"
    }
   ],
   "source": [
    "model_xgb = XGBClassifier(colsample_bytree=1, \n",
    "                          subsample=1,\n",
    "                          gamma=0,\n",
    "                          learning_rate=0.1, \n",
    "                          max_depth=6,\n",
    "                          min_child_weight=1,\n",
    "                          n_estimators=300,\n",
    "                          n_jobs=-1,\n",
    "                          random_state=26,)\n",
    "model_xgb"
   ]
  },
  {
   "cell_type": "code",
   "execution_count": 37,
   "metadata": {
    "scrolled": false
   },
   "outputs": [
    {
     "name": "stdout",
     "output_type": "stream",
     "text": [
      "[0]\tvalidation_0-auc:0.67209\n",
      "Will train until validation_0-auc hasn't improved in 10 rounds.\n",
      "[1]\tvalidation_0-auc:0.67595\n",
      "[2]\tvalidation_0-auc:0.67967\n",
      "[3]\tvalidation_0-auc:0.68015\n",
      "[4]\tvalidation_0-auc:0.68135\n",
      "[5]\tvalidation_0-auc:0.68227\n",
      "[6]\tvalidation_0-auc:0.68259\n",
      "[7]\tvalidation_0-auc:0.68318\n",
      "[8]\tvalidation_0-auc:0.68351\n",
      "[9]\tvalidation_0-auc:0.68371\n",
      "[10]\tvalidation_0-auc:0.68373\n",
      "[11]\tvalidation_0-auc:0.68422\n",
      "[12]\tvalidation_0-auc:0.68471\n",
      "[13]\tvalidation_0-auc:0.68480\n",
      "[14]\tvalidation_0-auc:0.68511\n",
      "[15]\tvalidation_0-auc:0.68530\n",
      "[16]\tvalidation_0-auc:0.68552\n",
      "[17]\tvalidation_0-auc:0.68588\n",
      "[18]\tvalidation_0-auc:0.68609\n",
      "[19]\tvalidation_0-auc:0.68626\n",
      "[20]\tvalidation_0-auc:0.68634\n",
      "[21]\tvalidation_0-auc:0.68641\n",
      "[22]\tvalidation_0-auc:0.68681\n",
      "[23]\tvalidation_0-auc:0.68715\n",
      "[24]\tvalidation_0-auc:0.68742\n",
      "[25]\tvalidation_0-auc:0.68785\n",
      "[26]\tvalidation_0-auc:0.68810\n",
      "[27]\tvalidation_0-auc:0.68822\n",
      "[28]\tvalidation_0-auc:0.68840\n",
      "[29]\tvalidation_0-auc:0.68875\n",
      "[30]\tvalidation_0-auc:0.68903\n",
      "[31]\tvalidation_0-auc:0.68909\n",
      "[32]\tvalidation_0-auc:0.68957\n",
      "[33]\tvalidation_0-auc:0.69001\n",
      "[34]\tvalidation_0-auc:0.69010\n",
      "[35]\tvalidation_0-auc:0.69025\n",
      "[36]\tvalidation_0-auc:0.69049\n",
      "[37]\tvalidation_0-auc:0.69070\n",
      "[38]\tvalidation_0-auc:0.69089\n",
      "[39]\tvalidation_0-auc:0.69105\n",
      "[40]\tvalidation_0-auc:0.69124\n",
      "[41]\tvalidation_0-auc:0.69136\n",
      "[42]\tvalidation_0-auc:0.69151\n",
      "[43]\tvalidation_0-auc:0.69176\n",
      "[44]\tvalidation_0-auc:0.69190\n",
      "[45]\tvalidation_0-auc:0.69218\n",
      "[46]\tvalidation_0-auc:0.69233\n",
      "[47]\tvalidation_0-auc:0.69234\n",
      "[48]\tvalidation_0-auc:0.69246\n",
      "[49]\tvalidation_0-auc:0.69260\n",
      "[50]\tvalidation_0-auc:0.69286\n",
      "[51]\tvalidation_0-auc:0.69311\n",
      "[52]\tvalidation_0-auc:0.69330\n",
      "[53]\tvalidation_0-auc:0.69335\n",
      "[54]\tvalidation_0-auc:0.69342\n",
      "[55]\tvalidation_0-auc:0.69373\n",
      "[56]\tvalidation_0-auc:0.69376\n",
      "[57]\tvalidation_0-auc:0.69390\n",
      "[58]\tvalidation_0-auc:0.69406\n",
      "[59]\tvalidation_0-auc:0.69414\n",
      "[60]\tvalidation_0-auc:0.69428\n",
      "[61]\tvalidation_0-auc:0.69430\n",
      "[62]\tvalidation_0-auc:0.69442\n",
      "[63]\tvalidation_0-auc:0.69447\n",
      "[64]\tvalidation_0-auc:0.69468\n",
      "[65]\tvalidation_0-auc:0.69468\n",
      "[66]\tvalidation_0-auc:0.69477\n",
      "[67]\tvalidation_0-auc:0.69490\n",
      "[68]\tvalidation_0-auc:0.69485\n",
      "[69]\tvalidation_0-auc:0.69493\n",
      "[70]\tvalidation_0-auc:0.69505\n",
      "[71]\tvalidation_0-auc:0.69510\n",
      "[72]\tvalidation_0-auc:0.69514\n",
      "[73]\tvalidation_0-auc:0.69526\n",
      "[74]\tvalidation_0-auc:0.69531\n",
      "[75]\tvalidation_0-auc:0.69533\n",
      "[76]\tvalidation_0-auc:0.69542\n",
      "[77]\tvalidation_0-auc:0.69551\n",
      "[78]\tvalidation_0-auc:0.69564\n",
      "[79]\tvalidation_0-auc:0.69569\n",
      "[80]\tvalidation_0-auc:0.69575\n",
      "[81]\tvalidation_0-auc:0.69582\n",
      "[82]\tvalidation_0-auc:0.69591\n",
      "[83]\tvalidation_0-auc:0.69602\n",
      "[84]\tvalidation_0-auc:0.69593\n",
      "[85]\tvalidation_0-auc:0.69597\n",
      "[86]\tvalidation_0-auc:0.69611\n",
      "[87]\tvalidation_0-auc:0.69611\n",
      "[88]\tvalidation_0-auc:0.69610\n",
      "[89]\tvalidation_0-auc:0.69612\n",
      "[90]\tvalidation_0-auc:0.69605\n",
      "[91]\tvalidation_0-auc:0.69605\n",
      "[92]\tvalidation_0-auc:0.69611\n",
      "[93]\tvalidation_0-auc:0.69619\n",
      "[94]\tvalidation_0-auc:0.69623\n",
      "[95]\tvalidation_0-auc:0.69633\n",
      "[96]\tvalidation_0-auc:0.69631\n",
      "[97]\tvalidation_0-auc:0.69640\n",
      "[98]\tvalidation_0-auc:0.69648\n",
      "[99]\tvalidation_0-auc:0.69644\n",
      "[100]\tvalidation_0-auc:0.69652\n",
      "[101]\tvalidation_0-auc:0.69659\n",
      "[102]\tvalidation_0-auc:0.69660\n",
      "[103]\tvalidation_0-auc:0.69664\n",
      "[104]\tvalidation_0-auc:0.69669\n",
      "[105]\tvalidation_0-auc:0.69663\n",
      "[106]\tvalidation_0-auc:0.69666\n",
      "[107]\tvalidation_0-auc:0.69667\n",
      "[108]\tvalidation_0-auc:0.69659\n",
      "[109]\tvalidation_0-auc:0.69658\n",
      "[110]\tvalidation_0-auc:0.69666\n",
      "[111]\tvalidation_0-auc:0.69660\n",
      "[112]\tvalidation_0-auc:0.69658\n",
      "[113]\tvalidation_0-auc:0.69658\n",
      "[114]\tvalidation_0-auc:0.69664\n",
      "Stopping. Best iteration:\n",
      "[104]\tvalidation_0-auc:0.69669\n",
      "\n",
      "CPU times: user 4min 26s, sys: 1.69 s, total: 4min 28s\n",
      "Wall time: 4min 28s\n"
     ]
    },
    {
     "data": {
      "text/plain": [
       "XGBClassifier(base_score=0.5, booster=None, colsample_bylevel=1,\n",
       "              colsample_bynode=1, colsample_bytree=1, gamma=0, gpu_id=-1,\n",
       "              importance_type='gain', interaction_constraints=None,\n",
       "              learning_rate=0.1, max_delta_step=0, max_depth=6,\n",
       "              min_child_weight=1, missing=nan, monotone_constraints=None,\n",
       "              n_estimators=300, n_jobs=-1, num_parallel_tree=1,\n",
       "              objective='binary:logistic', random_state=26, reg_alpha=0,\n",
       "              reg_lambda=1, scale_pos_weight=1, subsample=1, tree_method=None,\n",
       "              validate_parameters=False, verbosity=None)"
      ]
     },
     "execution_count": 37,
     "metadata": {},
     "output_type": "execute_result"
    }
   ],
   "source": [
    "# early stopping round\n",
    "%%time\n",
    "model_xgb.fit(X_train[:-80000], y_train[:-80000],\n",
    "          eval_set=[(X_train[-80000:], y_train[-80000:])], \n",
    "          eval_metric = 'auc', \n",
    "          early_stopping_rounds=10)"
   ]
  },
  {
   "cell_type": "code",
   "execution_count": 38,
   "metadata": {},
   "outputs": [
    {
     "data": {
      "text/plain": [
       "0.69669"
      ]
     },
     "execution_count": 38,
     "metadata": {},
     "output_type": "execute_result"
    }
   ],
   "source": [
    "model_xgb.best_score"
   ]
  },
  {
   "cell_type": "code",
   "execution_count": 39,
   "metadata": {},
   "outputs": [],
   "source": [
    "try: \n",
    "    n_estimators = model_xgb.best_ntree_limit\n",
    "except:\n",
    "    n_estimators = 100"
   ]
  },
  {
   "cell_type": "code",
   "execution_count": 40,
   "metadata": {},
   "outputs": [
    {
     "data": {
      "text/plain": [
       "105"
      ]
     },
     "execution_count": 40,
     "metadata": {},
     "output_type": "execute_result"
    }
   ],
   "source": [
    "n_estimators"
   ]
  },
  {
   "cell_type": "code",
   "execution_count": 41,
   "metadata": {},
   "outputs": [],
   "source": [
    "model_xgb = XGBClassifier(n_jobs = -1, random_state = 26)"
   ]
  },
  {
   "cell_type": "code",
   "execution_count": 42,
   "metadata": {},
   "outputs": [],
   "source": [
    "# tume max_depth and min_child_weight\n",
    "xgb_hyperparameters = {'n_estimators': [n_estimators],\n",
    "                      'max_depth': [3, 5, 7, 9, 11],\n",
    "                      'min_child_weight': [1, 3, 5, 7],\n",
    "                      'subsample':[1],\n",
    "                      'colsample_bytree':[1],\n",
    "                      'gamma':[0],\n",
    "                      'learning_rate':[0.1]}"
   ]
  },
  {
   "cell_type": "code",
   "execution_count": 43,
   "metadata": {},
   "outputs": [
    {
     "name": "stdout",
     "output_type": "stream",
     "text": [
      "xgb max_depth, min_child_weight tuned, took 0:24:51.453451\n"
     ]
    }
   ],
   "source": [
    "start_model_training = timer()\n",
    "fitted_model_xgb = GridSearchCV(model_xgb, xgb_hyperparameters, cv = cv, scoring = scoring, refit = refit, n_jobs =-1)\n",
    "fitted_model_xgb.fit(X_train, y_train)\n",
    "print('xgb max_depth, min_child_weight tuned, took {}'.format(timedelta(seconds = timer()-start_model_training)))"
   ]
  },
  {
   "cell_type": "code",
   "execution_count": 44,
   "metadata": {},
   "outputs": [
    {
     "data": {
      "text/plain": [
       "{'colsample_bytree': 1,\n",
       " 'gamma': 0,\n",
       " 'learning_rate': 0.1,\n",
       " 'max_depth': 5,\n",
       " 'min_child_weight': 7,\n",
       " 'n_estimators': 105,\n",
       " 'subsample': 1}"
      ]
     },
     "execution_count": 44,
     "metadata": {},
     "output_type": "execute_result"
    }
   ],
   "source": [
    "fitted_model_xgb.best_params_"
   ]
  },
  {
   "cell_type": "code",
   "execution_count": 45,
   "metadata": {},
   "outputs": [
    {
     "data": {
      "text/plain": [
       "0.6842849626635383"
      ]
     },
     "execution_count": 45,
     "metadata": {},
     "output_type": "execute_result"
    }
   ],
   "source": [
    "fitted_model_xgb.best_score_"
   ]
  },
  {
   "cell_type": "code",
   "execution_count": 46,
   "metadata": {},
   "outputs": [
    {
     "name": "stdout",
     "output_type": "stream",
     "text": [
      "5 7\n"
     ]
    }
   ],
   "source": [
    "max_depth = fitted_model_xgb.best_params_['max_depth']\n",
    "min_child_weight = fitted_model_xgb.best_params_['min_child_weight']\n",
    "print(max_depth, min_child_weight)"
   ]
  },
  {
   "cell_type": "code",
   "execution_count": 47,
   "metadata": {},
   "outputs": [],
   "source": [
    "# tune subsample and colsample_bytree\n",
    "xgb_hyperparameters = {'n_estimators': [n_estimators],\n",
    "                      'max_depth': [max_depth],\n",
    "                      'min_child_weight': [min_child_weight],\n",
    "                      'subsample':[0.6, 0.8, 1],\n",
    "                      'colsample_bytree':[0.6, 0.8, 1],\n",
    "                      'gamma':[0],\n",
    "                      'learning_rate':[0.1]}"
   ]
  },
  {
   "cell_type": "code",
   "execution_count": 48,
   "metadata": {},
   "outputs": [
    {
     "name": "stdout",
     "output_type": "stream",
     "text": [
      "xgb subsample, colsample_bytree tuned, took 0:09:18.764692\n"
     ]
    }
   ],
   "source": [
    "start_model_training = timer()\n",
    "fitted_model_xgb = GridSearchCV(model_xgb, xgb_hyperparameters, cv = cv, scoring = scoring, refit = refit, n_jobs = -1)\n",
    "fitted_model_xgb.fit(X_train, y_train)\n",
    "print('xgb subsample, colsample_bytree tuned, took {}'.format(timedelta(seconds = timer()-start_model_training)))"
   ]
  },
  {
   "cell_type": "code",
   "execution_count": 49,
   "metadata": {},
   "outputs": [
    {
     "data": {
      "text/plain": [
       "{'colsample_bytree': 0.6,\n",
       " 'gamma': 0,\n",
       " 'learning_rate': 0.1,\n",
       " 'max_depth': 5,\n",
       " 'min_child_weight': 7,\n",
       " 'n_estimators': 105,\n",
       " 'subsample': 1}"
      ]
     },
     "execution_count": 49,
     "metadata": {},
     "output_type": "execute_result"
    }
   ],
   "source": [
    "fitted_model_xgb.best_params_"
   ]
  },
  {
   "cell_type": "code",
   "execution_count": 50,
   "metadata": {},
   "outputs": [
    {
     "data": {
      "text/plain": [
       "0.684820996005247"
      ]
     },
     "execution_count": 50,
     "metadata": {},
     "output_type": "execute_result"
    }
   ],
   "source": [
    "fitted_model_xgb.best_score_"
   ]
  },
  {
   "cell_type": "code",
   "execution_count": 51,
   "metadata": {},
   "outputs": [
    {
     "data": {
      "text/plain": [
       "{'colsample_bytree': 0.6,\n",
       " 'gamma': 0,\n",
       " 'learning_rate': 0.1,\n",
       " 'max_depth': 5,\n",
       " 'min_child_weight': 7,\n",
       " 'n_estimators': 105,\n",
       " 'subsample': 1}"
      ]
     },
     "execution_count": 51,
     "metadata": {},
     "output_type": "execute_result"
    }
   ],
   "source": [
    "fitted_model_xgb.best_params_"
   ]
  },
  {
   "cell_type": "code",
   "execution_count": 52,
   "metadata": {},
   "outputs": [
    {
     "name": "stdout",
     "output_type": "stream",
     "text": [
      "1 0.6\n"
     ]
    }
   ],
   "source": [
    "subsample = fitted_model_xgb.best_params_['subsample']\n",
    "colsample_bytree = fitted_model_xgb.best_params_['colsample_bytree']\n",
    "print(subsample, colsample_bytree)"
   ]
  },
  {
   "cell_type": "code",
   "execution_count": 53,
   "metadata": {},
   "outputs": [],
   "source": [
    "# tune gamma and leaarning_rate\n",
    "xgb_hyperparameters = {'n_estimators': [n_estimators],\n",
    "                      'max_depth': [max_depth],\n",
    "                      'min_child_weight': [min_child_weight],\n",
    "                      'subsample':[subsample],\n",
    "                      'colsample_bytree':[colsample_bytree],\n",
    "                      'gamma':[0, 0.1, 0.5, 1],\n",
    "                      'learning_rate':[0.01,0.03,0.1]}"
   ]
  },
  {
   "cell_type": "code",
   "execution_count": 54,
   "metadata": {},
   "outputs": [
    {
     "name": "stdout",
     "output_type": "stream",
     "text": [
      "xgb gamma, learning_rate tuned, took 0:08:07.843953\n"
     ]
    }
   ],
   "source": [
    "start_model_training = timer()\n",
    "fitted_model_xgb = GridSearchCV(model_xgb, xgb_hyperparameters, cv = cv, scoring = scoring, refit = refit, n_jobs = -1)\n",
    "fitted_model_xgb.fit(X_train, y_train)\n",
    "print('xgb gamma, learning_rate tuned, took {}'.format(timedelta(seconds = timer()-start_model_training)))"
   ]
  },
  {
   "cell_type": "code",
   "execution_count": 55,
   "metadata": {},
   "outputs": [],
   "source": [
    "fitted_models['xgb'] = fitted_model_xgb"
   ]
  },
  {
   "cell_type": "code",
   "execution_count": 56,
   "metadata": {},
   "outputs": [],
   "source": [
    "# save trained xgb model\n",
    "with open('fitted_models.pkl', 'wb') as f:\n",
    "    pickle.dump(fitted_models, f)"
   ]
  },
  {
   "cell_type": "code",
   "execution_count": 57,
   "metadata": {},
   "outputs": [],
   "source": [
    "with open('fitted_models.pkl','rb') as f:\n",
    "    saved_fitted_models = pickle.load(f)"
   ]
  },
  {
   "cell_type": "code",
   "execution_count": 58,
   "metadata": {},
   "outputs": [
    {
     "name": "stdout",
     "output_type": "stream",
     "text": [
      "0.49815510077229924 0.49815510077229924\n",
      "0.6062008251171507 0.6062008251171507\n",
      "0.6796721623756593 0.6796721623756593\n",
      "0.6783408218095512 0.6783408218095512\n",
      "0.6845188628369502 0.6845188628369502\n",
      "0.6848621272610436 0.6848621272610436\n"
     ]
    }
   ],
   "source": [
    "for name, model in fitted_models.items():\n",
    "    print (saved_fitted_models[name].best_score_, fitted_models[name].best_score_)"
   ]
  },
  {
   "cell_type": "markdown",
   "metadata": {},
   "source": [
    "[back to top](#toc)\n",
    "\n",
    "<a id = 'plot'></a>\n",
    "\n",
    "#### 2.D. Plot feature importance and model performance"
   ]
  },
  {
   "cell_type": "code",
   "execution_count": 59,
   "metadata": {},
   "outputs": [
    {
     "data": {
      "image/png": "[encoded data removed]",
      "text/plain": [
       "<Figure size 864x648 with 1 Axes>"
      ]
     },
     "metadata": {
      "needs_background": "light"
     },
     "output_type": "display_data"
    }
   ],
   "source": [
    "fig, ax = plt.subplots(figsize=(12, 9))\n",
    "plot_importance(fitted_model_xgb.best_estimator_, ax=ax)\n",
    "plt.yticks(size = 9)\n",
    "plt.show()"
   ]
  },
  {
   "cell_type": "code",
   "execution_count": 60,
   "metadata": {},
   "outputs": [
    {
     "name": "stderr",
     "output_type": "stream",
     "text": [
      "/home/ubuntu/.venv/lib/python3.6/site-packages/IPython/core/pylabtools.py:132: UserWarning: Creating legend with loc=\"best\" can be slow with large amounts of data.\n",
      "  fig.canvas.print_figure(bytes_io, **kw)\n"
     ]
    },
    {
     "data": {
      "image/png": "[encoded data removed]",
      "text/plain": [
       "<Figure size 576x576 with 1 Axes>"
      ]
     },
     "metadata": {
      "needs_background": "light"
     },
     "output_type": "display_data"
    }
   ],
   "source": [
    "# plot roc curve of each fitted best models on training data with cv score as legend\n",
    "color = iter(plt.cm.hsv(np.linspace(0,1,len(fitted_models.items()))))\n",
    "plt.figure(figsize = (8,8))\n",
    "\n",
    "for name, model in fitted_models.items():\n",
    "    try:\n",
    "        fpr, tpr, thresholds = roc_curve(y_train, model.best_estimator_.predict_proba(X_train)[:,1])\n",
    "    except:\n",
    "        fpr, tpr, thresholds = roc_curve(y_train, model.best_estimator_.decision_function(X_train))\n",
    "    finally:\n",
    "        plt.plot(fpr, tpr, c = next(color), label = \"{}, auc = {}\".format(name, model.best_score_))\n",
    "        \n",
    "plt.plot([0,1], [0,1], 'k--')\n",
    "plt.legend()\n",
    "plt.xlabel('fpr')\n",
    "plt.ylabel('tpr')\n",
    "plt.show()    "
   ]
  },
  {
   "cell_type": "code",
   "execution_count": 61,
   "metadata": {},
   "outputs": [
    {
     "name": "stdout",
     "output_type": "stream",
     "text": [
      "Time since training 3:38:00.909859.\n"
     ]
    }
   ],
   "source": [
    "end_file = timer()\n",
    "print ('Time since training {}.'.format(timedelta(seconds = end_file - start_file)))"
   ]
  },
  {
   "cell_type": "markdown",
   "metadata": {},
   "source": [
    "**Notes:**\n",
    "1. Xgb has the best validation score.\n",
    "2. NB has the worst cv score, however, it is fast to train and an easy improvement from random guessing\n",
    "3. Linear models have great performance given the fast training time. \n",
    "4. Random Forest is overfit, which could be further tuned to improve performance. \n",
    "5. Engineered features 'itlm' is one of the most import features, so is 'annual_income', which is the numerator for 'itlm' feature, thus highly correlated.\n",
    "6. Pickled xgb model cannot be opened properly on local machine hence saved separatedly below."
   ]
  },
  {
   "cell_type": "code",
   "execution_count": 2,
   "metadata": {},
   "outputs": [],
   "source": [
    "with open('fitted_models.pkl','rb') as f:\n",
    "    fitted_models = pickle.load(f)"
   ]
  },
  {
   "cell_type": "code",
   "execution_count": 3,
   "metadata": {},
   "outputs": [],
   "source": [
    "# save xgb model separately\n",
    "fitted_model_xgb = fitted_models['xgb']"
   ]
  },
  {
   "cell_type": "code",
   "execution_count": 5,
   "metadata": {},
   "outputs": [],
   "source": [
    "del fitted_models['xgb']"
   ]
  },
  {
   "cell_type": "code",
   "execution_count": 12,
   "metadata": {},
   "outputs": [
    {
     "data": {
      "text/plain": [
       "(442803, 167)"
      ]
     },
     "execution_count": 12,
     "metadata": {},
     "output_type": "execute_result"
    }
   ],
   "source": [
    "abt_train = pd.read_csv('../data/abt/analytical_base_table-train.csv')\n",
    "abt_train.shape"
   ]
  },
  {
   "cell_type": "code",
   "execution_count": 14,
   "metadata": {},
   "outputs": [],
   "source": [
    "y_train = abt_train.loan_status\n",
    "X_train = abt_train.drop('loan_status', axis = 1)"
   ]
  },
  {
   "cell_type": "code",
   "execution_count": 15,
   "metadata": {},
   "outputs": [
    {
     "name": "stdout",
     "output_type": "stream",
     "text": [
      "dummy train_auc 0.5001613635514557\n",
      "nb train_auc 0.6123596828838467\n",
      "lr train_auc 0.6858536258702257\n",
      "svm train_auc 0.682509051820287\n",
      "rf train_auc 0.9422135885022576\n"
     ]
    }
   ],
   "source": [
    "# checking models are saved accurately\n",
    "for name, model in fitted_models.items():\n",
    "    try:\n",
    "        print (name, 'train_auc', roc_auc_score(y_train, model.best_estimator_.predict_proba(X_train)[:,1]))\n",
    "    except:\n",
    "        print (name, 'train_auc', roc_auc_score(y_train, model.best_estimator_.decision_function(X_train)))  "
   ]
  },
  {
   "cell_type": "code",
   "execution_count": 9,
   "metadata": {},
   "outputs": [],
   "source": [
    "with open('fitted_models.pkl', 'wb') as f:\n",
    "    pickle.dump(fitted_models, f)"
   ]
  },
  {
   "cell_type": "code",
   "execution_count": 10,
   "metadata": {},
   "outputs": [],
   "source": [
    "with open('fitted_model_xgb.pkl', 'wb') as f:\n",
    "    pickle.dump(fitted_model_xgb, f)"
   ]
  },
  {
   "cell_type": "code",
   "execution_count": 11,
   "metadata": {},
   "outputs": [],
   "source": [
    "with open('fitted_models.pkl', 'rb') as f:\n",
    "    saved_fitted_models = pickle.load(f)"
   ]
  },
  {
   "cell_type": "code",
   "execution_count": 16,
   "metadata": {},
   "outputs": [
    {
     "name": "stdout",
     "output_type": "stream",
     "text": [
      "dummy train_auc 0.5001613635514557\n",
      "nb train_auc 0.6123596828838467\n",
      "lr train_auc 0.6858536258702257\n",
      "svm train_auc 0.682509051820287\n",
      "rf train_auc 0.9422135885022576\n"
     ]
    }
   ],
   "source": [
    "for name, model in saved_fitted_models.items():\n",
    "    try:\n",
    "        print (name, 'train_auc', roc_auc_score(y_train, model.best_estimator_.predict_proba(X_train)[:,1]))\n",
    "    except:\n",
    "        print (name, 'train_auc', roc_auc_score(y_train, model.best_estimator_.decision_function(X_train)))  "
   ]
  },
  {
   "cell_type": "code",
   "execution_count": 3,
   "metadata": {},
   "outputs": [],
   "source": [
    "abt_test = pd.read_csv('../data/abt/analytical_base_table-test.csv')"
   ]
  },
  {
   "cell_type": "code",
   "execution_count": 4,
   "metadata": {},
   "outputs": [
    {
     "data": {
      "text/plain": [
       "(102911, 167)"
      ]
     },
     "execution_count": 4,
     "metadata": {},
     "output_type": "execute_result"
    }
   ],
   "source": [
    "abt_test.shape"
   ]
  },
  {
   "cell_type": "markdown",
   "metadata": {},
   "source": [
    "[back to top](#toc)\n",
    "\n",
    "<a id = 'azeval'></a>\n",
    "### 3. Analyze/Evaluation split\n",
    "**- Split test data further into analysis (threshold selection) and evaluation**"
   ]
  },
  {
   "cell_type": "code",
   "execution_count": 5,
   "metadata": {},
   "outputs": [
    {
     "data": {
      "text/plain": [
       "(50000, 167)"
      ]
     },
     "execution_count": 5,
     "metadata": {},
     "output_type": "execute_result"
    }
   ],
   "source": [
    "abt_az = abt_test[:50000]\n",
    "abt_az.shape"
   ]
  },
  {
   "cell_type": "code",
   "execution_count": 49,
   "metadata": {},
   "outputs": [
    {
     "data": {
      "text/plain": [
       "(50000, 167)"
      ]
     },
     "execution_count": 49,
     "metadata": {},
     "output_type": "execute_result"
    }
   ],
   "source": [
    "abt_az.shape"
   ]
  },
  {
   "cell_type": "code",
   "execution_count": 50,
   "metadata": {},
   "outputs": [],
   "source": [
    "abt_az.to_csv('../data/abt/analytical_base_table-analyze.csv', index = False)"
   ]
  },
  {
   "cell_type": "code",
   "execution_count": 6,
   "metadata": {},
   "outputs": [
    {
     "name": "stdout",
     "output_type": "stream",
     "text": [
      "(50000, 166) (50000,)\n"
     ]
    }
   ],
   "source": [
    "y_az = abt_az.loan_status\n",
    "X_az = abt_az.drop('loan_status', axis = 1)\n",
    "print (X_az.shape, y_az.shape)"
   ]
  },
  {
   "cell_type": "code",
   "execution_count": 7,
   "metadata": {},
   "outputs": [
    {
     "data": {
      "text/plain": [
       "(52911, 167)"
      ]
     },
     "execution_count": 7,
     "metadata": {},
     "output_type": "execute_result"
    }
   ],
   "source": [
    "abt_eval = abt_test[50000:]\n",
    "abt_eval.shape"
   ]
  },
  {
   "cell_type": "code",
   "execution_count": 8,
   "metadata": {},
   "outputs": [
    {
     "name": "stdout",
     "output_type": "stream",
     "text": [
      "(52911, 166) (52911,)\n"
     ]
    }
   ],
   "source": [
    "y_eval = abt_eval.loan_status\n",
    "X_eval = abt_eval.drop('loan_status', axis = 1)\n",
    "print (X_eval.shape, y_eval.shape)"
   ]
  },
  {
   "cell_type": "markdown",
   "metadata": {},
   "source": [
    "[back to top](#toc)\n",
    "\n",
    "<a id = 'thres'></a>\n",
    "\n",
    "### 4. ROC Analysis & Threshold Selection\n",
    "#### 4.A. Model Selection"
   ]
  },
  {
   "cell_type": "code",
   "execution_count": 9,
   "metadata": {},
   "outputs": [],
   "source": [
    "def plot_roc_curves(fitted_models, X, y, name = 'ROC Analysis'):\n",
    "    \n",
    "    color = iter(plt.cm.hsv(np.linspace(0,1,len(fitted_models.items()))))\n",
    "    plt.figure(figsize = (8,8))\n",
    "\n",
    "    for name, model in fitted_models.items():\n",
    "        try:\n",
    "            fpr, tpr, thresholds = roc_curve(y, model.best_estimator_.predict_proba(X)[:,1])\n",
    "            auc = roc_auc_score(y, model.best_estimator_.predict_proba(X)[:,1])\n",
    "        except:\n",
    "            fpr, tpr, thresholds = roc_curve(y, model.best_estimator_.decision_function(X))\n",
    "            auc = roc_auc_score(y, model.best_estimator_.decision_function(X))\n",
    "        finally:\n",
    "            plt.plot(fpr, tpr, c = next(color), label = \"{}, auc = {}\".format(name, auc))\n",
    "\n",
    "    plt.plot([0,1], [0,1], 'k--')\n",
    "    plt.legend()\n",
    "    plt.xlabel('fpr')\n",
    "    plt.ylabel('tpr')\n",
    "    plt.title(name)\n",
    "    plt.show()    "
   ]
  },
  {
   "cell_type": "code",
   "execution_count": 11,
   "metadata": {},
   "outputs": [],
   "source": [
    "with open('./fitted_models.pkl', 'rb') as f:\n",
    "    fitted_models = pickle.load(f)"
   ]
  },
  {
   "cell_type": "code",
   "execution_count": 12,
   "metadata": {},
   "outputs": [
    {
     "data": {
      "image/png": "[encoded data removed]",
      "text/plain": [
       "<Figure size 576x576 with 1 Axes>"
      ]
     },
     "metadata": {},
     "output_type": "display_data"
    }
   ],
   "source": [
    "plot_roc_curves(fitted_models, X_az, y_az, 'ROC Analysis and Thresholds Picking')"
   ]
  },
  {
   "cell_type": "markdown",
   "metadata": {},
   "source": [
    "**Notes:**\n",
    "1. Serving as the baseline performance, **dummy classifier** falls perfectly on the diagonal line. \n",
    "2. **XGBoost**, despite having the best performance according to cross validation, cannot be opened properly on local machine, thus was eliminated from the analysis as other models that can be opened properly deliver similar performance. \n",
    "3. **Random Forest** delievers the second best performance during cross validation, top performance on analysis set, yet is more expensive to train and overfits and requires further tuning. \n",
    "4. **Logistic Regression**, as a simple model yiedling comparable results with rf and xgb, is selected as the final model for prediction."
   ]
  },
  {
   "cell_type": "code",
   "execution_count": 13,
   "metadata": {},
   "outputs": [],
   "source": [
    "fitted_model_lr = fitted_models['lr'].best_estimator_"
   ]
  },
  {
   "cell_type": "code",
   "execution_count": 51,
   "metadata": {},
   "outputs": [
    {
     "data": {
      "text/plain": [
       "0.6778323956079385"
      ]
     },
     "execution_count": 51,
     "metadata": {},
     "output_type": "execute_result"
    }
   ],
   "source": [
    "roc_auc_score(y_az, fitted_model_lr.predict_proba(X_az)[:,1])"
   ]
  },
  {
   "cell_type": "markdown",
   "metadata": {},
   "source": [
    "[back to top](#toc)\n",
    "\n",
    "<a id = 'thres-select'></a>\n",
    "#### 4.B. Threshold Selection\n",
    "#### 4.B.a. Metrics"
   ]
  },
  {
   "cell_type": "code",
   "execution_count": 63,
   "metadata": {},
   "outputs": [
    {
     "data": {
      "text/html": [
       "<div>\n",
       "<style scoped>\n",
       "    .dataframe tbody tr th:only-of-type {\n",
       "        vertical-align: middle;\n",
       "    }\n",
       "\n",
       "    .dataframe tbody tr th {\n",
       "        vertical-align: top;\n",
       "    }\n",
       "\n",
       "    .dataframe thead th {\n",
       "        text-align: right;\n",
       "    }\n",
       "</style>\n",
       "<table border=\"1\" class=\"dataframe\">\n",
       "  <thead>\n",
       "    <tr style=\"text-align: right;\">\n",
       "      <th></th>\n",
       "      <th>fpr</th>\n",
       "      <th>tpr</th>\n",
       "      <th>thresholds</th>\n",
       "    </tr>\n",
       "  </thead>\n",
       "  <tbody>\n",
       "    <tr>\n",
       "      <th>0</th>\n",
       "      <td>0.000000</td>\n",
       "      <td>0.000000</td>\n",
       "      <td>2.000000</td>\n",
       "    </tr>\n",
       "    <tr>\n",
       "      <th>1</th>\n",
       "      <td>0.000000</td>\n",
       "      <td>0.000104</td>\n",
       "      <td>1.000000</td>\n",
       "    </tr>\n",
       "    <tr>\n",
       "      <th>2</th>\n",
       "      <td>0.000025</td>\n",
       "      <td>0.000104</td>\n",
       "      <td>0.999999</td>\n",
       "    </tr>\n",
       "    <tr>\n",
       "      <th>3</th>\n",
       "      <td>0.000025</td>\n",
       "      <td>0.000311</td>\n",
       "      <td>0.869917</td>\n",
       "    </tr>\n",
       "    <tr>\n",
       "      <th>4</th>\n",
       "      <td>0.000173</td>\n",
       "      <td>0.000311</td>\n",
       "      <td>0.644042</td>\n",
       "    </tr>\n",
       "  </tbody>\n",
       "</table>\n",
       "</div>"
      ],
      "text/plain": [
       "        fpr       tpr  thresholds\n",
       "0  0.000000  0.000000    2.000000\n",
       "1  0.000000  0.000104    1.000000\n",
       "2  0.000025  0.000104    0.999999\n",
       "3  0.000025  0.000311    0.869917\n",
       "4  0.000173  0.000311    0.644042"
      ]
     },
     "execution_count": 63,
     "metadata": {},
     "output_type": "execute_result"
    }
   ],
   "source": [
    "fpr, tpr, thresholds = roc_curve(y_az, fitted_model_lr.predict_proba(X_az)[:,1])\n",
    "thresholds_df = pd.DataFrame({'fpr': fpr, 'tpr': tpr, 'thresholds': thresholds})\n",
    "thresholds_df.head()"
   ]
  },
  {
   "cell_type": "code",
   "execution_count": 64,
   "metadata": {},
   "outputs": [
    {
     "name": "stdout",
     "output_type": "stream",
     "text": [
      "0.2024564915315175\n"
     ]
    }
   ],
   "source": [
    "#dr = default rate\n",
    "dr = abt_test.loan_status.mean()\n",
    "print(dr)"
   ]
  },
  {
   "cell_type": "code",
   "execution_count": 65,
   "metadata": {},
   "outputs": [],
   "source": [
    "#edr = effective-default-rate\n",
    "thresholds_df.loc[:, 'edr'] = dr*(1-thresholds_df.tpr)/(dr*(1-thresholds_df.tpr) + (1-dr)*(1-thresholds_df.fpr))"
   ]
  },
  {
   "cell_type": "code",
   "execution_count": 66,
   "metadata": {},
   "outputs": [],
   "source": [
    "# percentage of loans left for Portfolio To total number of Loans\n",
    "thresholds_df.loc[:, 'ptl'] = dr*(1-thresholds_df.tpr) + (1-dr)*(1-thresholds_df.fpr)"
   ]
  },
  {
   "cell_type": "code",
   "execution_count": 68,
   "metadata": {},
   "outputs": [
    {
     "data": {
      "image/png": "[encoded data removed]",
      "text/plain": [
       "<Figure size 432x288 with 1 Axes>"
      ]
     },
     "metadata": {},
     "output_type": "display_data"
    }
   ],
   "source": [
    "plt.plot(fpr, tpr)\n",
    "plt.plot(fpr, thresholds_df.edr)\n",
    "plt.plot(fpr, thresholds_df.ptl)\n",
    "plt.show()"
   ]
  },
  {
   "cell_type": "markdown",
   "metadata": {},
   "source": [
    "**Notes**:\n",
    "1. `'edr'`provides a direct view of how our model would improve portfolio performance. We see the porfolio laon default rate improves from ~20% to 2% as we catch more defulat loans. It is worth noting, however, catching 80% of default loans will only reduce loan default rate from 20% to 10%, a reduction of 50%, due to non default loans being wrongly classified.\n",
    "2. Looking at the green `'ptl'` line we can see that less than 40% of all loans are left in order to achieve a default rate of 10%. This might be a problem for some investors as they want more loans. However, as an individual investor who invests on smaller scale, 40% of all loans is around 30 loans availabel per week, which is more than enough."
   ]
  },
  {
   "cell_type": "markdown",
   "metadata": {},
   "source": [
    "[back to top](#toc)\n",
    "\n",
    "<a id = 'thres-thres'></a>\n",
    "#### 4.B.b. Thresholds"
   ]
  },
  {
   "cell_type": "code",
   "execution_count": 69,
   "metadata": {},
   "outputs": [
    {
     "data": {
      "text/html": [
       "<div>\n",
       "<style scoped>\n",
       "    .dataframe tbody tr th:only-of-type {\n",
       "        vertical-align: middle;\n",
       "    }\n",
       "\n",
       "    .dataframe tbody tr th {\n",
       "        vertical-align: top;\n",
       "    }\n",
       "\n",
       "    .dataframe thead th {\n",
       "        text-align: right;\n",
       "    }\n",
       "</style>\n",
       "<table border=\"1\" class=\"dataframe\">\n",
       "  <thead>\n",
       "    <tr style=\"text-align: right;\">\n",
       "      <th></th>\n",
       "      <th>fpr</th>\n",
       "      <th>tpr</th>\n",
       "      <th>thresholds</th>\n",
       "      <th>edr</th>\n",
       "      <th>ptl</th>\n",
       "    </tr>\n",
       "  </thead>\n",
       "  <tbody>\n",
       "    <tr>\n",
       "      <th>14691</th>\n",
       "      <td>0.999381</td>\n",
       "      <td>1.000000</td>\n",
       "      <td>0.011675</td>\n",
       "      <td>0.000000</td>\n",
       "      <td>0.000494</td>\n",
       "    </tr>\n",
       "    <tr>\n",
       "      <th>14692</th>\n",
       "      <td>1.000000</td>\n",
       "      <td>1.000000</td>\n",
       "      <td>0.001546</td>\n",
       "      <td>NaN</td>\n",
       "      <td>0.000000</td>\n",
       "    </tr>\n",
       "    <tr>\n",
       "      <th>14690</th>\n",
       "      <td>0.999381</td>\n",
       "      <td>0.999896</td>\n",
       "      <td>0.011815</td>\n",
       "      <td>0.040814</td>\n",
       "      <td>0.000515</td>\n",
       "    </tr>\n",
       "    <tr>\n",
       "      <th>14689</th>\n",
       "      <td>0.997845</td>\n",
       "      <td>0.999896</td>\n",
       "      <td>0.018219</td>\n",
       "      <td>0.012079</td>\n",
       "      <td>0.001740</td>\n",
       "    </tr>\n",
       "    <tr>\n",
       "      <th>14688</th>\n",
       "      <td>0.997845</td>\n",
       "      <td>0.999792</td>\n",
       "      <td>0.018277</td>\n",
       "      <td>0.023870</td>\n",
       "      <td>0.001761</td>\n",
       "    </tr>\n",
       "  </tbody>\n",
       "</table>\n",
       "</div>"
      ],
      "text/plain": [
       "            fpr       tpr  thresholds       edr       ptl\n",
       "14691  0.999381  1.000000    0.011675  0.000000  0.000494\n",
       "14692  1.000000  1.000000    0.001546       NaN  0.000000\n",
       "14690  0.999381  0.999896    0.011815  0.040814  0.000515\n",
       "14689  0.997845  0.999896    0.018219  0.012079  0.001740\n",
       "14688  0.997845  0.999792    0.018277  0.023870  0.001761"
      ]
     },
     "execution_count": 69,
     "metadata": {},
     "output_type": "execute_result"
    }
   ],
   "source": [
    "thresholds_df = thresholds_df.sort_values(['tpr', 'edr'], ascending=False)\n",
    "thresholds_df.head()"
   ]
  },
  {
   "cell_type": "code",
   "execution_count": 70,
   "metadata": {},
   "outputs": [
    {
     "data": {
      "text/html": [
       "<div>\n",
       "<style scoped>\n",
       "    .dataframe tbody tr th:only-of-type {\n",
       "        vertical-align: middle;\n",
       "    }\n",
       "\n",
       "    .dataframe tbody tr th {\n",
       "        vertical-align: top;\n",
       "    }\n",
       "\n",
       "    .dataframe thead th {\n",
       "        text-align: right;\n",
       "    }\n",
       "</style>\n",
       "<table border=\"1\" class=\"dataframe\">\n",
       "  <thead>\n",
       "    <tr style=\"text-align: right;\">\n",
       "      <th></th>\n",
       "      <th>fpr</th>\n",
       "      <th>tpr</th>\n",
       "      <th>thresholds</th>\n",
       "      <th>edr</th>\n",
       "      <th>ptl</th>\n",
       "    </tr>\n",
       "  </thead>\n",
       "  <tbody>\n",
       "    <tr>\n",
       "      <th>11241</th>\n",
       "      <td>0.557584</td>\n",
       "      <td>0.800581</td>\n",
       "      <td>0.141097</td>\n",
       "      <td>0.102674</td>\n",
       "      <td>0.393219</td>\n",
       "    </tr>\n",
       "    <tr>\n",
       "      <th>11240</th>\n",
       "      <td>0.557584</td>\n",
       "      <td>0.800374</td>\n",
       "      <td>0.141113</td>\n",
       "      <td>0.102770</td>\n",
       "      <td>0.393262</td>\n",
       "    </tr>\n",
       "    <tr>\n",
       "      <th>11239</th>\n",
       "      <td>0.557535</td>\n",
       "      <td>0.800374</td>\n",
       "      <td>0.141118</td>\n",
       "      <td>0.102760</td>\n",
       "      <td>0.393301</td>\n",
       "    </tr>\n",
       "    <tr>\n",
       "      <th>11238</th>\n",
       "      <td>0.557535</td>\n",
       "      <td>0.800166</td>\n",
       "      <td>0.141121</td>\n",
       "      <td>0.102856</td>\n",
       "      <td>0.393343</td>\n",
       "    </tr>\n",
       "    <tr>\n",
       "      <th>11237</th>\n",
       "      <td>0.557485</td>\n",
       "      <td>0.800166</td>\n",
       "      <td>0.141124</td>\n",
       "      <td>0.102846</td>\n",
       "      <td>0.393383</td>\n",
       "    </tr>\n",
       "  </tbody>\n",
       "</table>\n",
       "</div>"
      ],
      "text/plain": [
       "            fpr       tpr  thresholds       edr       ptl\n",
       "11241  0.557584  0.800581    0.141097  0.102674  0.393219\n",
       "11240  0.557584  0.800374    0.141113  0.102770  0.393262\n",
       "11239  0.557535  0.800374    0.141118  0.102760  0.393301\n",
       "11238  0.557535  0.800166    0.141121  0.102856  0.393343\n",
       "11237  0.557485  0.800166    0.141124  0.102846  0.393383"
      ]
     },
     "execution_count": 70,
     "metadata": {},
     "output_type": "execute_result"
    }
   ],
   "source": [
    "thresholds_df.loc[thresholds_df.tpr >= 0.8, :].tail()"
   ]
  },
  {
   "cell_type": "code",
   "execution_count": 72,
   "metadata": {},
   "outputs": [
    {
     "data": {
      "text/html": [
       "<div>\n",
       "<style scoped>\n",
       "    .dataframe tbody tr th:only-of-type {\n",
       "        vertical-align: middle;\n",
       "    }\n",
       "\n",
       "    .dataframe tbody tr th {\n",
       "        vertical-align: top;\n",
       "    }\n",
       "\n",
       "    .dataframe thead th {\n",
       "        text-align: right;\n",
       "    }\n",
       "</style>\n",
       "<table border=\"1\" class=\"dataframe\">\n",
       "  <thead>\n",
       "    <tr style=\"text-align: right;\">\n",
       "      <th></th>\n",
       "      <th>fpr</th>\n",
       "      <th>tpr</th>\n",
       "      <th>thresholds</th>\n",
       "      <th>edr</th>\n",
       "      <th>ptl</th>\n",
       "    </tr>\n",
       "  </thead>\n",
       "  <tbody>\n",
       "    <tr>\n",
       "      <th>1</th>\n",
       "      <td>0.000000</td>\n",
       "      <td>0.000104</td>\n",
       "      <td>1.000000</td>\n",
       "      <td>0.202440</td>\n",
       "      <td>0.999979</td>\n",
       "    </tr>\n",
       "    <tr>\n",
       "      <th>0</th>\n",
       "      <td>0.000000</td>\n",
       "      <td>0.000000</td>\n",
       "      <td>2.000000</td>\n",
       "      <td>0.202456</td>\n",
       "      <td>1.000000</td>\n",
       "    </tr>\n",
       "    <tr>\n",
       "      <th>3</th>\n",
       "      <td>0.000025</td>\n",
       "      <td>0.000311</td>\n",
       "      <td>0.869917</td>\n",
       "      <td>0.202410</td>\n",
       "      <td>0.999917</td>\n",
       "    </tr>\n",
       "    <tr>\n",
       "      <th>2</th>\n",
       "      <td>0.000025</td>\n",
       "      <td>0.000104</td>\n",
       "      <td>0.999999</td>\n",
       "      <td>0.202444</td>\n",
       "      <td>0.999959</td>\n",
       "    </tr>\n",
       "    <tr>\n",
       "      <th>5</th>\n",
       "      <td>0.000173</td>\n",
       "      <td>0.000415</td>\n",
       "      <td>0.631584</td>\n",
       "      <td>0.202417</td>\n",
       "      <td>0.999778</td>\n",
       "    </tr>\n",
       "  </tbody>\n",
       "</table>\n",
       "</div>"
      ],
      "text/plain": [
       "        fpr       tpr  thresholds       edr       ptl\n",
       "1  0.000000  0.000104    1.000000  0.202440  0.999979\n",
       "0  0.000000  0.000000    2.000000  0.202456  1.000000\n",
       "3  0.000025  0.000311    0.869917  0.202410  0.999917\n",
       "2  0.000025  0.000104    0.999999  0.202444  0.999959\n",
       "5  0.000173  0.000415    0.631584  0.202417  0.999778"
      ]
     },
     "execution_count": 72,
     "metadata": {},
     "output_type": "execute_result"
    }
   ],
   "source": [
    "thresholds_df = thresholds_df.sort_values(['fpr', 'edr'])\n",
    "thresholds_df.head()"
   ]
  },
  {
   "cell_type": "code",
   "execution_count": 73,
   "metadata": {},
   "outputs": [
    {
     "data": {
      "text/html": [
       "<div>\n",
       "<style scoped>\n",
       "    .dataframe tbody tr th:only-of-type {\n",
       "        vertical-align: middle;\n",
       "    }\n",
       "\n",
       "    .dataframe tbody tr th {\n",
       "        vertical-align: top;\n",
       "    }\n",
       "\n",
       "    .dataframe thead th {\n",
       "        text-align: right;\n",
       "    }\n",
       "</style>\n",
       "<table border=\"1\" class=\"dataframe\">\n",
       "  <thead>\n",
       "    <tr style=\"text-align: right;\">\n",
       "      <th></th>\n",
       "      <th>fpr</th>\n",
       "      <th>tpr</th>\n",
       "      <th>thresholds</th>\n",
       "      <th>edr</th>\n",
       "      <th>ptl</th>\n",
       "    </tr>\n",
       "  </thead>\n",
       "  <tbody>\n",
       "    <tr>\n",
       "      <th>11740</th>\n",
       "      <td>0.599351</td>\n",
       "      <td>0.830582</td>\n",
       "      <td>0.132320</td>\n",
       "      <td>0.096937</td>\n",
       "      <td>0.353835</td>\n",
       "    </tr>\n",
       "    <tr>\n",
       "      <th>11743</th>\n",
       "      <td>0.599401</td>\n",
       "      <td>0.830790</td>\n",
       "      <td>0.132306</td>\n",
       "      <td>0.096841</td>\n",
       "      <td>0.353753</td>\n",
       "    </tr>\n",
       "    <tr>\n",
       "      <th>11742</th>\n",
       "      <td>0.599401</td>\n",
       "      <td>0.830686</td>\n",
       "      <td>0.132310</td>\n",
       "      <td>0.096894</td>\n",
       "      <td>0.353774</td>\n",
       "    </tr>\n",
       "    <tr>\n",
       "      <th>11745</th>\n",
       "      <td>0.599500</td>\n",
       "      <td>0.830894</td>\n",
       "      <td>0.132276</td>\n",
       "      <td>0.096809</td>\n",
       "      <td>0.353653</td>\n",
       "    </tr>\n",
       "    <tr>\n",
       "      <th>11744</th>\n",
       "      <td>0.599500</td>\n",
       "      <td>0.830790</td>\n",
       "      <td>0.132283</td>\n",
       "      <td>0.096862</td>\n",
       "      <td>0.353674</td>\n",
       "    </tr>\n",
       "  </tbody>\n",
       "</table>\n",
       "</div>"
      ],
      "text/plain": [
       "            fpr       tpr  thresholds       edr       ptl\n",
       "11740  0.599351  0.830582    0.132320  0.096937  0.353835\n",
       "11743  0.599401  0.830790    0.132306  0.096841  0.353753\n",
       "11742  0.599401  0.830686    0.132310  0.096894  0.353774\n",
       "11745  0.599500  0.830894    0.132276  0.096809  0.353653\n",
       "11744  0.599500  0.830790    0.132283  0.096862  0.353674"
      ]
     },
     "execution_count": 73,
     "metadata": {},
     "output_type": "execute_result"
    }
   ],
   "source": [
    "thresholds_df.loc[thresholds_df.fpr <= 0.6, :].tail()"
   ]
  },
  {
   "cell_type": "code",
   "execution_count": 74,
   "metadata": {},
   "outputs": [
    {
     "data": {
      "text/html": [
       "<div>\n",
       "<style scoped>\n",
       "    .dataframe tbody tr th:only-of-type {\n",
       "        vertical-align: middle;\n",
       "    }\n",
       "\n",
       "    .dataframe tbody tr th {\n",
       "        vertical-align: top;\n",
       "    }\n",
       "\n",
       "    .dataframe thead th {\n",
       "        text-align: right;\n",
       "    }\n",
       "</style>\n",
       "<table border=\"1\" class=\"dataframe\">\n",
       "  <thead>\n",
       "    <tr style=\"text-align: right;\">\n",
       "      <th></th>\n",
       "      <th>fpr</th>\n",
       "      <th>tpr</th>\n",
       "      <th>thresholds</th>\n",
       "      <th>edr</th>\n",
       "      <th>ptl</th>\n",
       "    </tr>\n",
       "  </thead>\n",
       "  <tbody>\n",
       "    <tr>\n",
       "      <th>14691</th>\n",
       "      <td>0.999381</td>\n",
       "      <td>1.000000</td>\n",
       "      <td>0.011675</td>\n",
       "      <td>0.000000</td>\n",
       "      <td>0.000494</td>\n",
       "    </tr>\n",
       "    <tr>\n",
       "      <th>14687</th>\n",
       "      <td>0.995590</td>\n",
       "      <td>0.999792</td>\n",
       "      <td>0.022132</td>\n",
       "      <td>0.011811</td>\n",
       "      <td>0.003559</td>\n",
       "    </tr>\n",
       "    <tr>\n",
       "      <th>14689</th>\n",
       "      <td>0.997845</td>\n",
       "      <td>0.999896</td>\n",
       "      <td>0.018219</td>\n",
       "      <td>0.012079</td>\n",
       "      <td>0.001740</td>\n",
       "    </tr>\n",
       "    <tr>\n",
       "      <th>14685</th>\n",
       "      <td>0.995145</td>\n",
       "      <td>0.999689</td>\n",
       "      <td>0.022832</td>\n",
       "      <td>0.016021</td>\n",
       "      <td>0.003935</td>\n",
       "    </tr>\n",
       "    <tr>\n",
       "      <th>14686</th>\n",
       "      <td>0.995590</td>\n",
       "      <td>0.999689</td>\n",
       "      <td>0.022136</td>\n",
       "      <td>0.017613</td>\n",
       "      <td>0.003580</td>\n",
       "    </tr>\n",
       "  </tbody>\n",
       "</table>\n",
       "</div>"
      ],
      "text/plain": [
       "            fpr       tpr  thresholds       edr       ptl\n",
       "14691  0.999381  1.000000    0.011675  0.000000  0.000494\n",
       "14687  0.995590  0.999792    0.022132  0.011811  0.003559\n",
       "14689  0.997845  0.999896    0.018219  0.012079  0.001740\n",
       "14685  0.995145  0.999689    0.022832  0.016021  0.003935\n",
       "14686  0.995590  0.999689    0.022136  0.017613  0.003580"
      ]
     },
     "execution_count": 74,
     "metadata": {},
     "output_type": "execute_result"
    }
   ],
   "source": [
    "thresholds_df = thresholds_df.sort_values(['edr', 'fpr'])\n",
    "thresholds_df.head()"
   ]
  },
  {
   "cell_type": "code",
   "execution_count": 76,
   "metadata": {},
   "outputs": [
    {
     "data": {
      "text/html": [
       "<div>\n",
       "<style scoped>\n",
       "    .dataframe tbody tr th:only-of-type {\n",
       "        vertical-align: middle;\n",
       "    }\n",
       "\n",
       "    .dataframe tbody tr th {\n",
       "        vertical-align: top;\n",
       "    }\n",
       "\n",
       "    .dataframe thead th {\n",
       "        text-align: right;\n",
       "    }\n",
       "</style>\n",
       "<table border=\"1\" class=\"dataframe\">\n",
       "  <thead>\n",
       "    <tr style=\"text-align: right;\">\n",
       "      <th></th>\n",
       "      <th>fpr</th>\n",
       "      <th>tpr</th>\n",
       "      <th>thresholds</th>\n",
       "      <th>edr</th>\n",
       "      <th>ptl</th>\n",
       "    </tr>\n",
       "  </thead>\n",
       "  <tbody>\n",
       "    <tr>\n",
       "      <th>14320</th>\n",
       "      <td>0.903386</td>\n",
       "      <td>0.980069</td>\n",
       "      <td>0.064086</td>\n",
       "      <td>0.049763</td>\n",
       "      <td>0.081089</td>\n",
       "    </tr>\n",
       "    <tr>\n",
       "      <th>14315</th>\n",
       "      <td>0.902519</td>\n",
       "      <td>0.979861</td>\n",
       "      <td>0.064360</td>\n",
       "      <td>0.049831</td>\n",
       "      <td>0.081822</td>\n",
       "    </tr>\n",
       "    <tr>\n",
       "      <th>14313</th>\n",
       "      <td>0.902073</td>\n",
       "      <td>0.979757</td>\n",
       "      <td>0.064446</td>\n",
       "      <td>0.049858</td>\n",
       "      <td>0.082199</td>\n",
       "    </tr>\n",
       "    <tr>\n",
       "      <th>14316</th>\n",
       "      <td>0.902792</td>\n",
       "      <td>0.979861</td>\n",
       "      <td>0.064306</td>\n",
       "      <td>0.049964</td>\n",
       "      <td>0.081605</td>\n",
       "    </tr>\n",
       "    <tr>\n",
       "      <th>14318</th>\n",
       "      <td>0.903362</td>\n",
       "      <td>0.979965</td>\n",
       "      <td>0.064102</td>\n",
       "      <td>0.049998</td>\n",
       "      <td>0.081130</td>\n",
       "    </tr>\n",
       "  </tbody>\n",
       "</table>\n",
       "</div>"
      ],
      "text/plain": [
       "            fpr       tpr  thresholds       edr       ptl\n",
       "14320  0.903386  0.980069    0.064086  0.049763  0.081089\n",
       "14315  0.902519  0.979861    0.064360  0.049831  0.081822\n",
       "14313  0.902073  0.979757    0.064446  0.049858  0.082199\n",
       "14316  0.902792  0.979861    0.064306  0.049964  0.081605\n",
       "14318  0.903362  0.979965    0.064102  0.049998  0.081130"
      ]
     },
     "execution_count": 76,
     "metadata": {},
     "output_type": "execute_result"
    }
   ],
   "source": [
    "thresholds_df.loc[thresholds_df.edr <= 0.05, :].tail()"
   ]
  },
  {
   "cell_type": "code",
   "execution_count": 77,
   "metadata": {},
   "outputs": [
    {
     "data": {
      "text/plain": [
       "0.06410193764508962"
      ]
     },
     "execution_count": 77,
     "metadata": {},
     "output_type": "execute_result"
    }
   ],
   "source": [
    "# edr <= 0.05\n",
    "thres_05 = np.asscalar(thresholds_df.loc[thresholds_df.edr <= 0.05, :].tail(1)['thresholds'].values)\n",
    "thres_05"
   ]
  },
  {
   "cell_type": "code",
   "execution_count": 78,
   "metadata": {},
   "outputs": [],
   "source": [
    "thres_05_df = thresholds_df.loc[thresholds_df.edr <= 0.05, :].tail(1)"
   ]
  },
  {
   "cell_type": "code",
   "execution_count": 79,
   "metadata": {},
   "outputs": [
    {
     "data": {
      "text/html": [
       "<div>\n",
       "<style scoped>\n",
       "    .dataframe tbody tr th:only-of-type {\n",
       "        vertical-align: middle;\n",
       "    }\n",
       "\n",
       "    .dataframe tbody tr th {\n",
       "        vertical-align: top;\n",
       "    }\n",
       "\n",
       "    .dataframe thead th {\n",
       "        text-align: right;\n",
       "    }\n",
       "</style>\n",
       "<table border=\"1\" class=\"dataframe\">\n",
       "  <thead>\n",
       "    <tr style=\"text-align: right;\">\n",
       "      <th></th>\n",
       "      <th>fpr</th>\n",
       "      <th>tpr</th>\n",
       "      <th>thresholds</th>\n",
       "      <th>edr</th>\n",
       "      <th>ptl</th>\n",
       "    </tr>\n",
       "  </thead>\n",
       "  <tbody>\n",
       "    <tr>\n",
       "      <th>12926</th>\n",
       "      <td>0.710927</td>\n",
       "      <td>0.901069</td>\n",
       "      <td>0.109664</td>\n",
       "      <td>0.079932</td>\n",
       "      <td>0.250577</td>\n",
       "    </tr>\n",
       "    <tr>\n",
       "      <th>12940</th>\n",
       "      <td>0.713677</td>\n",
       "      <td>0.902004</td>\n",
       "      <td>0.109176</td>\n",
       "      <td>0.079937</td>\n",
       "      <td>0.248195</td>\n",
       "    </tr>\n",
       "    <tr>\n",
       "      <th>12938</th>\n",
       "      <td>0.713082</td>\n",
       "      <td>0.901796</td>\n",
       "      <td>0.109287</td>\n",
       "      <td>0.079940</td>\n",
       "      <td>0.248711</td>\n",
       "    </tr>\n",
       "    <tr>\n",
       "      <th>12923</th>\n",
       "      <td>0.710704</td>\n",
       "      <td>0.900965</td>\n",
       "      <td>0.109696</td>\n",
       "      <td>0.079953</td>\n",
       "      <td>0.250776</td>\n",
       "    </tr>\n",
       "    <tr>\n",
       "      <th>12924</th>\n",
       "      <td>0.710754</td>\n",
       "      <td>0.900965</td>\n",
       "      <td>0.109684</td>\n",
       "      <td>0.079965</td>\n",
       "      <td>0.250737</td>\n",
       "    </tr>\n",
       "  </tbody>\n",
       "</table>\n",
       "</div>"
      ],
      "text/plain": [
       "            fpr       tpr  thresholds       edr       ptl\n",
       "12926  0.710927  0.901069    0.109664  0.079932  0.250577\n",
       "12940  0.713677  0.902004    0.109176  0.079937  0.248195\n",
       "12938  0.713082  0.901796    0.109287  0.079940  0.248711\n",
       "12923  0.710704  0.900965    0.109696  0.079953  0.250776\n",
       "12924  0.710754  0.900965    0.109684  0.079965  0.250737"
      ]
     },
     "execution_count": 79,
     "metadata": {},
     "output_type": "execute_result"
    }
   ],
   "source": [
    "# edr <= 0.05\n",
    "thresholds_df.loc[thresholds_df.edr <= 0.08, :].tail()"
   ]
  },
  {
   "cell_type": "code",
   "execution_count": 81,
   "metadata": {},
   "outputs": [
    {
     "data": {
      "text/plain": [
       "0.10968430507396774"
      ]
     },
     "execution_count": 81,
     "metadata": {},
     "output_type": "execute_result"
    }
   ],
   "source": [
    "thres_08_df = thresholds_df.loc[thresholds_df.edr <= 0.08, :].tail(1)\n",
    "thres_08 = np.asscalar(thresholds_df.loc[thresholds_df.edr <= 0.08, :].tail(1)['thresholds'].values)\n",
    "thres_08"
   ]
  },
  {
   "cell_type": "code",
   "execution_count": 82,
   "metadata": {},
   "outputs": [
    {
     "data": {
      "text/html": [
       "<div>\n",
       "<style scoped>\n",
       "    .dataframe tbody tr th:only-of-type {\n",
       "        vertical-align: middle;\n",
       "    }\n",
       "\n",
       "    .dataframe tbody tr th {\n",
       "        vertical-align: top;\n",
       "    }\n",
       "\n",
       "    .dataframe thead th {\n",
       "        text-align: right;\n",
       "    }\n",
       "</style>\n",
       "<table border=\"1\" class=\"dataframe\">\n",
       "  <thead>\n",
       "    <tr style=\"text-align: right;\">\n",
       "      <th></th>\n",
       "      <th>fpr</th>\n",
       "      <th>tpr</th>\n",
       "      <th>thresholds</th>\n",
       "      <th>edr</th>\n",
       "      <th>ptl</th>\n",
       "    </tr>\n",
       "  </thead>\n",
       "  <tbody>\n",
       "    <tr>\n",
       "      <th>11461</th>\n",
       "      <td>0.575074</td>\n",
       "      <td>0.814077</td>\n",
       "      <td>0.137352</td>\n",
       "      <td>0.099967</td>\n",
       "      <td>0.376539</td>\n",
       "    </tr>\n",
       "    <tr>\n",
       "      <th>11486</th>\n",
       "      <td>0.578889</td>\n",
       "      <td>0.815738</td>\n",
       "      <td>0.136611</td>\n",
       "      <td>0.099971</td>\n",
       "      <td>0.373160</td>\n",
       "    </tr>\n",
       "    <tr>\n",
       "      <th>11482</th>\n",
       "      <td>0.578195</td>\n",
       "      <td>0.815426</td>\n",
       "      <td>0.136727</td>\n",
       "      <td>0.099975</td>\n",
       "      <td>0.373776</td>\n",
       "    </tr>\n",
       "    <tr>\n",
       "      <th>11457</th>\n",
       "      <td>0.574454</td>\n",
       "      <td>0.813765</td>\n",
       "      <td>0.137472</td>\n",
       "      <td>0.099986</td>\n",
       "      <td>0.377096</td>\n",
       "    </tr>\n",
       "    <tr>\n",
       "      <th>11459</th>\n",
       "      <td>0.574702</td>\n",
       "      <td>0.813869</td>\n",
       "      <td>0.137418</td>\n",
       "      <td>0.099989</td>\n",
       "      <td>0.376877</td>\n",
       "    </tr>\n",
       "  </tbody>\n",
       "</table>\n",
       "</div>"
      ],
      "text/plain": [
       "            fpr       tpr  thresholds       edr       ptl\n",
       "11461  0.575074  0.814077    0.137352  0.099967  0.376539\n",
       "11486  0.578889  0.815738    0.136611  0.099971  0.373160\n",
       "11482  0.578195  0.815426    0.136727  0.099975  0.373776\n",
       "11457  0.574454  0.813765    0.137472  0.099986  0.377096\n",
       "11459  0.574702  0.813869    0.137418  0.099989  0.376877"
      ]
     },
     "execution_count": 82,
     "metadata": {},
     "output_type": "execute_result"
    }
   ],
   "source": [
    "# edr <= 0.05\n",
    "thresholds_df.loc[thresholds_df.edr <= 0.10, :].tail()"
   ]
  },
  {
   "cell_type": "code",
   "execution_count": 83,
   "metadata": {},
   "outputs": [
    {
     "data": {
      "text/plain": [
       "0.13741758307667645"
      ]
     },
     "execution_count": 83,
     "metadata": {},
     "output_type": "execute_result"
    }
   ],
   "source": [
    "thres_10_df = thresholds_df.loc[thresholds_df.edr <= 0.10, :].tail(1)\n",
    "thres_10 = np.asscalar(thresholds_df.loc[thresholds_df.edr <= 0.10, :].tail(1)['thresholds'].values)\n",
    "thres_10"
   ]
  },
  {
   "cell_type": "code",
   "execution_count": 86,
   "metadata": {},
   "outputs": [],
   "source": [
    "threshold_dict = {'thres_05': thres_05,\n",
    "                'thres_05_df': thres_05_df,\n",
    "                'thres_08': thres_08,\n",
    "                'thres_08_df': thres_08_df,\n",
    "                'thres_10': thres_10,\n",
    "                'thres_10_df': thres_10_df}"
   ]
  },
  {
   "cell_type": "code",
   "execution_count": 87,
   "metadata": {},
   "outputs": [],
   "source": [
    "with open('threshold_dict.pkl', 'wb') as f:\n",
    "    pickle.dump(threshold_dict, f)"
   ]
  },
  {
   "cell_type": "markdown",
   "metadata": {},
   "source": [
    "**NOTES:**\n",
    "\n",
    "Using the logistic regression model, we have selected the following thresholds along with their corresponding effective default rate:\n",
    "1. at threshold = 0.0641, analysis set has an effetive 5% default rate,\n",
    "2. at threshold = 0.1097, analysis set has an effetive 8% default rate,\n",
    "3. at threshold = 0.1374, analysis set has an effetive 10% default rate."
   ]
  },
  {
   "cell_type": "markdown",
   "metadata": {},
   "source": [
    "[back to top](#toc)\n",
    "\n",
    "<a id = 'eval'></a>\n",
    "### 5. Model Evaluation"
   ]
  },
  {
   "cell_type": "code",
   "execution_count": 22,
   "metadata": {},
   "outputs": [
    {
     "data": {
      "image/png": "[encoded data removed]",
      "text/plain": [
       "<Figure size 432x288 with 1 Axes>"
      ]
     },
     "metadata": {},
     "output_type": "display_data"
    }
   ],
   "source": [
    "# evaluate on evaluation set\n",
    "y_eval_score = fitted_model_lr.predict_proba(X_eval)[:,1]\n",
    "fpr, tpr, thresholds = roc_curve(y_eval, y_eval_score)\n",
    "auc = roc_auc_score(y_eval, y_eval_score)\n",
    "\n",
    "plt.plot(fpr, tpr, 'r', label = \"{}, auc = {}\".format('lr', auc))\n",
    "\n",
    "plt.plot([0,1], [0,1], 'k--')\n",
    "plt.legend()\n",
    "plt.xlabel('fpr')\n",
    "plt.ylabel('tpr')\n",
    "plt.title('Model Evaluation-LogisticRegression ROC on Evaluation Set')\n",
    "plt.show()"
   ]
  },
  {
   "cell_type": "code",
   "execution_count": 23,
   "metadata": {},
   "outputs": [
    {
     "data": {
      "text/html": [
       "<div>\n",
       "<style scoped>\n",
       "    .dataframe tbody tr th:only-of-type {\n",
       "        vertical-align: middle;\n",
       "    }\n",
       "\n",
       "    .dataframe tbody tr th {\n",
       "        vertical-align: top;\n",
       "    }\n",
       "\n",
       "    .dataframe thead th {\n",
       "        text-align: right;\n",
       "    }\n",
       "</style>\n",
       "<table border=\"1\" class=\"dataframe\">\n",
       "  <thead>\n",
       "    <tr style=\"text-align: right;\">\n",
       "      <th></th>\n",
       "      <th>fpr</th>\n",
       "      <th>tpr</th>\n",
       "      <th>thresholds</th>\n",
       "    </tr>\n",
       "  </thead>\n",
       "  <tbody>\n",
       "    <tr>\n",
       "      <th>0</th>\n",
       "      <td>0.000000</td>\n",
       "      <td>0.000000</td>\n",
       "      <td>2.000000</td>\n",
       "    </tr>\n",
       "    <tr>\n",
       "      <th>1</th>\n",
       "      <td>0.000024</td>\n",
       "      <td>0.000000</td>\n",
       "      <td>1.000000</td>\n",
       "    </tr>\n",
       "    <tr>\n",
       "      <th>2</th>\n",
       "      <td>0.000048</td>\n",
       "      <td>0.000000</td>\n",
       "      <td>0.999999</td>\n",
       "    </tr>\n",
       "    <tr>\n",
       "      <th>3</th>\n",
       "      <td>0.000048</td>\n",
       "      <td>0.000089</td>\n",
       "      <td>0.999999</td>\n",
       "    </tr>\n",
       "    <tr>\n",
       "      <th>4</th>\n",
       "      <td>0.000096</td>\n",
       "      <td>0.000089</td>\n",
       "      <td>0.999974</td>\n",
       "    </tr>\n",
       "  </tbody>\n",
       "</table>\n",
       "</div>"
      ],
      "text/plain": [
       "        fpr       tpr  thresholds\n",
       "0  0.000000  0.000000    2.000000\n",
       "1  0.000024  0.000000    1.000000\n",
       "2  0.000048  0.000000    0.999999\n",
       "3  0.000048  0.000089    0.999999\n",
       "4  0.000096  0.000089    0.999974"
      ]
     },
     "execution_count": 23,
     "metadata": {},
     "output_type": "execute_result"
    }
   ],
   "source": [
    "thresholds_eval_df = pd.DataFrame({'fpr': fpr, 'tpr': tpr, 'thresholds': thresholds})\n",
    "thresholds_eval_df.head()"
   ]
  },
  {
   "cell_type": "code",
   "execution_count": 40,
   "metadata": {},
   "outputs": [
    {
     "data": {
      "text/plain": [
       "0.21171401031921527"
      ]
     },
     "execution_count": 40,
     "metadata": {},
     "output_type": "execute_result"
    }
   ],
   "source": [
    "eval_dr = y_eval.mean()\n",
    "eval_dr"
   ]
  },
  {
   "cell_type": "code",
   "execution_count": 88,
   "metadata": {},
   "outputs": [],
   "source": [
    "thresholds_eval_df.loc[:, 'edr'] = (eval_dr*(1-thresholds_eval_df.tpr)/\n",
    "                                    (eval_dr*(1-thresholds_eval_df.tpr)+(1-eval_dr)*(1-thresholds_eval_df.fpr)))  "
   ]
  },
  {
   "cell_type": "code",
   "execution_count": 93,
   "metadata": {},
   "outputs": [
    {
     "data": {
      "text/html": [
       "<div>\n",
       "<style scoped>\n",
       "    .dataframe tbody tr th:only-of-type {\n",
       "        vertical-align: middle;\n",
       "    }\n",
       "\n",
       "    .dataframe tbody tr th {\n",
       "        vertical-align: top;\n",
       "    }\n",
       "\n",
       "    .dataframe thead th {\n",
       "        text-align: right;\n",
       "    }\n",
       "</style>\n",
       "<table border=\"1\" class=\"dataframe\">\n",
       "  <thead>\n",
       "    <tr style=\"text-align: right;\">\n",
       "      <th></th>\n",
       "      <th>fpr</th>\n",
       "      <th>tpr</th>\n",
       "      <th>thresholds</th>\n",
       "      <th>edr</th>\n",
       "    </tr>\n",
       "  </thead>\n",
       "  <tbody>\n",
       "    <tr>\n",
       "      <th>15917</th>\n",
       "      <td>0.884222</td>\n",
       "      <td>0.971791</td>\n",
       "      <td>0.064384</td>\n",
       "      <td>0.061419</td>\n",
       "    </tr>\n",
       "    <tr>\n",
       "      <th>15918</th>\n",
       "      <td>0.885109</td>\n",
       "      <td>0.971791</td>\n",
       "      <td>0.064136</td>\n",
       "      <td>0.061864</td>\n",
       "    </tr>\n",
       "    <tr>\n",
       "      <th>15919</th>\n",
       "      <td>0.885109</td>\n",
       "      <td>0.971880</td>\n",
       "      <td>0.064120</td>\n",
       "      <td>0.061680</td>\n",
       "    </tr>\n",
       "    <tr>\n",
       "      <th>15920</th>\n",
       "      <td>0.885157</td>\n",
       "      <td>0.971880</td>\n",
       "      <td>0.064115</td>\n",
       "      <td>0.061704</td>\n",
       "    </tr>\n",
       "    <tr>\n",
       "      <th>15921</th>\n",
       "      <td>0.885157</td>\n",
       "      <td>0.971969</td>\n",
       "      <td>0.064114</td>\n",
       "      <td>0.061520</td>\n",
       "    </tr>\n",
       "  </tbody>\n",
       "</table>\n",
       "</div>"
      ],
      "text/plain": [
       "            fpr       tpr  thresholds       edr\n",
       "15917  0.884222  0.971791    0.064384  0.061419\n",
       "15918  0.885109  0.971791    0.064136  0.061864\n",
       "15919  0.885109  0.971880    0.064120  0.061680\n",
       "15920  0.885157  0.971880    0.064115  0.061704\n",
       "15921  0.885157  0.971969    0.064114  0.061520"
      ]
     },
     "execution_count": 93,
     "metadata": {},
     "output_type": "execute_result"
    }
   ],
   "source": [
    "thresholds_eval_df[thresholds_eval_df.thresholds > thres_05].tail()"
   ]
  },
  {
   "cell_type": "code",
   "execution_count": 94,
   "metadata": {},
   "outputs": [
    {
     "data": {
      "text/html": [
       "<div>\n",
       "<style scoped>\n",
       "    .dataframe tbody tr th:only-of-type {\n",
       "        vertical-align: middle;\n",
       "    }\n",
       "\n",
       "    .dataframe tbody tr th {\n",
       "        vertical-align: top;\n",
       "    }\n",
       "\n",
       "    .dataframe thead th {\n",
       "        text-align: right;\n",
       "    }\n",
       "</style>\n",
       "<table border=\"1\" class=\"dataframe\">\n",
       "  <thead>\n",
       "    <tr style=\"text-align: right;\">\n",
       "      <th></th>\n",
       "      <th>fpr</th>\n",
       "      <th>tpr</th>\n",
       "      <th>thresholds</th>\n",
       "      <th>edr</th>\n",
       "    </tr>\n",
       "  </thead>\n",
       "  <tbody>\n",
       "    <tr>\n",
       "      <th>14097</th>\n",
       "      <td>0.681699</td>\n",
       "      <td>0.879843</td>\n",
       "      <td>0.109739</td>\n",
       "      <td>0.092053</td>\n",
       "    </tr>\n",
       "    <tr>\n",
       "      <th>14098</th>\n",
       "      <td>0.681723</td>\n",
       "      <td>0.879843</td>\n",
       "      <td>0.109734</td>\n",
       "      <td>0.092059</td>\n",
       "    </tr>\n",
       "    <tr>\n",
       "      <th>14099</th>\n",
       "      <td>0.681723</td>\n",
       "      <td>0.880021</td>\n",
       "      <td>0.109712</td>\n",
       "      <td>0.091935</td>\n",
       "    </tr>\n",
       "    <tr>\n",
       "      <th>14100</th>\n",
       "      <td>0.681795</td>\n",
       "      <td>0.880021</td>\n",
       "      <td>0.109699</td>\n",
       "      <td>0.091954</td>\n",
       "    </tr>\n",
       "    <tr>\n",
       "      <th>14101</th>\n",
       "      <td>0.681795</td>\n",
       "      <td>0.880111</td>\n",
       "      <td>0.109688</td>\n",
       "      <td>0.091892</td>\n",
       "    </tr>\n",
       "  </tbody>\n",
       "</table>\n",
       "</div>"
      ],
      "text/plain": [
       "            fpr       tpr  thresholds       edr\n",
       "14097  0.681699  0.879843    0.109739  0.092053\n",
       "14098  0.681723  0.879843    0.109734  0.092059\n",
       "14099  0.681723  0.880021    0.109712  0.091935\n",
       "14100  0.681795  0.880021    0.109699  0.091954\n",
       "14101  0.681795  0.880111    0.109688  0.091892"
      ]
     },
     "execution_count": 94,
     "metadata": {},
     "output_type": "execute_result"
    }
   ],
   "source": [
    "thresholds_eval_df[thresholds_eval_df.thresholds > thres_08].tail()"
   ]
  },
  {
   "cell_type": "code",
   "execution_count": 95,
   "metadata": {
    "scrolled": true
   },
   "outputs": [
    {
     "data": {
      "text/html": [
       "<div>\n",
       "<style scoped>\n",
       "    .dataframe tbody tr th:only-of-type {\n",
       "        vertical-align: middle;\n",
       "    }\n",
       "\n",
       "    .dataframe tbody tr th {\n",
       "        vertical-align: top;\n",
       "    }\n",
       "\n",
       "    .dataframe thead th {\n",
       "        text-align: right;\n",
       "    }\n",
       "</style>\n",
       "<table border=\"1\" class=\"dataframe\">\n",
       "  <thead>\n",
       "    <tr style=\"text-align: right;\">\n",
       "      <th></th>\n",
       "      <th>fpr</th>\n",
       "      <th>tpr</th>\n",
       "      <th>thresholds</th>\n",
       "      <th>edr</th>\n",
       "    </tr>\n",
       "  </thead>\n",
       "  <tbody>\n",
       "    <tr>\n",
       "      <th>12413</th>\n",
       "      <td>0.549977</td>\n",
       "      <td>0.791644</td>\n",
       "      <td>0.137542</td>\n",
       "      <td>0.110595</td>\n",
       "    </tr>\n",
       "    <tr>\n",
       "      <th>12414</th>\n",
       "      <td>0.550097</td>\n",
       "      <td>0.791644</td>\n",
       "      <td>0.137513</td>\n",
       "      <td>0.110621</td>\n",
       "    </tr>\n",
       "    <tr>\n",
       "      <th>12415</th>\n",
       "      <td>0.550097</td>\n",
       "      <td>0.791734</td>\n",
       "      <td>0.137493</td>\n",
       "      <td>0.110579</td>\n",
       "    </tr>\n",
       "    <tr>\n",
       "      <th>12416</th>\n",
       "      <td>0.550529</td>\n",
       "      <td>0.791734</td>\n",
       "      <td>0.137428</td>\n",
       "      <td>0.110674</td>\n",
       "    </tr>\n",
       "    <tr>\n",
       "      <th>12417</th>\n",
       "      <td>0.550529</td>\n",
       "      <td>0.791823</td>\n",
       "      <td>0.137428</td>\n",
       "      <td>0.110631</td>\n",
       "    </tr>\n",
       "  </tbody>\n",
       "</table>\n",
       "</div>"
      ],
      "text/plain": [
       "            fpr       tpr  thresholds       edr\n",
       "12413  0.549977  0.791644    0.137542  0.110595\n",
       "12414  0.550097  0.791644    0.137513  0.110621\n",
       "12415  0.550097  0.791734    0.137493  0.110579\n",
       "12416  0.550529  0.791734    0.137428  0.110674\n",
       "12417  0.550529  0.791823    0.137428  0.110631"
      ]
     },
     "execution_count": 95,
     "metadata": {},
     "output_type": "execute_result"
    }
   ],
   "source": [
    "thresholds_eval_df[thresholds_eval_df.thresholds > thres_10].tail()"
   ]
  },
  {
   "cell_type": "markdown",
   "metadata": {},
   "source": [
    "**NOTES:**\n",
    "Using the logistic regression model and threshold chosen, portfolio performance on the evaluation set is:\n",
    "1. for 5% effective default rate threshold, evaluation set performance is 6% default rate,\n",
    "2. for 8% effective default rate threshold, evaluation set performance is 9% default rate,\n",
    "3. for 10% effective default rate threshold, evaluation set performance is 11% default rate."
   ]
  },
  {
   "cell_type": "markdown",
   "metadata": {},
   "source": [
    "[back to top](#toc)\n",
    "\n",
    "<a id = 'notes'></a>\n",
    "\n",
    "### 4. Notes:\n",
    "1. **Train/test split**: \n",
    "Train data are all loans issued prior to 2016 august.\n",
    "\n",
    "\n",
    "2. **Model Training and Selection**:\n",
    "    1. Xgb has the best validation score.\n",
    "    2. NB has the worst cv score, however, it is fast to train and an easy improvement from random guessing\n",
    "    3. Linear models have great performance given the fast training time. \n",
    "    4. Random Forest is overfit, which could be further tune to improve performance. \n",
    "    5. Engineered features 'itlm' is one of the most import features, so is 'annual_income', which is the numerator for 'itlm' feature, thus highly correlated.\n",
    "    6. Pickled xgb model cannot be opened properly on local machine hence saved separatedly below.\n",
    "\n",
    "\n",
    "3. **ROC analysis, model and threshold selection**: \n",
    "    1. Model Selection:\n",
    "        1. Serving as the baseline performance, **dummy classifier** falls perfectly on the diagonal line. \n",
    "        2. **XGBoost**, despite having the best performance according to cross validation, cannot be opened properly on local machine, thus was eliminated from the analysis as other models that can be opened properly deliver similar performance. \n",
    "        3. **Random Forest** delievers the second best performance during cross validation, top performance on analysis set, yet is more expensive to train and overfits and requires further tuning. \n",
    "        4. **Logistic Regression**, as a simple model yiedling comparable results with rf and xgb, is selected as the final model for prediction.\n",
    "    2. Threshold Selection:\n",
    "        1. Metrics:\n",
    "            1. `'edr'`provides a direct view of how our model would improve portfolio performance. We see the porfolio laon default rate improves from ~20% to 2% as we catch more defulat loans. It is worth noting, however, catching 80% of default loans will only reduce loan default rate from 20% to 10%, a reduction of 50%, due to non default loans being wrongly classified.\n",
    "            2. Looking at the green `'ptl'` line we can see that less than 40% of all loans are left in order to achieve a default rate of 10%. This might be a problem for some investors as they want more loans. However, as an individual investor who invests on smaller scale, 40% of all loans is around 30 loans availabel per week, which is more than enough.     \n",
    "        2. Thresholds: Using the logistic regression model, we have selected the following thresholds along with their corresponding effective default rate:\n",
    "            1. at threshold = 0.0641, analysis set has an effetive 5% default rate,\n",
    "            2. at threshold = 0.1097, analysis set has an effetive 8% default rate,\n",
    "            3. at threshold = 0.1374, analysis set has an effetive 10% default rate.\n",
    "    \n",
    "\n",
    "4. **Model Evaluation**:\n",
    "Using the logistic regression model and threshold chosen, portfolio performance on the evaluation set is:\n",
    "    1. for 5% effective default rate threshold, evaluation set performance is 6% default rate,\n",
    "    2. for 8% effective default rate threshold, evaluation set performance is 9% default rate,\n",
    "    3. for 10% effective default rate threshold, evaluation set performance is 11% default rate.\n",
    "\n",
    "\n",
    "**End of current notebook**\n",
    "\n",
    "**[back to top](#toc)**\n",
    "\n",
    "---\n",
    "\n",
    "**Previous notebook: [part 2 - dataCleaning + featureEngineering](proj-classification-loanDefault-p2-dataCleaning-featureEngineering-max-v20200225-remote.ipynb)**\n",
    "\n",
    "**Next notebook: [part 4 - projectDelievery](proj-classification-loanDefault-p4-projectDelievery-max-v2020Mar.ipynb)**"
   ]
  }
 ],
 "metadata": {
  "kernelspec": {
   "display_name": "Python 3",
   "language": "python",
   "name": "python3"
  },
  "language_info": {
   "codemirror_mode": {
    "name": "ipython",
    "version": 3
   },
   "file_extension": ".py",
   "mimetype": "text/x-python",
   "name": "python",
   "nbconvert_exporter": "python",
   "pygments_lexer": "ipython3",
   "version": "3.7.3"
  }
 },
 "nbformat": 4,
 "nbformat_minor": 2
}
