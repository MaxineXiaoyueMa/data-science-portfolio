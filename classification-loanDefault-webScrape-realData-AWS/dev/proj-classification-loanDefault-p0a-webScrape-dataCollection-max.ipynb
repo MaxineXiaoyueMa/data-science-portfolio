{
 "cells": [
  {
   "cell_type": "markdown",
   "metadata": {},
   "source": [
    "# Loan Default Prediction - Classification\n",
    "\n",
    "## Part 0a. Web Scraping + Data Collection\n",
    "\n",
    "**This notebook contains code to scrape Lendingclub.com for raw loan data.**\n",
    "\n",
    "---\n",
    "\n",
    "1. 19 data files are available from Lendingclub.com\n",
    "2. It is possible to individually select each file from the dropdown menu, agree to terms, then click download to retrieve each file. However, it is a good exercise to learn and use web scraping.\n",
    "\n",
    "---\n",
    "<a id = 'toc'></a>\n",
    "**Table of contents**\n",
    "1. [Download file](#download)\n",
    "2. [Notes](#notes)"
   ]
  },
  {
   "cell_type": "code",
   "execution_count": 1,
   "metadata": {},
   "outputs": [],
   "source": [
    "from selenium import webdriver\n",
    "from selenium.webdriver.support.ui import Select\n",
    "from selenium.webdriver.support.ui import WebDriverWait\n",
    "from selenium.webdriver.common.by import By\n",
    "from selenium.webdriver.support import expected_conditions as EC"
   ]
  },
  {
   "cell_type": "code",
   "execution_count": 2,
   "metadata": {},
   "outputs": [],
   "source": [
    "# choose download folder\n",
    "# reference: https://stackoverflow.com/questions/35331854/downloading-a-file-at-a-specified-location-through-python-and-selenium-using-chr\n",
    "options = webdriver.ChromeOptions() \n",
    "options.add_experimental_option(\"prefs\", {\n",
    "  \"download.default_directory\": '/proj-classification-loanDefault-webScrape-realData-AWS/data/raw/',\n",
    "  \"download.prompt_for_download\": False,\n",
    "  \"download.directory_upgrade\": True,\n",
    "  \"safebrowsing.enabled\": True\n",
    "})"
   ]
  },
  {
   "cell_type": "code",
   "execution_count": 55,
   "metadata": {},
   "outputs": [],
   "source": [
    "# access download page\n",
    "# reference: http://jonathansoma.com/lede/foundations-2017/classes/more-scraping/selenium/\n",
    "driver = webdriver.Chrome(options = options)\n",
    "driver.get(\"https://www.lendingclub.com/info/download-data.action\")"
   ]
  },
  {
   "cell_type": "code",
   "execution_count": 56,
   "metadata": {},
   "outputs": [],
   "source": [
    "# access file selector menu\n",
    "# reference: https://sqa.stackexchange.com/questions/1355/what-is-the-correct-way-to-select-an-option-using-seleniums-python-webdriver\n",
    "select = Select(driver.find_element_by_id('loanStatsDropdown'))"
   ]
  },
  {
   "cell_type": "markdown",
   "metadata": {},
   "source": [
    "[back to top](#toc)\n",
    "\n",
    "<a id = 'download'></a>\n",
    "### 1. Download files"
   ]
  },
  {
   "cell_type": "code",
   "execution_count": 78,
   "metadata": {},
   "outputs": [
    {
     "name": "stdout",
     "output_type": "stream",
     "text": [
      "Selecting data file 0: 2007 - 2011...\n",
      "Downloading data file 0...\n",
      "Onto the next file\n",
      "\n",
      "Selecting data file 1: 2012 - 2013...\n",
      "Downloading data file 1...\n",
      "Onto the next file\n",
      "\n",
      "Selecting data file 2: 2014...\n",
      "Downloading data file 2...\n",
      "Onto the next file\n",
      "\n",
      "Selecting data file 3: 2015...\n",
      "Downloading data file 3...\n",
      "Onto the next file\n",
      "\n",
      "Selecting data file 4: 2016 Q1...\n",
      "Downloading data file 4...\n",
      "Onto the next file\n",
      "\n",
      "Selecting data file 5: 2016 Q2...\n",
      "Downloading data file 5...\n",
      "Onto the next file\n",
      "\n",
      "Selecting data file 6: 2016 Q3...\n",
      "Downloading data file 6...\n",
      "Onto the next file\n",
      "\n",
      "Selecting data file 7: 2016 Q4...\n",
      "Downloading data file 7...\n",
      "Onto the next file\n",
      "\n",
      "Selecting data file 8: 2017 Q1...\n",
      "Downloading data file 8...\n",
      "Onto the next file\n",
      "\n",
      "Selecting data file 9: 2017 Q2...\n",
      "Downloading data file 9...\n",
      "Onto the next file\n",
      "\n",
      "Selecting data file 10: 2017 Q3...\n",
      "Downloading data file 10...\n",
      "Onto the next file\n",
      "\n",
      "Selecting data file 11: 2017 Q4...\n",
      "Downloading data file 11...\n",
      "Onto the next file\n",
      "\n",
      "Selecting data file 12: 2018 Q1...\n",
      "Downloading data file 12...\n",
      "Onto the next file\n",
      "\n",
      "Selecting data file 13: 2018 Q2...\n",
      "Downloading data file 13...\n",
      "Onto the next file\n",
      "\n",
      "Selecting data file 14: 2018 Q3...\n",
      "Downloading data file 14...\n",
      "Onto the next file\n",
      "\n",
      "Selecting data file 15: 2018 Q4...\n",
      "Downloading data file 15...\n",
      "Onto the next file\n",
      "\n",
      "Selecting data file 16: 2019 Q1...\n",
      "Downloading data file 16...\n",
      "Onto the next file\n",
      "\n",
      "Selecting data file 17: 2019 Q2...\n",
      "Downloading data file 17...\n",
      "Onto the next file\n",
      "\n",
      "Selecting data file 18: 2019 Q3...\n",
      "Downloading data file 18...\n",
      "Onto the next file\n",
      "\n",
      "All data files available have been extracted, please check browser window for completion.\n"
     ]
    }
   ],
   "source": [
    "# download file\n",
    "# reference: https://irwinkwan.com/2013/04/05/automating-the-web-with-selenium-complete-tasks-automatically-and-write-test-cases/\n",
    "for i in range(len(select.options)):\n",
    "    # step 1 - select file \n",
    "    print ('Selecting data file {}: {}...'.format(i, select.options[i].text))\n",
    "    select.select_by_value(str(i))\n",
    "    \n",
    "    # step 2 - click download\n",
    "    driver.find_element_by_id('currentLoanStatsFileNameHandler').click()\n",
    "    \n",
    "    # step 3 - agree to terms, download should start at this point\n",
    "    WebDriverWait(driver, 30).until(EC.element_to_be_clickable((By.XPATH, '//*[@id=\"currentLoanStatsFileName\"]'))).click()\n",
    "    driver.find_element_by_id('currentLoanStatsFileName').click()\n",
    "    print ('Downloading data file {}...'.format(i))\n",
    "    \n",
    "    #step 4 - close the download window\n",
    "    driver.find_element_by_xpath('//*[@id=\"myModal\"]/div[2]/div/div[1]/button').click()\n",
    "    print ('Onto the next file\\n')\n",
    "    \n",
    "print ('All data files available have been extracted, please check browser window for completion.')"
   ]
  },
  {
   "cell_type": "code",
   "execution_count": 79,
   "metadata": {},
   "outputs": [],
   "source": [
    "# stop scraper\n",
    "driver.quit()"
   ]
  },
  {
   "cell_type": "markdown",
   "metadata": {},
   "source": [
    "<a id = 'notes'></a>\n",
    "\n",
    "### 2. Notes:\n",
    "The code above contains a bug due to two click methods in step 3. I thought the first one alone is sufficient, but after some testing, it appears that some files were not downloaded. Therefore, a second click() was added as a back up. As a result of the current set up, all files were downloaded, but some twice.\n",
    "\n",
    "The question is posted on Stackoverflow:\n",
    "https://stackoverflow.com/questions/59168568/selenium-python-select-from-dropdown-click-button-modal-window-bug\n",
    "\n",
    "No answer as of 2020/03/13\n",
    "\n",
    "---\n",
    "\n",
    "**End of current notebook**\n",
    "\n",
    "**[back to top](#toc)**\n",
    "\n",
    "---\n",
    "\n",
    "**Next notebook: [part 0b - dataAggregation](proj-classification-loanDefault-p0b-dataAggregation-max-v2019Dec.ipynb)**"
   ]
  }
 ],
 "metadata": {
  "kernelspec": {
   "display_name": "Python 3",
   "language": "python",
   "name": "python3"
  },
  "language_info": {
   "codemirror_mode": {
    "name": "ipython",
    "version": 3
   },
   "file_extension": ".py",
   "mimetype": "text/x-python",
   "name": "python",
   "nbconvert_exporter": "python",
   "pygments_lexer": "ipython3",
   "version": "3.7.3"
  }
 },
 "nbformat": 4,
 "nbformat_minor": 2
}
