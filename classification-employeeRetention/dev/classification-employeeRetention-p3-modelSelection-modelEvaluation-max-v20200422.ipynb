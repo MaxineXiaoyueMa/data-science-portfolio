{
 "cells": [
  {
   "cell_type": "markdown",
   "metadata": {},
   "source": [
    "## Employee Retention - Classification\n",
    "\n",
    "## Part 3. Model Selection & Evaluation\n",
    "\n",
    "<br id='toc'></br>\n",
    "**Table of Contents**\n",
    "1. [Train/Test Split](#split)\n",
    "2. [Model Selection](#select)\n",
    "3. [Model Evaluation](#eval)\n",
    "    1. Caculate roc-auc score\n",
    "    2. save roc table as reference\n",
    "    3. feature importance\n",
    "4. [Refit Model](#refit)\n",
    "5. [Save Model](#save)\n"
   ]
  },
  {
   "cell_type": "code",
   "execution_count": 37,
   "metadata": {},
   "outputs": [],
   "source": [
    "# Load libraries\n",
    "\n",
    "import numpy as np\n",
    "import pandas as pd\n",
    "\n",
    "import matplotlib.pyplot as plt\n",
    "%matplotlib inline\n",
    "import seaborn as sns\n",
    "sns.set_style('darkgrid')\n",
    "\n",
    "from sklearn.model_selection import StratifiedKFold, GridSearchCV, train_test_split\n",
    "from sklearn.pipeline import make_pipeline\n",
    "from sklearn.preprocessing import StandardScaler\n",
    "\n",
    "from sklearn.linear_model import LogisticRegression\n",
    "from sklearn.svm import SVC\n",
    "from sklearn.ensemble import RandomForestClassifier\n",
    "from xgboost import XGBClassifier\n",
    "\n",
    "from sklearn.metrics import roc_auc_score, confusion_matrix, roc_curve\n",
    "from sklearn.inspection import permutation_importance\n",
    "\n",
    "import pickle as pickle"
   ]
  },
  {
   "cell_type": "code",
   "execution_count": 2,
   "metadata": {},
   "outputs": [],
   "source": [
    "# Load analytical base table saved after Data cleaning and feature engineering\n",
    "df = pd.read_csv('../data/analytical_base_table.csv')"
   ]
  },
  {
   "cell_type": "code",
   "execution_count": 3,
   "metadata": {},
   "outputs": [
    {
     "data": {
      "text/plain": [
       "(14068, 25)"
      ]
     },
     "execution_count": 3,
     "metadata": {},
     "output_type": "execute_result"
    }
   ],
   "source": [
    "df.shape"
   ]
  },
  {
   "cell_type": "code",
   "execution_count": 4,
   "metadata": {},
   "outputs": [],
   "source": [
    "y = df['status']"
   ]
  },
  {
   "cell_type": "code",
   "execution_count": 5,
   "metadata": {},
   "outputs": [
    {
     "data": {
      "text/plain": [
       "0    1\n",
       "1    0\n",
       "2    0\n",
       "3    0\n",
       "4    0\n",
       "Name: status, dtype: int64"
      ]
     },
     "execution_count": 5,
     "metadata": {},
     "output_type": "execute_result"
    }
   ],
   "source": [
    "y.head()"
   ]
  },
  {
   "cell_type": "code",
   "execution_count": 71,
   "metadata": {},
   "outputs": [
    {
     "data": {
      "text/plain": [
       "0.23933750355416547"
      ]
     },
     "execution_count": 71,
     "metadata": {},
     "output_type": "execute_result"
    }
   ],
   "source": [
    "y.mean()"
   ]
  },
  {
   "cell_type": "code",
   "execution_count": 6,
   "metadata": {},
   "outputs": [],
   "source": [
    "X = df.drop('status', axis = 1)"
   ]
  },
  {
   "cell_type": "code",
   "execution_count": 7,
   "metadata": {},
   "outputs": [
    {
     "data": {
      "text/plain": [
       "(14068, 24)"
      ]
     },
     "execution_count": 7,
     "metadata": {},
     "output_type": "execute_result"
    }
   ],
   "source": [
    "X.shape"
   ]
  },
  {
   "cell_type": "markdown",
   "metadata": {},
   "source": [
    "[back to top](#toc)\n",
    "<a id = 'split'></a>\n",
    "### 1. Train/Test Split\n",
    "**Best practice would be to do EDA, data cleaning, feature engineering without knowledge of test set to mimic use case, but for the purpose and scale of this project, we split it afterwards to save some time.**"
   ]
  },
  {
   "cell_type": "code",
   "execution_count": 8,
   "metadata": {},
   "outputs": [
    {
     "name": "stdout",
     "output_type": "stream",
     "text": [
      "11254 11254 2814 2814\n"
     ]
    }
   ],
   "source": [
    "train_X, test_X, train_y, test_y = train_test_split(X, y, test_size = 0.2, stratify = y, random_state=26)\n",
    "print (len(train_X), len(train_y), len(test_X), len(test_y))"
   ]
  },
  {
   "cell_type": "code",
   "execution_count": 9,
   "metadata": {},
   "outputs": [
    {
     "name": "stdout",
     "output_type": "stream",
     "text": [
      "<class 'pandas.core.frame.DataFrame'>\n",
      "Int64Index: 11254 entries, 9890 to 7448\n",
      "Data columns (total 24 columns):\n",
      " #   Column                   Non-Null Count  Dtype  \n",
      "---  ------                   --------------  -----  \n",
      " 0   avg_monthly_hrs          11254 non-null  int64  \n",
      " 1   filed_complaint          11254 non-null  float64\n",
      " 2   last_evaluation          11254 non-null  float64\n",
      " 3   n_projects               11254 non-null  int64  \n",
      " 4   recently_promoted        11254 non-null  float64\n",
      " 5   salary                   11254 non-null  int64  \n",
      " 6   satisfaction             11254 non-null  float64\n",
      " 7   tenure                   11254 non-null  float64\n",
      " 8   last_evaluation_missing  11254 non-null  int64  \n",
      " 9   underperformer           11254 non-null  int64  \n",
      " 10  overqualified            11254 non-null  int64  \n",
      " 11  overachiever             11254 non-null  int64  \n",
      " 12  burnout                  11254 non-null  int64  \n",
      " 13  department_IT            11254 non-null  int64  \n",
      " 14  department_Missing       11254 non-null  int64  \n",
      " 15  department_admin         11254 non-null  int64  \n",
      " 16  department_engineering   11254 non-null  int64  \n",
      " 17  department_finance       11254 non-null  int64  \n",
      " 18  department_management    11254 non-null  int64  \n",
      " 19  department_marketing     11254 non-null  int64  \n",
      " 20  department_procurement   11254 non-null  int64  \n",
      " 21  department_product       11254 non-null  int64  \n",
      " 22  department_sales         11254 non-null  int64  \n",
      " 23  department_support       11254 non-null  int64  \n",
      "dtypes: float64(5), int64(19)\n",
      "memory usage: 2.1 MB\n"
     ]
    }
   ],
   "source": [
    "train_X.info()"
   ]
  },
  {
   "cell_type": "markdown",
   "metadata": {},
   "source": [
    "[back to top](#toc)\n",
    "<a id = 'select'></a>\n",
    "### 2. Model Selection"
   ]
  },
  {
   "cell_type": "code",
   "execution_count": 10,
   "metadata": {},
   "outputs": [],
   "source": [
    "#build pipelines\n",
    "pipelines = {'lr': make_pipeline(StandardScaler(), LogisticRegression(random_state = 26)),\n",
    "            'rf': make_pipeline(StandardScaler(), RandomForestClassifier(random_state = 26)),\n",
    "            'xgb': make_pipeline(StandardScaler(), XGBClassifier(random_state = 26))}"
   ]
  },
  {
   "cell_type": "code",
   "execution_count": 11,
   "metadata": {},
   "outputs": [],
   "source": [
    "#declare hyperparameters\n",
    "lr_hyperparameters = {'logisticregression__penalty': ['l1', 'l2'],\n",
    "                     'logisticregression__C': np.logspace(-3, 3, 7)}\n",
    "rf_hyperparameters = {'randomforestclassifier__n_estimators': [100, 200],\n",
    "                     'randomforestclassifier__max_features': ['sqrt', 'log2', None],\n",
    "                     'randomforestclassifier__min_samples_leaf':[1, 3, 5, 10]}\n",
    "xgb_hyperparameters = {'xgbclassifier__n_estimators':[100, 200],\n",
    "                      'xgbclassifier__max_depth':[1, 3, 5],\n",
    "                      'xgbclassifier__learning_rate': np.logspace(-2, -1, 5)}"
   ]
  },
  {
   "cell_type": "code",
   "execution_count": 12,
   "metadata": {},
   "outputs": [],
   "source": [
    "hyperparameters = {'lr': lr_hyperparameters,\n",
    "                  'rf': rf_hyperparameters,\n",
    "                  'xgb': xgb_hyperparameters}"
   ]
  },
  {
   "cell_type": "code",
   "execution_count": 13,
   "metadata": {},
   "outputs": [],
   "source": [
    "cv = StratifiedKFold(n_splits=5, shuffle = True, random_state=26)\n",
    "scoring = 'roc_auc'"
   ]
  },
  {
   "cell_type": "code",
   "execution_count": 14,
   "metadata": {},
   "outputs": [
    {
     "name": "stdout",
     "output_type": "stream",
     "text": [
      "lr has been fitted.\n",
      "rf has been fitted.\n",
      "xgb has been fitted.\n"
     ]
    }
   ],
   "source": [
    "#tune models\n",
    "fitted_models = {}\n",
    "\n",
    "for name, pipeline in pipelines.items():\n",
    "    model = GridSearchCV(pipeline, hyperparameters[name], cv = cv, scoring =scoring, n_jobs=-1)\n",
    "    model.fit(train_X, train_y)\n",
    "    fitted_models[name] = model\n",
    "    print (name, 'has been fitted.')    "
   ]
  },
  {
   "cell_type": "code",
   "execution_count": 15,
   "metadata": {},
   "outputs": [
    {
     "name": "stdout",
     "output_type": "stream",
     "text": [
      "lr 0.9076404637619466\n",
      "{'logisticregression__C': 1000.0, 'logisticregression__penalty': 'l2'}\n",
      "\n",
      "\n",
      "rf 0.9894050634596269\n",
      "{'randomforestclassifier__max_features': 'sqrt', 'randomforestclassifier__min_samples_leaf': 1, 'randomforestclassifier__n_estimators': 200}\n",
      "\n",
      "\n",
      "xgb 0.9892665171547549\n",
      "{'xgbclassifier__learning_rate': 0.1, 'xgbclassifier__max_depth': 5, 'xgbclassifier__n_estimators': 200}\n",
      "\n",
      "\n"
     ]
    }
   ],
   "source": [
    "for name, model in fitted_models.items():\n",
    "    print (name, model.best_score_)\n",
    "    print (model.best_params_)\n",
    "    print ('\\n')"
   ]
  },
  {
   "cell_type": "markdown",
   "metadata": {},
   "source": [
    "best_model = fitted_models['rf'].best_estimator_"
   ]
  },
  {
   "cell_type": "code",
   "execution_count": 17,
   "metadata": {},
   "outputs": [
    {
     "data": {
      "text/plain": [
       "Pipeline(memory=None,\n",
       "         steps=[('standardscaler',\n",
       "                 StandardScaler(copy=True, with_mean=True, with_std=True)),\n",
       "                ('randomforestclassifier',\n",
       "                 RandomForestClassifier(bootstrap=True, ccp_alpha=0.0,\n",
       "                                        class_weight=None, criterion='gini',\n",
       "                                        max_depth=None, max_features='sqrt',\n",
       "                                        max_leaf_nodes=None, max_samples=None,\n",
       "                                        min_impurity_decrease=0.0,\n",
       "                                        min_impurity_split=None,\n",
       "                                        min_samples_leaf=1, min_samples_split=2,\n",
       "                                        min_weight_fraction_leaf=0.0,\n",
       "                                        n_estimators=200, n_jobs=None,\n",
       "                                        oob_score=False, random_state=26,\n",
       "                                        verbose=0, warm_start=False))],\n",
       "         verbose=False)"
      ]
     },
     "execution_count": 17,
     "metadata": {},
     "output_type": "execute_result"
    }
   ],
   "source": [
    "best_model"
   ]
  },
  {
   "cell_type": "code",
   "execution_count": 18,
   "metadata": {},
   "outputs": [],
   "source": [
    "train_pred = best_model.predict_proba(train_X)[:,1]"
   ]
  },
  {
   "cell_type": "code",
   "execution_count": 63,
   "metadata": {},
   "outputs": [
    {
     "data": {
      "image/png": "[encoded data removed]",
      "text/plain": [
       "<Figure size 432x288 with 1 Axes>"
      ]
     },
     "metadata": {},
     "output_type": "display_data"
    }
   ],
   "source": [
    "fpr, tpr, thresholds = roc_curve(train_y, train_pred)\n",
    "\n",
    "plt.plot(fpr, tpr, 'r')\n",
    "plt.plot([0,1], [0,1],'k--')\n",
    "plt.xlabel('fpr')\n",
    "plt.ylabel('tpr')\n",
    "plt.title('ROC for rf')\n",
    "plt.show()"
   ]
  },
  {
   "cell_type": "code",
   "execution_count": 64,
   "metadata": {},
   "outputs": [
    {
     "data": {
      "image/png": "[encoded data removed]",
      "text/plain": [
       "<Figure size 432x288 with 1 Axes>"
      ]
     },
     "metadata": {},
     "output_type": "display_data"
    }
   ],
   "source": [
    "fpr_lr, tpr_lr, thresholds_lr = roc_curve(train_y, fitted_models['lr'].best_estimator_.predict_proba(train_X)[:,1])\n",
    "\n",
    "plt.plot(fpr_lr, tpr_lr,  label= 'logistic regression, auc = {}'.format(round(fitted_models['lr'].best_score_,2)))\n",
    "plt.plot(fpr, tpr, 'r', label = 'rf, auc = {}'.format(round(fitted_models['rf'].best_score_, 2)))\n",
    "plt.plot([0,1], [0,1],'k--')\n",
    "plt.legend()\n",
    "plt.xlabel('fpr')\n",
    "plt.ylabel('tpr')\n",
    "plt.title('ROC for rf')\n",
    "plt.show()"
   ]
  },
  {
   "cell_type": "markdown",
   "metadata": {},
   "source": [
    "<div class='alert alert-info'>\n",
    "    \n",
    "**Both RandomForestClassifier and XGBClassifier have high cv score, either model would be good enough for project delivery. We will use RandomForestClassifier at this point as it has slightly better scores.**"
   ]
  },
  {
   "cell_type": "code",
   "execution_count": 24,
   "metadata": {},
   "outputs": [],
   "source": [
    "# save the models for future reference\n",
    "with open('../models/fitted_models.pkl', 'wb') as f:\n",
    "    pickle.dump(fitted_models, f)"
   ]
  },
  {
   "cell_type": "markdown",
   "metadata": {},
   "source": [
    "[back to top](#toc)\n",
    "<a id = 'eval'></a>\n",
    "### 3. Model Evaluation"
   ]
  },
  {
   "cell_type": "code",
   "execution_count": 27,
   "metadata": {},
   "outputs": [
    {
     "data": {
      "text/plain": [
       "0.9863251469748273"
      ]
     },
     "execution_count": 27,
     "metadata": {},
     "output_type": "execute_result"
    }
   ],
   "source": [
    "# calculate roc score on test set\n",
    "roc_auc_score(test_y, best_model.predict_proba(test_X)[:,1])"
   ]
  },
  {
   "cell_type": "code",
   "execution_count": 65,
   "metadata": {},
   "outputs": [
    {
     "data": {
      "image/png": "[encoded data removed]",
      "text/plain": [
       "<Figure size 432x288 with 1 Axes>"
      ]
     },
     "metadata": {},
     "output_type": "display_data"
    }
   ],
   "source": [
    "fpr, tpr, thresholds = roc_curve(test_y, best_model.predict_proba(test_X)[:,1])\n",
    "\n",
    "plt.plot(fpr, tpr, 'r')\n",
    "plt.plot([0,1], [0,1],'k--')\n",
    "plt.xlabel('fpr')\n",
    "plt.ylabel('tpr')\n",
    "plt.title('ROC for rf')\n",
    "plt.show()"
   ]
  },
  {
   "cell_type": "code",
   "execution_count": 67,
   "metadata": {},
   "outputs": [
    {
     "data": {
      "text/html": [
       "<div>\n",
       "<style scoped>\n",
       "    .dataframe tbody tr th:only-of-type {\n",
       "        vertical-align: middle;\n",
       "    }\n",
       "\n",
       "    .dataframe tbody tr th {\n",
       "        vertical-align: top;\n",
       "    }\n",
       "\n",
       "    .dataframe thead th {\n",
       "        text-align: right;\n",
       "    }\n",
       "</style>\n",
       "<table border=\"1\" class=\"dataframe\">\n",
       "  <thead>\n",
       "    <tr style=\"text-align: right;\">\n",
       "      <th></th>\n",
       "      <th>fpr</th>\n",
       "      <th>tpr</th>\n",
       "      <th>threshold</th>\n",
       "    </tr>\n",
       "  </thead>\n",
       "  <tbody>\n",
       "    <tr>\n",
       "      <th>0</th>\n",
       "      <td>0.000000</td>\n",
       "      <td>0.000000</td>\n",
       "      <td>2.000</td>\n",
       "    </tr>\n",
       "    <tr>\n",
       "      <th>1</th>\n",
       "      <td>0.000000</td>\n",
       "      <td>0.267459</td>\n",
       "      <td>1.000</td>\n",
       "    </tr>\n",
       "    <tr>\n",
       "      <th>2</th>\n",
       "      <td>0.000467</td>\n",
       "      <td>0.377415</td>\n",
       "      <td>0.995</td>\n",
       "    </tr>\n",
       "    <tr>\n",
       "      <th>3</th>\n",
       "      <td>0.000934</td>\n",
       "      <td>0.451709</td>\n",
       "      <td>0.990</td>\n",
       "    </tr>\n",
       "    <tr>\n",
       "      <th>4</th>\n",
       "      <td>0.000934</td>\n",
       "      <td>0.508172</td>\n",
       "      <td>0.985</td>\n",
       "    </tr>\n",
       "  </tbody>\n",
       "</table>\n",
       "</div>"
      ],
      "text/plain": [
       "        fpr       tpr  threshold\n",
       "0  0.000000  0.000000      2.000\n",
       "1  0.000000  0.267459      1.000\n",
       "2  0.000467  0.377415      0.995\n",
       "3  0.000934  0.451709      0.990\n",
       "4  0.000934  0.508172      0.985"
      ]
     },
     "execution_count": 67,
     "metadata": {},
     "output_type": "execute_result"
    }
   ],
   "source": [
    "roc_df = pd.DataFrame({'fpr':fpr, 'tpr':tpr, 'threshold': thresholds})\n",
    "roc_df.head()"
   ]
  },
  {
   "cell_type": "code",
   "execution_count": 78,
   "metadata": {},
   "outputs": [
    {
     "data": {
      "text/html": [
       "<div>\n",
       "<style scoped>\n",
       "    .dataframe tbody tr th:only-of-type {\n",
       "        vertical-align: middle;\n",
       "    }\n",
       "\n",
       "    .dataframe tbody tr th {\n",
       "        vertical-align: top;\n",
       "    }\n",
       "\n",
       "    .dataframe thead th {\n",
       "        text-align: right;\n",
       "    }\n",
       "</style>\n",
       "<table border=\"1\" class=\"dataframe\">\n",
       "  <thead>\n",
       "    <tr style=\"text-align: right;\">\n",
       "      <th></th>\n",
       "      <th>fpr</th>\n",
       "      <th>tpr</th>\n",
       "      <th>threshold</th>\n",
       "    </tr>\n",
       "  </thead>\n",
       "  <tbody>\n",
       "    <tr>\n",
       "      <th>45</th>\n",
       "      <td>0.004204</td>\n",
       "      <td>0.900446</td>\n",
       "      <td>0.605</td>\n",
       "    </tr>\n",
       "    <tr>\n",
       "      <th>46</th>\n",
       "      <td>0.004671</td>\n",
       "      <td>0.901932</td>\n",
       "      <td>0.595</td>\n",
       "    </tr>\n",
       "    <tr>\n",
       "      <th>47</th>\n",
       "      <td>0.005138</td>\n",
       "      <td>0.901932</td>\n",
       "      <td>0.590</td>\n",
       "    </tr>\n",
       "    <tr>\n",
       "      <th>48</th>\n",
       "      <td>0.005138</td>\n",
       "      <td>0.910847</td>\n",
       "      <td>0.515</td>\n",
       "    </tr>\n",
       "    <tr>\n",
       "      <th>49</th>\n",
       "      <td>0.005605</td>\n",
       "      <td>0.910847</td>\n",
       "      <td>0.505</td>\n",
       "    </tr>\n",
       "  </tbody>\n",
       "</table>\n",
       "</div>"
      ],
      "text/plain": [
       "         fpr       tpr  threshold\n",
       "45  0.004204  0.900446      0.605\n",
       "46  0.004671  0.901932      0.595\n",
       "47  0.005138  0.901932      0.590\n",
       "48  0.005138  0.910847      0.515\n",
       "49  0.005605  0.910847      0.505"
      ]
     },
     "execution_count": 78,
     "metadata": {},
     "output_type": "execute_result"
    }
   ],
   "source": [
    "roc_df[roc_df.tpr > 0.9].head()"
   ]
  },
  {
   "cell_type": "code",
   "execution_count": 88,
   "metadata": {},
   "outputs": [
    {
     "data": {
      "text/html": [
       "<div>\n",
       "<style scoped>\n",
       "    .dataframe tbody tr th:only-of-type {\n",
       "        vertical-align: middle;\n",
       "    }\n",
       "\n",
       "    .dataframe tbody tr th {\n",
       "        vertical-align: top;\n",
       "    }\n",
       "\n",
       "    .dataframe thead th {\n",
       "        text-align: right;\n",
       "    }\n",
       "</style>\n",
       "<table border=\"1\" class=\"dataframe\">\n",
       "  <thead>\n",
       "    <tr style=\"text-align: right;\">\n",
       "      <th></th>\n",
       "      <th>fpr</th>\n",
       "      <th>tpr</th>\n",
       "      <th>threshold</th>\n",
       "      <th>sampleSize</th>\n",
       "      <th>Accuracy</th>\n",
       "    </tr>\n",
       "  </thead>\n",
       "  <tbody>\n",
       "    <tr>\n",
       "      <th>0</th>\n",
       "      <td>0.000000</td>\n",
       "      <td>0.000000</td>\n",
       "      <td>2.000</td>\n",
       "      <td>0.000000</td>\n",
       "      <td>NaN</td>\n",
       "    </tr>\n",
       "    <tr>\n",
       "      <th>1</th>\n",
       "      <td>0.000000</td>\n",
       "      <td>0.267459</td>\n",
       "      <td>1.000</td>\n",
       "      <td>0.063966</td>\n",
       "      <td>1.000000</td>\n",
       "    </tr>\n",
       "    <tr>\n",
       "      <th>2</th>\n",
       "      <td>0.000467</td>\n",
       "      <td>0.377415</td>\n",
       "      <td>0.995</td>\n",
       "      <td>0.090618</td>\n",
       "      <td>0.996078</td>\n",
       "    </tr>\n",
       "    <tr>\n",
       "      <th>3</th>\n",
       "      <td>0.000934</td>\n",
       "      <td>0.451709</td>\n",
       "      <td>0.990</td>\n",
       "      <td>0.108742</td>\n",
       "      <td>0.993464</td>\n",
       "    </tr>\n",
       "    <tr>\n",
       "      <th>4</th>\n",
       "      <td>0.000934</td>\n",
       "      <td>0.508172</td>\n",
       "      <td>0.985</td>\n",
       "      <td>0.122246</td>\n",
       "      <td>0.994186</td>\n",
       "    </tr>\n",
       "  </tbody>\n",
       "</table>\n",
       "</div>"
      ],
      "text/plain": [
       "        fpr       tpr  threshold  sampleSize  Accuracy\n",
       "0  0.000000  0.000000      2.000    0.000000       NaN\n",
       "1  0.000000  0.267459      1.000    0.063966  1.000000\n",
       "2  0.000467  0.377415      0.995    0.090618  0.996078\n",
       "3  0.000934  0.451709      0.990    0.108742  0.993464\n",
       "4  0.000934  0.508172      0.985    0.122246  0.994186"
      ]
     },
     "execution_count": 88,
     "metadata": {},
     "output_type": "execute_result"
    }
   ],
   "source": [
    "# create two columns for simple look up, 1 is sampleSize, which is the percentage of total samples by corresponding threshold\n",
    "# the other is Accuracy, which tells users how many chosen ones are actually going to leave by corresponding threshold \n",
    "roc_df.loc[:, 'sampleSize'] = roc_df.tpr * test_y.mean() + roc_df.fpr * (1-test_y.mean())\n",
    "roc_df.loc[:, 'Accuracy'] = (roc_df.tpr * test_y.mean())/roc_df.sampleSize\n",
    "roc_df.head()"
   ]
  },
  {
   "cell_type": "code",
   "execution_count": 96,
   "metadata": {},
   "outputs": [
    {
     "data": {
      "text/html": [
       "<div>\n",
       "<style scoped>\n",
       "    .dataframe tbody tr th:only-of-type {\n",
       "        vertical-align: middle;\n",
       "    }\n",
       "\n",
       "    .dataframe tbody tr th {\n",
       "        vertical-align: top;\n",
       "    }\n",
       "\n",
       "    .dataframe thead th {\n",
       "        text-align: right;\n",
       "    }\n",
       "</style>\n",
       "<table border=\"1\" class=\"dataframe\">\n",
       "  <thead>\n",
       "    <tr style=\"text-align: right;\">\n",
       "      <th></th>\n",
       "      <th>fpr</th>\n",
       "      <th>tpr</th>\n",
       "      <th>threshold</th>\n",
       "      <th>sampleSize</th>\n",
       "      <th>Accuracy</th>\n",
       "    </tr>\n",
       "  </thead>\n",
       "  <tbody>\n",
       "    <tr>\n",
       "      <th>82</th>\n",
       "      <td>0.027090</td>\n",
       "      <td>0.952452</td>\n",
       "      <td>0.215</td>\n",
       "      <td>0.248401</td>\n",
       "      <td>0.917024</td>\n",
       "    </tr>\n",
       "    <tr>\n",
       "      <th>83</th>\n",
       "      <td>0.028024</td>\n",
       "      <td>0.952452</td>\n",
       "      <td>0.205</td>\n",
       "      <td>0.249112</td>\n",
       "      <td>0.914408</td>\n",
       "    </tr>\n",
       "    <tr>\n",
       "      <th>84</th>\n",
       "      <td>0.029426</td>\n",
       "      <td>0.952452</td>\n",
       "      <td>0.195</td>\n",
       "      <td>0.250178</td>\n",
       "      <td>0.910511</td>\n",
       "    </tr>\n",
       "    <tr>\n",
       "      <th>85</th>\n",
       "      <td>0.032228</td>\n",
       "      <td>0.952452</td>\n",
       "      <td>0.190</td>\n",
       "      <td>0.252310</td>\n",
       "      <td>0.902817</td>\n",
       "    </tr>\n",
       "    <tr>\n",
       "      <th>86</th>\n",
       "      <td>0.032695</td>\n",
       "      <td>0.952452</td>\n",
       "      <td>0.185</td>\n",
       "      <td>0.252665</td>\n",
       "      <td>0.901547</td>\n",
       "    </tr>\n",
       "  </tbody>\n",
       "</table>\n",
       "</div>"
      ],
      "text/plain": [
       "         fpr       tpr  threshold  sampleSize  Accuracy\n",
       "82  0.027090  0.952452      0.215    0.248401  0.917024\n",
       "83  0.028024  0.952452      0.205    0.249112  0.914408\n",
       "84  0.029426  0.952452      0.195    0.250178  0.910511\n",
       "85  0.032228  0.952452      0.190    0.252310  0.902817\n",
       "86  0.032695  0.952452      0.185    0.252665  0.901547"
      ]
     },
     "execution_count": 96,
     "metadata": {},
     "output_type": "execute_result"
    }
   ],
   "source": [
    "# e.g. we can reach 95% of employees who are leaving by interviewing the top 25% of the employees\n",
    "# ranked from most likely to least likely, with an accuracy of 90%\n",
    "roc_df[roc_df.Accuracy > 0.9].tail()"
   ]
  },
  {
   "cell_type": "code",
   "execution_count": 97,
   "metadata": {},
   "outputs": [],
   "source": [
    "#savet the reference table\n",
    "roc_df.to_csv('../delieverables/interview-sample-size-reference.csv')"
   ]
  },
  {
   "cell_type": "markdown",
   "metadata": {},
   "source": [
    "**Feature importance**"
   ]
  },
  {
   "cell_type": "code",
   "execution_count": 35,
   "metadata": {},
   "outputs": [],
   "source": [
    "def plot_feature_importance(feat_names, feat_imps, title = 'feature importance', method = 'Gini importance'):\n",
    "    feat_imp_dict = dict(zip(feat_names, feat_imps))\n",
    "    feat_imp_df = pd.DataFrame.from_dict(feat_imp_dict, orient = 'index').rename(columns = {0: method})\n",
    "    feat_imp_df.sort_values(method).plot(kind = 'barh')\n",
    "    plt.title(title)\n",
    "    plt.show()"
   ]
  },
  {
   "cell_type": "code",
   "execution_count": 54,
   "metadata": {},
   "outputs": [
    {
     "data": {
      "image/png": "[encoded data removed]",
      "text/plain": [
       "<Figure size 432x288 with 1 Axes>"
      ]
     },
     "metadata": {},
     "output_type": "display_data"
    }
   ],
   "source": [
    "# rf - permutation - roc - train\n",
    "imp_pm_train_roc = permutation_importance(best_model, train_X, train_y, scoring = 'roc_auc', n_repeats=10, random_state=26, n_jobs=-2).importances_mean\n",
    "plot_feature_importance(train_X.columns, imp_pm_train_roc, title = 'rf feature importance', method = 'Permutation Importance with roc_auc')"
   ]
  },
  {
   "cell_type": "code",
   "execution_count": 44,
   "metadata": {},
   "outputs": [
    {
     "data": {
      "image/png": "[encoded data removed]",
      "text/plain": [
       "<Figure size 432x288 with 1 Axes>"
      ]
     },
     "metadata": {},
     "output_type": "display_data"
    },
    {
     "name": "stdout",
     "output_type": "stream",
     "text": [
      "CPU times: user 5.36 s, sys: 897 ms, total: 6.25 s\n",
      "Wall time: 18.8 s\n"
     ]
    }
   ],
   "source": [
    "# rf - permutation - roc -test\n",
    "%%time\n",
    "imp_pm_test = permutation_importance(best_model, test_X, test_y, scoring = 'roc_auc', n_repeats=10, random_state=26, n_jobs=-2).importances_mean\n",
    "plot_feature_importance(test_X.columns, imp_pm_test, method = 'Permutation')"
   ]
  },
  {
   "cell_type": "code",
   "execution_count": 61,
   "metadata": {},
   "outputs": [
    {
     "data": {
      "image/png": "[encoded data removed]",
      "text/plain": [
       "<Figure size 432x288 with 1 Axes>"
      ]
     },
     "metadata": {},
     "output_type": "display_data"
    },
    {
     "name": "stdout",
     "output_type": "stream",
     "text": [
      "CPU times: user 911 ms, sys: 68.7 ms, total: 980 ms\n",
      "Wall time: 15.9 s\n"
     ]
    }
   ],
   "source": [
    "%%time\n",
    "imp_pm_train_roc = permutation_importance(fitted_models['xgb'].best_estimator_, train_X, train_y, scoring = 'roc_auc', n_repeats=10, random_state=26, n_jobs=-2).importances_mean\n",
    "plot_feature_importance(train_X.columns, imp_pm_train_roc, title = 'xgb feature importance', method = 'Permutation importance with roc_auc')"
   ]
  },
  {
   "cell_type": "code",
   "execution_count": 62,
   "metadata": {},
   "outputs": [
    {
     "data": {
      "image/png": "[encoded data removed]",
      "text/plain": [
       "<Figure size 432x288 with 1 Axes>"
      ]
     },
     "metadata": {},
     "output_type": "display_data"
    }
   ],
   "source": [
    "# xgb-permutation-roc-test\n",
    "imp_pm_test = permutation_importance(fitted_models['xgb'].best_estimator_, test_X, test_y, scoring = 'roc_auc', n_repeats=10, random_state=26, n_jobs=-2).importances_mean\n",
    "plot_feature_importance(test_X.columns, imp_pm_test,title = 'xgb feature importance', method = 'Permutation')"
   ]
  },
  {
   "cell_type": "markdown",
   "metadata": {},
   "source": [
    "**CONCLUSION**: \n",
    "\n",
    "1. Our final model generalizes quite well on the test set, we achieved **0.98** roc-auc score, which is high accurate.\n",
    "2. A table is generated to guide clients on interview sample size as well as expected accuracy rate for reaching the right employee. **e.g., for every 100 employees, we expect 23 will leave the company. With the probability generated from our model and sorting it from the most likely to leave to the least, HR could interview the top 25 employees on the list and ultimately reach out to 22 out of the 23 likely leavers.** As a result, HR could choose the most appropriate sample size based on their availble resources.\n",
    "3. The most importnat features for our prediction model include **n_projects, tenure, satisfaction, avg_monthly_hrs.**\n"
   ]
  },
  {
   "cell_type": "markdown",
   "metadata": {},
   "source": [
    "[back to top](#toc)\n",
    "<a id = 'refit'></a>\n",
    "### 4. Refit Model on Entire Dataset"
   ]
  },
  {
   "cell_type": "code",
   "execution_count": 119,
   "metadata": {},
   "outputs": [
    {
     "data": {
      "text/plain": [
       "(14068, 24)"
      ]
     },
     "execution_count": 119,
     "metadata": {},
     "output_type": "execute_result"
    }
   ],
   "source": [
    "X.shape"
   ]
  },
  {
   "cell_type": "code",
   "execution_count": 122,
   "metadata": {},
   "outputs": [
    {
     "name": "stdout",
     "output_type": "stream",
     "text": [
      "<class 'pandas.core.frame.DataFrame'>\n",
      "RangeIndex: 14068 entries, 0 to 14067\n",
      "Data columns (total 24 columns):\n",
      "avg_monthly_hrs            14068 non-null int64\n",
      "filed_complaint            14068 non-null float64\n",
      "last_evaluation            14068 non-null float64\n",
      "n_projects                 14068 non-null int64\n",
      "recently_promoted          14068 non-null float64\n",
      "salary                     14068 non-null int64\n",
      "satisfaction               14068 non-null float64\n",
      "tenure                     14068 non-null float64\n",
      "last_evaluation_missing    14068 non-null int64\n",
      "underperformer             14068 non-null int64\n",
      "overqualified              14068 non-null int64\n",
      "overachiever               14068 non-null int64\n",
      "burnout                    14068 non-null int64\n",
      "department_IT              14068 non-null int64\n",
      "department_Missing         14068 non-null int64\n",
      "department_admin           14068 non-null int64\n",
      "department_engineering     14068 non-null int64\n",
      "department_finance         14068 non-null int64\n",
      "department_management      14068 non-null int64\n",
      "department_marketing       14068 non-null int64\n",
      "department_procurement     14068 non-null int64\n",
      "department_product         14068 non-null int64\n",
      "department_sales           14068 non-null int64\n",
      "department_support         14068 non-null int64\n",
      "dtypes: float64(5), int64(19)\n",
      "memory usage: 2.6 MB\n"
     ]
    }
   ],
   "source": [
    "X.info()"
   ]
  },
  {
   "cell_type": "code",
   "execution_count": 100,
   "metadata": {},
   "outputs": [],
   "source": [
    "final_model = fitted_models['rf'].best_estimator_.fit(X, y)"
   ]
  },
  {
   "cell_type": "code",
   "execution_count": 101,
   "metadata": {},
   "outputs": [
    {
     "data": {
      "text/plain": [
       "1.0"
      ]
     },
     "execution_count": 101,
     "metadata": {},
     "output_type": "execute_result"
    }
   ],
   "source": [
    "roc_auc_score(y, final_model.predict_proba(X)[:,1])"
   ]
  },
  {
   "cell_type": "markdown",
   "metadata": {},
   "source": [
    "[back to top](#toc)\n",
    "<a id = 'save'></a>\n",
    "### 5. Save Model"
   ]
  },
  {
   "cell_type": "code",
   "execution_count": 102,
   "metadata": {},
   "outputs": [],
   "source": [
    "with open ('../models/final_model.pkl', 'wb') as f:\n",
    "    pickle.dump(final_model, f)"
   ]
  },
  {
   "cell_type": "code",
   "execution_count": 103,
   "metadata": {},
   "outputs": [],
   "source": [
    "# check the model is saved correctly:\n",
    "with open('../models/final_model.pkl','rb') as f:\n",
    "    saved_final_model = pickle.load(f)"
   ]
  },
  {
   "cell_type": "code",
   "execution_count": 104,
   "metadata": {},
   "outputs": [],
   "source": [
    "score = roc_auc_score(y, final_model.predict_proba(X)[:, 1])"
   ]
  },
  {
   "cell_type": "code",
   "execution_count": 105,
   "metadata": {},
   "outputs": [
    {
     "data": {
      "text/plain": [
       "1.0"
      ]
     },
     "execution_count": 105,
     "metadata": {},
     "output_type": "execute_result"
    }
   ],
   "source": [
    "score"
   ]
  },
  {
   "cell_type": "code",
   "execution_count": 106,
   "metadata": {},
   "outputs": [],
   "source": [
    "with open('../models/final_model_auc.pkl', 'wb') as f:\n",
    "    pickle.dump(score, f)"
   ]
  },
  {
   "cell_type": "code",
   "execution_count": 107,
   "metadata": {},
   "outputs": [],
   "source": [
    "with open('../models/final_model_auc.pkl', 'rb') as f:\n",
    "    score = pickle.load(f)"
   ]
  },
  {
   "cell_type": "code",
   "execution_count": 108,
   "metadata": {},
   "outputs": [
    {
     "data": {
      "text/plain": [
       "1.0"
      ]
     },
     "execution_count": 108,
     "metadata": {},
     "output_type": "execute_result"
    }
   ],
   "source": [
    "score"
   ]
  },
  {
   "cell_type": "markdown",
   "metadata": {},
   "source": [
    "[back to top](#toc)"
   ]
  }
 ],
 "metadata": {
  "kernelspec": {
   "display_name": "Python 3",
   "language": "python",
   "name": "python3"
  },
  "language_info": {
   "codemirror_mode": {
    "name": "ipython",
    "version": 3
   },
   "file_extension": ".py",
   "mimetype": "text/x-python",
   "name": "python",
   "nbconvert_exporter": "python",
   "pygments_lexer": "ipython3",
   "version": "3.7.3"
  }
 },
 "nbformat": 4,
 "nbformat_minor": 2
}
