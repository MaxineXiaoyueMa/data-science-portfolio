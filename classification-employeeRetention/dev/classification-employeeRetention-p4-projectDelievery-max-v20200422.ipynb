{
 "cells": [
  {
   "cell_type": "markdown",
   "metadata": {},
   "source": [
    "# Employee Retention - Classification\n",
    "\n",
    "## Part 4. Project Delievery\n",
    "\n",
    "<br id = 'toc'>\n",
    "\n",
    "**Table of Contents**\n",
    "1. [Premodeling Function](#pre)\n",
    "    1. [clean_data](#clean)\n",
    "    2. [engineer_features](#engine)\n",
    "2. [Construct Model Class](#construct)\n",
    "3. [Deploy Model](#deploy)\n",
    "    1. [in Jupyter Notebook](#jupyter)\n",
    "    2. [Try on unseen data](#unseen)\n",
    "    3. [Python script](#script)\n",
    "4. [User Guide](#guide)"
   ]
  },
  {
   "cell_type": "code",
   "execution_count": 9,
   "metadata": {},
   "outputs": [],
   "source": [
    "import numpy as np\n",
    "import pandas as pd\n",
    "from pandas.api.types import CategoricalDtype\n",
    "\n",
    "import pickle as pickle\n",
    "\n",
    "from sklearn.metrics import roc_auc_score"
   ]
  },
  {
   "cell_type": "code",
   "execution_count": 10,
   "metadata": {},
   "outputs": [
    {
     "name": "stdout",
     "output_type": "stream",
     "text": [
      "(14249, 10)\n"
     ]
    }
   ],
   "source": [
    "# Load training raw data\n",
    "df = pd.read_csv('../data/employee_data.csv')\n",
    "print(df.shape)"
   ]
  },
  {
   "cell_type": "code",
   "execution_count": 11,
   "metadata": {},
   "outputs": [
    {
     "data": {
      "text/html": [
       "<div>\n",
       "<style scoped>\n",
       "    .dataframe tbody tr th:only-of-type {\n",
       "        vertical-align: middle;\n",
       "    }\n",
       "\n",
       "    .dataframe tbody tr th {\n",
       "        vertical-align: top;\n",
       "    }\n",
       "\n",
       "    .dataframe thead th {\n",
       "        text-align: right;\n",
       "    }\n",
       "</style>\n",
       "<table border=\"1\" class=\"dataframe\">\n",
       "  <thead>\n",
       "    <tr style=\"text-align: right;\">\n",
       "      <th></th>\n",
       "      <th>avg_monthly_hrs</th>\n",
       "      <th>department</th>\n",
       "      <th>filed_complaint</th>\n",
       "      <th>last_evaluation</th>\n",
       "      <th>n_projects</th>\n",
       "      <th>recently_promoted</th>\n",
       "      <th>salary</th>\n",
       "      <th>satisfaction</th>\n",
       "      <th>status</th>\n",
       "      <th>tenure</th>\n",
       "    </tr>\n",
       "  </thead>\n",
       "  <tbody>\n",
       "    <tr>\n",
       "      <th>0</th>\n",
       "      <td>221</td>\n",
       "      <td>engineering</td>\n",
       "      <td>NaN</td>\n",
       "      <td>0.932868</td>\n",
       "      <td>4</td>\n",
       "      <td>NaN</td>\n",
       "      <td>low</td>\n",
       "      <td>0.829896</td>\n",
       "      <td>Left</td>\n",
       "      <td>5.0</td>\n",
       "    </tr>\n",
       "    <tr>\n",
       "      <th>1</th>\n",
       "      <td>232</td>\n",
       "      <td>support</td>\n",
       "      <td>NaN</td>\n",
       "      <td>NaN</td>\n",
       "      <td>3</td>\n",
       "      <td>NaN</td>\n",
       "      <td>low</td>\n",
       "      <td>0.834544</td>\n",
       "      <td>Employed</td>\n",
       "      <td>2.0</td>\n",
       "    </tr>\n",
       "    <tr>\n",
       "      <th>2</th>\n",
       "      <td>184</td>\n",
       "      <td>sales</td>\n",
       "      <td>NaN</td>\n",
       "      <td>0.788830</td>\n",
       "      <td>3</td>\n",
       "      <td>NaN</td>\n",
       "      <td>medium</td>\n",
       "      <td>0.834988</td>\n",
       "      <td>Employed</td>\n",
       "      <td>3.0</td>\n",
       "    </tr>\n",
       "    <tr>\n",
       "      <th>3</th>\n",
       "      <td>206</td>\n",
       "      <td>sales</td>\n",
       "      <td>NaN</td>\n",
       "      <td>0.575688</td>\n",
       "      <td>4</td>\n",
       "      <td>NaN</td>\n",
       "      <td>low</td>\n",
       "      <td>0.424764</td>\n",
       "      <td>Employed</td>\n",
       "      <td>2.0</td>\n",
       "    </tr>\n",
       "    <tr>\n",
       "      <th>4</th>\n",
       "      <td>249</td>\n",
       "      <td>sales</td>\n",
       "      <td>NaN</td>\n",
       "      <td>0.845217</td>\n",
       "      <td>3</td>\n",
       "      <td>NaN</td>\n",
       "      <td>low</td>\n",
       "      <td>0.779043</td>\n",
       "      <td>Employed</td>\n",
       "      <td>3.0</td>\n",
       "    </tr>\n",
       "  </tbody>\n",
       "</table>\n",
       "</div>"
      ],
      "text/plain": [
       "   avg_monthly_hrs   department  filed_complaint  last_evaluation  n_projects  \\\n",
       "0              221  engineering              NaN         0.932868           4   \n",
       "1              232      support              NaN              NaN           3   \n",
       "2              184        sales              NaN         0.788830           3   \n",
       "3              206        sales              NaN         0.575688           4   \n",
       "4              249        sales              NaN         0.845217           3   \n",
       "\n",
       "   recently_promoted  salary  satisfaction    status  tenure  \n",
       "0                NaN     low      0.829896      Left     5.0  \n",
       "1                NaN     low      0.834544  Employed     2.0  \n",
       "2                NaN  medium      0.834988  Employed     3.0  \n",
       "3                NaN     low      0.424764  Employed     2.0  \n",
       "4                NaN     low      0.779043  Employed     3.0  "
      ]
     },
     "execution_count": 11,
     "metadata": {},
     "output_type": "execute_result"
    }
   ],
   "source": [
    "df.head()"
   ]
  },
  {
   "cell_type": "code",
   "execution_count": 12,
   "metadata": {},
   "outputs": [],
   "source": [
    "# drop status to mimic unseen data\n",
    "df.drop('status', axis = 1, inplace = True)"
   ]
  },
  {
   "cell_type": "code",
   "execution_count": 13,
   "metadata": {},
   "outputs": [
    {
     "data": {
      "text/plain": [
       "(14249, 9)"
      ]
     },
     "execution_count": 13,
     "metadata": {},
     "output_type": "execute_result"
    }
   ],
   "source": [
    "df.shape"
   ]
  },
  {
   "cell_type": "code",
   "execution_count": 14,
   "metadata": {},
   "outputs": [],
   "source": [
    "# Load processed training data to validate premodeling functions\n",
    "abt = pd.read_csv('../data/analytical_base_table.csv')"
   ]
  },
  {
   "cell_type": "code",
   "execution_count": 15,
   "metadata": {},
   "outputs": [
    {
     "data": {
      "text/plain": [
       "(14068, 25)"
      ]
     },
     "execution_count": 15,
     "metadata": {},
     "output_type": "execute_result"
    }
   ],
   "source": [
    "abt.shape"
   ]
  },
  {
   "cell_type": "code",
   "execution_count": 16,
   "metadata": {},
   "outputs": [],
   "source": [
    "y = abt.status"
   ]
  },
  {
   "cell_type": "code",
   "execution_count": 17,
   "metadata": {},
   "outputs": [],
   "source": [
    "X = abt.drop('status', axis = 1)"
   ]
  },
  {
   "cell_type": "markdown",
   "metadata": {},
   "source": [
    "[back to top](#toc)\n",
    "<a id='pre'></a>\n",
    "### 1. Premodeling Function\n",
    "<a id = 'clean'></a>\n",
    "#### 1.A. clean_data"
   ]
  },
  {
   "cell_type": "code",
   "execution_count": 18,
   "metadata": {},
   "outputs": [],
   "source": [
    "def clean_data(df):\n",
    "    \n",
    "    df = df[df.department != 'temp'].copy()\n",
    "    df.loc[:, 'department'] = df.department.replace('information_technology', 'IT')\n",
    "    df.loc[:, 'salary'] = df.salary.replace({'low':0, 'medium':1, 'high':2})\n",
    "    df.loc[:, 'filed_complaint'] = df.filed_complaint.fillna(0)\n",
    "    df.loc[:, 'recently_promoted'] = df.recently_promoted.fillna(0)\n",
    "    df.loc[:, 'department'] = df.department.fillna('Missing')\n",
    "    df.loc[:, 'last_evaluation_missing'] = df.last_evaluation.isnull().astype(int)\n",
    "    df.loc[:, 'last_evaluation'] = df.last_evaluation.fillna(0.72)\n",
    "    \n",
    "    return df"
   ]
  },
  {
   "cell_type": "code",
   "execution_count": 19,
   "metadata": {},
   "outputs": [],
   "source": [
    "cleaned_data = clean_data(df)"
   ]
  },
  {
   "cell_type": "code",
   "execution_count": 20,
   "metadata": {},
   "outputs": [
    {
     "data": {
      "text/plain": [
       "(14068, 10)"
      ]
     },
     "execution_count": 20,
     "metadata": {},
     "output_type": "execute_result"
    }
   ],
   "source": [
    "cleaned_data.shape"
   ]
  },
  {
   "cell_type": "markdown",
   "metadata": {},
   "source": [
    "[back to top](#toc)\n",
    "<a id='engine'></a>\n",
    "#### 1.B. engineer_features"
   ]
  },
  {
   "cell_type": "code",
   "execution_count": 23,
   "metadata": {},
   "outputs": [
    {
     "data": {
      "text/html": [
       "<div>\n",
       "<style scoped>\n",
       "    .dataframe tbody tr th:only-of-type {\n",
       "        vertical-align: middle;\n",
       "    }\n",
       "\n",
       "    .dataframe tbody tr th {\n",
       "        vertical-align: top;\n",
       "    }\n",
       "\n",
       "    .dataframe thead th {\n",
       "        text-align: right;\n",
       "    }\n",
       "</style>\n",
       "<table border=\"1\" class=\"dataframe\">\n",
       "  <thead>\n",
       "    <tr style=\"text-align: right;\">\n",
       "      <th></th>\n",
       "      <th>avg_monthly_hrs</th>\n",
       "      <th>filed_complaint</th>\n",
       "      <th>last_evaluation</th>\n",
       "      <th>n_projects</th>\n",
       "      <th>recently_promoted</th>\n",
       "      <th>salary</th>\n",
       "      <th>satisfaction</th>\n",
       "      <th>tenure</th>\n",
       "      <th>last_evaluation_missing</th>\n",
       "      <th>underperformer</th>\n",
       "      <th>...</th>\n",
       "      <th>department_Missing</th>\n",
       "      <th>department_admin</th>\n",
       "      <th>department_engineering</th>\n",
       "      <th>department_finance</th>\n",
       "      <th>department_management</th>\n",
       "      <th>department_marketing</th>\n",
       "      <th>department_procurement</th>\n",
       "      <th>department_product</th>\n",
       "      <th>department_sales</th>\n",
       "      <th>department_support</th>\n",
       "    </tr>\n",
       "  </thead>\n",
       "  <tbody>\n",
       "  </tbody>\n",
       "</table>\n",
       "<p>0 rows × 24 columns</p>\n",
       "</div>"
      ],
      "text/plain": [
       "Empty DataFrame\n",
       "Columns: [avg_monthly_hrs, filed_complaint, last_evaluation, n_projects, recently_promoted, salary, satisfaction, tenure, last_evaluation_missing, underperformer, overqualified, overachiever, burnout, department_IT, department_Missing, department_admin, department_engineering, department_finance, department_management, department_marketing, department_procurement, department_product, department_sales, department_support]\n",
       "Index: []\n",
       "\n",
       "[0 rows x 24 columns]"
      ]
     },
     "execution_count": 23,
     "metadata": {},
     "output_type": "execute_result"
    }
   ],
   "source": [
    "# the step to ensure train/test dataframe columns are aligned especially after pd.get_dummies step\n",
    "X.head(0)"
   ]
  },
  {
   "cell_type": "code",
   "execution_count": 26,
   "metadata": {},
   "outputs": [],
   "source": [
    "def engineer_features(df):\n",
    "    \n",
    "    df.loc[:,'underperformer'] = (df.last_evaluation < 0.65).astype(int)\n",
    "    df.loc[:,'overqualified'] = ((df.satisfaction < 0.2) & (df.last_evaluation >0.7)).astype(int)\n",
    "    df.loc[:,'overachiever'] = ((df.last_evaluation > 0.8) & (df.satisfaction > 0.7)).astype(int)    \n",
    "    df.loc[:,'burnout'] = ((df.avg_monthly_hrs>240) & (df.satisfaction < 0.2)).astype(int)\n",
    "    df = pd.get_dummies(df)\n",
    "    _, df = X.head(0).align(df, join = 'left', axis = 1)\n",
    "    for col in df.columns:\n",
    "        df.loc[:, col] = df[col].astype(X[col].dtypes.name)\n",
    "    return df"
   ]
  },
  {
   "cell_type": "code",
   "execution_count": 27,
   "metadata": {},
   "outputs": [],
   "source": [
    "augmented_data = engineer_features(cleaned_data)"
   ]
  },
  {
   "cell_type": "code",
   "execution_count": 28,
   "metadata": {},
   "outputs": [
    {
     "data": {
      "text/plain": [
       "(14068, 24)"
      ]
     },
     "execution_count": 28,
     "metadata": {},
     "output_type": "execute_result"
    }
   ],
   "source": [
    "augmented_data.shape"
   ]
  },
  {
   "cell_type": "code",
   "execution_count": 29,
   "metadata": {},
   "outputs": [
    {
     "name": "stdout",
     "output_type": "stream",
     "text": [
      "<class 'pandas.core.frame.DataFrame'>\n",
      "Int64Index: 14068 entries, 0 to 14248\n",
      "Data columns (total 24 columns):\n",
      " #   Column                   Non-Null Count  Dtype  \n",
      "---  ------                   --------------  -----  \n",
      " 0   avg_monthly_hrs          14068 non-null  int64  \n",
      " 1   filed_complaint          14068 non-null  float64\n",
      " 2   last_evaluation          14068 non-null  float64\n",
      " 3   n_projects               14068 non-null  int64  \n",
      " 4   recently_promoted        14068 non-null  float64\n",
      " 5   salary                   14068 non-null  int64  \n",
      " 6   satisfaction             14068 non-null  float64\n",
      " 7   tenure                   14068 non-null  float64\n",
      " 8   last_evaluation_missing  14068 non-null  int64  \n",
      " 9   underperformer           14068 non-null  int64  \n",
      " 10  overqualified            14068 non-null  int64  \n",
      " 11  overachiever             14068 non-null  int64  \n",
      " 12  burnout                  14068 non-null  int64  \n",
      " 13  department_IT            14068 non-null  int64  \n",
      " 14  department_Missing       14068 non-null  int64  \n",
      " 15  department_admin         14068 non-null  int64  \n",
      " 16  department_engineering   14068 non-null  int64  \n",
      " 17  department_finance       14068 non-null  int64  \n",
      " 18  department_management    14068 non-null  int64  \n",
      " 19  department_marketing     14068 non-null  int64  \n",
      " 20  department_procurement   14068 non-null  int64  \n",
      " 21  department_product       14068 non-null  int64  \n",
      " 22  department_sales         14068 non-null  int64  \n",
      " 23  department_support       14068 non-null  int64  \n",
      "dtypes: float64(5), int64(19)\n",
      "memory usage: 2.7 MB\n"
     ]
    }
   ],
   "source": [
    "augmented_data.info()"
   ]
  },
  {
   "cell_type": "code",
   "execution_count": 30,
   "metadata": {},
   "outputs": [],
   "source": [
    "# compare with save ABT\n",
    "abt = pd.read_csv('../data/analytical_base_table.csv',float_precision='round_trip')"
   ]
  },
  {
   "cell_type": "code",
   "execution_count": 31,
   "metadata": {},
   "outputs": [
    {
     "data": {
      "text/plain": [
       "True"
      ]
     },
     "execution_count": 31,
     "metadata": {},
     "output_type": "execute_result"
    }
   ],
   "source": [
    "(augmented_data.reset_index(drop=True) == abt.drop('status', axis=1).reset_index(drop=True)).all().all()"
   ]
  },
  {
   "cell_type": "markdown",
   "metadata": {},
   "source": [
    "[back to top](#toc)\n",
    "<a id='construct'></a>\n",
    "### 2. Construct Model Class"
   ]
  },
  {
   "cell_type": "code",
   "execution_count": 33,
   "metadata": {},
   "outputs": [],
   "source": [
    "# Load saved model\n",
    "with open('../models/final_model.pkl', 'rb') as f:\n",
    "    final_model = pickle.load(f)"
   ]
  },
  {
   "cell_type": "code",
   "execution_count": 34,
   "metadata": {},
   "outputs": [],
   "source": [
    "with open('../models/final_model_auc.pkl', 'rb') as f:\n",
    "    final_model_auc = pickle.load(f)"
   ]
  },
  {
   "cell_type": "code",
   "execution_count": 35,
   "metadata": {},
   "outputs": [
    {
     "data": {
      "text/plain": [
       "1.0"
      ]
     },
     "execution_count": 35,
     "metadata": {},
     "output_type": "execute_result"
    }
   ],
   "source": [
    "roc_auc_score(y, final_model.predict_proba(X)[:, 1])"
   ]
  },
  {
   "cell_type": "code",
   "execution_count": 36,
   "metadata": {},
   "outputs": [
    {
     "data": {
      "text/plain": [
       "1.0"
      ]
     },
     "execution_count": 36,
     "metadata": {},
     "output_type": "execute_result"
    }
   ],
   "source": [
    "final_model_auc"
   ]
  },
  {
   "cell_type": "code",
   "execution_count": 52,
   "metadata": {},
   "outputs": [],
   "source": [
    "model_dict = {'final_model': final_model,\n",
    "             'trained_df': X.head(0)}"
   ]
  },
  {
   "cell_type": "code",
   "execution_count": 53,
   "metadata": {},
   "outputs": [],
   "source": [
    "with open('../delieverables/model_dict.pkl', 'wb') as f:\n",
    "    pickle.dump(model_dict, f)"
   ]
  },
  {
   "cell_type": "code",
   "execution_count": 64,
   "metadata": {},
   "outputs": [],
   "source": [
    "class EmployeeRetentionModel:\n",
    "    \n",
    "    def __init__(self, model_dict_location):\n",
    "        with open(model_dict_location, 'rb') as f:\n",
    "            model_dict = pickle.load(f)\n",
    "            self.model = model_dict['final_model']\n",
    "            self.trained_df = model_dict['trained_df']\n",
    "            \n",
    "    def predict_proba(self, X, clean=True, augment=True):\n",
    "        if clean == True:\n",
    "            X = self.clean_data(X)\n",
    "        if augment == True:\n",
    "            X = self.engineer_features(X)            \n",
    "        return X, self.model.predict_proba(X)\n",
    "    \n",
    "    def clean_data(self, df):    \n",
    "        df = df[df.department != 'temp'].copy()\n",
    "        df.loc[:, 'department'] = df.department.replace('information_technology', 'IT')\n",
    "        df.loc[:, 'salary'] = df.salary.replace({'low':0, 'medium':1, 'high':2})\n",
    "        df.loc[:, 'filed_complaint'] = df.filed_complaint.fillna(0)\n",
    "        df.loc[:, 'recently_promoted'] = df.recently_promoted.fillna(0)\n",
    "        df.loc[:, 'department'] = df.department.fillna('Missing')\n",
    "        df.loc[:, 'last_evaluation_missing'] = df.last_evaluation.isnull().astype(int)\n",
    "        df.loc[:, 'last_evaluation'] = df.last_evaluation.fillna(0.72)    \n",
    "        return df\n",
    "\n",
    "    def engineer_features(self, df):\n",
    "        trained_df = self.trained_df\n",
    "        df = df.copy()\n",
    "        df.loc[:,'underperformer'] = (df.last_evaluation < 0.65).astype(int)\n",
    "        df.loc[:,'overqualified'] = ((df.satisfaction < 0.2) & (df.last_evaluation >0.7)).astype(int)\n",
    "        df.loc[:,'overachiever'] = ((df.last_evaluation > 0.8) & (df.satisfaction > 0.7)).astype(int)    \n",
    "        df.loc[:,'burnout'] = ((df.avg_monthly_hrs>240) & (df.satisfaction < 0.2)).astype(int)\n",
    "        df = pd.get_dummies(df, columns = ['department'])\n",
    "        _, df = trained_df.align(df, join = 'left', axis = 1)\n",
    "        for col in df.columns:\n",
    "            df.loc[:, col] = df[col].astype(trained_df[col].dtypes.name)\n",
    "        return df    "
   ]
  },
  {
   "cell_type": "markdown",
   "metadata": {},
   "source": [
    "[back to top](#toc)\n",
    "<a id='deploy'></a>\n",
    "### 3. Model Deployement \n",
    "<a id = 'jupyter'></a>\n",
    "#### 3.A. in Jupyter Notebook"
   ]
  },
  {
   "cell_type": "code",
   "execution_count": 65,
   "metadata": {},
   "outputs": [],
   "source": [
    "model = EmployeeRetentionModel('model_dict.pkl')"
   ]
  },
  {
   "cell_type": "code",
   "execution_count": 66,
   "metadata": {},
   "outputs": [],
   "source": [
    "_, pred = model.predict_proba(X, clean = False, augment = False)"
   ]
  },
  {
   "cell_type": "code",
   "execution_count": 67,
   "metadata": {},
   "outputs": [],
   "source": [
    "_, pred1 = model.predict_proba(df, clean=True, augment=True)"
   ]
  },
  {
   "cell_type": "code",
   "execution_count": 68,
   "metadata": {},
   "outputs": [],
   "source": [
    "_, pred2 = model.predict_proba(cleaned_data, clean=False, augment = True)"
   ]
  },
  {
   "cell_type": "code",
   "execution_count": 69,
   "metadata": {},
   "outputs": [],
   "source": [
    "_, pred3 = model.predict_proba(augmented_data, clean=False, augment=False)"
   ]
  },
  {
   "cell_type": "code",
   "execution_count": 70,
   "metadata": {},
   "outputs": [
    {
     "data": {
      "text/plain": [
       "True"
      ]
     },
     "execution_count": 70,
     "metadata": {},
     "output_type": "execute_result"
    }
   ],
   "source": [
    "np.array_equal(pred, pred1)"
   ]
  },
  {
   "cell_type": "code",
   "execution_count": 71,
   "metadata": {},
   "outputs": [
    {
     "data": {
      "text/plain": [
       "True"
      ]
     },
     "execution_count": 71,
     "metadata": {},
     "output_type": "execute_result"
    }
   ],
   "source": [
    "np.array_equal(pred2, pred3)"
   ]
  },
  {
   "cell_type": "code",
   "execution_count": 72,
   "metadata": {},
   "outputs": [
    {
     "data": {
      "text/plain": [
       "True"
      ]
     },
     "execution_count": 72,
     "metadata": {},
     "output_type": "execute_result"
    }
   ],
   "source": [
    "np.array_equal(pred1, pred2)"
   ]
  },
  {
   "cell_type": "markdown",
   "metadata": {},
   "source": [
    "[back to top](#toc)\n",
    "<a id='unseen'></a>\n",
    "#### 3.B. Try on unseen data"
   ]
  },
  {
   "cell_type": "code",
   "execution_count": 73,
   "metadata": {},
   "outputs": [],
   "source": [
    "new_df = pd.read_csv('../scr/unseen_employee_data.csv')"
   ]
  },
  {
   "cell_type": "code",
   "execution_count": 74,
   "metadata": {},
   "outputs": [
    {
     "data": {
      "text/plain": [
       "(750, 9)"
      ]
     },
     "execution_count": 74,
     "metadata": {},
     "output_type": "execute_result"
    }
   ],
   "source": [
    "new_df.shape"
   ]
  },
  {
   "cell_type": "code",
   "execution_count": 75,
   "metadata": {},
   "outputs": [
    {
     "data": {
      "text/html": [
       "<div>\n",
       "<style scoped>\n",
       "    .dataframe tbody tr th:only-of-type {\n",
       "        vertical-align: middle;\n",
       "    }\n",
       "\n",
       "    .dataframe tbody tr th {\n",
       "        vertical-align: top;\n",
       "    }\n",
       "\n",
       "    .dataframe thead th {\n",
       "        text-align: right;\n",
       "    }\n",
       "</style>\n",
       "<table border=\"1\" class=\"dataframe\">\n",
       "  <thead>\n",
       "    <tr style=\"text-align: right;\">\n",
       "      <th></th>\n",
       "      <th>avg_monthly_hrs</th>\n",
       "      <th>department</th>\n",
       "      <th>filed_complaint</th>\n",
       "      <th>last_evaluation</th>\n",
       "      <th>n_projects</th>\n",
       "      <th>recently_promoted</th>\n",
       "      <th>salary</th>\n",
       "      <th>satisfaction</th>\n",
       "      <th>tenure</th>\n",
       "    </tr>\n",
       "  </thead>\n",
       "  <tbody>\n",
       "    <tr>\n",
       "      <th>0</th>\n",
       "      <td>228</td>\n",
       "      <td>management</td>\n",
       "      <td>NaN</td>\n",
       "      <td>0.735618</td>\n",
       "      <td>2</td>\n",
       "      <td>NaN</td>\n",
       "      <td>high</td>\n",
       "      <td>0.805661</td>\n",
       "      <td>3.0</td>\n",
       "    </tr>\n",
       "    <tr>\n",
       "      <th>1</th>\n",
       "      <td>229</td>\n",
       "      <td>product</td>\n",
       "      <td>NaN</td>\n",
       "      <td>1.000000</td>\n",
       "      <td>4</td>\n",
       "      <td>NaN</td>\n",
       "      <td>low</td>\n",
       "      <td>0.719961</td>\n",
       "      <td>4.0</td>\n",
       "    </tr>\n",
       "    <tr>\n",
       "      <th>2</th>\n",
       "      <td>196</td>\n",
       "      <td>sales</td>\n",
       "      <td>1.0</td>\n",
       "      <td>0.557426</td>\n",
       "      <td>4</td>\n",
       "      <td>NaN</td>\n",
       "      <td>low</td>\n",
       "      <td>0.749835</td>\n",
       "      <td>2.0</td>\n",
       "    </tr>\n",
       "    <tr>\n",
       "      <th>3</th>\n",
       "      <td>207</td>\n",
       "      <td>IT</td>\n",
       "      <td>NaN</td>\n",
       "      <td>0.715171</td>\n",
       "      <td>3</td>\n",
       "      <td>NaN</td>\n",
       "      <td>high</td>\n",
       "      <td>0.987447</td>\n",
       "      <td>3.0</td>\n",
       "    </tr>\n",
       "    <tr>\n",
       "      <th>4</th>\n",
       "      <td>129</td>\n",
       "      <td>management</td>\n",
       "      <td>NaN</td>\n",
       "      <td>0.484818</td>\n",
       "      <td>2</td>\n",
       "      <td>NaN</td>\n",
       "      <td>low</td>\n",
       "      <td>0.441219</td>\n",
       "      <td>3.0</td>\n",
       "    </tr>\n",
       "  </tbody>\n",
       "</table>\n",
       "</div>"
      ],
      "text/plain": [
       "   avg_monthly_hrs  department  filed_complaint  last_evaluation  n_projects  \\\n",
       "0              228  management              NaN         0.735618           2   \n",
       "1              229     product              NaN         1.000000           4   \n",
       "2              196       sales              1.0         0.557426           4   \n",
       "3              207          IT              NaN         0.715171           3   \n",
       "4              129  management              NaN         0.484818           2   \n",
       "\n",
       "   recently_promoted salary  satisfaction  tenure  \n",
       "0                NaN   high      0.805661     3.0  \n",
       "1                NaN    low      0.719961     4.0  \n",
       "2                NaN    low      0.749835     2.0  \n",
       "3                NaN   high      0.987447     3.0  \n",
       "4                NaN    low      0.441219     3.0  "
      ]
     },
     "execution_count": 75,
     "metadata": {},
     "output_type": "execute_result"
    }
   ],
   "source": [
    "new_df.head()"
   ]
  },
  {
   "cell_type": "code",
   "execution_count": 76,
   "metadata": {},
   "outputs": [],
   "source": [
    "retention_model = EmployeeRetentionModel('../delieverables/model_dict.pkl')"
   ]
  },
  {
   "cell_type": "code",
   "execution_count": 77,
   "metadata": {},
   "outputs": [],
   "source": [
    "new_cleaned_df = clean_data(new_df)"
   ]
  },
  {
   "cell_type": "code",
   "execution_count": 78,
   "metadata": {},
   "outputs": [
    {
     "data": {
      "text/html": [
       "<div>\n",
       "<style scoped>\n",
       "    .dataframe tbody tr th:only-of-type {\n",
       "        vertical-align: middle;\n",
       "    }\n",
       "\n",
       "    .dataframe tbody tr th {\n",
       "        vertical-align: top;\n",
       "    }\n",
       "\n",
       "    .dataframe thead th {\n",
       "        text-align: right;\n",
       "    }\n",
       "</style>\n",
       "<table border=\"1\" class=\"dataframe\">\n",
       "  <thead>\n",
       "    <tr style=\"text-align: right;\">\n",
       "      <th></th>\n",
       "      <th>avg_monthly_hrs</th>\n",
       "      <th>department</th>\n",
       "      <th>filed_complaint</th>\n",
       "      <th>last_evaluation</th>\n",
       "      <th>n_projects</th>\n",
       "      <th>recently_promoted</th>\n",
       "      <th>salary</th>\n",
       "      <th>satisfaction</th>\n",
       "      <th>tenure</th>\n",
       "      <th>last_evaluation_missing</th>\n",
       "    </tr>\n",
       "  </thead>\n",
       "  <tbody>\n",
       "    <tr>\n",
       "      <th>0</th>\n",
       "      <td>228</td>\n",
       "      <td>management</td>\n",
       "      <td>0.0</td>\n",
       "      <td>0.735618</td>\n",
       "      <td>2</td>\n",
       "      <td>0.0</td>\n",
       "      <td>2</td>\n",
       "      <td>0.805661</td>\n",
       "      <td>3.0</td>\n",
       "      <td>0</td>\n",
       "    </tr>\n",
       "    <tr>\n",
       "      <th>1</th>\n",
       "      <td>229</td>\n",
       "      <td>product</td>\n",
       "      <td>0.0</td>\n",
       "      <td>1.000000</td>\n",
       "      <td>4</td>\n",
       "      <td>0.0</td>\n",
       "      <td>0</td>\n",
       "      <td>0.719961</td>\n",
       "      <td>4.0</td>\n",
       "      <td>0</td>\n",
       "    </tr>\n",
       "    <tr>\n",
       "      <th>2</th>\n",
       "      <td>196</td>\n",
       "      <td>sales</td>\n",
       "      <td>1.0</td>\n",
       "      <td>0.557426</td>\n",
       "      <td>4</td>\n",
       "      <td>0.0</td>\n",
       "      <td>0</td>\n",
       "      <td>0.749835</td>\n",
       "      <td>2.0</td>\n",
       "      <td>0</td>\n",
       "    </tr>\n",
       "    <tr>\n",
       "      <th>3</th>\n",
       "      <td>207</td>\n",
       "      <td>IT</td>\n",
       "      <td>0.0</td>\n",
       "      <td>0.715171</td>\n",
       "      <td>3</td>\n",
       "      <td>0.0</td>\n",
       "      <td>2</td>\n",
       "      <td>0.987447</td>\n",
       "      <td>3.0</td>\n",
       "      <td>0</td>\n",
       "    </tr>\n",
       "    <tr>\n",
       "      <th>4</th>\n",
       "      <td>129</td>\n",
       "      <td>management</td>\n",
       "      <td>0.0</td>\n",
       "      <td>0.484818</td>\n",
       "      <td>2</td>\n",
       "      <td>0.0</td>\n",
       "      <td>0</td>\n",
       "      <td>0.441219</td>\n",
       "      <td>3.0</td>\n",
       "      <td>0</td>\n",
       "    </tr>\n",
       "  </tbody>\n",
       "</table>\n",
       "</div>"
      ],
      "text/plain": [
       "   avg_monthly_hrs  department  filed_complaint  last_evaluation  n_projects  \\\n",
       "0              228  management              0.0         0.735618           2   \n",
       "1              229     product              0.0         1.000000           4   \n",
       "2              196       sales              1.0         0.557426           4   \n",
       "3              207          IT              0.0         0.715171           3   \n",
       "4              129  management              0.0         0.484818           2   \n",
       "\n",
       "   recently_promoted  salary  satisfaction  tenure  last_evaluation_missing  \n",
       "0                0.0       2      0.805661     3.0                        0  \n",
       "1                0.0       0      0.719961     4.0                        0  \n",
       "2                0.0       0      0.749835     2.0                        0  \n",
       "3                0.0       2      0.987447     3.0                        0  \n",
       "4                0.0       0      0.441219     3.0                        0  "
      ]
     },
     "execution_count": 78,
     "metadata": {},
     "output_type": "execute_result"
    }
   ],
   "source": [
    "new_cleaned_df.head()"
   ]
  },
  {
   "cell_type": "code",
   "execution_count": 79,
   "metadata": {},
   "outputs": [
    {
     "name": "stdout",
     "output_type": "stream",
     "text": [
      "<class 'pandas.core.frame.DataFrame'>\n",
      "Int64Index: 740 entries, 0 to 749\n",
      "Data columns (total 10 columns):\n",
      " #   Column                   Non-Null Count  Dtype  \n",
      "---  ------                   --------------  -----  \n",
      " 0   avg_monthly_hrs          740 non-null    int64  \n",
      " 1   department               740 non-null    object \n",
      " 2   filed_complaint          740 non-null    float64\n",
      " 3   last_evaluation          740 non-null    float64\n",
      " 4   n_projects               740 non-null    int64  \n",
      " 5   recently_promoted        740 non-null    float64\n",
      " 6   salary                   740 non-null    int64  \n",
      " 7   satisfaction             740 non-null    float64\n",
      " 8   tenure                   740 non-null    float64\n",
      " 9   last_evaluation_missing  740 non-null    int64  \n",
      "dtypes: float64(5), int64(4), object(1)\n",
      "memory usage: 63.6+ KB\n"
     ]
    }
   ],
   "source": [
    "new_cleaned_df.info()"
   ]
  },
  {
   "cell_type": "code",
   "execution_count": 80,
   "metadata": {},
   "outputs": [],
   "source": [
    "new_cleaned_df.to_csv('../data/unseen_cleaned.csv', index = None)"
   ]
  },
  {
   "cell_type": "code",
   "execution_count": 81,
   "metadata": {},
   "outputs": [],
   "source": [
    "new_augmented_df = engineer_features(new_cleaned_df)"
   ]
  },
  {
   "cell_type": "code",
   "execution_count": 82,
   "metadata": {},
   "outputs": [
    {
     "data": {
      "text/html": [
       "<div>\n",
       "<style scoped>\n",
       "    .dataframe tbody tr th:only-of-type {\n",
       "        vertical-align: middle;\n",
       "    }\n",
       "\n",
       "    .dataframe tbody tr th {\n",
       "        vertical-align: top;\n",
       "    }\n",
       "\n",
       "    .dataframe thead th {\n",
       "        text-align: right;\n",
       "    }\n",
       "</style>\n",
       "<table border=\"1\" class=\"dataframe\">\n",
       "  <thead>\n",
       "    <tr style=\"text-align: right;\">\n",
       "      <th></th>\n",
       "      <th>avg_monthly_hrs</th>\n",
       "      <th>filed_complaint</th>\n",
       "      <th>last_evaluation</th>\n",
       "      <th>n_projects</th>\n",
       "      <th>recently_promoted</th>\n",
       "      <th>salary</th>\n",
       "      <th>satisfaction</th>\n",
       "      <th>tenure</th>\n",
       "      <th>last_evaluation_missing</th>\n",
       "      <th>underperformer</th>\n",
       "      <th>...</th>\n",
       "      <th>department_Missing</th>\n",
       "      <th>department_admin</th>\n",
       "      <th>department_engineering</th>\n",
       "      <th>department_finance</th>\n",
       "      <th>department_management</th>\n",
       "      <th>department_marketing</th>\n",
       "      <th>department_procurement</th>\n",
       "      <th>department_product</th>\n",
       "      <th>department_sales</th>\n",
       "      <th>department_support</th>\n",
       "    </tr>\n",
       "  </thead>\n",
       "  <tbody>\n",
       "    <tr>\n",
       "      <th>0</th>\n",
       "      <td>228</td>\n",
       "      <td>0.0</td>\n",
       "      <td>0.735618</td>\n",
       "      <td>2</td>\n",
       "      <td>0.0</td>\n",
       "      <td>2</td>\n",
       "      <td>0.805661</td>\n",
       "      <td>3.0</td>\n",
       "      <td>0</td>\n",
       "      <td>0</td>\n",
       "      <td>...</td>\n",
       "      <td>0</td>\n",
       "      <td>0</td>\n",
       "      <td>0</td>\n",
       "      <td>0</td>\n",
       "      <td>1</td>\n",
       "      <td>0</td>\n",
       "      <td>0</td>\n",
       "      <td>0</td>\n",
       "      <td>0</td>\n",
       "      <td>0</td>\n",
       "    </tr>\n",
       "    <tr>\n",
       "      <th>1</th>\n",
       "      <td>229</td>\n",
       "      <td>0.0</td>\n",
       "      <td>1.000000</td>\n",
       "      <td>4</td>\n",
       "      <td>0.0</td>\n",
       "      <td>0</td>\n",
       "      <td>0.719961</td>\n",
       "      <td>4.0</td>\n",
       "      <td>0</td>\n",
       "      <td>0</td>\n",
       "      <td>...</td>\n",
       "      <td>0</td>\n",
       "      <td>0</td>\n",
       "      <td>0</td>\n",
       "      <td>0</td>\n",
       "      <td>0</td>\n",
       "      <td>0</td>\n",
       "      <td>0</td>\n",
       "      <td>1</td>\n",
       "      <td>0</td>\n",
       "      <td>0</td>\n",
       "    </tr>\n",
       "    <tr>\n",
       "      <th>2</th>\n",
       "      <td>196</td>\n",
       "      <td>1.0</td>\n",
       "      <td>0.557426</td>\n",
       "      <td>4</td>\n",
       "      <td>0.0</td>\n",
       "      <td>0</td>\n",
       "      <td>0.749835</td>\n",
       "      <td>2.0</td>\n",
       "      <td>0</td>\n",
       "      <td>1</td>\n",
       "      <td>...</td>\n",
       "      <td>0</td>\n",
       "      <td>0</td>\n",
       "      <td>0</td>\n",
       "      <td>0</td>\n",
       "      <td>0</td>\n",
       "      <td>0</td>\n",
       "      <td>0</td>\n",
       "      <td>0</td>\n",
       "      <td>1</td>\n",
       "      <td>0</td>\n",
       "    </tr>\n",
       "    <tr>\n",
       "      <th>3</th>\n",
       "      <td>207</td>\n",
       "      <td>0.0</td>\n",
       "      <td>0.715171</td>\n",
       "      <td>3</td>\n",
       "      <td>0.0</td>\n",
       "      <td>2</td>\n",
       "      <td>0.987447</td>\n",
       "      <td>3.0</td>\n",
       "      <td>0</td>\n",
       "      <td>0</td>\n",
       "      <td>...</td>\n",
       "      <td>0</td>\n",
       "      <td>0</td>\n",
       "      <td>0</td>\n",
       "      <td>0</td>\n",
       "      <td>0</td>\n",
       "      <td>0</td>\n",
       "      <td>0</td>\n",
       "      <td>0</td>\n",
       "      <td>0</td>\n",
       "      <td>0</td>\n",
       "    </tr>\n",
       "    <tr>\n",
       "      <th>4</th>\n",
       "      <td>129</td>\n",
       "      <td>0.0</td>\n",
       "      <td>0.484818</td>\n",
       "      <td>2</td>\n",
       "      <td>0.0</td>\n",
       "      <td>0</td>\n",
       "      <td>0.441219</td>\n",
       "      <td>3.0</td>\n",
       "      <td>0</td>\n",
       "      <td>1</td>\n",
       "      <td>...</td>\n",
       "      <td>0</td>\n",
       "      <td>0</td>\n",
       "      <td>0</td>\n",
       "      <td>0</td>\n",
       "      <td>1</td>\n",
       "      <td>0</td>\n",
       "      <td>0</td>\n",
       "      <td>0</td>\n",
       "      <td>0</td>\n",
       "      <td>0</td>\n",
       "    </tr>\n",
       "  </tbody>\n",
       "</table>\n",
       "<p>5 rows × 24 columns</p>\n",
       "</div>"
      ],
      "text/plain": [
       "   avg_monthly_hrs  filed_complaint  last_evaluation  n_projects  \\\n",
       "0              228              0.0         0.735618           2   \n",
       "1              229              0.0         1.000000           4   \n",
       "2              196              1.0         0.557426           4   \n",
       "3              207              0.0         0.715171           3   \n",
       "4              129              0.0         0.484818           2   \n",
       "\n",
       "   recently_promoted  salary  satisfaction  tenure  last_evaluation_missing  \\\n",
       "0                0.0       2      0.805661     3.0                        0   \n",
       "1                0.0       0      0.719961     4.0                        0   \n",
       "2                0.0       0      0.749835     2.0                        0   \n",
       "3                0.0       2      0.987447     3.0                        0   \n",
       "4                0.0       0      0.441219     3.0                        0   \n",
       "\n",
       "   underperformer  ...  department_Missing  department_admin  \\\n",
       "0               0  ...                   0                 0   \n",
       "1               0  ...                   0                 0   \n",
       "2               1  ...                   0                 0   \n",
       "3               0  ...                   0                 0   \n",
       "4               1  ...                   0                 0   \n",
       "\n",
       "   department_engineering  department_finance  department_management  \\\n",
       "0                       0                   0                      1   \n",
       "1                       0                   0                      0   \n",
       "2                       0                   0                      0   \n",
       "3                       0                   0                      0   \n",
       "4                       0                   0                      1   \n",
       "\n",
       "   department_marketing  department_procurement  department_product  \\\n",
       "0                     0                       0                   0   \n",
       "1                     0                       0                   1   \n",
       "2                     0                       0                   0   \n",
       "3                     0                       0                   0   \n",
       "4                     0                       0                   0   \n",
       "\n",
       "   department_sales  department_support  \n",
       "0                 0                   0  \n",
       "1                 0                   0  \n",
       "2                 1                   0  \n",
       "3                 0                   0  \n",
       "4                 0                   0  \n",
       "\n",
       "[5 rows x 24 columns]"
      ]
     },
     "execution_count": 82,
     "metadata": {},
     "output_type": "execute_result"
    }
   ],
   "source": [
    "new_augmented_df.head()"
   ]
  },
  {
   "cell_type": "code",
   "execution_count": 83,
   "metadata": {},
   "outputs": [
    {
     "data": {
      "text/plain": [
       "(740, 24)"
      ]
     },
     "execution_count": 83,
     "metadata": {},
     "output_type": "execute_result"
    }
   ],
   "source": [
    "new_augmented_df.shape"
   ]
  },
  {
   "cell_type": "code",
   "execution_count": 84,
   "metadata": {},
   "outputs": [],
   "source": [
    "new_augmented_df.to_csv('../data/unseen_abt.csv', index = None)"
   ]
  },
  {
   "cell_type": "code",
   "execution_count": 85,
   "metadata": {},
   "outputs": [],
   "source": [
    "_, pred1 = model.predict_proba(new_augmented_df, clean=False, augment=False)"
   ]
  },
  {
   "cell_type": "code",
   "execution_count": 86,
   "metadata": {},
   "outputs": [],
   "source": [
    "_, pred2 = model.predict_proba(new_cleaned_df, clean = False, augment = True)"
   ]
  },
  {
   "cell_type": "code",
   "execution_count": 87,
   "metadata": {},
   "outputs": [],
   "source": [
    "_, pred3 = model.predict_proba(new_df, clean=True, augment=True)"
   ]
  },
  {
   "cell_type": "code",
   "execution_count": 88,
   "metadata": {},
   "outputs": [
    {
     "data": {
      "text/plain": [
       "True"
      ]
     },
     "execution_count": 88,
     "metadata": {},
     "output_type": "execute_result"
    }
   ],
   "source": [
    "np.array_equal(pred1, pred2)"
   ]
  },
  {
   "cell_type": "code",
   "execution_count": 89,
   "metadata": {},
   "outputs": [
    {
     "data": {
      "text/plain": [
       "array([[1.   , 0.   ],\n",
       "       [0.895, 0.105],\n",
       "       [0.995, 0.005],\n",
       "       [1.   , 0.   ],\n",
       "       [0.   , 1.   ]])"
      ]
     },
     "execution_count": 89,
     "metadata": {},
     "output_type": "execute_result"
    }
   ],
   "source": [
    "pred1[:5]"
   ]
  },
  {
   "cell_type": "code",
   "execution_count": 90,
   "metadata": {},
   "outputs": [
    {
     "data": {
      "text/plain": [
       "array([[1.   , 0.   ],\n",
       "       [0.895, 0.105],\n",
       "       [0.995, 0.005],\n",
       "       [1.   , 0.   ],\n",
       "       [0.   , 1.   ]])"
      ]
     },
     "execution_count": 90,
     "metadata": {},
     "output_type": "execute_result"
    }
   ],
   "source": [
    "pred2[:5]"
   ]
  },
  {
   "cell_type": "markdown",
   "metadata": {},
   "source": [
    "[back to top](#toc)\n",
    "<a id='pre'></a>\n",
    "#### 3.C. Python script"
   ]
  },
  {
   "cell_type": "markdown",
   "metadata": {},
   "source": [
    "<div class = 'alert alert-info'>\n",
    "\n",
    "1. create `retention_model.py`\n",
    "2. locate data, e.g., `unseen_data.csv`, `final_model.pkl`\n",
    "3. in terminal, change to the directory where `rentention_model` is saved and type: `python rentention_model data_location output_location model_location True True`, the last two arguments are input values for `clean=, augment=` parameters for the `predict_proba` mothod.\n",
    "4. predictions will be saved in the directory specified in the above command.\n",
    "\n",
    "For example, if data, model files are all saved under one directory, we can run the model as follows:\n",
    "\n",
    "`python retention_model.py unseen_data.csv prediction.csv model_dict.pkl True True`\n",
    "\n",
    "    \n",
    "\n",
    "</div>\n",
    "\n"
   ]
  },
  {
   "cell_type": "markdown",
   "metadata": {},
   "source": [
    "```python\n",
    "#retention_model.py\n",
    "import numpy as np\n",
    "import pandas as pd\n",
    "\n",
    "import pickle as pickle\n",
    "import sklearn\n",
    "import sys\n",
    "\n",
    "class EmployeeRetentionModel:\n",
    "    \n",
    "    def __init__(self, model_dict_location):\n",
    "        with open(model_dict_location, 'rb') as f:\n",
    "            model_dict = pickle.load(f)\n",
    "            self.model = model_dict['final_model']\n",
    "            self.trained_df = model_dict['trained_df']\n",
    "            \n",
    "    def predict_proba(self, X, clean=True, augment=True):\n",
    "        if clean == True:\n",
    "            X = self.clean_data(X)\n",
    "        if augment == True:\n",
    "            X = self.engineer_features(X)            \n",
    "        return X, self.model.predict_proba(X)\n",
    "    \n",
    "    def clean_data(self, df):    \n",
    "        df = df[df.department != 'temp'].copy()\n",
    "        df.loc[:, 'department'] = df.department.replace('information_technology', 'IT')\n",
    "        df.loc[:, 'salary'] = df.salary.replace({'low':0, 'medium':1, 'high':2})\n",
    "        df.loc[:, 'filed_complaint'] = df.filed_complaint.fillna(0)\n",
    "        df.loc[:, 'recently_promoted'] = df.recently_promoted.fillna(0)\n",
    "        df.loc[:, 'department'] = df.department.fillna('Missing')\n",
    "        df.loc[:, 'last_evaluation_missing'] = df.last_evaluation.isnull().astype(int)\n",
    "        df.loc[:, 'last_evaluation'] = df.last_evaluation.fillna(0.72)    \n",
    "        return df\n",
    "\n",
    "    def engineer_features(self, df):\n",
    "        trained_df = self.trained_df\n",
    "        df = df.copy()\n",
    "        df.loc[:,'underperformer'] = (df.last_evaluation < 0.65).astype(int)\n",
    "        df.loc[:,'overqualified'] = ((df.satisfaction < 0.2) & (df.last_evaluation >0.7)).astype(int)\n",
    "        df.loc[:,'overachiever'] = ((df.last_evaluation > 0.8) & (df.satisfaction > 0.7)).astype(int)    \n",
    "        df.loc[:,'burnout'] = ((df.avg_monthly_hrs>240) & (df.satisfaction < 0.2)).astype(int)\n",
    "        df = pd.get_dummies(df, columns = ['department'])\n",
    "        _, df = trained_df.align(df, join = 'left', axis = 1)\n",
    "        for col in df.columns:\n",
    "            df.loc[:, col] = df[col].astype(trained_df[col].dtypes.name)\n",
    "        return df \n",
    "    \n",
    "def main(data_location, output_location, model_dict_location, clean=True, augment=True):\n",
    "    \n",
    "    df = pd.read_csv(data_location)\n",
    "    retention_model = EmployeeRetentionModel(model_dict_location)\n",
    "    \n",
    "    df, pred = retention_model.predict_proba(df, clean = clean, augment = augment)\n",
    "    df['prediction'] = pred[:,1]\n",
    "    \n",
    "    df.to_csv(output_location, index=None)\n",
    "\n",
    "    \n",
    "if __name__ == '__main__':\n",
    "    main(*sys.argv[1:])\n",
    "```    "
   ]
  },
  {
   "cell_type": "code",
   "execution_count": 91,
   "metadata": {},
   "outputs": [],
   "source": [
    "# after running previous command in terminal, prediction is saved in the prediction.csv file\n",
    "pred4 = pd.read_csv('../data/prediction.csv')"
   ]
  },
  {
   "cell_type": "code",
   "execution_count": 92,
   "metadata": {},
   "outputs": [
    {
     "data": {
      "text/html": [
       "<div>\n",
       "<style scoped>\n",
       "    .dataframe tbody tr th:only-of-type {\n",
       "        vertical-align: middle;\n",
       "    }\n",
       "\n",
       "    .dataframe tbody tr th {\n",
       "        vertical-align: top;\n",
       "    }\n",
       "\n",
       "    .dataframe thead th {\n",
       "        text-align: right;\n",
       "    }\n",
       "</style>\n",
       "<table border=\"1\" class=\"dataframe\">\n",
       "  <thead>\n",
       "    <tr style=\"text-align: right;\">\n",
       "      <th></th>\n",
       "      <th>avg_monthly_hrs</th>\n",
       "      <th>filed_complaint</th>\n",
       "      <th>last_evaluation</th>\n",
       "      <th>n_projects</th>\n",
       "      <th>recently_promoted</th>\n",
       "      <th>salary</th>\n",
       "      <th>satisfaction</th>\n",
       "      <th>tenure</th>\n",
       "      <th>last_evaluation_missing</th>\n",
       "      <th>underperformer</th>\n",
       "      <th>...</th>\n",
       "      <th>department_admin</th>\n",
       "      <th>department_engineering</th>\n",
       "      <th>department_finance</th>\n",
       "      <th>department_management</th>\n",
       "      <th>department_marketing</th>\n",
       "      <th>department_procurement</th>\n",
       "      <th>department_product</th>\n",
       "      <th>department_sales</th>\n",
       "      <th>department_support</th>\n",
       "      <th>prediction</th>\n",
       "    </tr>\n",
       "  </thead>\n",
       "  <tbody>\n",
       "    <tr>\n",
       "      <th>0</th>\n",
       "      <td>228</td>\n",
       "      <td>0.0</td>\n",
       "      <td>0.735618</td>\n",
       "      <td>2</td>\n",
       "      <td>0.0</td>\n",
       "      <td>2</td>\n",
       "      <td>0.805661</td>\n",
       "      <td>3.0</td>\n",
       "      <td>0</td>\n",
       "      <td>0</td>\n",
       "      <td>...</td>\n",
       "      <td>0</td>\n",
       "      <td>0</td>\n",
       "      <td>0</td>\n",
       "      <td>1</td>\n",
       "      <td>0</td>\n",
       "      <td>0</td>\n",
       "      <td>0</td>\n",
       "      <td>0</td>\n",
       "      <td>0</td>\n",
       "      <td>0.000</td>\n",
       "    </tr>\n",
       "    <tr>\n",
       "      <th>1</th>\n",
       "      <td>229</td>\n",
       "      <td>0.0</td>\n",
       "      <td>1.000000</td>\n",
       "      <td>4</td>\n",
       "      <td>0.0</td>\n",
       "      <td>0</td>\n",
       "      <td>0.719961</td>\n",
       "      <td>4.0</td>\n",
       "      <td>0</td>\n",
       "      <td>0</td>\n",
       "      <td>...</td>\n",
       "      <td>0</td>\n",
       "      <td>0</td>\n",
       "      <td>0</td>\n",
       "      <td>0</td>\n",
       "      <td>0</td>\n",
       "      <td>0</td>\n",
       "      <td>1</td>\n",
       "      <td>0</td>\n",
       "      <td>0</td>\n",
       "      <td>0.105</td>\n",
       "    </tr>\n",
       "    <tr>\n",
       "      <th>2</th>\n",
       "      <td>196</td>\n",
       "      <td>1.0</td>\n",
       "      <td>0.557426</td>\n",
       "      <td>4</td>\n",
       "      <td>0.0</td>\n",
       "      <td>0</td>\n",
       "      <td>0.749835</td>\n",
       "      <td>2.0</td>\n",
       "      <td>0</td>\n",
       "      <td>1</td>\n",
       "      <td>...</td>\n",
       "      <td>0</td>\n",
       "      <td>0</td>\n",
       "      <td>0</td>\n",
       "      <td>0</td>\n",
       "      <td>0</td>\n",
       "      <td>0</td>\n",
       "      <td>0</td>\n",
       "      <td>1</td>\n",
       "      <td>0</td>\n",
       "      <td>0.005</td>\n",
       "    </tr>\n",
       "    <tr>\n",
       "      <th>3</th>\n",
       "      <td>207</td>\n",
       "      <td>0.0</td>\n",
       "      <td>0.715171</td>\n",
       "      <td>3</td>\n",
       "      <td>0.0</td>\n",
       "      <td>2</td>\n",
       "      <td>0.987447</td>\n",
       "      <td>3.0</td>\n",
       "      <td>0</td>\n",
       "      <td>0</td>\n",
       "      <td>...</td>\n",
       "      <td>0</td>\n",
       "      <td>0</td>\n",
       "      <td>0</td>\n",
       "      <td>0</td>\n",
       "      <td>0</td>\n",
       "      <td>0</td>\n",
       "      <td>0</td>\n",
       "      <td>0</td>\n",
       "      <td>0</td>\n",
       "      <td>0.000</td>\n",
       "    </tr>\n",
       "    <tr>\n",
       "      <th>4</th>\n",
       "      <td>129</td>\n",
       "      <td>0.0</td>\n",
       "      <td>0.484818</td>\n",
       "      <td>2</td>\n",
       "      <td>0.0</td>\n",
       "      <td>0</td>\n",
       "      <td>0.441219</td>\n",
       "      <td>3.0</td>\n",
       "      <td>0</td>\n",
       "      <td>1</td>\n",
       "      <td>...</td>\n",
       "      <td>0</td>\n",
       "      <td>0</td>\n",
       "      <td>0</td>\n",
       "      <td>1</td>\n",
       "      <td>0</td>\n",
       "      <td>0</td>\n",
       "      <td>0</td>\n",
       "      <td>0</td>\n",
       "      <td>0</td>\n",
       "      <td>1.000</td>\n",
       "    </tr>\n",
       "  </tbody>\n",
       "</table>\n",
       "<p>5 rows × 25 columns</p>\n",
       "</div>"
      ],
      "text/plain": [
       "   avg_monthly_hrs  filed_complaint  last_evaluation  n_projects  \\\n",
       "0              228              0.0         0.735618           2   \n",
       "1              229              0.0         1.000000           4   \n",
       "2              196              1.0         0.557426           4   \n",
       "3              207              0.0         0.715171           3   \n",
       "4              129              0.0         0.484818           2   \n",
       "\n",
       "   recently_promoted  salary  satisfaction  tenure  last_evaluation_missing  \\\n",
       "0                0.0       2      0.805661     3.0                        0   \n",
       "1                0.0       0      0.719961     4.0                        0   \n",
       "2                0.0       0      0.749835     2.0                        0   \n",
       "3                0.0       2      0.987447     3.0                        0   \n",
       "4                0.0       0      0.441219     3.0                        0   \n",
       "\n",
       "   underperformer  ...  department_admin  department_engineering  \\\n",
       "0               0  ...                 0                       0   \n",
       "1               0  ...                 0                       0   \n",
       "2               1  ...                 0                       0   \n",
       "3               0  ...                 0                       0   \n",
       "4               1  ...                 0                       0   \n",
       "\n",
       "   department_finance  department_management  department_marketing  \\\n",
       "0                   0                      1                     0   \n",
       "1                   0                      0                     0   \n",
       "2                   0                      0                     0   \n",
       "3                   0                      0                     0   \n",
       "4                   0                      1                     0   \n",
       "\n",
       "   department_procurement  department_product  department_sales  \\\n",
       "0                       0                   0                 0   \n",
       "1                       0                   1                 0   \n",
       "2                       0                   0                 1   \n",
       "3                       0                   0                 0   \n",
       "4                       0                   0                 0   \n",
       "\n",
       "   department_support  prediction  \n",
       "0                   0       0.000  \n",
       "1                   0       0.105  \n",
       "2                   0       0.005  \n",
       "3                   0       0.000  \n",
       "4                   0       1.000  \n",
       "\n",
       "[5 rows x 25 columns]"
      ]
     },
     "execution_count": 92,
     "metadata": {},
     "output_type": "execute_result"
    }
   ],
   "source": [
    "pred4.head()"
   ]
  },
  {
   "cell_type": "markdown",
   "metadata": {},
   "source": [
    "<div class = 'alert alert-info'>\n",
    "    We can see the prediction in the last column above\n",
    "    </div>"
   ]
  },
  {
   "cell_type": "markdown",
   "metadata": {},
   "source": [
    "**This is the end of analysis for this project. The project is summarized in the README.md document, and deliverables can be located in the delieverables folder.**\n",
    "\n",
    "**Please feel free to reach out with further questions, improvements, and anything you would like to share.**"
   ]
  }
 ],
 "metadata": {
  "kernelspec": {
   "display_name": "Python 3",
   "language": "python",
   "name": "python3"
  },
  "language_info": {
   "codemirror_mode": {
    "name": "ipython",
    "version": 3
   },
   "file_extension": ".py",
   "mimetype": "text/x-python",
   "name": "python",
   "nbconvert_exporter": "python",
   "pygments_lexer": "ipython3",
   "version": "3.7.3"
  }
 },
 "nbformat": 4,
 "nbformat_minor": 2
}
