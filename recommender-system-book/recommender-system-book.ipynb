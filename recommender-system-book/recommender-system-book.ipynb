{
 "cells": [
  {
   "cell_type": "markdown",
   "metadata": {},
   "source": [
    "# Recommender System - Books\n",
    "This notebook contains code to build several common recommender systems to fit different business scenarios, e.g., cold start for both item and user, recommendation based on item metadata only, and sparse interaction table.\n",
    "\n",

    "\n",
    "*The book crossing dataset is used and can be downloaded [here](http://www2.informatik.uni-freiburg.de/~cziegler/BX/).*\n",
    "\n",
    "<a id = 'toc'></a>\n",
    "**Table of Contents**\n",
    "1. [**EDA**](#eda)\n",
    "    1. [**items**](#eda)\n",
    "    2. [**users**](#u)\n",
    "    3. [**interactions**](#i)\n",
    "1. [**Random Recommender**](#rand): easy to implement, appropriate for **Cold start**, i.e., no user yet, only item information, but not informational\n",
    "2. [**Most Popular Recommender**](#pop): easy to implement, only need some user interaction, but every user gets the same recommendation, more informational than random, but doesn't learn from individual items or users. \n",
    "3. [**Content Based Recommender**](#cb): uses mostly item data, also robust for **Cold start**, i.e., no user yet or with limited user interaction data, but costly to train, and similarity is based on intrinsic features not user preferences\n",
    "4. [**Collaborative Filtering Recommender**](#cf): uses interaction data only, learn user preference of items through interaction, faster to implement, more informational\n",
    "    1. [**Memory based**](#cf-knn): more interaction, the better, expensive to train as it uses the entire data, less stable with sparse matrix\n",
    "        1. **User-based filtering**: \"How do similar users rate it?\"; predict rating by combining similar users' ratings of the same item\n",
    "        2. **Item-based filtering**: \"How are similar items rated?\"; predict rating by combining similar item's ratings from the same user\n",
    "    2. [**Model based**](#cf-mf):\n",
    "        1. **Matrix Factorization**: Find users' preference on latent factors that are endorsed by items.\n",
    "7. [**Reference**](#ref)\n",
    "\n",
    "Next up: \n",
    "- **Hybrid with lightFM**: matrix factorization mixed with content based methods\n",
    "- **Deep Learning with fastai & Pytorch**: collaborative filteirng with deep neural net\n"
   ]
  },
  {
   "cell_type": "code",
   "execution_count": 1,
   "metadata": {},
   "outputs": [],
   "source": [
    "# import libraries\n",
    "import numpy as np\n",
    "import pandas as pd\n",
    "\n",
    "import matplotlib.pyplot as plt\n",
    "%matplotlib inline\n",
    "import seaborn as sns\n",
    "sns.set_style('darkgrid')\n",
    "\n",
    "import ipyplot\n",
    "import random\n",
    "import string\n",
    "\n",
    "from sklearn.feature_extraction.text import TfidfVectorizer\n",
    "from sklearn.metrics.pairwise import linear_kernel\n",
    "\n",
    "from surprise import Dataset, Reader, KNNWithMeans, SVD\n",
    "from surprise.accuracy import rmse, mae\n",
    "from surprise.model_selection import GridSearchCV\n",
    "\n",
    "import pickle"
   ]
  },
  {
   "cell_type": "markdown",
   "metadata": {},
   "source": [
    "<a id = 'eda'></a>\n",
    "## 1. EDA\n",
    "### 1.A Item Data EDA - books"
   ]
  },
  {
   "cell_type": "code",
   "execution_count": 2,
   "metadata": {},
   "outputs": [
    {
     "name": "stdout",
     "output_type": "stream",
     "text": [
      "(271379, 8)\n"
     ]
    },
    {
     "data": {
      "text/html": [
       "<div>\n",
       "<style scoped>\n",
       "    .dataframe tbody tr th:only-of-type {\n",
       "        vertical-align: middle;\n",
       "    }\n",
       "\n",
       "    .dataframe tbody tr th {\n",
       "        vertical-align: top;\n",
       "    }\n",
       "\n",
       "    .dataframe thead th {\n",
       "        text-align: right;\n",
       "    }\n",
       "</style>\n",
       "<table border=\"1\" class=\"dataframe\">\n",
       "  <thead>\n",
       "    <tr style=\"text-align: right;\">\n",
       "      <th></th>\n",
       "      <th>isbn</th>\n",
       "      <th>title</th>\n",
       "      <th>author</th>\n",
       "      <th>year</th>\n",
       "      <th>publisher</th>\n",
       "      <th>imgurls</th>\n",
       "      <th>imgurlm</th>\n",
       "      <th>imgurll</th>\n",
       "    </tr>\n",
       "  </thead>\n",
       "  <tbody>\n",
       "    <tr>\n",
       "      <th>0</th>\n",
       "      <td>0195153448</td>\n",
       "      <td>Classical Mythology</td>\n",
       "      <td>Mark P. O. Morford</td>\n",
       "      <td>2002</td>\n",
       "      <td>Oxford University Press</td>\n",
       "      <td>http://images.amazon.com/images/P/0195153448.0...</td>\n",
       "      <td>http://images.amazon.com/images/P/0195153448.0...</td>\n",
       "      <td>http://images.amazon.com/images/P/0195153448.0...</td>\n",
       "    </tr>\n",
       "    <tr>\n",
       "      <th>100000</th>\n",
       "      <td>0373707495</td>\n",
       "      <td>Memories Of You (Bestselling Author Flash) (Ha...</td>\n",
       "      <td>Margot Dalton</td>\n",
       "      <td>1997</td>\n",
       "      <td>Harlequin</td>\n",
       "      <td>http://images.amazon.com/images/P/0373707495.0...</td>\n",
       "      <td>http://images.amazon.com/images/P/0373707495.0...</td>\n",
       "      <td>http://images.amazon.com/images/P/0373707495.0...</td>\n",
       "    </tr>\n",
       "    <tr>\n",
       "      <th>200000</th>\n",
       "      <td>0442203829</td>\n",
       "      <td>Cell biology</td>\n",
       "      <td>Charlotte J Avers</td>\n",
       "      <td>1976</td>\n",
       "      <td>Van Nostrand</td>\n",
       "      <td>http://images.amazon.com/images/P/0442203829.0...</td>\n",
       "      <td>http://images.amazon.com/images/P/0442203829.0...</td>\n",
       "      <td>http://images.amazon.com/images/P/0442203829.0...</td>\n",
       "    </tr>\n",
       "  </tbody>\n",
       "</table>\n",
       "</div>"
      ],
      "text/plain": [
       "              isbn                                              title  \\\n",
       "0       0195153448                                Classical Mythology   \n",
       "100000  0373707495  Memories Of You (Bestselling Author Flash) (Ha...   \n",
       "200000  0442203829                                       Cell biology   \n",
       "\n",
       "                    author  year                publisher  \\\n",
       "0       Mark P. O. Morford  2002  Oxford University Press   \n",
       "100000       Margot Dalton  1997                Harlequin   \n",
       "200000   Charlotte J Avers  1976             Van Nostrand   \n",
       "\n",
       "                                                  imgurls  \\\n",
       "0       http://images.amazon.com/images/P/0195153448.0...   \n",
       "100000  http://images.amazon.com/images/P/0373707495.0...   \n",
       "200000  http://images.amazon.com/images/P/0442203829.0...   \n",
       "\n",
       "                                                  imgurlm  \\\n",
       "0       http://images.amazon.com/images/P/0195153448.0...   \n",
       "100000  http://images.amazon.com/images/P/0373707495.0...   \n",
       "200000  http://images.amazon.com/images/P/0442203829.0...   \n",
       "\n",
       "                                                  imgurll  \n",
       "0       http://images.amazon.com/images/P/0195153448.0...  \n",
       "100000  http://images.amazon.com/images/P/0373707495.0...  \n",
       "200000  http://images.amazon.com/images/P/0442203829.0...  "
      ]
     },
     "execution_count": 2,
     "metadata": {},
     "output_type": "execute_result"
    }
   ],
   "source": [
    "# import books data\n",
    "bdf = pd.read_csv('data/BX-Books.csv', sep='(?<=\");(?=\")', encoding='latin-1', engine = 'python')\n",
    "bdf.columns = ['isbn', 'title', 'author', 'year', 'publisher', 'imgurls', 'imgurlm', 'imgurll']\n",
    "bdf = bdf.applymap(lambda x: x.strip('\"'))\n",
    "print (bdf.shape)\n",
    "bdf.iloc[::100000]"
   ]
  },
  {
   "cell_type": "code",
   "execution_count": 3,
   "metadata": {},
   "outputs": [
    {
     "data": {
      "text/html": [
       "<div>\n",
       "<style scoped>\n",
       "    .dataframe tbody tr th:only-of-type {\n",
       "        vertical-align: middle;\n",
       "    }\n",
       "\n",
       "    .dataframe tbody tr th {\n",
       "        vertical-align: top;\n",
       "    }\n",
       "\n",
       "    .dataframe thead th {\n",
       "        text-align: right;\n",
       "    }\n",
       "</style>\n",
       "<table border=\"1\" class=\"dataframe\">\n",
       "  <thead>\n",
       "    <tr style=\"text-align: right;\">\n",
       "      <th></th>\n",
       "      <th>isbn</th>\n",
       "      <th>title</th>\n",
       "      <th>author</th>\n",
       "      <th>year</th>\n",
       "      <th>publisher</th>\n",
       "      <th>imgurls</th>\n",
       "      <th>imgurlm</th>\n",
       "      <th>imgurll</th>\n",
       "    </tr>\n",
       "  </thead>\n",
       "  <tbody>\n",
       "    <tr>\n",
       "      <th>count</th>\n",
       "      <td>271379</td>\n",
       "      <td>271379</td>\n",
       "      <td>271379</td>\n",
       "      <td>271379</td>\n",
       "      <td>271379</td>\n",
       "      <td>271379</td>\n",
       "      <td>271379</td>\n",
       "      <td>271379</td>\n",
       "    </tr>\n",
       "    <tr>\n",
       "      <th>unique</th>\n",
       "      <td>271379</td>\n",
       "      <td>242154</td>\n",
       "      <td>102028</td>\n",
       "      <td>116</td>\n",
       "      <td>16807</td>\n",
       "      <td>271063</td>\n",
       "      <td>271063</td>\n",
       "      <td>271063</td>\n",
       "    </tr>\n",
       "    <tr>\n",
       "      <th>top</th>\n",
       "      <td>0590437712</td>\n",
       "      <td>Selected Poems</td>\n",
       "      <td>Agatha Christie</td>\n",
       "      <td>2002</td>\n",
       "      <td>Harlequin</td>\n",
       "      <td>http://images.amazon.com/images/P/074321689X.0...</td>\n",
       "      <td>http://images.amazon.com/images/P/156865765X.0...</td>\n",
       "      <td>http://images.amazon.com/images/P/015694877X.0...</td>\n",
       "    </tr>\n",
       "    <tr>\n",
       "      <th>freq</th>\n",
       "      <td>1</td>\n",
       "      <td>27</td>\n",
       "      <td>632</td>\n",
       "      <td>17628</td>\n",
       "      <td>7536</td>\n",
       "      <td>2</td>\n",
       "      <td>2</td>\n",
       "      <td>2</td>\n",
       "    </tr>\n",
       "  </tbody>\n",
       "</table>\n",
       "</div>"
      ],
      "text/plain": [
       "              isbn           title           author    year  publisher  \\\n",
       "count       271379          271379           271379  271379     271379   \n",
       "unique      271379          242154           102028     116      16807   \n",
       "top     0590437712  Selected Poems  Agatha Christie    2002  Harlequin   \n",
       "freq             1              27              632   17628       7536   \n",
       "\n",
       "                                                  imgurls  \\\n",
       "count                                              271379   \n",
       "unique                                             271063   \n",
       "top     http://images.amazon.com/images/P/074321689X.0...   \n",
       "freq                                                    2   \n",
       "\n",
       "                                                  imgurlm  \\\n",
       "count                                              271379   \n",
       "unique                                             271063   \n",
       "top     http://images.amazon.com/images/P/156865765X.0...   \n",
       "freq                                                    2   \n",
       "\n",
       "                                                  imgurll  \n",
       "count                                              271379  \n",
       "unique                                             271063  \n",
       "top     http://images.amazon.com/images/P/015694877X.0...  \n",
       "freq                                                    2  "
      ]
     },
     "execution_count": 3,
     "metadata": {},
     "output_type": "execute_result"
    }
   ],
   "source": [
    "# book EDA\n",
    "bdf.describe()"
   ]
  },
  {
   "cell_type": "code",
   "execution_count": 4,
   "metadata": {},
   "outputs": [
    {
     "data": {
      "image/png": "[encoded data removed]",
      "text/plain": [
       "<Figure size 1296x216 with 2 Axes>"
      ]
     },
     "metadata": {},
     "output_type": "display_data"
    }
   ],
   "source": [
    "fig, ax = plt.subplots(1, 2, figsize = (18, 3), sharey=True)\n",
    "\n",
    "bdf.groupby('author').isbn.count().sort_values(ascending=False).reset_index(drop=True).plot(logy=True, ax=ax[0])\n",
    "bdf.groupby('publisher').isbn.count().sort_values(ascending=False).reset_index(drop=True).plot(logy=True, ax=ax[1])\n",
    "\n",
    "ax[0].set(ylabel = 'log of no. of isbns', xlabel = 'author', title='Log of no. of isbns per author from most to least')\n",
    "ax[1].set(xlabel = 'publisher', title = 'Log of no. of isbns per publisher from most to least')\n",
    "\n",
    "plt.show()"
   ]
  },
  {
   "cell_type": "markdown",
   "metadata": {},
   "source": [
    "**Books Metadata Observation:**\n",
    "1. There are over 270,000 unique isbns under ~240,000 book names written by ~100,000 authors and published by ~16,000 publishers. \n",
    "2. Less than 30% of authors have more than one ISBNs under their name, but a coulple hundred of them have more than 10 ISBNs. Agatha Christie is the most prolific author, having 632 ISBNs under her name. This includes translations of the same book into different languages for this popular crime novelist.\n",
    "3. Same observation holds for publisher. More than half of the publsihers have ever release one ISBN. 2,500 of them published more than 10 books, and a small handful of them publishsed thousands of books. Harlequin is the champion in publishers, having over 7000 ISBNs under its name.\n",
    "\n",
    "[back to top](#toc)\n",
    "\n",
    "<a id = 'u'></a>\n",
    "### 1.B. User Data EDA"
   ]
  },
  {
   "cell_type": "code",
   "execution_count": 5,
   "metadata": {},
   "outputs": [
    {
     "name": "stdout",
     "output_type": "stream",
     "text": [
      "(278858, 3)\n"
     ]
    },
    {
     "data": {
      "text/html": [
       "<div>\n",
       "<style scoped>\n",
       "    .dataframe tbody tr th:only-of-type {\n",
       "        vertical-align: middle;\n",
       "    }\n",
       "\n",
       "    .dataframe tbody tr th {\n",
       "        vertical-align: top;\n",
       "    }\n",
       "\n",
       "    .dataframe thead th {\n",
       "        text-align: right;\n",
       "    }\n",
       "</style>\n",
       "<table border=\"1\" class=\"dataframe\">\n",
       "  <thead>\n",
       "    <tr style=\"text-align: right;\">\n",
       "      <th></th>\n",
       "      <th>uid</th>\n",
       "      <th>location</th>\n",
       "      <th>age</th>\n",
       "    </tr>\n",
       "  </thead>\n",
       "  <tbody>\n",
       "    <tr>\n",
       "      <th>0</th>\n",
       "      <td>1</td>\n",
       "      <td>nyc, new york, usa</td>\n",
       "      <td>NaN</td>\n",
       "    </tr>\n",
       "    <tr>\n",
       "      <th>100000</th>\n",
       "      <td>100001</td>\n",
       "      <td>grimstad, aust-agder, norway</td>\n",
       "      <td>NaN</td>\n",
       "    </tr>\n",
       "    <tr>\n",
       "      <th>200000</th>\n",
       "      <td>200001</td>\n",
       "      <td>des moines, iowa, usa</td>\n",
       "      <td>49.0</td>\n",
       "    </tr>\n",
       "  </tbody>\n",
       "</table>\n",
       "</div>"
      ],
      "text/plain": [
       "           uid                      location   age\n",
       "0            1            nyc, new york, usa   NaN\n",
       "100000  100001  grimstad, aust-agder, norway   NaN\n",
       "200000  200001         des moines, iowa, usa  49.0"
      ]
     },
     "execution_count": 5,
     "metadata": {},
     "output_type": "execute_result"
    }
   ],
   "source": [
    "# user metadata\n",
    "udf = pd.read_csv('data/BX-Users.csv', sep=';', encoding='latin-1')\n",
    "udf.columns = ['uid', 'location', 'age']\n",
    "print(udf.shape)\n",
    "udf.iloc[::100000, :]"
   ]
  },
  {
   "cell_type": "code",
   "execution_count": 6,
   "metadata": {},
   "outputs": [
    {
     "data": {
      "text/html": [
       "<div>\n",
       "<style scoped>\n",
       "    .dataframe tbody tr th:only-of-type {\n",
       "        vertical-align: middle;\n",
       "    }\n",
       "\n",
       "    .dataframe tbody tr th {\n",
       "        vertical-align: top;\n",
       "    }\n",
       "\n",
       "    .dataframe thead th {\n",
       "        text-align: right;\n",
       "    }\n",
       "</style>\n",
       "<table border=\"1\" class=\"dataframe\">\n",
       "  <thead>\n",
       "    <tr style=\"text-align: right;\">\n",
       "      <th></th>\n",
       "      <th>count</th>\n",
       "      <th>mean</th>\n",
       "      <th>std</th>\n",
       "      <th>min</th>\n",
       "      <th>25%</th>\n",
       "      <th>50%</th>\n",
       "      <th>75%</th>\n",
       "      <th>max</th>\n",
       "    </tr>\n",
       "  </thead>\n",
       "  <tbody>\n",
       "    <tr>\n",
       "      <th>uid</th>\n",
       "      <td>278858.0</td>\n",
       "      <td>139429.500000</td>\n",
       "      <td>80499.515020</td>\n",
       "      <td>1.0</td>\n",
       "      <td>69715.25</td>\n",
       "      <td>139429.5</td>\n",
       "      <td>209143.75</td>\n",
       "      <td>278858.0</td>\n",
       "    </tr>\n",
       "    <tr>\n",
       "      <th>age</th>\n",
       "      <td>168096.0</td>\n",
       "      <td>34.751434</td>\n",
       "      <td>14.428097</td>\n",
       "      <td>0.0</td>\n",
       "      <td>24.00</td>\n",
       "      <td>32.0</td>\n",
       "      <td>44.00</td>\n",
       "      <td>244.0</td>\n",
       "    </tr>\n",
       "  </tbody>\n",
       "</table>\n",
       "</div>"
      ],
      "text/plain": [
       "        count           mean           std  min       25%       50%  \\\n",
       "uid  278858.0  139429.500000  80499.515020  1.0  69715.25  139429.5   \n",
       "age  168096.0      34.751434     14.428097  0.0     24.00      32.0   \n",
       "\n",
       "           75%       max  \n",
       "uid  209143.75  278858.0  \n",
       "age      44.00     244.0  "
      ]
     },
     "execution_count": 6,
     "metadata": {},
     "output_type": "execute_result"
    }
   ],
   "source": [
    "udf.describe().transpose()"
   ]
  },
  {
   "cell_type": "code",
   "execution_count": 7,
   "metadata": {},
   "outputs": [
    {
     "data": {
      "text/plain": [
       "count                              278858\n",
       "unique                              57339\n",
       "top       london, england, united kingdom\n",
       "freq                                 2506\n",
       "Name: location, dtype: object"
      ]
     },
     "execution_count": 7,
     "metadata": {},
     "output_type": "execute_result"
    }
   ],
   "source": [
    "udf.location.describe()"
   ]
  },
  {
   "cell_type": "code",
   "execution_count": 8,
   "metadata": {},
   "outputs": [
    {
     "data": {
      "image/png": "[encoded data removed]",
      "text/plain": [
       "<Figure size 432x288 with 1 Axes>"
      ]
     },
     "metadata": {},
     "output_type": "display_data"
    }
   ],
   "source": [
    "sns.violinplot(udf.age)\n",
    "plt.show()"
   ]
  },
  {
   "cell_type": "code",
   "execution_count": 9,
   "metadata": {},
   "outputs": [
    {
     "data": {
      "text/plain": [
       "0.0     0.0\n",
       "0.1    19.0\n",
       "0.2    23.0\n",
       "0.3    26.0\n",
       "0.4    29.0\n",
       "0.5    32.0\n",
       "0.6    36.0\n",
       "0.7    41.0\n",
       "0.8    47.0\n",
       "0.9    55.0\n",
       "Name: age, dtype: float64"
      ]
     },
     "execution_count": 9,
     "metadata": {},
     "output_type": "execute_result"
    }
   ],
   "source": [
    "udf.age.quantile(np.arange(0,1,0.1))"
   ]
  },
  {
   "cell_type": "markdown",
   "metadata": {},
   "source": [
    "**User data observation**:\n",
    "1. There are over 270,000 users uniquely identified by uid. \n",
    "2. 10% under 19, **40% in their 20s, another 20% in their 30s**, and 30% over 40.\n",
    "2. They are from over 57,000 different cities around the work, and **london** being the most popular location.\n",
    "\n",
    "[back to top](#toc)\n",
    "\n",
    "<a id = 'i'></a>\n",
    "### 1.C. Interaction Data EDA"
   ]
  },
  {
   "cell_type": "code",
   "execution_count": 25,
   "metadata": {},
   "outputs": [
    {
     "name": "stdout",
     "output_type": "stream",
     "text": [
      "(1149780, 3)\n"
     ]
    },
    {
     "data": {
      "text/html": [
       "<div>\n",
       "<style scoped>\n",
       "    .dataframe tbody tr th:only-of-type {\n",
       "        vertical-align: middle;\n",
       "    }\n",
       "\n",
       "    .dataframe tbody tr th {\n",
       "        vertical-align: top;\n",
       "    }\n",
       "\n",
       "    .dataframe thead th {\n",
       "        text-align: right;\n",
       "    }\n",
       "</style>\n",
       "<table border=\"1\" class=\"dataframe\">\n",
       "  <thead>\n",
       "    <tr style=\"text-align: right;\">\n",
       "      <th></th>\n",
       "      <th>uid</th>\n",
       "      <th>isbn</th>\n",
       "      <th>rating</th>\n",
       "    </tr>\n",
       "  </thead>\n",
       "  <tbody>\n",
       "    <tr>\n",
       "      <th>0</th>\n",
       "      <td>276725</td>\n",
       "      <td>034545104X</td>\n",
       "      <td>0</td>\n",
       "    </tr>\n",
       "    <tr>\n",
       "      <th>400000</th>\n",
       "      <td>96096</td>\n",
       "      <td>7119029770</td>\n",
       "      <td>10</td>\n",
       "    </tr>\n",
       "    <tr>\n",
       "      <th>800000</th>\n",
       "      <td>194229</td>\n",
       "      <td>0553265547</td>\n",
       "      <td>9</td>\n",
       "    </tr>\n",
       "  </tbody>\n",
       "</table>\n",
       "</div>"
      ],
      "text/plain": [
       "           uid        isbn  rating\n",
       "0       276725  034545104X       0\n",
       "400000   96096  7119029770      10\n",
       "800000  194229  0553265547       9"
      ]
     },
     "execution_count": 25,
     "metadata": {},
     "output_type": "execute_result"
    }
   ],
   "source": [
    "# interaction data\n",
    "idf = pd.read_csv('data/BX-Book-Ratings.csv', sep = ';', encoding='latin-1')\n",
    "idf.columns = ['uid', 'isbn', 'rating']\n",
    "print(idf.shape)\n",
    "idf.iloc[::400000,:]"
   ]
  },
  {
   "cell_type": "code",
   "execution_count": 11,
   "metadata": {},
   "outputs": [
    {
     "data": {
      "text/html": [
       "<div>\n",
       "<style scoped>\n",
       "    .dataframe tbody tr th:only-of-type {\n",
       "        vertical-align: middle;\n",
       "    }\n",
       "\n",
       "    .dataframe tbody tr th {\n",
       "        vertical-align: top;\n",
       "    }\n",
       "\n",
       "    .dataframe thead th {\n",
       "        text-align: right;\n",
       "    }\n",
       "</style>\n",
       "<table border=\"1\" class=\"dataframe\">\n",
       "  <thead>\n",
       "    <tr style=\"text-align: right;\">\n",
       "      <th></th>\n",
       "      <th>count</th>\n",
       "      <th>unique</th>\n",
       "      <th>top</th>\n",
       "      <th>freq</th>\n",
       "    </tr>\n",
       "  </thead>\n",
       "  <tbody>\n",
       "    <tr>\n",
       "      <th>uid</th>\n",
       "      <td>1149780</td>\n",
       "      <td>105283</td>\n",
       "      <td>11676</td>\n",
       "      <td>13602</td>\n",
       "    </tr>\n",
       "    <tr>\n",
       "      <th>isbn</th>\n",
       "      <td>1149780</td>\n",
       "      <td>340556</td>\n",
       "      <td>0971880107</td>\n",
       "      <td>2502</td>\n",
       "    </tr>\n",
       "  </tbody>\n",
       "</table>\n",
       "</div>"
      ],
      "text/plain": [
       "        count  unique         top   freq\n",
       "uid   1149780  105283       11676  13602\n",
       "isbn  1149780  340556  0971880107   2502"
      ]
     },
     "execution_count": 11,
     "metadata": {},
     "output_type": "execute_result"
    }
   ],
   "source": [
    "idf.loc[:,'uid'] = idf.uid.astype(str)\n",
    "idf.describe(include = 'object').transpose()"
   ]
  },
  {
   "cell_type": "markdown",
   "metadata": {},
   "source": [
    "1. There are **105,000 unique users who rated, which is around 40% of all users in the database**.\n",
    "2. Over **340,000 isbns** were rated, which is more than we have record/inventory for, therefore, let's **drop ratings for this first**.\n",
    "3. Let's also examine to see whether all the users who rated exist in our database."
   ]
  },
  {
   "cell_type": "code",
   "execution_count": 26,
   "metadata": {},
   "outputs": [
    {
     "name": "stdout",
     "output_type": "stream",
     "text": [
      "Old ratings table shape:  (1149780, 3)\n",
      "New ratings table shape:  (1031175, 3)\n"
     ]
    }
   ],
   "source": [
    "print('Old ratings table shape: ', idf.shape)\n",
    "idf = idf.loc[idf.isbn.isin(bdf.isbn), :]\n",
    "print ('New ratings table shape: ', idf.shape)"
   ]
  },
  {
   "cell_type": "code",
   "execution_count": 13,
   "metadata": {},
   "outputs": [
    {
     "data": {
      "image/png": "[encoded data removed]",
      "text/plain": [
       "<Figure size 432x288 with 1 Axes>"
      ]
     },
     "metadata": {},
     "output_type": "display_data"
    }
   ],
   "source": [
    "# ratings destribution\n",
    "sns.violinplot(x = 'rating', data = idf); plt.show()"
   ]
  },
  {
   "cell_type": "code",
   "execution_count": 14,
   "metadata": {},
   "outputs": [
    {
     "data": {
      "text/plain": [
       "0.0    0.0\n",
       "0.1    0.0\n",
       "0.2    0.0\n",
       "0.3    0.0\n",
       "0.4    0.0\n",
       "0.5    0.0\n",
       "0.6    0.0\n",
       "0.7    6.0\n",
       "0.8    8.0\n",
       "0.9    9.0\n",
       "Name: rating, dtype: float64"
      ]
     },
     "execution_count": 14,
     "metadata": {},
     "output_type": "execute_result"
    }
   ],
   "source": [
    "# rating quantile\n",
    "idf.rating.quantile(np.arange(0,1,0.1))"
   ]
  },
  {
   "cell_type": "code",
   "execution_count": 15,
   "metadata": {},
   "outputs": [
    {
     "name": "stdout",
     "output_type": "stream",
     "text": [
      "The interaction table now contains 1031175 ratings from 92107 users for 270170 books.\n"
     ]
    }
   ],
   "source": [
    "print ('The interaction table now contains {} ratings from {} users for {} books.'.format( idf.shape[0],\n",
    "                                                                                          idf.uid.nunique(), \n",
    "                                                                                          idf.isbn.nunique()))"
   ]
  },
  {
   "cell_type": "code",
   "execution_count": 16,
   "metadata": {},
   "outputs": [
    {
     "data": {
      "text/plain": [
       "0.004143836537142288"
      ]
     },
     "execution_count": 16,
     "metadata": {},
     "output_type": "execute_result"
    }
   ],
   "source": [
    "# ratings sparsity\n",
    "idf.shape[0] / (idf.uid.nunique() * idf.isbn.nunique()) * 100"
   ]
  },
  {
   "cell_type": "markdown",
   "metadata": {},
   "source": [
    "**Ratings data EDA**:\n",
    "1. There is a total of 1,031,175 ratings given by roughly 92,000 users on 270,000 books. \n",
    "2. Only **0.004%** of possible user-item pair is populated, making it **extremely sparse**. In order for recommndation to be more stable and to save computing power, we will **filter out less interacted users and books** in the next step.\n",
    "3. For the ratings we do have, it is on a scale of 0 to 10, with more than **60% ratings at 0**, which, according to the data course, is implicit feedback. Judging by the scale of other ratings, it might not be a good indicator of the books' real ratings, but we will leave them there for now since we cannot justify our suspition.\n",
    "\n",
    "**Next steps**:\n",
    "1. Examine and create filsters for users and books.\n",
    "2. Check whether each user rated the same item only once, if not, keep the higher one."
   ]
  },
  {
   "cell_type": "code",
   "execution_count": 17,
   "metadata": {},
   "outputs": [],
   "source": [
    "u_rct = idf.groupby('uid').isbn.count().sort_values(ascending=False) # user ratings count sorted \n",
    "b_rct = idf.groupby('isbn').uid.count().sort_values(ascending=False) # book ratings count sorted"
   ]
  },
  {
   "cell_type": "code",
   "execution_count": 18,
   "metadata": {},
   "outputs": [
    {
     "data": {
      "text/plain": [
       "1.0    11144.0\n",
       "0.9       13.0\n",
       "0.8        5.0\n",
       "0.7        3.0\n",
       "Name: isbn, dtype: float64"
      ]
     },
     "execution_count": 18,
     "metadata": {},
     "output_type": "execute_result"
    }
   ],
   "source": [
    "# user rating quantiles\n",
    "u_rct.quantile(np.arange(1,0.6, -0.1))"
   ]
  },
  {
   "cell_type": "code",
   "execution_count": 19,
   "metadata": {},
   "outputs": [
    {
     "data": {
      "text/plain": [
       "1.0    2502.0\n",
       "0.9       7.0\n",
       "0.8       3.0\n",
       "0.7       2.0\n",
       "Name: uid, dtype: float64"
      ]
     },
     "execution_count": 19,
     "metadata": {},
     "output_type": "execute_result"
    }
   ],
   "source": [
    "# item rating quantiles\n",
    "b_rct.quantile(np.arange(1, 0.6, -0.1))"
   ]
  },
  {
   "cell_type": "code",
   "execution_count": 20,
   "metadata": {},
   "outputs": [
    {
     "data": {
      "image/png": "[encoded data removed]",
      "text/plain": [
       "<Figure size 432x288 with 1 Axes>"
      ]
     },
     "metadata": {},
     "output_type": "display_data"
    }
   ],
   "source": [
    "# visualize log rating counts\n",
    "u_rct.reset_index(drop=True).plot(logy=True, label = 'user')\n",
    "b_rct.reset_index(drop=True).plot(logy=True, label = 'book')\n",
    "plt.title('No. of Ratings for user/book')\n",
    "plt.ylabel('log of number of ratings')\n",
    "plt.xlabel('user or item ranked from most rated to least')\n",
    "plt.legend(loc = 1)\n",
    "plt.show()"
   ]
  },
  {
   "cell_type": "markdown",
   "metadata": {},
   "source": [
    "Here we observe the **long tail** property of rating tables in real world: \n",
    "1. Half of the users and items only have one rating associated to them\n",
    "2. About **10%** of the users and items have more than 10 ratings;\n",
    "3. The most active user rated over 10,000 items, and the most popular item has over 200 ratings. This is stark contrast between user behaviors.\n",
    "\n",
    "**Sparse matrix affects collaborative filtering** models. Having lots of user item pairs means calculation volume for similarity measures. Also, having sparse matrix makes it difficult to calculate reliable/stable similarities, making KNN result unstable.\n",
    "\n",
    "Therefore, we will **filter** books and users with more than 60 ratings. Obviousely, this choice is arbitrary, and the higher the threshold, the less users and book we can recommend for. But, we will **sacrifice** quantity for qualify right now. And for the less rated users and books, we can resort to other recommenders for recommendation, such as most popular and content based."
   ]
  },
  {
   "cell_type": "code",
   "execution_count": 21,
   "metadata": {},
   "outputs": [],
   "source": [
    "# create filter\n",
    "u_thres = 60 # min user rating count\n",
    "b_thres = 60 # min book rating count\n",
    "\n",
    "u_filter = u_rct[u_rct > u_thres].index # user filter\n",
    "b_filter = b_rct[b_rct > b_thres].index # book filter"
   ]
  },
  {
   "cell_type": "code",
   "execution_count": 22,
   "metadata": {},
   "outputs": [
    {
     "name": "stdout",
     "output_type": "stream",
     "text": [
      "2567 1615\n"
     ]
    }
   ],
   "source": [
    "print (len(u_filter), len(b_filter))"
   ]
  },
  {
   "cell_type": "code",
   "execution_count": 27,
   "metadata": {},
   "outputs": [
    {
     "name": "stdout",
     "output_type": "stream",
     "text": [
      "Old rating dataframe shape:  (1031175, 3)\n",
      "New rating dataframe shape:  (115206, 3)\n"
     ]
    }
   ],
   "source": [
    "orig_idf = idf.copy()\n",
    "print('Old rating dataframe shape: ', orig_idf.shape)\n",
    "idf = idf.loc[(idf.uid.isin(u_filter)) & (idf.isbn.isin(b_filter))]\n",
    "print('New rating dataframe shape: ', idf.shape)"
   ]
  },
  {
   "cell_type": "code",
   "execution_count": 24,
   "metadata": {},
   "outputs": [
    {
     "data": {
      "text/plain": [
       "0.02778924211925354"
      ]
     },
     "execution_count": 24,
     "metadata": {},
     "output_type": "execute_result"
    }
   ],
   "source": [
    "idf.shape[0] /(len(u_filter) * len(b_filter))"
   ]
  },
  {
   "cell_type": "markdown",
   "metadata": {},
   "source": [
    "All right, **the interaction table we will be working with is now from 2500 users' 115,000 ratings on 1,600 books**. The matrix is **3% filled**, still quite sparse. However, this is **1000 times denser** than before, so, let's make some recommendations!\n",
    "\n",
    "[back to top](#toc)\n",
    "\n",
    "<a id = 'rand'></a>\n",
    "## 2. Simple Recomendation - Random\n",
    "\n",
    "When a service is brand new, all we have is item metadata, no user or user interaction yet. At this stage, there are two things we can do:\n",
    "\n",
    "1. Recommend randomly - obviousely, this is not informed, the recommendation is a hit of miss, but you gotta start somewhere.\n",
    "2. Recommend the most popular items - try to get some information about the items from existing services."
   ]
  },
  {
   "cell_type": "code",
   "execution_count": 28,
   "metadata": {},
   "outputs": [],
   "source": [
    "def get_n_items(ilist, idf = bdf, iid_col = 'isbn', n = 6):    \n",
    "    '''return n itmes based on a list of item ids'''\n",
    "        \n",
    "    # lookup item meta data\n",
    "    return_idf = idf.loc[idf[iid_col].isin(ilist)]\n",
    "    \n",
    "    # collect recommended item info\n",
    "    images = return_idf.imgurlm.tolist()\n",
    "    labels = (return_idf.title + ' by ' + return_idf.author).tolist()\n",
    "\n",
    "    # retrieve and display recommendation\n",
    "    ipyplot.plot_images(images, labels, max_images=20, img_width=130)\n",
    "    \n",
    "    return"
   ]
  },
  {
   "cell_type": "code",
   "execution_count": 29,
   "metadata": {},
   "outputs": [],
   "source": [
    "def rec_rand_n(n = 6):\n",
    "    '''Recommend random books'''\n",
    "    \n",
    "    # generate n random index for rec\n",
    "    rec_list = random.sample(bdf.isbn.tolist(), n)\n",
    "    \n",
    "    # return recommendations\n",
    "    get_n_items(rec_list)\n",
    "    \n",
    "    return"
   ]
  },
  {
   "cell_type": "code",
   "execution_count": 35,
   "metadata": {},
   "outputs": [
    {
     "data": {
      "text/html": [
       "<div style=\"display: inline-block; width: 150px; vertical-align: top; text-align: center;\"><h4 style=\"font-size: 12px\">The Woods Out Back by R. A. Salvatore</h4><h4 style=\"font-size: 9px; padding-left: 10px; padding-right: 10px; width: 90%; word-wrap: break-word; white-space: normal;\">http://images.amazon.com/images/P/0441908721.01.MZZZZZZZ.jpg</h4><img src=\"http://images.amazon.com/images/P/0441908721.01.MZZZZZZZ.jpg\" style=\"margin: 1px; width: 130px; border: 2px solid #ddd;\"/></div><div style=\"display: inline-block; width: 150px; vertical-align: top; text-align: center;\"><h4 style=\"font-size: 12px\">Pride and Prejudice (World's Classics) by Jane Austen</h4><h4 style=\"font-size: 9px; padding-left: 10px; padding-right: 10px; width: 90%; word-wrap: break-word; white-space: normal;\">http://images.amazon.com/images/P/019282760X.01.MZZZZZZZ.jpg</h4><img src=\"http://images.amazon.com/images/P/019282760X.01.MZZZZZZZ.jpg\" style=\"margin: 1px; width: 130px; border: 2px solid #ddd;\"/></div><div style=\"display: inline-block; width: 150px; vertical-align: top; text-align: center;\"><h4 style=\"font-size: 12px\">The Making of C S Forester's Horatio Hornblower by Tom McGregor</h4><h4 style=\"font-size: 9px; padding-left: 10px; padding-right: 10px; width: 90%; word-wrap: break-word; white-space: normal;\">http://images.amazon.com/images/P/0061073571.01.MZZZZZZZ.jpg</h4><img src=\"http://images.amazon.com/images/P/0061073571.01.MZZZZZZZ.jpg\" style=\"margin: 1px; width: 130px; border: 2px solid #ddd;\"/></div><div style=\"display: inline-block; width: 150px; vertical-align: top; text-align: center;\"><h4 style=\"font-size: 12px\">Daedalus: Part One of Two (Star Trek: Enterprise) by Dave Stern</h4><h4 style=\"font-size: 9px; padding-left: 10px; padding-right: 10px; width: 90%; word-wrap: break-word; white-space: normal;\">http://images.amazon.com/images/P/0743471180.01.MZZZZZZZ.jpg</h4><img src=\"http://images.amazon.com/images/P/0743471180.01.MZZZZZZZ.jpg\" style=\"margin: 1px; width: 130px; border: 2px solid #ddd;\"/></div><div style=\"display: inline-block; width: 150px; vertical-align: top; text-align: center;\"><h4 style=\"font-size: 12px\">The Little Giant Encyclopedia of Wedding Toasts by Katherine Young</h4><h4 style=\"font-size: 9px; padding-left: 10px; padding-right: 10px; width: 90%; word-wrap: break-word; white-space: normal;\">http://images.amazon.com/images/P/0806941758.01.MZZZZZZZ.jpg</h4><img src=\"http://images.amazon.com/images/P/0806941758.01.MZZZZZZZ.jpg\" style=\"margin: 1px; width: 130px; border: 2px solid #ddd;\"/></div><div style=\"display: inline-block; width: 150px; vertical-align: top; text-align: center;\"><h4 style=\"font-size: 12px\">Glass Houses by Stella Cameron</h4><h4 style=\"font-size: 9px; padding-left: 10px; padding-right: 10px; width: 90%; word-wrap: break-word; white-space: normal;\">http://images.amazon.com/images/P/1575665867.01.MZZZZZZZ.jpg</h4><img src=\"http://images.amazon.com/images/P/1575665867.01.MZZZZZZZ.jpg\" style=\"margin: 1px; width: 130px; border: 2px solid #ddd;\"/></div>"
      ],
      "text/plain": [
       "<IPython.core.display.HTML object>"
      ]
     },
     "metadata": {},
     "output_type": "display_data"
    }
   ],
   "source": [
    "np.random.seed(3)\n",
    "rec_rand_n()"
   ]
  },
  {
   "cell_type": "markdown",
   "metadata": {},
   "source": [
    "Well, some*obscure* book choices... but hey, we are brand new here, at least, we have something to display.\n",
    "\n",
    "But, surely, we can do better!\n",
    "\n",
    "Let's borrow some publicly available information, say, scrape amazon and get the most popular books.\n",
    "Now we can improve our recommendation with the most popular books!\n",
    "\n",
    "[back to top](#toc)\n",
    "\n",
    "<a id= 'pop'></a>\n",
    "## 3. Recommend - Most Popular - **\"Best Sellers\"**"
   ]
  },
  {
   "cell_type": "code",
   "execution_count": 36,
   "metadata": {},
   "outputs": [],
   "source": [
    "def rec_pop_n(n=6):\n",
    "    '''Recommend the most popular (rated) books'''\n",
    "    \n",
    "    # get most popular n books' isbns\n",
    "    rec_list = b_rct.iloc[:n].index\n",
    "    \n",
    "    # get rec info\n",
    "    get_n_items(rec_list)\n",
    "    \n",
    "    return"
   ]
  },
  {
   "cell_type": "code",
   "execution_count": 37,
   "metadata": {},
   "outputs": [
    {
     "data": {
      "text/html": [
       "<div style=\"display: inline-block; width: 150px; vertical-align: top; text-align: center;\"><h4 style=\"font-size: 12px\">Wild Animus by Rich Shapero</h4><h4 style=\"font-size: 9px; padding-left: 10px; padding-right: 10px; width: 90%; word-wrap: break-word; white-space: normal;\">http://images.amazon.com/images/P/0971880107.01.MZZZZZZZ.jpg</h4><img src=\"http://images.amazon.com/images/P/0971880107.01.MZZZZZZZ.jpg\" style=\"margin: 1px; width: 130px; border: 2px solid #ddd;\"/></div><div style=\"display: inline-block; width: 150px; vertical-align: top; text-align: center;\"><h4 style=\"font-size: 12px\">A Painted House by John Grisham</h4><h4 style=\"font-size: 9px; padding-left: 10px; padding-right: 10px; width: 90%; word-wrap: break-word; white-space: normal;\">http://images.amazon.com/images/P/044023722X.01.MZZZZZZZ.jpg</h4><img src=\"http://images.amazon.com/images/P/044023722X.01.MZZZZZZZ.jpg\" style=\"margin: 1px; width: 130px; border: 2px solid #ddd;\"/></div><div style=\"display: inline-block; width: 150px; vertical-align: top; text-align: center;\"><h4 style=\"font-size: 12px\">The Lovely Bones: A Novel by Alice Sebold</h4><h4 style=\"font-size: 9px; padding-left: 10px; padding-right: 10px; width: 90%; word-wrap: break-word; white-space: normal;\">http://images.amazon.com/images/P/0316666343.01.MZZZZZZZ.jpg</h4><img src=\"http://images.amazon.com/images/P/0316666343.01.MZZZZZZZ.jpg\" style=\"margin: 1px; width: 130px; border: 2px solid #ddd;\"/></div><div style=\"display: inline-block; width: 150px; vertical-align: top; text-align: center;\"><h4 style=\"font-size: 12px\">The Red Tent (Bestselling Backlist) by Anita Diamant</h4><h4 style=\"font-size: 9px; padding-left: 10px; padding-right: 10px; width: 90%; word-wrap: break-word; white-space: normal;\">http://images.amazon.com/images/P/0312195516.01.MZZZZZZZ.jpg</h4><img src=\"http://images.amazon.com/images/P/0312195516.01.MZZZZZZZ.jpg\" style=\"margin: 1px; width: 130px; border: 2px solid #ddd;\"/></div><div style=\"display: inline-block; width: 150px; vertical-align: top; text-align: center;\"><h4 style=\"font-size: 12px\">The Da Vinci Code by Dan Brown</h4><h4 style=\"font-size: 9px; padding-left: 10px; padding-right: 10px; width: 90%; word-wrap: break-word; white-space: normal;\">http://images.amazon.com/images/P/0385504209.01.MZZZZZZZ.jpg</h4><img src=\"http://images.amazon.com/images/P/0385504209.01.MZZZZZZZ.jpg\" style=\"margin: 1px; width: 130px; border: 2px solid #ddd;\"/></div><div style=\"display: inline-block; width: 150px; vertical-align: top; text-align: center;\"><h4 style=\"font-size: 12px\">Divine Secrets of the Ya-Ya Sisterhood: A Novel by Rebecca Wells</h4><h4 style=\"font-size: 9px; padding-left: 10px; padding-right: 10px; width: 90%; word-wrap: break-word; white-space: normal;\">http://images.amazon.com/images/P/0060928336.01.MZZZZZZZ.jpg</h4><img src=\"http://images.amazon.com/images/P/0060928336.01.MZZZZZZZ.jpg\" style=\"margin: 1px; width: 130px; border: 2px solid #ddd;\"/></div>"
      ],
      "text/plain": [
       "<IPython.core.display.HTML object>"
      ]
     },
     "metadata": {},
     "output_type": "display_data"
    }
   ],
   "source": [
    "rec_pop_n()"
   ]
  },
  {
   "cell_type": "markdown",
   "metadata": {},
   "source": [
    "All right! Better than random as the **probability** of a new user liking a popular book is certainly **higher** than a **random** one. Ater all, that's why they are popular in the first place!\n",
    "\n",
    "But, we have not even used anything we know about the books or the users! Surely, we can make more informed decisions once users use our recommender and we gradually learn more about their preferences .\n",
    "\n",
    "**When a user starts to browse our collection of books, we can start to improve our recommendation based on their browse history**. Let's try content based filtering!\n",
    "\n",
    "[back to top](#toc)\n",
    "\n",
    "<a id = 'cb'></a>\n",
    "## 4. Content Based Filtering - \"You may also like...\""
   ]
  },
  {
   "cell_type": "markdown",
   "metadata": {},
   "source": [
    "The name says it, content based filtering means recommendation based on content. Content here means metadata. For books, it could mean summary, for movies, it could mean plots, anything that tells us what the item is about. The idea is that based one user's browing history, we would recommend items similar to what they showed interest. \n",
    "\n",
    "Since the similarity between items is calcuated based on their metadata features. Generally speaking, we want to have **many informative features in order for content based filtering to work well**. In our scenario, however, the information we have on books is quite **limited**. This inevitably limits our recommender's performance compared to if we had features such as the book's summary, keywords, genre, etc. \n",
    "\n",
    "But, you gotta work with what you have. Plus, **book titles** could be quite informational, so, let's give it a try.\n",
    "\n",
    "Since we have more than 270,000 books, it is quite costly to calculate the similarity measure. For demonstration purpose, we will subsample the most popular 10000 books."
   ]
  },
  {
   "cell_type": "code",
   "execution_count": 38,
   "metadata": {},
   "outputs": [],
   "source": [
    "pop_10000_isbn = b_rct[:10000].index\n",
    "small_bdf = bdf.loc[bdf.isbn.isin(pop_10000_isbn)].copy()"
   ]
  },
  {
   "cell_type": "code",
   "execution_count": 39,
   "metadata": {},
   "outputs": [],
   "source": [
    "# nlp preprocessing for three metadata features of books\n",
    "small_bdf.loc[:, 'author'] = small_bdf.author.apply(lambda x: \"\".join(x.split()).translate(str.maketrans('', '', string.punctuation)))\n",
    "small_bdf.loc[:, 'publisher'] = small_bdf.publisher.apply(lambda x: ''.join(x.split()).translate(str.maketrans('','',string.punctuation)))\n",
    "small_bdf.loc[:, 'infoStr'] = small_bdf[['title', 'author', 'publisher']].agg(' '.join, axis=1)"
   ]
  },
  {
   "cell_type": "code",
   "execution_count": 40,
   "metadata": {},
   "outputs": [
    {
     "data": {
      "text/plain": [
       "(10000, 6836)"
      ]
     },
     "execution_count": 40,
     "metadata": {},
     "output_type": "execute_result"
    }
   ],
   "source": [
    "# bag of words\n",
    "tf = TfidfVectorizer(analyzer='word', ngram_range=(1, 3), min_df = 3, stop_words='english')\n",
    "wc = tf.fit_transform(small_bdf.infoStr)\n",
    "wc.shape"
   ]
  },
  {
   "cell_type": "code",
   "execution_count": 32,
   "metadata": {},
   "outputs": [
    {
     "data": {
      "text/plain": [
       "(10000, 10000)"
      ]
     },
     "execution_count": 32,
     "metadata": {},
     "output_type": "execute_result"
    }
   ],
   "source": [
    "# calculate similarity between books\n",
    "cos_sim = linear_kernel(wc, wc)\n",
    "cos_sim.shape"
   ]
  },
  {
   "cell_type": "code",
   "execution_count": 33,
   "metadata": {},
   "outputs": [
    {
     "data": {
      "text/html": [
       "<div>\n",
       "<style scoped>\n",
       "    .dataframe tbody tr th:only-of-type {\n",
       "        vertical-align: middle;\n",
       "    }\n",
       "\n",
       "    .dataframe tbody tr th {\n",
       "        vertical-align: top;\n",
       "    }\n",
       "\n",
       "    .dataframe thead th {\n",
       "        text-align: right;\n",
       "    }\n",
       "</style>\n",
       "<table border=\"1\" class=\"dataframe\">\n",
       "  <thead>\n",
       "    <tr style=\"text-align: right;\">\n",
       "      <th>isbn</th>\n",
       "      <th>0399135782</th>\n",
       "      <th>0440234743</th>\n",
       "      <th>0452264464</th>\n",
       "      <th>0609804618</th>\n",
       "      <th>1841721522</th>\n",
       "      <th>0971880107</th>\n",
       "      <th>0345402871</th>\n",
       "      <th>0345417623</th>\n",
       "      <th>0375759778</th>\n",
       "      <th>0375406328</th>\n",
       "      <th>...</th>\n",
       "      <th>0380810298</th>\n",
       "      <th>0345295250</th>\n",
       "      <th>0525945652</th>\n",
       "      <th>0373225156</th>\n",
       "      <th>0671743902</th>\n",
       "      <th>050552421X</th>\n",
       "      <th>0449002551</th>\n",
       "      <th>0679740244</th>\n",
       "      <th>3423128801</th>\n",
       "      <th>3407785682</th>\n",
       "    </tr>\n",
       "    <tr>\n",
       "      <th>isbn</th>\n",
       "      <th></th>\n",
       "      <th></th>\n",
       "      <th></th>\n",
       "      <th></th>\n",
       "      <th></th>\n",
       "      <th></th>\n",
       "      <th></th>\n",
       "      <th></th>\n",
       "      <th></th>\n",
       "      <th></th>\n",
       "      <th></th>\n",
       "      <th></th>\n",
       "      <th></th>\n",
       "      <th></th>\n",
       "      <th></th>\n",
       "      <th></th>\n",
       "      <th></th>\n",
       "      <th></th>\n",
       "      <th></th>\n",
       "      <th></th>\n",
       "      <th></th>\n",
       "    </tr>\n",
       "  </thead>\n",
       "  <tbody>\n",
       "    <tr>\n",
       "      <th>0399135782</th>\n",
       "      <td>1.0</td>\n",
       "      <td>0.0</td>\n",
       "      <td>0.0</td>\n",
       "      <td>0.0</td>\n",
       "      <td>0.0</td>\n",
       "      <td>0.0</td>\n",
       "      <td>0.0</td>\n",
       "      <td>0.0</td>\n",
       "      <td>0.0</td>\n",
       "      <td>0.0</td>\n",
       "      <td>...</td>\n",
       "      <td>0.0</td>\n",
       "      <td>0.0</td>\n",
       "      <td>0.0</td>\n",
       "      <td>0.0</td>\n",
       "      <td>0.0</td>\n",
       "      <td>0.0</td>\n",
       "      <td>0.0</td>\n",
       "      <td>0.0</td>\n",
       "      <td>0.0000</td>\n",
       "      <td>0.0</td>\n",
       "    </tr>\n",
       "    <tr>\n",
       "      <th>0440234743</th>\n",
       "      <td>0.0</td>\n",
       "      <td>1.0</td>\n",
       "      <td>0.0</td>\n",
       "      <td>0.0</td>\n",
       "      <td>0.0</td>\n",
       "      <td>0.0</td>\n",
       "      <td>0.0</td>\n",
       "      <td>0.0</td>\n",
       "      <td>0.0</td>\n",
       "      <td>0.0</td>\n",
       "      <td>...</td>\n",
       "      <td>0.0</td>\n",
       "      <td>0.0</td>\n",
       "      <td>0.0</td>\n",
       "      <td>0.0</td>\n",
       "      <td>0.0</td>\n",
       "      <td>0.0</td>\n",
       "      <td>0.0</td>\n",
       "      <td>0.0</td>\n",
       "      <td>0.0000</td>\n",
       "      <td>0.0</td>\n",
       "    </tr>\n",
       "    <tr>\n",
       "      <th>0452264464</th>\n",
       "      <td>0.0</td>\n",
       "      <td>0.0</td>\n",
       "      <td>1.0</td>\n",
       "      <td>0.0</td>\n",
       "      <td>0.0</td>\n",
       "      <td>0.0</td>\n",
       "      <td>0.0</td>\n",
       "      <td>0.0</td>\n",
       "      <td>0.0</td>\n",
       "      <td>0.0</td>\n",
       "      <td>...</td>\n",
       "      <td>0.0</td>\n",
       "      <td>0.0</td>\n",
       "      <td>0.0</td>\n",
       "      <td>0.0</td>\n",
       "      <td>0.0</td>\n",
       "      <td>0.0</td>\n",
       "      <td>0.0</td>\n",
       "      <td>0.0</td>\n",
       "      <td>0.0000</td>\n",
       "      <td>0.0</td>\n",
       "    </tr>\n",
       "    <tr>\n",
       "      <th>0609804618</th>\n",
       "      <td>0.0</td>\n",
       "      <td>0.0</td>\n",
       "      <td>0.0</td>\n",
       "      <td>1.0</td>\n",
       "      <td>0.0</td>\n",
       "      <td>0.0</td>\n",
       "      <td>0.0</td>\n",
       "      <td>0.0</td>\n",
       "      <td>0.0</td>\n",
       "      <td>0.0</td>\n",
       "      <td>...</td>\n",
       "      <td>0.0</td>\n",
       "      <td>0.0</td>\n",
       "      <td>0.0</td>\n",
       "      <td>0.0</td>\n",
       "      <td>0.0</td>\n",
       "      <td>0.0</td>\n",
       "      <td>0.0</td>\n",
       "      <td>0.0</td>\n",
       "      <td>0.1575</td>\n",
       "      <td>0.0</td>\n",
       "    </tr>\n",
       "    <tr>\n",
       "      <th>1841721522</th>\n",
       "      <td>0.0</td>\n",
       "      <td>0.0</td>\n",
       "      <td>0.0</td>\n",
       "      <td>0.0</td>\n",
       "      <td>1.0</td>\n",
       "      <td>0.0</td>\n",
       "      <td>0.0</td>\n",
       "      <td>0.0</td>\n",
       "      <td>0.0</td>\n",
       "      <td>0.0</td>\n",
       "      <td>...</td>\n",
       "      <td>0.0</td>\n",
       "      <td>0.0</td>\n",
       "      <td>0.0</td>\n",
       "      <td>0.0</td>\n",
       "      <td>0.0</td>\n",
       "      <td>0.0</td>\n",
       "      <td>0.0</td>\n",
       "      <td>0.0</td>\n",
       "      <td>0.0000</td>\n",
       "      <td>0.0</td>\n",
       "    </tr>\n",
       "  </tbody>\n",
       "</table>\n",
       "<p>5 rows × 10000 columns</p>\n",
       "</div>"
      ],
      "text/plain": [
       "isbn        0399135782  0440234743  0452264464  0609804618  1841721522  \\\n",
       "isbn                                                                     \n",
       "0399135782         1.0         0.0         0.0         0.0         0.0   \n",
       "0440234743         0.0         1.0         0.0         0.0         0.0   \n",
       "0452264464         0.0         0.0         1.0         0.0         0.0   \n",
       "0609804618         0.0         0.0         0.0         1.0         0.0   \n",
       "1841721522         0.0         0.0         0.0         0.0         1.0   \n",
       "\n",
       "isbn        0971880107  0345402871  0345417623  0375759778  0375406328  ...  \\\n",
       "isbn                                                                    ...   \n",
       "0399135782         0.0         0.0         0.0         0.0         0.0  ...   \n",
       "0440234743         0.0         0.0         0.0         0.0         0.0  ...   \n",
       "0452264464         0.0         0.0         0.0         0.0         0.0  ...   \n",
       "0609804618         0.0         0.0         0.0         0.0         0.0  ...   \n",
       "1841721522         0.0         0.0         0.0         0.0         0.0  ...   \n",
       "\n",
       "isbn        0380810298  0345295250  0525945652  0373225156  0671743902  \\\n",
       "isbn                                                                     \n",
       "0399135782         0.0         0.0         0.0         0.0         0.0   \n",
       "0440234743         0.0         0.0         0.0         0.0         0.0   \n",
       "0452264464         0.0         0.0         0.0         0.0         0.0   \n",
       "0609804618         0.0         0.0         0.0         0.0         0.0   \n",
       "1841721522         0.0         0.0         0.0         0.0         0.0   \n",
       "\n",
       "isbn        050552421X  0449002551  0679740244  3423128801  3407785682  \n",
       "isbn                                                                    \n",
       "0399135782         0.0         0.0         0.0      0.0000         0.0  \n",
       "0440234743         0.0         0.0         0.0      0.0000         0.0  \n",
       "0452264464         0.0         0.0         0.0      0.0000         0.0  \n",
       "0609804618         0.0         0.0         0.0      0.1575         0.0  \n",
       "1841721522         0.0         0.0         0.0      0.0000         0.0  \n",
       "\n",
       "[5 rows x 10000 columns]"
      ]
     },
     "execution_count": 33,
     "metadata": {},
     "output_type": "execute_result"
    }
   ],
   "source": [
    "sim_df = pd.DataFrame(cos_sim, index = small_bdf.isbn, columns=small_bdf.isbn)\n",
    "sim_df.head()"
   ]
  },
  {
   "cell_type": "code",
   "execution_count": 34,
   "metadata": {},
   "outputs": [
    {
     "data": {
      "text/plain": [
       "9682"
      ]
     },
     "execution_count": 34,
     "metadata": {},
     "output_type": "execute_result"
    }
   ],
   "source": [
    "# how many books have more than 20 books that have similarity measures with them\n",
    "sum((1-((sim_df) == 0).sum()/sim_df.shape[0] )> 0.002)"
   ]
  },
  {
   "cell_type": "code",
   "execution_count": 35,
   "metadata": {},
   "outputs": [],
   "source": [
    "def cb_rec(title, n = 6):    \n",
    "    '''Recommend books based on metadata similarity measures '''\n",
    "       \n",
    "    # get isbn corresponding to title\n",
    "    isbn = bdf[bdf.title == title].isbn.tolist()[0]\n",
    "    \n",
    "    # get isbn thats most similar \n",
    "    rec_list = sim_df.loc[isbn, :].sort_values(ascending = False)[1:1+n].index\n",
    "    \n",
    "    # get other info of most similar books\n",
    "    get_n_items(rec_list)\n",
    "    \n",
    "    return"
   ]
  },
  {
   "cell_type": "code",
   "execution_count": 56,
   "metadata": {},
   "outputs": [
    {
     "name": "stdout",
     "output_type": "stream",
     "text": [
      "Because you read:  LAKE NEWS : A Novel\n"
     ]
    },
    {
     "data": {
      "text/html": [
       "<div style=\"display: inline-block; width: 150px; vertical-align: top; text-align: center;\"><h4 style=\"font-size: 12px\">Lake News by Barbara Delinsky</h4><h4 style=\"font-size: 9px; padding-left: 10px; padding-right: 10px; width: 90%; word-wrap: break-word; white-space: normal;\">http://images.amazon.com/images/P/067103619X.01.MZZZZZZZ.jpg</h4><img src=\"http://images.amazon.com/images/P/067103619X.01.MZZZZZZZ.jpg\" style=\"margin: 1px; width: 130px; border: 2px solid #ddd;\"/></div><div style=\"display: inline-block; width: 150px; vertical-align: top; text-align: center;\"><h4 style=\"font-size: 12px\">The Vineyard : A Novel by Barbara Delinsky</h4><h4 style=\"font-size: 9px; padding-left: 10px; padding-right: 10px; width: 90%; word-wrap: break-word; white-space: normal;\">http://images.amazon.com/images/P/0684864843.01.MZZZZZZZ.jpg</h4><img src=\"http://images.amazon.com/images/P/0684864843.01.MZZZZZZZ.jpg\" style=\"margin: 1px; width: 130px; border: 2px solid #ddd;\"/></div><div style=\"display: inline-block; width: 150px; vertical-align: top; text-align: center;\"><h4 style=\"font-size: 12px\">COAST ROAD : A NOVEL by Barbara Delinsky</h4><h4 style=\"font-size: 9px; padding-left: 10px; padding-right: 10px; width: 90%; word-wrap: break-word; white-space: normal;\">http://images.amazon.com/images/P/0684845768.01.MZZZZZZZ.jpg</h4><img src=\"http://images.amazon.com/images/P/0684845768.01.MZZZZZZZ.jpg\" style=\"margin: 1px; width: 130px; border: 2px solid #ddd;\"/></div><div style=\"display: inline-block; width: 150px; vertical-align: top; text-align: center;\"><h4 style=\"font-size: 12px\">The Woman Next Door by Barbara Delinsky</h4><h4 style=\"font-size: 9px; padding-left: 10px; padding-right: 10px; width: 90%; word-wrap: break-word; white-space: normal;\">http://images.amazon.com/images/P/0743204697.01.MZZZZZZZ.jpg</h4><img src=\"http://images.amazon.com/images/P/0743204697.01.MZZZZZZZ.jpg\" style=\"margin: 1px; width: 130px; border: 2px solid #ddd;\"/></div><div style=\"display: inline-block; width: 150px; vertical-align: top; text-align: center;\"><h4 style=\"font-size: 12px\">Flirting with Pete : A Novel by Barbara Delinsky</h4><h4 style=\"font-size: 9px; padding-left: 10px; padding-right: 10px; width: 90%; word-wrap: break-word; white-space: normal;\">http://images.amazon.com/images/P/074324642X.01.MZZZZZZZ.jpg</h4><img src=\"http://images.amazon.com/images/P/074324642X.01.MZZZZZZZ.jpg\" style=\"margin: 1px; width: 130px; border: 2px solid #ddd;\"/></div><div style=\"display: inline-block; width: 150px; vertical-align: top; text-align: center;\"><h4 style=\"font-size: 12px\">An Accidental Woman : A Novel by Barbara Delinsky</h4><h4 style=\"font-size: 9px; padding-left: 10px; padding-right: 10px; width: 90%; word-wrap: break-word; white-space: normal;\">http://images.amazon.com/images/P/0743204700.01.MZZZZZZZ.jpg</h4><img src=\"http://images.amazon.com/images/P/0743204700.01.MZZZZZZZ.jpg\" style=\"margin: 1px; width: 130px; border: 2px solid #ddd;\"/></div>"
      ],
      "text/plain": [
       "<IPython.core.display.HTML object>"
      ]
     },
     "metadata": {},
     "output_type": "display_data"
    }
   ],
   "source": [
    "np.random.seed(514) # random seed for reproducibility\n",
    "title = small_bdf.iloc[np.random.randint(sim_df.shape[0])]['title'] # random title\n",
    "print ('Because you read: ', title)\n",
    "cb_rec(title) # make recommendations"
   ]
  },
  {
   "cell_type": "markdown",
   "metadata": {},
   "source": [
    "As expected, content based recommender keeps you in your comfort zone. Look at the recommenation for the random title generated. They are all from the same author, not to mention the same title with a different ISBN! This tells us two things:\n",
    "1. Our content based recommender works, with title, author and publisher only, this is not bad!\n",
    "2. Top recommendations will be really similar to each other.\n",
    "\n",
    "**Many sources argue that one of content based recommender's weakness is that it only recommends item within the same genre. But I think that it is a problem that is easy to overcome. Instead of recommending the most similar items, we could mix in items that are neutral or not similar to the seed item on purpose. We can easily implement it by picking itmes that are in the middle or towards the end of the sorted similar items list.**\n",
    "\n",
    "It is worth noting that out of the 9,600 books selected to make this recommender, there are 300 books that have less than 20 similarity scores. This shows that with **very limited information about a large amount of book**, it is highly likely that **some books will have features that are one of a kind, thus yielding 0 similarity scores with other books. If so, this book will not likely be recommended by the algorithm. And recommendation based on such books will be random.**\n",
    "\n",
    "And, it will indeed be **expensive to compute similarity scores of over 270,000 books based on hundreds of thousands of features**! Not to mention, so far, we are still defining user preference indirectly via item features. This is a good start when we don't have many users to cross reference. But, since we do have an interaction table, let's **incorporate users' preference directly from their interactions with the items!**"
   ]
  },
  {
   "cell_type": "markdown",
   "metadata": {},
   "source": [
    "[back to top](#toc)\n",
    "\n",
    "<a id = 'cf'></a>\n",
    "## 5. Collaborative Filtering\n",
    "Collaborative filtering(CF) puts emphasis on **\"Collaborative\"**. Users' tastes are more objectively reflected in their interaction with the items. Therefore, to guess what we may like, we can examine our own past behaviors as well as similar users' past behaviors. There are maily two categories in CF.\n",
    "1. **Memory-based method**: caculate similarity measures between users or items, predicts new ratings based on both the similarity measures and past ratings. KNN is a popular algorithm for this task.\n",
    "    1. **User-User**: to predict user U's rating R for item I, find users that are similar to U, and sum up similarity weighted R for I from these users. Similar to content based filtering as in it uses similarities between items to make recommendations. The difference is the similarity is calculated based one ratings alone, rather than item metadata as we have seen earlier. The method only works when there is enough interaction data. Also, just like content based, the similarity matrix is large and sparse, and can be expensive to calculate.\n",
    "    2. **Item-Item**: to predict user U's rating R for item I, find items that are similar to I, and sum up similarity weighted R for these items from U.\n",
    "2. **Matrix-based method**:\n",
    "    1. **SVD**: borrowing the idea from SVD, this method assumes that there is a user matrix that represents user preference's for latent factors of items. There is also a matrix that represents items' loading for each latent factors. And the product of both will yield the interaction table that we observe.\n",
    "    \n",
    "**Surprise** is a Python library that specializes in recommender system. We will use their implementaitons for collaborative filtering"
   ]
  },
  {
   "cell_type": "markdown",
   "metadata": {},
   "source": [
    "<a id = 'cf-knn'></a>\n",
    "### 5.1. Memory based: KNN\n",
    "There are following KNN algorithms to choose from:\n",
    "1. **KNNBasic**: similarity weighted rating\n",
    "2. **KNNWithMeans**: similarity weighted rating adjusted by user bias (average)\n",
    "3. **KNNWithZScore**: similarity weighted rating adjusted by user bias (average and scale)\n",
    "4. **KNNBasline**: similarity wieghted rating adjusted by user-item pair baseline measures\n",
    "\n",
    "There are following similarity options to choose from:\n",
    "1. **cosine**:\tcosine similarity between all pairs of users (or items).\n",
    "2. **msd**:\tMean Squared Difference(between user ratings on the same item) similarity between all pairs of users (or items).\n",
    "3. **pearson**:\tPearson correlation coefficient(mean centered cosine similarity) between all pairs of users (or items).\n",
    "4. **pearson_baseline**: (shrunk) Pearson correlation coefficient (basline centered cosine similarity) between all pairs of users (or items).\n",
    "\n",
    "Evaluation metrics: \n",
    "1. RMSE/MSE: (Root) Mean Square Errors\n",
    "2. MAE: Mean Absolute Errors\n"
   ]
  },
  {
   "cell_type": "code",
   "execution_count": 65,
   "metadata": {},
   "outputs": [],
   "source": [
    "# create data to be used by Surprise\n",
    "reader = Reader(rating_scale=(0,10))\n",
    "data = Dataset.load_from_df(idf[['uid', 'isbn', 'rating']], reader)"
   ]
  },
  {
   "cell_type": "code",
   "execution_count": 63,
   "metadata": {
    "collapsed": true
   },
   "outputs": [
    {
     "name": "stdout",
     "output_type": "stream",
     "text": [
      "Computing the msd similarity matrix...\n",
      "Done computing similarity matrix.\n",
      "Computing the msd similarity matrix...\n",
      "Done computing similarity matrix.\n",
      "Computing the msd similarity matrix...\n",
      "Done computing similarity matrix.\n",
      "Computing the msd similarity matrix...\n",
      "Done computing similarity matrix.\n",
      "Computing the msd similarity matrix...\n",
      "Done computing similarity matrix.\n",
      "Computing the msd similarity matrix...\n",
      "Done computing similarity matrix.\n",
      "Computing the msd similarity matrix...\n",
      "Done computing similarity matrix.\n",
      "Computing the msd similarity matrix...\n",
      "Done computing similarity matrix.\n",
      "Computing the msd similarity matrix...\n",
      "Done computing similarity matrix.\n",
      "Computing the msd similarity matrix...\n",
      "Done computing similarity matrix.\n",
      "Computing the msd similarity matrix...\n",
      "Done computing similarity matrix.\n",
      "Computing the msd similarity matrix...\n",
      "Done computing similarity matrix.\n",
      "Computing the msd similarity matrix...\n",
      "Done computing similarity matrix.\n",
      "Computing the msd similarity matrix...\n",
      "Done computing similarity matrix.\n",
      "Computing the msd similarity matrix...\n",
      "Done computing similarity matrix.\n",
      "Computing the msd similarity matrix...\n",
      "Done computing similarity matrix.\n",
      "Computing the msd similarity matrix...\n",
      "Done computing similarity matrix.\n",
      "Computing the msd similarity matrix...\n",
      "Done computing similarity matrix.\n",
      "Computing the msd similarity matrix...\n",
      "Done computing similarity matrix.\n",
      "Computing the msd similarity matrix...\n",
      "Done computing similarity matrix.\n",
      "Computing the msd similarity matrix...\n",
      "Done computing similarity matrix.\n",
      "Computing the msd similarity matrix...\n",
      "Done computing similarity matrix.\n",
      "Computing the msd similarity matrix...\n",
      "Done computing similarity matrix.\n",
      "Computing the msd similarity matrix...\n",
      "Done computing similarity matrix.\n",
      "Computing the msd similarity matrix...\n",
      "Done computing similarity matrix.\n",
      "Computing the msd similarity matrix...\n",
      "Done computing similarity matrix.\n",
      "Computing the msd similarity matrix...\n",
      "Done computing similarity matrix.\n",
      "Computing the msd similarity matrix...\n",
      "Done computing similarity matrix.\n",
      "Computing the msd similarity matrix...\n",
      "Done computing similarity matrix.\n",
      "Computing the msd similarity matrix...\n",
      "Done computing similarity matrix.\n",
      "Computing the cosine similarity matrix...\n"
     ]
    },
    {
     "name": "stderr",
     "output_type": "stream",
     "text": [
      "//anaconda3/lib/python3.7/site-packages/surprise/prediction_algorithms/algo_base.py:248: RuntimeWarning: invalid value encountered in double_scalars\n",
      "  sim = construction_func[name](*args)\n"
     ]
    },
    {
     "name": "stdout",
     "output_type": "stream",
     "text": [
      "Done computing similarity matrix.\n",
      "Computing the cosine similarity matrix...\n",
      "Done computing similarity matrix.\n",
      "Computing the cosine similarity matrix...\n",
      "Done computing similarity matrix.\n",
      "Computing the cosine similarity matrix...\n",
      "Done computing similarity matrix.\n",
      "Computing the cosine similarity matrix...\n",
      "Done computing similarity matrix.\n",
      "Computing the cosine similarity matrix...\n",
      "Done computing similarity matrix.\n",
      "Computing the cosine similarity matrix...\n",
      "Done computing similarity matrix.\n",
      "Computing the cosine similarity matrix...\n",
      "Done computing similarity matrix.\n",
      "Computing the cosine similarity matrix...\n",
      "Done computing similarity matrix.\n",
      "Computing the cosine similarity matrix...\n",
      "Done computing similarity matrix.\n",
      "Computing the cosine similarity matrix...\n",
      "Done computing similarity matrix.\n",
      "Computing the cosine similarity matrix...\n",
      "Done computing similarity matrix.\n",
      "Computing the cosine similarity matrix...\n",
      "Done computing similarity matrix.\n",
      "Computing the cosine similarity matrix...\n",
      "Done computing similarity matrix.\n",
      "Computing the cosine similarity matrix...\n",
      "Done computing similarity matrix.\n",
      "Computing the cosine similarity matrix...\n",
      "Done computing similarity matrix.\n",
      "Computing the cosine similarity matrix...\n",
      "Done computing similarity matrix.\n",
      "Computing the cosine similarity matrix...\n",
      "Done computing similarity matrix.\n",
      "Computing the cosine similarity matrix...\n",
      "Done computing similarity matrix.\n",
      "Computing the cosine similarity matrix...\n",
      "Done computing similarity matrix.\n",
      "Computing the cosine similarity matrix...\n",
      "Done computing similarity matrix.\n",
      "Computing the cosine similarity matrix...\n",
      "Done computing similarity matrix.\n",
      "Computing the cosine similarity matrix...\n",
      "Done computing similarity matrix.\n",
      "Computing the cosine similarity matrix...\n",
      "Done computing similarity matrix.\n",
      "Computing the cosine similarity matrix...\n",
      "Done computing similarity matrix.\n",
      "Computing the cosine similarity matrix...\n",
      "Done computing similarity matrix.\n",
      "Computing the cosine similarity matrix...\n",
      "Done computing similarity matrix.\n",
      "Computing the cosine similarity matrix...\n",
      "Done computing similarity matrix.\n",
      "Computing the cosine similarity matrix...\n",
      "Done computing similarity matrix.\n",
      "Computing the cosine similarity matrix...\n",
      "Done computing similarity matrix.\n",
      "Computing the pearson similarity matrix...\n",
      "Done computing similarity matrix.\n",
      "Computing the pearson similarity matrix...\n",
      "Done computing similarity matrix.\n",
      "Computing the pearson similarity matrix...\n",
      "Done computing similarity matrix.\n",
      "Computing the pearson similarity matrix...\n",
      "Done computing similarity matrix.\n",
      "Computing the pearson similarity matrix...\n",
      "Done computing similarity matrix.\n",
      "Computing the pearson similarity matrix...\n",
      "Done computing similarity matrix.\n",
      "Computing the pearson similarity matrix...\n",
      "Done computing similarity matrix.\n",
      "Computing the pearson similarity matrix...\n",
      "Done computing similarity matrix.\n",
      "Computing the pearson similarity matrix...\n",
      "Done computing similarity matrix.\n",
      "Computing the pearson similarity matrix...\n",
      "Done computing similarity matrix.\n",
      "Computing the pearson similarity matrix...\n",
      "Done computing similarity matrix.\n",
      "Computing the pearson similarity matrix...\n",
      "Done computing similarity matrix.\n",
      "Computing the pearson similarity matrix...\n",
      "Done computing similarity matrix.\n",
      "Computing the pearson similarity matrix...\n",
      "Done computing similarity matrix.\n",
      "Computing the pearson similarity matrix...\n",
      "Done computing similarity matrix.\n",
      "Computing the pearson similarity matrix...\n",
      "Done computing similarity matrix.\n",
      "Computing the pearson similarity matrix...\n",
      "Done computing similarity matrix.\n",
      "Computing the pearson similarity matrix...\n",
      "Done computing similarity matrix.\n",
      "Computing the pearson similarity matrix...\n",
      "Done computing similarity matrix.\n",
      "Computing the pearson similarity matrix...\n",
      "Done computing similarity matrix.\n",
      "Computing the pearson similarity matrix...\n",
      "Done computing similarity matrix.\n",
      "Computing the pearson similarity matrix...\n",
      "Done computing similarity matrix.\n",
      "Computing the pearson similarity matrix...\n",
      "Done computing similarity matrix.\n",
      "Computing the pearson similarity matrix...\n",
      "Done computing similarity matrix.\n",
      "Computing the pearson similarity matrix...\n",
      "Done computing similarity matrix.\n",
      "Computing the pearson similarity matrix...\n",
      "Done computing similarity matrix.\n",
      "Computing the pearson similarity matrix...\n",
      "Done computing similarity matrix.\n",
      "Computing the pearson similarity matrix...\n",
      "Done computing similarity matrix.\n",
      "Computing the pearson similarity matrix...\n",
      "Done computing similarity matrix.\n",
      "Computing the pearson similarity matrix...\n",
      "Done computing similarity matrix.\n",
      "Estimating biases using als...\n",
      "Computing the pearson_baseline similarity matrix...\n",
      "Done computing similarity matrix.\n",
      "Estimating biases using als...\n",
      "Computing the pearson_baseline similarity matrix...\n",
      "Done computing similarity matrix.\n",
      "Estimating biases using als...\n",
      "Computing the pearson_baseline similarity matrix...\n",
      "Done computing similarity matrix.\n",
      "Estimating biases using als...\n",
      "Computing the pearson_baseline similarity matrix...\n",
      "Done computing similarity matrix.\n",
      "Estimating biases using als...\n",
      "Computing the pearson_baseline similarity matrix...\n",
      "Done computing similarity matrix.\n",
      "Estimating biases using als...\n",
      "Computing the pearson_baseline similarity matrix...\n",
      "Done computing similarity matrix.\n",
      "Estimating biases using als...\n",
      "Computing the pearson_baseline similarity matrix...\n",
      "Done computing similarity matrix.\n",
      "Estimating biases using als...\n",
      "Computing the pearson_baseline similarity matrix...\n",
      "Done computing similarity matrix.\n",
      "Estimating biases using als...\n",
      "Computing the pearson_baseline similarity matrix...\n",
      "Done computing similarity matrix.\n",
      "Estimating biases using als...\n",
      "Computing the pearson_baseline similarity matrix...\n",
      "Done computing similarity matrix.\n",
      "Estimating biases using als...\n",
      "Computing the pearson_baseline similarity matrix...\n",
      "Done computing similarity matrix.\n",
      "Estimating biases using als...\n",
      "Computing the pearson_baseline similarity matrix...\n",
      "Done computing similarity matrix.\n",
      "Estimating biases using als...\n",
      "Computing the pearson_baseline similarity matrix...\n",
      "Done computing similarity matrix.\n",
      "Estimating biases using als...\n",
      "Computing the pearson_baseline similarity matrix...\n",
      "Done computing similarity matrix.\n",
      "Estimating biases using als...\n",
      "Computing the pearson_baseline similarity matrix...\n",
      "Done computing similarity matrix.\n",
      "Estimating biases using als...\n",
      "Computing the pearson_baseline similarity matrix...\n",
      "Done computing similarity matrix.\n",
      "Estimating biases using als...\n",
      "Computing the pearson_baseline similarity matrix...\n",
      "Done computing similarity matrix.\n",
      "Estimating biases using als...\n",
      "Computing the pearson_baseline similarity matrix...\n",
      "Done computing similarity matrix.\n",
      "Estimating biases using als...\n",
      "Computing the pearson_baseline similarity matrix...\n",
      "Done computing similarity matrix.\n",
      "Estimating biases using als...\n",
      "Computing the pearson_baseline similarity matrix...\n",
      "Done computing similarity matrix.\n",
      "Estimating biases using als...\n",
      "Computing the pearson_baseline similarity matrix...\n",
      "Done computing similarity matrix.\n",
      "Estimating biases using als...\n",
      "Computing the pearson_baseline similarity matrix...\n",
      "Done computing similarity matrix.\n",
      "Estimating biases using als...\n",
      "Computing the pearson_baseline similarity matrix...\n",
      "Done computing similarity matrix.\n",
      "Estimating biases using als...\n",
      "Computing the pearson_baseline similarity matrix...\n",
      "Done computing similarity matrix.\n",
      "Estimating biases using als...\n",
      "Computing the pearson_baseline similarity matrix...\n",
      "Done computing similarity matrix.\n",
      "Estimating biases using als...\n",
      "Computing the pearson_baseline similarity matrix...\n",
      "Done computing similarity matrix.\n",
      "Estimating biases using als...\n",
      "Computing the pearson_baseline similarity matrix...\n",
      "Done computing similarity matrix.\n",
      "Estimating biases using als...\n",
      "Computing the pearson_baseline similarity matrix...\n",
      "Done computing similarity matrix.\n",
      "Estimating biases using als...\n",
      "Computing the pearson_baseline similarity matrix...\n",
      "Done computing similarity matrix.\n",
      "Estimating biases using als...\n",
      "Computing the pearson_baseline similarity matrix...\n",
      "Done computing similarity matrix.\n",
      "3.4141240864191964\n",
      "{'sim_options': {'name': 'pearson_baseline', 'min_support': 1, 'user_based': False}}\n"
     ]
    }
   ],
   "source": [
    "# use gridsearch and cross validation to find the best parameters for KNN based recommender system\n",
    "sim_options = {\"name\": [\"msd\", \"cosine\", 'pearson', 'pearson_baseline'], #similarity measure\n",
    "               \"min_support\": [1, 3, 5], #minimum number of user/item pairs to calculate similarity\n",
    "               \"user_based\": [False, True],} #user/item\n",
    "\n",
    "param_grid = {\"sim_options\": sim_options}\n",
    "\n",
    "gs = GridSearchCV(KNNWithMeans, param_grid, measures=[\"rmse\", \"mae\"], cv=5)\n",
    "gs.fit(data)\n",
    "\n",
    "print(gs.best_score[\"rmse\"])\n",
    "print(gs.best_params[\"rmse\"])"
   ]
  },
  {
   "cell_type": "code",
   "execution_count": 64,
   "metadata": {},
   "outputs": [
    {
     "data": {
      "text/plain": [
       "{'rmse': 3.4141240864191964, 'mae': 2.57537949368162}"
      ]
     },
     "execution_count": 64,
     "metadata": {},
     "output_type": "execute_result"
    }
   ],
   "source": [
    "gs.best_score"
   ]
  },
  {
   "cell_type": "code",
   "execution_count": 65,
   "metadata": {},
   "outputs": [
    {
     "data": {
      "text/plain": [
       "{'rmse': {'sim_options': {'name': 'pearson_baseline',\n",
       "   'min_support': 1,\n",
       "   'user_based': False}},\n",
       " 'mae': {'sim_options': {'name': 'pearson_baseline',\n",
       "   'min_support': 1,\n",
       "   'user_based': False}}}"
      ]
     },
     "execution_count": 65,
     "metadata": {},
     "output_type": "execute_result"
    }
   ],
   "source": [
    "gs.best_params"
   ]
  },
  {
   "cell_type": "code",
   "execution_count": 76,
   "metadata": {
    "scrolled": false
   },
   "outputs": [],
   "source": [
    "gs_result = pd.DataFrame.from_dict(gs.cv_results)\n",
    "gs_result = pd.concat([gs_result[['mean_test_rmse', 'mean_test_mae', 'mean_fit_time']], \n",
    "           gs_result.param_sim_options.apply(pd.Series)], axis = 1)"
   ]
  },
  {
   "cell_type": "code",
   "execution_count": 97,
   "metadata": {},
   "outputs": [
    {
     "data": {
      "text/html": [
       "<div>\n",
       "<style scoped>\n",
       "    .dataframe tbody tr th:only-of-type {\n",
       "        vertical-align: middle;\n",
       "    }\n",
       "\n",
       "    .dataframe tbody tr th {\n",
       "        vertical-align: top;\n",
       "    }\n",
       "\n",
       "    .dataframe thead th {\n",
       "        text-align: right;\n",
       "    }\n",
       "</style>\n",
       "<table border=\"1\" class=\"dataframe\">\n",
       "  <thead>\n",
       "    <tr style=\"text-align: right;\">\n",
       "      <th></th>\n",
       "      <th>mean_test_rmse</th>\n",
       "      <th>mean_test_mae</th>\n",
       "      <th>mean_fit_time</th>\n",
       "      <th>min_support</th>\n",
       "    </tr>\n",
       "    <tr>\n",
       "      <th>user_based</th>\n",
       "      <th></th>\n",
       "      <th></th>\n",
       "      <th></th>\n",
       "      <th></th>\n",
       "    </tr>\n",
       "  </thead>\n",
       "  <tbody>\n",
       "    <tr>\n",
       "      <th>False</th>\n",
       "      <td>3.467265</td>\n",
       "      <td>2.599727</td>\n",
       "      <td>3.242492</td>\n",
       "      <td>3</td>\n",
       "    </tr>\n",
       "    <tr>\n",
       "      <th>True</th>\n",
       "      <td>3.520523</td>\n",
       "      <td>2.639943</td>\n",
       "      <td>3.092748</td>\n",
       "      <td>3</td>\n",
       "    </tr>\n",
       "  </tbody>\n",
       "</table>\n",
       "</div>"
      ],
      "text/plain": [
       "            mean_test_rmse  mean_test_mae  mean_fit_time  min_support\n",
       "user_based                                                           \n",
       "False             3.467265       2.599727       3.242492            3\n",
       "True              3.520523       2.639943       3.092748            3"
      ]
     },
     "execution_count": 97,
     "metadata": {},
     "output_type": "execute_result"
    }
   ],
   "source": [
    "# user-based vs. item-based\n",
    "gs_result.groupby('user_based').mean()"
   ]
  },
  {
   "cell_type": "code",
   "execution_count": 45,
   "metadata": {},
   "outputs": [
    {
     "name": "stdout",
     "output_type": "stream",
     "text": [
      "On average, each user rated 45.66230677764566 book, and each book has 71.33498452012384 ratings\n"
     ]
    }
   ],
   "source": [
    "print('On average, each user rated {} book, and each book has {} ratings'.format(\n",
    "    idf.groupby('uid').isbn.count().mean(),\n",
    "    idf.groupby('isbn').uid.count().mean()))"
   ]
  },
  {
   "cell_type": "code",
   "execution_count": 96,
   "metadata": {},
   "outputs": [
    {
     "data": {
      "text/html": [
       "<div>\n",
       "<style scoped>\n",
       "    .dataframe tbody tr th:only-of-type {\n",
       "        vertical-align: middle;\n",
       "    }\n",
       "\n",
       "    .dataframe tbody tr th {\n",
       "        vertical-align: top;\n",
       "    }\n",
       "\n",
       "    .dataframe thead th {\n",
       "        text-align: right;\n",
       "    }\n",
       "</style>\n",
       "<table border=\"1\" class=\"dataframe\">\n",
       "  <thead>\n",
       "    <tr style=\"text-align: right;\">\n",
       "      <th></th>\n",
       "      <th>mean_test_rmse</th>\n",
       "      <th>mean_test_mae</th>\n",
       "      <th>mean_fit_time</th>\n",
       "      <th>user_based</th>\n",
       "    </tr>\n",
       "    <tr>\n",
       "      <th>min_support</th>\n",
       "      <th></th>\n",
       "      <th></th>\n",
       "      <th></th>\n",
       "      <th></th>\n",
       "    </tr>\n",
       "  </thead>\n",
       "  <tbody>\n",
       "    <tr>\n",
       "      <th>1</th>\n",
       "      <td>3.468020</td>\n",
       "      <td>2.612060</td>\n",
       "      <td>4.711565</td>\n",
       "      <td>0.5</td>\n",
       "    </tr>\n",
       "    <tr>\n",
       "      <th>3</th>\n",
       "      <td>3.487855</td>\n",
       "      <td>2.617279</td>\n",
       "      <td>2.780260</td>\n",
       "      <td>0.5</td>\n",
       "    </tr>\n",
       "    <tr>\n",
       "      <th>5</th>\n",
       "      <td>3.525807</td>\n",
       "      <td>2.630166</td>\n",
       "      <td>2.011034</td>\n",
       "      <td>0.5</td>\n",
       "    </tr>\n",
       "  </tbody>\n",
       "</table>\n",
       "</div>"
      ],
      "text/plain": [
       "             mean_test_rmse  mean_test_mae  mean_fit_time  user_based\n",
       "min_support                                                          \n",
       "1                  3.468020       2.612060       4.711565         0.5\n",
       "3                  3.487855       2.617279       2.780260         0.5\n",
       "5                  3.525807       2.630166       2.011034         0.5"
      ]
     },
     "execution_count": 96,
     "metadata": {},
     "output_type": "execute_result"
    }
   ],
   "source": [
    "# min pairs or users or items to calculate similarity between items or users\n",
    "gs_result.groupby('min_support').mean()"
   ]
  },
  {
   "cell_type": "code",
   "execution_count": 95,
   "metadata": {},
   "outputs": [
    {
     "data": {
      "text/html": [
       "<div>\n",
       "<style scoped>\n",
       "    .dataframe tbody tr th:only-of-type {\n",
       "        vertical-align: middle;\n",
       "    }\n",
       "\n",
       "    .dataframe tbody tr th {\n",
       "        vertical-align: top;\n",
       "    }\n",
       "\n",
       "    .dataframe thead th {\n",
       "        text-align: right;\n",
       "    }\n",
       "</style>\n",
       "<table border=\"1\" class=\"dataframe\">\n",
       "  <thead>\n",
       "    <tr style=\"text-align: right;\">\n",
       "      <th></th>\n",
       "      <th>mean_test_rmse</th>\n",
       "      <th>mean_test_mae</th>\n",
       "      <th>mean_fit_time</th>\n",
       "      <th>min_support</th>\n",
       "      <th>user_based</th>\n",
       "    </tr>\n",
       "    <tr>\n",
       "      <th>name</th>\n",
       "      <th></th>\n",
       "      <th></th>\n",
       "      <th></th>\n",
       "      <th></th>\n",
       "      <th></th>\n",
       "    </tr>\n",
       "  </thead>\n",
       "  <tbody>\n",
       "    <tr>\n",
       "      <th>cosine</th>\n",
       "      <td>3.499795</td>\n",
       "      <td>2.620040</td>\n",
       "      <td>4.649430</td>\n",
       "      <td>3</td>\n",
       "      <td>0.5</td>\n",
       "    </tr>\n",
       "    <tr>\n",
       "      <th>msd</th>\n",
       "      <td>3.488660</td>\n",
       "      <td>2.636757</td>\n",
       "      <td>0.836695</td>\n",
       "      <td>3</td>\n",
       "      <td>0.5</td>\n",
       "    </tr>\n",
       "    <tr>\n",
       "      <th>pearson</th>\n",
       "      <td>3.524001</td>\n",
       "      <td>2.623099</td>\n",
       "      <td>4.108457</td>\n",
       "      <td>3</td>\n",
       "      <td>0.5</td>\n",
       "    </tr>\n",
       "    <tr>\n",
       "      <th>pearson_baseline</th>\n",
       "      <td>3.463119</td>\n",
       "      <td>2.599445</td>\n",
       "      <td>3.075898</td>\n",
       "      <td>3</td>\n",
       "      <td>0.5</td>\n",
       "    </tr>\n",
       "  </tbody>\n",
       "</table>\n",
       "</div>"
      ],
      "text/plain": [
       "                  mean_test_rmse  mean_test_mae  mean_fit_time  min_support  \\\n",
       "name                                                                          \n",
       "cosine                  3.499795       2.620040       4.649430            3   \n",
       "msd                     3.488660       2.636757       0.836695            3   \n",
       "pearson                 3.524001       2.623099       4.108457            3   \n",
       "pearson_baseline        3.463119       2.599445       3.075898            3   \n",
       "\n",
       "                  user_based  \n",
       "name                          \n",
       "cosine                   0.5  \n",
       "msd                      0.5  \n",
       "pearson                  0.5  \n",
       "pearson_baseline         0.5  "
      ]
     },
     "execution_count": 95,
     "metadata": {},
     "output_type": "execute_result"
    }
   ],
   "source": [
    "# similarity measures\n",
    "gs_result.groupby('name').mean()"
   ]
  },
  {
   "cell_type": "markdown",
   "metadata": {},
   "source": [
    "We observe above that:\n",
    "0. The best RMSE score is 3.41, indicating, on average, predicted ratings are 3.41 points off. \n",
    "1. **Item based** CF has slight better performance - due to there are **more ratings per book** compare to ratings per user, making similarity measure **more stable** for books.\n",
    "2. More stringent requirement for minimum number of common pairs needed to calculate similarity measures between user/item has worse performance. With sparse matrix, **anything is better than nothing**. Even though the similarity calculated with more pairs is more stable, when it is difficult to find as many pairs, even one pair helps.\n",
    "3. **Pearson_basiline** yields the best performance, possibly due to taking into consideration baseline bias. It is worth noting that 'msd' yields good reasult for considerably less fit time. A good point for prototyping."
   ]
  },
  {
   "cell_type": "code",
   "execution_count": 62,
   "metadata": {},
   "outputs": [
    {
     "data": {
      "text/plain": [
       "(2523, 1615)"
      ]
     },
     "execution_count": 62,
     "metadata": {},
     "output_type": "execute_result"
    }
   ],
   "source": [
    "# create ratings df\n",
    "rdf = idf.pivot(index='uid', columns='isbn', values='rating')\n",
    "rdf.shape"
   ]
  },
  {
   "cell_type": "code",
   "execution_count": 63,
   "metadata": {},
   "outputs": [
    {
     "data": {
      "text/html": [
       "<div>\n",
       "<style scoped>\n",
       "    .dataframe tbody tr th:only-of-type {\n",
       "        vertical-align: middle;\n",
       "    }\n",
       "\n",
       "    .dataframe tbody tr th {\n",
       "        vertical-align: top;\n",
       "    }\n",
       "\n",
       "    .dataframe thead th {\n",
       "        text-align: right;\n",
       "    }\n",
       "</style>\n",
       "<table border=\"1\" class=\"dataframe\">\n",
       "  <thead>\n",
       "    <tr style=\"text-align: right;\">\n",
       "      <th>isbn</th>\n",
       "      <th>000649840X</th>\n",
       "      <th>002026478X</th>\n",
       "      <th>0020442203</th>\n",
       "      <th>002542730X</th>\n",
       "      <th>0028604199</th>\n",
       "      <th>006000438X</th>\n",
       "      <th>0060008032</th>\n",
       "      <th>0060008776</th>\n",
       "      <th>0060085444</th>\n",
       "      <th>0060090367</th>\n",
       "      <th>...</th>\n",
       "      <th>1573229571</th>\n",
       "      <th>1573229725</th>\n",
       "      <th>1576737330</th>\n",
       "      <th>1592400876</th>\n",
       "      <th>1857022424</th>\n",
       "      <th>1878424319</th>\n",
       "      <th>1885171080</th>\n",
       "      <th>1931561648</th>\n",
       "      <th>3442541751</th>\n",
       "      <th>3492045170</th>\n",
       "    </tr>\n",
       "    <tr>\n",
       "      <th>uid</th>\n",
       "      <th></th>\n",
       "      <th></th>\n",
       "      <th></th>\n",
       "      <th></th>\n",
       "      <th></th>\n",
       "      <th></th>\n",
       "      <th></th>\n",
       "      <th></th>\n",
       "      <th></th>\n",
       "      <th></th>\n",
       "      <th></th>\n",
       "      <th></th>\n",
       "      <th></th>\n",
       "      <th></th>\n",
       "      <th></th>\n",
       "      <th></th>\n",
       "      <th></th>\n",
       "      <th></th>\n",
       "      <th></th>\n",
       "      <th></th>\n",
       "      <th></th>\n",
       "    </tr>\n",
       "  </thead>\n",
       "  <tbody>\n",
       "    <tr>\n",
       "      <th>243</th>\n",
       "      <td>NaN</td>\n",
       "      <td>NaN</td>\n",
       "      <td>NaN</td>\n",
       "      <td>NaN</td>\n",
       "      <td>NaN</td>\n",
       "      <td>NaN</td>\n",
       "      <td>NaN</td>\n",
       "      <td>NaN</td>\n",
       "      <td>NaN</td>\n",
       "      <td>NaN</td>\n",
       "      <td>...</td>\n",
       "      <td>NaN</td>\n",
       "      <td>NaN</td>\n",
       "      <td>NaN</td>\n",
       "      <td>NaN</td>\n",
       "      <td>NaN</td>\n",
       "      <td>NaN</td>\n",
       "      <td>NaN</td>\n",
       "      <td>NaN</td>\n",
       "      <td>NaN</td>\n",
       "      <td>NaN</td>\n",
       "    </tr>\n",
       "    <tr>\n",
       "      <th>114444</th>\n",
       "      <td>NaN</td>\n",
       "      <td>NaN</td>\n",
       "      <td>NaN</td>\n",
       "      <td>NaN</td>\n",
       "      <td>NaN</td>\n",
       "      <td>NaN</td>\n",
       "      <td>NaN</td>\n",
       "      <td>NaN</td>\n",
       "      <td>NaN</td>\n",
       "      <td>NaN</td>\n",
       "      <td>...</td>\n",
       "      <td>NaN</td>\n",
       "      <td>NaN</td>\n",
       "      <td>NaN</td>\n",
       "      <td>NaN</td>\n",
       "      <td>NaN</td>\n",
       "      <td>NaN</td>\n",
       "      <td>NaN</td>\n",
       "      <td>NaN</td>\n",
       "      <td>NaN</td>\n",
       "      <td>NaN</td>\n",
       "    </tr>\n",
       "    <tr>\n",
       "      <th>223787</th>\n",
       "      <td>NaN</td>\n",
       "      <td>NaN</td>\n",
       "      <td>NaN</td>\n",
       "      <td>NaN</td>\n",
       "      <td>NaN</td>\n",
       "      <td>NaN</td>\n",
       "      <td>NaN</td>\n",
       "      <td>NaN</td>\n",
       "      <td>NaN</td>\n",
       "      <td>NaN</td>\n",
       "      <td>...</td>\n",
       "      <td>NaN</td>\n",
       "      <td>NaN</td>\n",
       "      <td>NaN</td>\n",
       "      <td>0.0</td>\n",
       "      <td>NaN</td>\n",
       "      <td>NaN</td>\n",
       "      <td>NaN</td>\n",
       "      <td>NaN</td>\n",
       "      <td>NaN</td>\n",
       "      <td>NaN</td>\n",
       "    </tr>\n",
       "  </tbody>\n",
       "</table>\n",
       "<p>3 rows × 1615 columns</p>\n",
       "</div>"
      ],
      "text/plain": [
       "isbn    000649840X  002026478X  0020442203  002542730X  0028604199  \\\n",
       "uid                                                                  \n",
       "243            NaN         NaN         NaN         NaN         NaN   \n",
       "114444         NaN         NaN         NaN         NaN         NaN   \n",
       "223787         NaN         NaN         NaN         NaN         NaN   \n",
       "\n",
       "isbn    006000438X  0060008032  0060008776  0060085444  0060090367  ...  \\\n",
       "uid                                                                 ...   \n",
       "243            NaN         NaN         NaN         NaN         NaN  ...   \n",
       "114444         NaN         NaN         NaN         NaN         NaN  ...   \n",
       "223787         NaN         NaN         NaN         NaN         NaN  ...   \n",
       "\n",
       "isbn    1573229571  1573229725  1576737330  1592400876  1857022424  \\\n",
       "uid                                                                  \n",
       "243            NaN         NaN         NaN         NaN         NaN   \n",
       "114444         NaN         NaN         NaN         NaN         NaN   \n",
       "223787         NaN         NaN         NaN         0.0         NaN   \n",
       "\n",
       "isbn    1878424319  1885171080  1931561648  3442541751  3492045170  \n",
       "uid                                                                 \n",
       "243            NaN         NaN         NaN         NaN         NaN  \n",
       "114444         NaN         NaN         NaN         NaN         NaN  \n",
       "223787         NaN         NaN         NaN         NaN         NaN  \n",
       "\n",
       "[3 rows x 1615 columns]"
      ]
     },
     "execution_count": 63,
     "metadata": {},
     "output_type": "execute_result"
    }
   ],
   "source": [
    "rdf.iloc[::1000,:]"
   ]
  },
  {
   "cell_type": "code",
   "execution_count": 106,
   "metadata": {},
   "outputs": [],
   "source": [
    "# make predictions for all the missing user item pairs of the interaction table\n",
    "algo = gs.best_estimator['rmse'] # use the best parameters\n",
    "trainset = data.build_full_trainset() # user the entire interaction table\n",
    "algo.fit(trainset) # refit model on all data\n",
    "testset = trainset.build_anti_testset() # make testset with all missing user item pairs\n",
    "predictions = algo.test(testset) # make predictions\n",
    "pdf = pd.DataFrame(predictions) # save predictions into a dataframe"
   ]
  },
  {
   "cell_type": "code",
   "execution_count": 76,
   "metadata": {},
   "outputs": [],
   "source": [
    "def get_rec_rdf(new_rdf, userid, n=6):   \n",
    "    '''return top N recommendations for a specific user from matrix interaction table'''\n",
    "    userid = str(userid)\n",
    "    \n",
    "    # get rec list\n",
    "    user_rdf = new_rdf[new_rdf['uid'] == userid]\n",
    "    rec_list = user_rdf.sort_values(by = 'est', ascending=False)[:n].iid.tolist()\n",
    "    \n",
    "    # display recommendation\n",
    "    get_n_items(rec_list, n=n)\n",
    "    \n",
    "    return    "
   ]
  },
  {
   "cell_type": "code",
   "execution_count": 106,
   "metadata": {},
   "outputs": [],
   "source": [
    "def get_history(userid, n = 6):\n",
    "    '''display user item interaction history'''\n",
    "    \n",
    "    userid = str(userid)\n",
    "    rated_list = rdf.loc[userid].sort_values(ascending=False)[:n].index\n",
    "    \n",
    "    return get_n_items(rated_list)"
   ]
  },
  {
   "cell_type": "code",
   "execution_count": 107,
   "metadata": {},
   "outputs": [],
   "source": [
    "def get_rec_with_history(userid, n = 6):\n",
    "    '''dislay user item history and recommendations'''\n",
    "    \n",
    "    # display history\n",
    "    print(\"Because you read: \")\n",
    "    get_history(userid=userid, n=n)\n",
    "    \n",
    "    # display recommendation\n",
    "    print (\"\\nYou might also like: \")\n",
    "    get_rec_rdf(pdf, userid, n=n)\n",
    "    \n",
    "    return    "
   ]
  },
  {
   "cell_type": "code",
   "execution_count": 196,
   "metadata": {},
   "outputs": [
    {
     "name": "stdout",
     "output_type": "stream",
     "text": [
      "Because you have read: \n"
     ]
    },
    {
     "data": {
      "text/html": [
       "<div style=\"display: inline-block; width: 150px; vertical-align: top; text-align: center;\"><h4 style=\"font-size: 12px\">Memoirs of a Geisha by Arthur Golden</h4><h4 style=\"font-size: 9px; padding-left: 10px; padding-right: 10px; width: 90%; word-wrap: break-word; white-space: normal;\">http://images.amazon.com/images/P/0375400117.01.MZZZZZZZ.jpg</h4><img src=\"http://images.amazon.com/images/P/0375400117.01.MZZZZZZZ.jpg\" style=\"margin: 1px; width: 130px; border: 2px solid #ddd;\"/></div><div style=\"display: inline-block; width: 150px; vertical-align: top; text-align: center;\"><h4 style=\"font-size: 12px\">The Bean Trees by Barbara Kingsolver</h4><h4 style=\"font-size: 9px; padding-left: 10px; padding-right: 10px; width: 90%; word-wrap: break-word; white-space: normal;\">http://images.amazon.com/images/P/0060915544.01.MZZZZZZZ.jpg</h4><img src=\"http://images.amazon.com/images/P/0060915544.01.MZZZZZZZ.jpg\" style=\"margin: 1px; width: 130px; border: 2px solid #ddd;\"/></div><div style=\"display: inline-block; width: 150px; vertical-align: top; text-align: center;\"><h4 style=\"font-size: 12px\">Me Talk Pretty One Day by David Sedaris</h4><h4 style=\"font-size: 9px; padding-left: 10px; padding-right: 10px; width: 90%; word-wrap: break-word; white-space: normal;\">http://images.amazon.com/images/P/0316776963.01.MZZZZZZZ.jpg</h4><img src=\"http://images.amazon.com/images/P/0316776963.01.MZZZZZZZ.jpg\" style=\"margin: 1px; width: 130px; border: 2px solid #ddd;\"/></div><div style=\"display: inline-block; width: 150px; vertical-align: top; text-align: center;\"><h4 style=\"font-size: 12px\">The Pilot's Wife : A Novel by Anita Shreve</h4><h4 style=\"font-size: 9px; padding-left: 10px; padding-right: 10px; width: 90%; word-wrap: break-word; white-space: normal;\">http://images.amazon.com/images/P/0316601950.01.MZZZZZZZ.jpg</h4><img src=\"http://images.amazon.com/images/P/0316601950.01.MZZZZZZZ.jpg\" style=\"margin: 1px; width: 130px; border: 2px solid #ddd;\"/></div><div style=\"display: inline-block; width: 150px; vertical-align: top; text-align: center;\"><h4 style=\"font-size: 12px\">Unnatural Exposure by Patricia Daniels Cornwell</h4><h4 style=\"font-size: 9px; padding-left: 10px; padding-right: 10px; width: 90%; word-wrap: break-word; white-space: normal;\">http://images.amazon.com/images/P/0425163407.01.MZZZZZZZ.jpg</h4><img src=\"http://images.amazon.com/images/P/0425163407.01.MZZZZZZZ.jpg\" style=\"margin: 1px; width: 130px; border: 2px solid #ddd;\"/></div><div style=\"display: inline-block; width: 150px; vertical-align: top; text-align: center;\"><h4 style=\"font-size: 12px\">The General's Daughter by Nelson DeMille</h4><h4 style=\"font-size: 9px; padding-left: 10px; padding-right: 10px; width: 90%; word-wrap: break-word; white-space: normal;\">http://images.amazon.com/images/P/0446364800.01.MZZZZZZZ.jpg</h4><img src=\"http://images.amazon.com/images/P/0446364800.01.MZZZZZZZ.jpg\" style=\"margin: 1px; width: 130px; border: 2px solid #ddd;\"/></div>"
      ],
      "text/plain": [
       "<IPython.core.display.HTML object>"
      ]
     },
     "metadata": {},
     "output_type": "display_data"
    },
    {
     "name": "stdout",
     "output_type": "stream",
     "text": [
      "\n",
      "You might also like: \n"
     ]
    },
    {
     "data": {
      "text/html": [
       "<div style=\"display: inline-block; width: 150px; vertical-align: top; text-align: center;\"><h4 style=\"font-size: 12px\">Memoirs of a Geisha Uk by Arthur Golden</h4><h4 style=\"font-size: 9px; padding-left: 10px; padding-right: 10px; width: 90%; word-wrap: break-word; white-space: normal;\">http://images.amazon.com/images/P/0099771519.01.MZZZZZZZ.jpg</h4><img src=\"http://images.amazon.com/images/P/0099771519.01.MZZZZZZZ.jpg\" style=\"margin: 1px; width: 130px; border: 2px solid #ddd;\"/></div><div style=\"display: inline-block; width: 150px; vertical-align: top; text-align: center;\"><h4 style=\"font-size: 12px\">Balzac and the Little Chinese Seamstress by Dai Sijie</h4><h4 style=\"font-size: 9px; padding-left: 10px; padding-right: 10px; width: 90%; word-wrap: break-word; white-space: normal;\">http://images.amazon.com/images/P/037541309X.01.MZZZZZZZ.jpg</h4><img src=\"http://images.amazon.com/images/P/037541309X.01.MZZZZZZZ.jpg\" style=\"margin: 1px; width: 130px; border: 2px solid #ddd;\"/></div><div style=\"display: inline-block; width: 150px; vertical-align: top; text-align: center;\"><h4 style=\"font-size: 12px\">Harry Potter and the Prisoner of Azkaban (Book 3) by J. K. Rowling</h4><h4 style=\"font-size: 9px; padding-left: 10px; padding-right: 10px; width: 90%; word-wrap: break-word; white-space: normal;\">http://images.amazon.com/images/P/0439136350.01.MZZZZZZZ.jpg</h4><img src=\"http://images.amazon.com/images/P/0439136350.01.MZZZZZZZ.jpg\" style=\"margin: 1px; width: 130px; border: 2px solid #ddd;\"/></div><div style=\"display: inline-block; width: 150px; vertical-align: top; text-align: center;\"><h4 style=\"font-size: 12px\">Harry Potter and the Goblet of Fire (Book 4) by J. K. Rowling</h4><h4 style=\"font-size: 9px; padding-left: 10px; padding-right: 10px; width: 90%; word-wrap: break-word; white-space: normal;\">http://images.amazon.com/images/P/0439139597.01.MZZZZZZZ.jpg</h4><img src=\"http://images.amazon.com/images/P/0439139597.01.MZZZZZZZ.jpg\" style=\"margin: 1px; width: 130px; border: 2px solid #ddd;\"/></div><div style=\"display: inline-block; width: 150px; vertical-align: top; text-align: center;\"><h4 style=\"font-size: 12px\">Gone with the Wind by Margaret Mitchell</h4><h4 style=\"font-size: 9px; padding-left: 10px; padding-right: 10px; width: 90%; word-wrap: break-word; white-space: normal;\">http://images.amazon.com/images/P/0446365386.01.MZZZZZZZ.jpg</h4><img src=\"http://images.amazon.com/images/P/0446365386.01.MZZZZZZZ.jpg\" style=\"margin: 1px; width: 130px; border: 2px solid #ddd;\"/></div><div style=\"display: inline-block; width: 150px; vertical-align: top; text-align: center;\"><h4 style=\"font-size: 12px\">Griffin &amp; Sabine: An Extraordinary Correspondence by Nick Bantock</h4><h4 style=\"font-size: 9px; padding-left: 10px; padding-right: 10px; width: 90%; word-wrap: break-word; white-space: normal;\">http://images.amazon.com/images/P/0877017883.01.MZZZZZZZ.jpg</h4><img src=\"http://images.amazon.com/images/P/0877017883.01.MZZZZZZZ.jpg\" style=\"margin: 1px; width: 130px; border: 2px solid #ddd;\"/></div>"
      ],
      "text/plain": [
       "<IPython.core.display.HTML object>"
      ]
     },
     "metadata": {},
     "output_type": "display_data"
    }
   ],
   "source": [
    "get_rec_with_history(243)"
   ]
  },
  {
   "cell_type": "markdown",
   "metadata": {},
   "source": [
    "This author seems to like novels, and our recommendations also include novels, and it is also great to see that another release of *memoris of a Geisha* that was rated highly by this user shows up in recommendation as well.\n"
   ]
  },
  {
   "cell_type": "markdown",
   "metadata": {},
   "source": [
    "Harry potter, being a popular book, thus more ratings, have a higher chance of being recommended. \n",
    "\n",
    "Ok, this seems to be an improvement from content based filtering, but, still, we are choosing between users vs items. Is there a way we can integrate users and items together?\n",
    "\n",
    "Surely, there is a beautiful and elegnat way to recommend items, that is Matrix factorization.\n",
    "\n",
    "[back to top](#toc)\n",
    "<a id = 'cf-mf'></a>\n",
    "### 5.B. Matrix Factorization\n",
    "Factor ratings matrix into user matrix and item matix:\n",
    "1. **user matrix**: Number of users * features preference\n",
    "2. **item matrix**: Number of items * features loading\n",
    "\n",
    "This method mimics how SVD works by separating a matrix into three separate matrices. The difference is that we are not really performing SVD because the matrix is sparse. Rather, we use simpler gradient decent algorithm to find the user preferences of latent features and item loadings on such features.\n",
    "1. **SGD**: stochastic gradient descent, updates all parameters simultaneousely.\n",
    "2. **ALS**: alternating least squares, updates user parameters and item parameters alternatively."
   ]
  },
  {
   "cell_type": "code",
   "execution_count": 66,
   "metadata": {},
   "outputs": [
    {
     "name": "stdout",
     "output_type": "stream",
     "text": [
      "3.3715204538508403\n",
      "{'n_factors': 20, 'n_epochs': 10, 'lr_all': 0.005, 'reg_all': 0.4}\n"
     ]
    }
   ],
   "source": [
    "# grid search and cross validation to find the best sgd hyperparameters\n",
    "param_grid = {\"n_factors\": [20],\n",
    "                \"n_epochs\": [5, 10],\n",
    "                \"lr_all\": [0.002, 0.005, 0.1],\n",
    "                \"reg_all\": [0.4, 0.6, 1]}\n",
    "gs = GridSearchCV(SVD, param_grid, measures=[\"rmse\", \"mae\"], cv=5)\n",
    "\n",
    "gs.fit(data)\n",
    "\n",
    "print(gs.best_score[\"rmse\"])\n",
    "print(gs.best_params[\"rmse\"])"
   ]
  },
  {
   "cell_type": "code",
   "execution_count": 277,
   "metadata": {},
   "outputs": [],
   "source": [
    "gs_result = pd.DataFrame.from_dict(gs.cv_results)\n",
    "gs_result = gs_result[['mean_test_mae', 'mean_test_rmse', 'mean_fit_time', 'param_n_epochs', 'param_lr_all', 'param_reg_all']]"
   ]
  },
  {
   "cell_type": "code",
   "execution_count": 278,
   "metadata": {},
   "outputs": [
    {
     "data": {
      "text/html": [
       "<div>\n",
       "<style scoped>\n",
       "    .dataframe tbody tr th:only-of-type {\n",
       "        vertical-align: middle;\n",
       "    }\n",
       "\n",
       "    .dataframe tbody tr th {\n",
       "        vertical-align: top;\n",
       "    }\n",
       "\n",
       "    .dataframe thead th {\n",
       "        text-align: right;\n",
       "    }\n",
       "</style>\n",
       "<table border=\"1\" class=\"dataframe\">\n",
       "  <thead>\n",
       "    <tr style=\"text-align: right;\">\n",
       "      <th></th>\n",
       "      <th>mean_test_mae</th>\n",
       "      <th>mean_test_rmse</th>\n",
       "      <th>mean_fit_time</th>\n",
       "      <th>param_n_epochs</th>\n",
       "      <th>param_lr_all</th>\n",
       "      <th>param_reg_all</th>\n",
       "    </tr>\n",
       "  </thead>\n",
       "  <tbody>\n",
       "    <tr>\n",
       "      <th>0</th>\n",
       "      <td>2.954962</td>\n",
       "      <td>3.471352</td>\n",
       "      <td>0.989315</td>\n",
       "      <td>5</td>\n",
       "      <td>0.002</td>\n",
       "      <td>0.4</td>\n",
       "    </tr>\n",
       "    <tr>\n",
       "      <th>1</th>\n",
       "      <td>2.978468</td>\n",
       "      <td>3.481156</td>\n",
       "      <td>1.006650</td>\n",
       "      <td>5</td>\n",
       "      <td>0.002</td>\n",
       "      <td>0.6</td>\n",
       "    </tr>\n",
       "    <tr>\n",
       "      <th>2</th>\n",
       "      <td>3.016119</td>\n",
       "      <td>3.499714</td>\n",
       "      <td>0.901749</td>\n",
       "      <td>5</td>\n",
       "      <td>0.002</td>\n",
       "      <td>1.0</td>\n",
       "    </tr>\n",
       "    <tr>\n",
       "      <th>3</th>\n",
       "      <td>2.856340</td>\n",
       "      <td>3.401126</td>\n",
       "      <td>0.887339</td>\n",
       "      <td>5</td>\n",
       "      <td>0.005</td>\n",
       "      <td>0.4</td>\n",
       "    </tr>\n",
       "    <tr>\n",
       "      <th>4</th>\n",
       "      <td>2.895273</td>\n",
       "      <td>3.415472</td>\n",
       "      <td>0.924763</td>\n",
       "      <td>5</td>\n",
       "      <td>0.005</td>\n",
       "      <td>0.6</td>\n",
       "    </tr>\n",
       "    <tr>\n",
       "      <th>5</th>\n",
       "      <td>2.955301</td>\n",
       "      <td>3.443756</td>\n",
       "      <td>0.903260</td>\n",
       "      <td>5</td>\n",
       "      <td>0.005</td>\n",
       "      <td>1.0</td>\n",
       "    </tr>\n",
       "    <tr>\n",
       "      <th>6</th>\n",
       "      <td>7.696648</td>\n",
       "      <td>8.546315</td>\n",
       "      <td>0.915020</td>\n",
       "      <td>5</td>\n",
       "      <td>0.100</td>\n",
       "      <td>0.4</td>\n",
       "    </tr>\n",
       "    <tr>\n",
       "      <th>7</th>\n",
       "      <td>2.875986</td>\n",
       "      <td>3.562068</td>\n",
       "      <td>0.910256</td>\n",
       "      <td>5</td>\n",
       "      <td>0.100</td>\n",
       "      <td>0.6</td>\n",
       "    </tr>\n",
       "    <tr>\n",
       "      <th>8</th>\n",
       "      <td>2.954501</td>\n",
       "      <td>3.475339</td>\n",
       "      <td>0.923566</td>\n",
       "      <td>5</td>\n",
       "      <td>0.100</td>\n",
       "      <td>1.0</td>\n",
       "    </tr>\n",
       "    <tr>\n",
       "      <th>9</th>\n",
       "      <td>2.875703</td>\n",
       "      <td>3.415458</td>\n",
       "      <td>1.882250</td>\n",
       "      <td>10</td>\n",
       "      <td>0.002</td>\n",
       "      <td>0.4</td>\n",
       "    </tr>\n",
       "    <tr>\n",
       "      <th>10</th>\n",
       "      <td>2.910597</td>\n",
       "      <td>3.429056</td>\n",
       "      <td>1.840741</td>\n",
       "      <td>10</td>\n",
       "      <td>0.002</td>\n",
       "      <td>0.6</td>\n",
       "    </tr>\n",
       "    <tr>\n",
       "      <th>11</th>\n",
       "      <td>2.964803</td>\n",
       "      <td>3.455351</td>\n",
       "      <td>1.822062</td>\n",
       "      <td>10</td>\n",
       "      <td>0.002</td>\n",
       "      <td>1.0</td>\n",
       "    </tr>\n",
       "    <tr>\n",
       "      <th>12</th>\n",
       "      <td>2.799925</td>\n",
       "      <td>3.369236</td>\n",
       "      <td>1.802709</td>\n",
       "      <td>10</td>\n",
       "      <td>0.005</td>\n",
       "      <td>0.4</td>\n",
       "    </tr>\n",
       "    <tr>\n",
       "      <th>13</th>\n",
       "      <td>2.849709</td>\n",
       "      <td>3.386188</td>\n",
       "      <td>1.769880</td>\n",
       "      <td>10</td>\n",
       "      <td>0.005</td>\n",
       "      <td>0.6</td>\n",
       "    </tr>\n",
       "    <tr>\n",
       "      <th>14</th>\n",
       "      <td>2.924168</td>\n",
       "      <td>3.419815</td>\n",
       "      <td>2.119638</td>\n",
       "      <td>10</td>\n",
       "      <td>0.005</td>\n",
       "      <td>1.0</td>\n",
       "    </tr>\n",
       "    <tr>\n",
       "      <th>15</th>\n",
       "      <td>7.696648</td>\n",
       "      <td>8.546315</td>\n",
       "      <td>2.028017</td>\n",
       "      <td>10</td>\n",
       "      <td>0.100</td>\n",
       "      <td>0.4</td>\n",
       "    </tr>\n",
       "    <tr>\n",
       "      <th>16</th>\n",
       "      <td>2.883847</td>\n",
       "      <td>3.593346</td>\n",
       "      <td>1.922077</td>\n",
       "      <td>10</td>\n",
       "      <td>0.100</td>\n",
       "      <td>0.6</td>\n",
       "    </tr>\n",
       "    <tr>\n",
       "      <th>17</th>\n",
       "      <td>2.954432</td>\n",
       "      <td>3.475418</td>\n",
       "      <td>2.028389</td>\n",
       "      <td>10</td>\n",
       "      <td>0.100</td>\n",
       "      <td>1.0</td>\n",
       "    </tr>\n",
       "  </tbody>\n",
       "</table>\n",
       "</div>"
      ],
      "text/plain": [
       "    mean_test_mae  mean_test_rmse  mean_fit_time  param_n_epochs  \\\n",
       "0        2.954962        3.471352       0.989315               5   \n",
       "1        2.978468        3.481156       1.006650               5   \n",
       "2        3.016119        3.499714       0.901749               5   \n",
       "3        2.856340        3.401126       0.887339               5   \n",
       "4        2.895273        3.415472       0.924763               5   \n",
       "5        2.955301        3.443756       0.903260               5   \n",
       "6        7.696648        8.546315       0.915020               5   \n",
       "7        2.875986        3.562068       0.910256               5   \n",
       "8        2.954501        3.475339       0.923566               5   \n",
       "9        2.875703        3.415458       1.882250              10   \n",
       "10       2.910597        3.429056       1.840741              10   \n",
       "11       2.964803        3.455351       1.822062              10   \n",
       "12       2.799925        3.369236       1.802709              10   \n",
       "13       2.849709        3.386188       1.769880              10   \n",
       "14       2.924168        3.419815       2.119638              10   \n",
       "15       7.696648        8.546315       2.028017              10   \n",
       "16       2.883847        3.593346       1.922077              10   \n",
       "17       2.954432        3.475418       2.028389              10   \n",
       "\n",
       "    param_lr_all  param_reg_all  \n",
       "0          0.002            0.4  \n",
       "1          0.002            0.6  \n",
       "2          0.002            1.0  \n",
       "3          0.005            0.4  \n",
       "4          0.005            0.6  \n",
       "5          0.005            1.0  \n",
       "6          0.100            0.4  \n",
       "7          0.100            0.6  \n",
       "8          0.100            1.0  \n",
       "9          0.002            0.4  \n",
       "10         0.002            0.6  \n",
       "11         0.002            1.0  \n",
       "12         0.005            0.4  \n",
       "13         0.005            0.6  \n",
       "14         0.005            1.0  \n",
       "15         0.100            0.4  \n",
       "16         0.100            0.6  \n",
       "17         0.100            1.0  "
      ]
     },
     "execution_count": 278,
     "metadata": {},
     "output_type": "execute_result"
    }
   ],
   "source": [
    "gs_result"
   ]
  },
  {
   "cell_type": "code",
   "execution_count": 279,
   "metadata": {},
   "outputs": [
    {
     "data": {
      "text/html": [
       "<div>\n",
       "<style scoped>\n",
       "    .dataframe tbody tr th:only-of-type {\n",
       "        vertical-align: middle;\n",
       "    }\n",
       "\n",
       "    .dataframe tbody tr th {\n",
       "        vertical-align: top;\n",
       "    }\n",
       "\n",
       "    .dataframe thead th {\n",
       "        text-align: right;\n",
       "    }\n",
       "</style>\n",
       "<table border=\"1\" class=\"dataframe\">\n",
       "  <thead>\n",
       "    <tr style=\"text-align: right;\">\n",
       "      <th></th>\n",
       "      <th>mean_test_mae</th>\n",
       "      <th>mean_test_rmse</th>\n",
       "      <th>mean_fit_time</th>\n",
       "      <th>param_n_epochs</th>\n",
       "      <th>param_reg_all</th>\n",
       "    </tr>\n",
       "    <tr>\n",
       "      <th>param_lr_all</th>\n",
       "      <th></th>\n",
       "      <th></th>\n",
       "      <th></th>\n",
       "      <th></th>\n",
       "      <th></th>\n",
       "    </tr>\n",
       "  </thead>\n",
       "  <tbody>\n",
       "    <tr>\n",
       "      <th>0.002</th>\n",
       "      <td>2.950109</td>\n",
       "      <td>3.458681</td>\n",
       "      <td>1.407128</td>\n",
       "      <td>7.5</td>\n",
       "      <td>0.666667</td>\n",
       "    </tr>\n",
       "    <tr>\n",
       "      <th>0.005</th>\n",
       "      <td>2.880119</td>\n",
       "      <td>3.405932</td>\n",
       "      <td>1.401265</td>\n",
       "      <td>7.5</td>\n",
       "      <td>0.666667</td>\n",
       "    </tr>\n",
       "    <tr>\n",
       "      <th>0.100</th>\n",
       "      <td>4.510344</td>\n",
       "      <td>5.199800</td>\n",
       "      <td>1.454554</td>\n",
       "      <td>7.5</td>\n",
       "      <td>0.666667</td>\n",
       "    </tr>\n",
       "  </tbody>\n",
       "</table>\n",
       "</div>"
      ],
      "text/plain": [
       "              mean_test_mae  mean_test_rmse  mean_fit_time  param_n_epochs  \\\n",
       "param_lr_all                                                                 \n",
       "0.002              2.950109        3.458681       1.407128             7.5   \n",
       "0.005              2.880119        3.405932       1.401265             7.5   \n",
       "0.100              4.510344        5.199800       1.454554             7.5   \n",
       "\n",
       "              param_reg_all  \n",
       "param_lr_all                 \n",
       "0.002              0.666667  \n",
       "0.005              0.666667  \n",
       "0.100              0.666667  "
      ]
     },
     "execution_count": 279,
     "metadata": {},
     "output_type": "execute_result"
    }
   ],
   "source": [
    "gs_result.groupby('param_lr_all').mean()"
   ]
  },
  {
   "cell_type": "markdown",
   "metadata": {},
   "source": [
    "**Observations:**\n",
    "1. **Learning rate** in the middle yieds best performance, indicating a proper learning rate choice.\n",
    "2. Best **regularization** is 0.4, the **smallest** we tried, indicating possibly underfitting as the model tries to be more complex, could futher tune for better performance.\n",
    "3. **More epoch** yields better result as to be expected, add more epochs with more training time.\n",
    "\n",
    "**Overall, SVD is a lot faster and yieds better result compared to KNN. RMSE is improved to 3.36 from 3.41, small, but worth it.**\n",
    "\n",
    "Now, let's make some recommendations:"
   ]
  },
  {
   "cell_type": "code",
   "execution_count": 71,
   "metadata": {},
   "outputs": [],
   "source": [
    "# make predictions on missing user item pairs\n",
    "algo = gs.best_estimator['rmse']\n",
    "algo.fit(trainset)\n",
    "predictions = algo.test(testset)\n",
    "pdf = pd.DataFrame(predictions)"
   ]
  },
  {
   "cell_type": "code",
   "execution_count": 75,
   "metadata": {},
   "outputs": [],
   "source": [
    "with open('recsys-cf-mf.pkl', 'wb') as f:\n",
    "    pickle.dump(algo, f)"
   ]
  },
  {
   "cell_type": "code",
   "execution_count": 327,
   "metadata": {},
   "outputs": [
    {
     "name": "stdout",
     "output_type": "stream",
     "text": [
      "Because you have read: \n"
     ]
    },
    {
     "data": {
      "text/html": [
       "<div style=\"display: inline-block; width: 150px; vertical-align: top; text-align: center;\"><h4 style=\"font-size: 12px\">Memoirs of a Geisha by Arthur Golden</h4><h4 style=\"font-size: 9px; padding-left: 10px; padding-right: 10px; width: 90%; word-wrap: break-word; white-space: normal;\">http://images.amazon.com/images/P/0375400117.01.MZZZZZZZ.jpg</h4><img src=\"http://images.amazon.com/images/P/0375400117.01.MZZZZZZZ.jpg\" style=\"margin: 1px; width: 130px; border: 2px solid #ddd;\"/></div><div style=\"display: inline-block; width: 150px; vertical-align: top; text-align: center;\"><h4 style=\"font-size: 12px\">The Bean Trees by Barbara Kingsolver</h4><h4 style=\"font-size: 9px; padding-left: 10px; padding-right: 10px; width: 90%; word-wrap: break-word; white-space: normal;\">http://images.amazon.com/images/P/0060915544.01.MZZZZZZZ.jpg</h4><img src=\"http://images.amazon.com/images/P/0060915544.01.MZZZZZZZ.jpg\" style=\"margin: 1px; width: 130px; border: 2px solid #ddd;\"/></div><div style=\"display: inline-block; width: 150px; vertical-align: top; text-align: center;\"><h4 style=\"font-size: 12px\">Me Talk Pretty One Day by David Sedaris</h4><h4 style=\"font-size: 9px; padding-left: 10px; padding-right: 10px; width: 90%; word-wrap: break-word; white-space: normal;\">http://images.amazon.com/images/P/0316776963.01.MZZZZZZZ.jpg</h4><img src=\"http://images.amazon.com/images/P/0316776963.01.MZZZZZZZ.jpg\" style=\"margin: 1px; width: 130px; border: 2px solid #ddd;\"/></div><div style=\"display: inline-block; width: 150px; vertical-align: top; text-align: center;\"><h4 style=\"font-size: 12px\">The Pilot's Wife : A Novel by Anita Shreve</h4><h4 style=\"font-size: 9px; padding-left: 10px; padding-right: 10px; width: 90%; word-wrap: break-word; white-space: normal;\">http://images.amazon.com/images/P/0316601950.01.MZZZZZZZ.jpg</h4><img src=\"http://images.amazon.com/images/P/0316601950.01.MZZZZZZZ.jpg\" style=\"margin: 1px; width: 130px; border: 2px solid #ddd;\"/></div><div style=\"display: inline-block; width: 150px; vertical-align: top; text-align: center;\"><h4 style=\"font-size: 12px\">Unnatural Exposure by Patricia Daniels Cornwell</h4><h4 style=\"font-size: 9px; padding-left: 10px; padding-right: 10px; width: 90%; word-wrap: break-word; white-space: normal;\">http://images.amazon.com/images/P/0425163407.01.MZZZZZZZ.jpg</h4><img src=\"http://images.amazon.com/images/P/0425163407.01.MZZZZZZZ.jpg\" style=\"margin: 1px; width: 130px; border: 2px solid #ddd;\"/></div><div style=\"display: inline-block; width: 150px; vertical-align: top; text-align: center;\"><h4 style=\"font-size: 12px\">The General's Daughter by Nelson DeMille</h4><h4 style=\"font-size: 9px; padding-left: 10px; padding-right: 10px; width: 90%; word-wrap: break-word; white-space: normal;\">http://images.amazon.com/images/P/0446364800.01.MZZZZZZZ.jpg</h4><img src=\"http://images.amazon.com/images/P/0446364800.01.MZZZZZZZ.jpg\" style=\"margin: 1px; width: 130px; border: 2px solid #ddd;\"/></div>"
      ],
      "text/plain": [
       "<IPython.core.display.HTML object>"
      ]
     },
     "metadata": {},
     "output_type": "display_data"
    },
    {
     "name": "stdout",
     "output_type": "stream",
     "text": [
      "\n",
      "You might also like: \n"
     ]
    },
    {
     "data": {
      "text/html": [
       "<div style=\"display: inline-block; width: 150px; vertical-align: top; text-align: center;\"><h4 style=\"font-size: 12px\">Harry Potter and the Sorcerer's Stone (Book 1) by J. K. Rowling</h4><h4 style=\"font-size: 9px; padding-left: 10px; padding-right: 10px; width: 90%; word-wrap: break-word; white-space: normal;\">http://images.amazon.com/images/P/0590353403.01.MZZZZZZZ.jpg</h4><img src=\"http://images.amazon.com/images/P/0590353403.01.MZZZZZZZ.jpg\" style=\"margin: 1px; width: 130px; border: 2px solid #ddd;\"/></div><div style=\"display: inline-block; width: 150px; vertical-align: top; text-align: center;\"><h4 style=\"font-size: 12px\">Harry Potter and the Prisoner of Azkaban (Book 3) by J. K. Rowling</h4><h4 style=\"font-size: 9px; padding-left: 10px; padding-right: 10px; width: 90%; word-wrap: break-word; white-space: normal;\">http://images.amazon.com/images/P/0439136350.01.MZZZZZZZ.jpg</h4><img src=\"http://images.amazon.com/images/P/0439136350.01.MZZZZZZZ.jpg\" style=\"margin: 1px; width: 130px; border: 2px solid #ddd;\"/></div><div style=\"display: inline-block; width: 150px; vertical-align: top; text-align: center;\"><h4 style=\"font-size: 12px\">Harry Potter and the Goblet of Fire (Book 4) by J. K. Rowling</h4><h4 style=\"font-size: 9px; padding-left: 10px; padding-right: 10px; width: 90%; word-wrap: break-word; white-space: normal;\">http://images.amazon.com/images/P/0439139597.01.MZZZZZZZ.jpg</h4><img src=\"http://images.amazon.com/images/P/0439139597.01.MZZZZZZZ.jpg\" style=\"margin: 1px; width: 130px; border: 2px solid #ddd;\"/></div><div style=\"display: inline-block; width: 150px; vertical-align: top; text-align: center;\"><h4 style=\"font-size: 12px\">Harry Potter and the Chamber of Secrets (Book 2) by J. K. Rowling</h4><h4 style=\"font-size: 9px; padding-left: 10px; padding-right: 10px; width: 90%; word-wrap: break-word; white-space: normal;\">http://images.amazon.com/images/P/0439064864.01.MZZZZZZZ.jpg</h4><img src=\"http://images.amazon.com/images/P/0439064864.01.MZZZZZZZ.jpg\" style=\"margin: 1px; width: 130px; border: 2px solid #ddd;\"/></div><div style=\"display: inline-block; width: 150px; vertical-align: top; text-align: center;\"><h4 style=\"font-size: 12px\">All I Need to Know I Learned from My Cat by Suzy Becker</h4><h4 style=\"font-size: 9px; padding-left: 10px; padding-right: 10px; width: 90%; word-wrap: break-word; white-space: normal;\">http://images.amazon.com/images/P/0894808249.01.MZZZZZZZ.jpg</h4><img src=\"http://images.amazon.com/images/P/0894808249.01.MZZZZZZZ.jpg\" style=\"margin: 1px; width: 130px; border: 2px solid #ddd;\"/></div><div style=\"display: inline-block; width: 150px; vertical-align: top; text-align: center;\"><h4 style=\"font-size: 12px\">Griffin &amp; Sabine: An Extraordinary Correspondence by Nick Bantock</h4><h4 style=\"font-size: 9px; padding-left: 10px; padding-right: 10px; width: 90%; word-wrap: break-word; white-space: normal;\">http://images.amazon.com/images/P/0877017883.01.MZZZZZZZ.jpg</h4><img src=\"http://images.amazon.com/images/P/0877017883.01.MZZZZZZZ.jpg\" style=\"margin: 1px; width: 130px; border: 2px solid #ddd;\"/></div>"
      ],
      "text/plain": [
       "<IPython.core.display.HTML object>"
      ]
     },
     "metadata": {},
     "output_type": "display_data"
    }
   ],
   "source": [
    "get_rec_with_history(243)"
   ]
  },
  {
   "cell_type": "code",
   "execution_count": 58,
   "metadata": {},
   "outputs": [
    {
     "data": {
      "text/html": [
       "<div>\n",
       "<style scoped>\n",
       "    .dataframe tbody tr th:only-of-type {\n",
       "        vertical-align: middle;\n",
       "    }\n",
       "\n",
       "    .dataframe tbody tr th {\n",
       "        vertical-align: top;\n",
       "    }\n",
       "\n",
       "    .dataframe thead th {\n",
       "        text-align: right;\n",
       "    }\n",
       "</style>\n",
       "<table border=\"1\" class=\"dataframe\">\n",
       "  <thead>\n",
       "    <tr style=\"text-align: right;\">\n",
       "      <th></th>\n",
       "      <th>isbn</th>\n",
       "      <th>rating</th>\n",
       "      <th>title</th>\n",
       "      <th>author</th>\n",
       "      <th>year</th>\n",
       "      <th>publisher</th>\n",
       "      <th>imgurls</th>\n",
       "      <th>imgurlm</th>\n",
       "      <th>imgurll</th>\n",
       "    </tr>\n",
       "  </thead>\n",
       "  <tbody>\n",
       "    <tr>\n",
       "      <th>0</th>\n",
       "      <td>0439064864</td>\n",
       "      <td>6.490385</td>\n",
       "      <td>Harry Potter and the Chamber of Secrets (Book 2)</td>\n",
       "      <td>J. K. Rowling</td>\n",
       "      <td>1999</td>\n",
       "      <td>Scholastic</td>\n",
       "      <td>http://images.amazon.com/images/P/0439064864.0...</td>\n",
       "      <td>http://images.amazon.com/images/P/0439064864.0...</td>\n",
       "      <td>http://images.amazon.com/images/P/0439064864.0...</td>\n",
       "    </tr>\n",
       "    <tr>\n",
       "      <th>1</th>\n",
       "      <td>0877017883</td>\n",
       "      <td>6.408163</td>\n",
       "      <td>Griffin &amp;amp; Sabine: An Extraordinary Corresp...</td>\n",
       "      <td>Nick Bantock</td>\n",
       "      <td>1991</td>\n",
       "      <td>Chronicle Books</td>\n",
       "      <td>http://images.amazon.com/images/P/0877017883.0...</td>\n",
       "      <td>http://images.amazon.com/images/P/0877017883.0...</td>\n",
       "      <td>http://images.amazon.com/images/P/0877017883.0...</td>\n",
       "    </tr>\n",
       "    <tr>\n",
       "      <th>2</th>\n",
       "      <td>0439136350</td>\n",
       "      <td>6.403670</td>\n",
       "      <td>Harry Potter and the Prisoner of Azkaban (Book 3)</td>\n",
       "      <td>J. K. Rowling</td>\n",
       "      <td>1999</td>\n",
       "      <td>Scholastic</td>\n",
       "      <td>http://images.amazon.com/images/P/0439136350.0...</td>\n",
       "      <td>http://images.amazon.com/images/P/0439136350.0...</td>\n",
       "      <td>http://images.amazon.com/images/P/0439136350.0...</td>\n",
       "    </tr>\n",
       "    <tr>\n",
       "      <th>3</th>\n",
       "      <td>0590353403</td>\n",
       "      <td>6.311828</td>\n",
       "      <td>Harry Potter and the Sorcerer's Stone (Book 1)</td>\n",
       "      <td>J. K. Rowling</td>\n",
       "      <td>1998</td>\n",
       "      <td>Scholastic</td>\n",
       "      <td>http://images.amazon.com/images/P/0590353403.0...</td>\n",
       "      <td>http://images.amazon.com/images/P/0590353403.0...</td>\n",
       "      <td>http://images.amazon.com/images/P/0590353403.0...</td>\n",
       "    </tr>\n",
       "    <tr>\n",
       "      <th>4</th>\n",
       "      <td>0439139597</td>\n",
       "      <td>6.200000</td>\n",
       "      <td>Harry Potter and the Goblet of Fire (Book 4)</td>\n",
       "      <td>J. K. Rowling</td>\n",
       "      <td>2000</td>\n",
       "      <td>Scholastic</td>\n",
       "      <td>http://images.amazon.com/images/P/0439139597.0...</td>\n",
       "      <td>http://images.amazon.com/images/P/0439139597.0...</td>\n",
       "      <td>http://images.amazon.com/images/P/0439139597.0...</td>\n",
       "    </tr>\n",
       "  </tbody>\n",
       "</table>\n",
       "</div>"
      ],
      "text/plain": [
       "         isbn    rating                                              title  \\\n",
       "0  0439064864  6.490385   Harry Potter and the Chamber of Secrets (Book 2)   \n",
       "1  0877017883  6.408163  Griffin &amp; Sabine: An Extraordinary Corresp...   \n",
       "2  0439136350  6.403670  Harry Potter and the Prisoner of Azkaban (Book 3)   \n",
       "3  0590353403  6.311828     Harry Potter and the Sorcerer's Stone (Book 1)   \n",
       "4  0439139597  6.200000       Harry Potter and the Goblet of Fire (Book 4)   \n",
       "\n",
       "          author  year        publisher  \\\n",
       "0  J. K. Rowling  1999       Scholastic   \n",
       "1   Nick Bantock  1991  Chronicle Books   \n",
       "2  J. K. Rowling  1999       Scholastic   \n",
       "3  J. K. Rowling  1998       Scholastic   \n",
       "4  J. K. Rowling  2000       Scholastic   \n",
       "\n",
       "                                             imgurls  \\\n",
       "0  http://images.amazon.com/images/P/0439064864.0...   \n",
       "1  http://images.amazon.com/images/P/0877017883.0...   \n",
       "2  http://images.amazon.com/images/P/0439136350.0...   \n",
       "3  http://images.amazon.com/images/P/0590353403.0...   \n",
       "4  http://images.amazon.com/images/P/0439139597.0...   \n",
       "\n",
       "                                             imgurlm  \\\n",
       "0  http://images.amazon.com/images/P/0439064864.0...   \n",
       "1  http://images.amazon.com/images/P/0877017883.0...   \n",
       "2  http://images.amazon.com/images/P/0439136350.0...   \n",
       "3  http://images.amazon.com/images/P/0590353403.0...   \n",
       "4  http://images.amazon.com/images/P/0439139597.0...   \n",
       "\n",
       "                                             imgurll  \n",
       "0  http://images.amazon.com/images/P/0439064864.0...  \n",
       "1  http://images.amazon.com/images/P/0877017883.0...  \n",
       "2  http://images.amazon.com/images/P/0439136350.0...  \n",
       "3  http://images.amazon.com/images/P/0590353403.0...  \n",
       "4  http://images.amazon.com/images/P/0439139597.0...  "
      ]
     },
     "execution_count": 58,
     "metadata": {},
     "output_type": "execute_result"
    }
   ],
   "source": [
    "# show the highest rated books\n",
    "idf.groupby('isbn').rating.mean().sort_values(ascending = False).reset_index().join(\n",
    "    bdf.set_index('isbn'), on = 'isbn').head()"
   ]
  },
  {
   "cell_type": "markdown",
   "metadata": {},
   "source": [
    "We see that recommendations with **CF SVD** is different from **CF KNN**, particularly, all recommendations tend to be the highest rated books. This can be explained by highest rated books have high latent factor loadings. Therefore, for user like uid = 243, who likes novel, will have high preference for latent factors that are endorsed by novels, the ratings are automatically high. \n",
    "\n",
    "So what about users who have read all of the popular books, what would our recommender recommend? Let's take a look at the user who rated the most books."
   ]
  },
  {
   "cell_type": "code",
   "execution_count": 112,
   "metadata": {},
   "outputs": [
    {
     "data": {
      "text/plain": [
       "uid\n",
       "11676     1262\n",
       "35859      627\n",
       "76352      548\n",
       "16795      506\n",
       "153662     460\n",
       "Name: isbn, dtype: int64"
      ]
     },
     "execution_count": 112,
     "metadata": {},
     "output_type": "execute_result"
    }
   ],
   "source": [
    "idf.groupby('uid').isbn.count().sort_values(ascending = False).head()"
   ]
  },
  {
   "cell_type": "code",
   "execution_count": 110,
   "metadata": {},
   "outputs": [
    {
     "name": "stdout",
     "output_type": "stream",
     "text": [
      "Because you read: \n"
     ]
    },
    {
     "data": {
      "text/html": [
       "<div style=\"display: inline-block; width: 150px; vertical-align: top; text-align: center;\"><h4 style=\"font-size: 12px\">Every Breath You Take : A True Story of Obsession, Revenge, and Murder by Ann Rule</h4><h4 style=\"font-size: 9px; padding-left: 10px; padding-right: 10px; width: 90%; word-wrap: break-word; white-space: normal;\">http://images.amazon.com/images/P/0743439740.01.MZZZZZZZ.jpg</h4><img src=\"http://images.amazon.com/images/P/0743439740.01.MZZZZZZZ.jpg\" style=\"margin: 1px; width: 130px; border: 2px solid #ddd;\"/></div><div style=\"display: inline-block; width: 150px; vertical-align: top; text-align: center;\"><h4 style=\"font-size: 12px\">The Shipping News : A Novel by Annie Proulx</h4><h4 style=\"font-size: 9px; padding-left: 10px; padding-right: 10px; width: 90%; word-wrap: break-word; white-space: normal;\">http://images.amazon.com/images/P/0743225406.01.MZZZZZZZ.jpg</h4><img src=\"http://images.amazon.com/images/P/0743225406.01.MZZZZZZZ.jpg\" style=\"margin: 1px; width: 130px; border: 2px solid #ddd;\"/></div><div style=\"display: inline-block; width: 150px; vertical-align: top; text-align: center;\"><h4 style=\"font-size: 12px\">Ishmael: An Adventure of the Mind and Spirit by Daniel Quinn</h4><h4 style=\"font-size: 9px; padding-left: 10px; padding-right: 10px; width: 90%; word-wrap: break-word; white-space: normal;\">http://images.amazon.com/images/P/0553375407.01.MZZZZZZZ.jpg</h4><img src=\"http://images.amazon.com/images/P/0553375407.01.MZZZZZZZ.jpg\" style=\"margin: 1px; width: 130px; border: 2px solid #ddd;\"/></div><div style=\"display: inline-block; width: 150px; vertical-align: top; text-align: center;\"><h4 style=\"font-size: 12px\">Journey by Danielle Steel</h4><h4 style=\"font-size: 9px; padding-left: 10px; padding-right: 10px; width: 90%; word-wrap: break-word; white-space: normal;\">http://images.amazon.com/images/P/0440237025.01.MZZZZZZZ.jpg</h4><img src=\"http://images.amazon.com/images/P/0440237025.01.MZZZZZZZ.jpg\" style=\"margin: 1px; width: 130px; border: 2px solid #ddd;\"/></div><div style=\"display: inline-block; width: 150px; vertical-align: top; text-align: center;\"><h4 style=\"font-size: 12px\">The Ranch by DANIELLE STEEL</h4><h4 style=\"font-size: 9px; padding-left: 10px; padding-right: 10px; width: 90%; word-wrap: break-word; white-space: normal;\">http://images.amazon.com/images/P/0440224780.01.MZZZZZZZ.jpg</h4><img src=\"http://images.amazon.com/images/P/0440224780.01.MZZZZZZZ.jpg\" style=\"margin: 1px; width: 130px; border: 2px solid #ddd;\"/></div><div style=\"display: inline-block; width: 150px; vertical-align: top; text-align: center;\"><h4 style=\"font-size: 12px\">Cold Sassy Tree by Olive Ann Burns</h4><h4 style=\"font-size: 9px; padding-left: 10px; padding-right: 10px; width: 90%; word-wrap: break-word; white-space: normal;\">http://images.amazon.com/images/P/0440514428.01.MZZZZZZZ.jpg</h4><img src=\"http://images.amazon.com/images/P/0440514428.01.MZZZZZZZ.jpg\" style=\"margin: 1px; width: 130px; border: 2px solid #ddd;\"/></div>"
      ],
      "text/plain": [
       "<IPython.core.display.HTML object>"
      ]
     },
     "metadata": {},
     "output_type": "display_data"
    },
    {
     "name": "stdout",
     "output_type": "stream",
     "text": [
      "\n",
      "You might also like: \n"
     ]
    },
    {
     "data": {
      "text/html": [
       "<div style=\"display: inline-block; width: 150px; vertical-align: top; text-align: center;\"><h4 style=\"font-size: 12px\">Rich Dad, Poor Dad: What the Rich Teach Their Kids About Money--That the Poor and Middle Class Do Not! by Robert T. Kiyosaki</h4><h4 style=\"font-size: 9px; padding-left: 10px; padding-right: 10px; width: 90%; word-wrap: break-word; white-space: normal;\">http://images.amazon.com/images/P/0446677450.01.MZZZZZZZ.jpg</h4><img src=\"http://images.amazon.com/images/P/0446677450.01.MZZZZZZZ.jpg\" style=\"margin: 1px; width: 130px; border: 2px solid #ddd;\"/></div><div style=\"display: inline-block; width: 150px; vertical-align: top; text-align: center;\"><h4 style=\"font-size: 12px\">The Little Prince by Antoine de Saint-ExupÃ©ry</h4><h4 style=\"font-size: 9px; padding-left: 10px; padding-right: 10px; width: 90%; word-wrap: break-word; white-space: normal;\">http://images.amazon.com/images/P/0156528207.01.MZZZZZZZ.jpg</h4><img src=\"http://images.amazon.com/images/P/0156528207.01.MZZZZZZZ.jpg\" style=\"margin: 1px; width: 130px; border: 2px solid #ddd;\"/></div><div style=\"display: inline-block; width: 150px; vertical-align: top; text-align: center;\"><h4 style=\"font-size: 12px\">Nickel and Dimed: On (Not) Getting By in America by Barbara Ehrenreich</h4><h4 style=\"font-size: 9px; padding-left: 10px; padding-right: 10px; width: 90%; word-wrap: break-word; white-space: normal;\">http://images.amazon.com/images/P/0805063889.01.MZZZZZZZ.jpg</h4><img src=\"http://images.amazon.com/images/P/0805063889.01.MZZZZZZZ.jpg\" style=\"margin: 1px; width: 130px; border: 2px solid #ddd;\"/></div><div style=\"display: inline-block; width: 150px; vertical-align: top; text-align: center;\"><h4 style=\"font-size: 12px\">I'm a Stranger Here Myself: Notes on Returning to America After 20 Years Away by Bill Bryson</h4><h4 style=\"font-size: 9px; padding-left: 10px; padding-right: 10px; width: 90%; word-wrap: break-word; white-space: normal;\">http://images.amazon.com/images/P/076790382X.01.MZZZZZZZ.jpg</h4><img src=\"http://images.amazon.com/images/P/076790382X.01.MZZZZZZZ.jpg\" style=\"margin: 1px; width: 130px; border: 2px solid #ddd;\"/></div><div style=\"display: inline-block; width: 150px; vertical-align: top; text-align: center;\"><h4 style=\"font-size: 12px\">The Lord of the Rings (Movie Art Cover) by J.R.R. Tolkien</h4><h4 style=\"font-size: 9px; padding-left: 10px; padding-right: 10px; width: 90%; word-wrap: break-word; white-space: normal;\">http://images.amazon.com/images/P/0618129022.01.MZZZZZZZ.jpg</h4><img src=\"http://images.amazon.com/images/P/0618129022.01.MZZZZZZZ.jpg\" style=\"margin: 1px; width: 130px; border: 2px solid #ddd;\"/></div><div style=\"display: inline-block; width: 150px; vertical-align: top; text-align: center;\"><h4 style=\"font-size: 12px\">The Laughing Corpse (Anita Blake Vampire Hunter (Paperback)) by Laurell K. Hamilton</h4><h4 style=\"font-size: 9px; padding-left: 10px; padding-right: 10px; width: 90%; word-wrap: break-word; white-space: normal;\">http://images.amazon.com/images/P/0441000916.01.MZZZZZZZ.jpg</h4><img src=\"http://images.amazon.com/images/P/0441000916.01.MZZZZZZZ.jpg\" style=\"margin: 1px; width: 130px; border: 2px solid #ddd;\"/></div>"
      ],
      "text/plain": [
       "<IPython.core.display.HTML object>"
      ]
     },
     "metadata": {},
     "output_type": "display_data"
    }
   ],
   "source": [
    "get_rec_with_history(11676)"
   ]
  },
  {
   "cell_type": "markdown",
   "metadata": {},
   "source": [
    "So, there we go, matrix factorization of interaction matrix to make recommendations. A small improvement in accuracy from similarity based recommendations. \n",
    "\n",
    "What we have so far is sufficient to solve many business problems already. But it still has potential for improvements:\n",
    "\n",
    "Even though collaborative filtering is 'intelligent' in the sense that it can learn user preference implicitly from their interactions with items, it is not suitable for cold start scenarios when interaction data is limited. As for content based method, even though it is suitable for cold start scenarios, it fails to consider user interactions.\n",
    "\n",
    "While we can buld different recommenders to better suit business need with different amount of data, is there a way we can have a recommender that can deal with cold start and learn from interactions?\n",
    "\n",
    "One solutions is to use **a hybrid of matrix factorization and content based filtering** that represent item/user features as the sum of latent features. \n",
    "Also, could use **deep learning** for collaborative filtering as well. \n",
    "We will investigate these next. (To be continued...)\n",
    "\n",
    "[back to top](#toc)\n",
    "\n",
    "<a id = 'ref'></a>\n",
    "## 6. Reference\n",
    "1. An article heavily referenced by Surprise libarary: http://courses.ischool.berkeley.edu/i290-dm/s11/SECURE/a1-koren.pdf\n",
    "1. Great tutorial on recommender system: https://realpython.com/build-recommendation-engine-collaborative-filtering/#using-python-to-build-recommenders\n",
    "2. Surprise algorithm comparison: https://github.com/susanli2016/Machine-Learning-with-Python/blob/master/Building%20Recommender%20System%20with%20Surprise.ipynb\n",
    "3. Item based filtering and KNN explanation: https://github.com/KevinLiao159/MyDataSciencePortfolio/blob/master/movie_recommender/movie_recommendation_using_KNN.ipynb\n",
    "4. Simple tutorial with Surprise using SVD: https://medium.com/@m_n_malaeb/the-easy-guide-for-building-python-collaborative-filtering-recommendation-system-in-2017-d2736d2e92a8\n",
    "5. Simple explanation on matrix factorization: http://nicolas-hug.com/blog/matrix_facto_1\n",
    "6. Surprise documentaiton: https://surprise.readthedocs.io/en/stable/index.html\n",
    "1. PCA: https://www.stat.cmu.edu/~cshalizi/uADA/12/lectures/ch18.pdf"
   ]
  }
 ],
 "metadata": {
  "kernelspec": {
   "display_name": "Python 3",
   "language": "python",
   "name": "python3"
  },
  "language_info": {
   "codemirror_mode": {
    "name": "ipython",
    "version": 3
   },
   "file_extension": ".py",
   "mimetype": "text/x-python",
   "name": "python",
   "nbconvert_exporter": "python",
   "pygments_lexer": "ipython3",
   "version": "3.7.3"
  }
 },
 "nbformat": 4,
 "nbformat_minor": 4
}
