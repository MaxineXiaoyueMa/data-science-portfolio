{
 "cells": [
  {
   "cell_type": "markdown",
   "metadata": {},
   "source": [
    "# NY Housing Price - regression\n",
    "## Part 2. Data Clearning + Feature Engineering\n",
    "<br>\n",
    "\n",
    "<a id = 'toc'></a>\n",
    "**Table of Contents**\n",
    "\n",
    "1. [Data cleaning](#dc)\n",
    "    1. [Unwanted observations](#un) \n",
    "    2. [Structural errors](#struct)\n",
    "        1. Typos\n",
    "        2. Indicator\n",
    "    3. [Outliers](#out)\n",
    "    4. [Missing values](#miss)\n",
    "        1. Categorial\n",
    "        2. Numerical\n",
    "\n",
    "2. [Feature engineering](#engine)\n",
    "    1. [Domain knowledge](#domain)\n",
    "        1. Premium for 2be + 2ba\n",
    "        2. recession\n",
    "    2. [Interaction features](#inter)\n",
    "        1. property_age = tx_year-year_built (remove afterwards)\n",
    "        2. school_score = median_school * num_school\n",
    "        3. ba/be ratio\n",
    "    3. [Group sparse terms](#sparse)\n",
    "        1. roof\n",
    "        2. exterier_walls\n",
    "    4. [Encode dummy variable](#dummy)\n",
    "        \n",
    "3. [Save analytical base table](#train_df)\n"
   ]
  },
  {
   "cell_type": "code",
   "execution_count": 1,
   "metadata": {},
   "outputs": [],
   "source": [
    "# import libraries\n",
    "import numpy as np\n",
    "import pandas as pd\n",
    "pd.set_option('display.max_columns', 100)\n",
    "\n",
    "import matplotlib.pyplot as plt\n",
    "%matplotlib inline\n",
    "import seaborn as sns\n",
    "sns.set_style('darkgrid')"
   ]
  },
  {
   "cell_type": "code",
   "execution_count": 2,
   "metadata": {},
   "outputs": [
    {
     "data": {
      "text/plain": [
       "(1506, 26)"
      ]
     },
     "execution_count": 2,
     "metadata": {},
     "output_type": "execute_result"
    }
   ],
   "source": [
    "df = pd.read_csv('../data/train.csv')\n",
    "df.shape"
   ]
  },
  {
   "cell_type": "code",
   "execution_count": 3,
   "metadata": {},
   "outputs": [
    {
     "data": {
      "text/html": [
       "<div>\n",
       "<style scoped>\n",
       "    .dataframe tbody tr th:only-of-type {\n",
       "        vertical-align: middle;\n",
       "    }\n",
       "\n",
       "    .dataframe tbody tr th {\n",
       "        vertical-align: top;\n",
       "    }\n",
       "\n",
       "    .dataframe thead th {\n",
       "        text-align: right;\n",
       "    }\n",
       "</style>\n",
       "<table border=\"1\" class=\"dataframe\">\n",
       "  <thead>\n",
       "    <tr style=\"text-align: right;\">\n",
       "      <th></th>\n",
       "      <th>tx_price</th>\n",
       "      <th>beds</th>\n",
       "      <th>baths</th>\n",
       "      <th>sqft</th>\n",
       "      <th>year_built</th>\n",
       "      <th>lot_size</th>\n",
       "      <th>property_type</th>\n",
       "      <th>exterior_walls</th>\n",
       "      <th>roof</th>\n",
       "      <th>basement</th>\n",
       "      <th>restaurants</th>\n",
       "      <th>groceries</th>\n",
       "      <th>nightlife</th>\n",
       "      <th>cafes</th>\n",
       "      <th>shopping</th>\n",
       "      <th>arts_entertainment</th>\n",
       "      <th>beauty_spas</th>\n",
       "      <th>active_life</th>\n",
       "      <th>median_age</th>\n",
       "      <th>married</th>\n",
       "      <th>college_grad</th>\n",
       "      <th>property_tax</th>\n",
       "      <th>insurance</th>\n",
       "      <th>median_school</th>\n",
       "      <th>num_schools</th>\n",
       "      <th>tx_year</th>\n",
       "    </tr>\n",
       "  </thead>\n",
       "  <tbody>\n",
       "    <tr>\n",
       "      <th>0</th>\n",
       "      <td>257840</td>\n",
       "      <td>4</td>\n",
       "      <td>2</td>\n",
       "      <td>3796</td>\n",
       "      <td>1978</td>\n",
       "      <td>20473</td>\n",
       "      <td>Single-Family</td>\n",
       "      <td>Metal</td>\n",
       "      <td>Composition Shingle</td>\n",
       "      <td>1.0</td>\n",
       "      <td>0</td>\n",
       "      <td>0</td>\n",
       "      <td>0</td>\n",
       "      <td>0</td>\n",
       "      <td>1</td>\n",
       "      <td>0</td>\n",
       "      <td>0</td>\n",
       "      <td>0</td>\n",
       "      <td>49.0</td>\n",
       "      <td>91.0</td>\n",
       "      <td>83.0</td>\n",
       "      <td>593.0</td>\n",
       "      <td>181.0</td>\n",
       "      <td>8.0</td>\n",
       "      <td>1.0</td>\n",
       "      <td>1997</td>\n",
       "    </tr>\n",
       "    <tr>\n",
       "      <th>1</th>\n",
       "      <td>540000</td>\n",
       "      <td>4</td>\n",
       "      <td>3</td>\n",
       "      <td>2500</td>\n",
       "      <td>1971</td>\n",
       "      <td>10500</td>\n",
       "      <td>Single-Family</td>\n",
       "      <td>Brick</td>\n",
       "      <td>Composition Shingle</td>\n",
       "      <td>1.0</td>\n",
       "      <td>19</td>\n",
       "      <td>2</td>\n",
       "      <td>2</td>\n",
       "      <td>1</td>\n",
       "      <td>21</td>\n",
       "      <td>0</td>\n",
       "      <td>11</td>\n",
       "      <td>9</td>\n",
       "      <td>46.0</td>\n",
       "      <td>94.0</td>\n",
       "      <td>54.0</td>\n",
       "      <td>487.0</td>\n",
       "      <td>148.0</td>\n",
       "      <td>8.0</td>\n",
       "      <td>3.0</td>\n",
       "      <td>2013</td>\n",
       "    </tr>\n",
       "    <tr>\n",
       "      <th>2</th>\n",
       "      <td>300000</td>\n",
       "      <td>4</td>\n",
       "      <td>3</td>\n",
       "      <td>3480</td>\n",
       "      <td>1940</td>\n",
       "      <td>10890</td>\n",
       "      <td>Single-Family</td>\n",
       "      <td>Brick</td>\n",
       "      <td>Asphalt</td>\n",
       "      <td>1.0</td>\n",
       "      <td>32</td>\n",
       "      <td>2</td>\n",
       "      <td>5</td>\n",
       "      <td>8</td>\n",
       "      <td>36</td>\n",
       "      <td>8</td>\n",
       "      <td>25</td>\n",
       "      <td>35</td>\n",
       "      <td>45.0</td>\n",
       "      <td>81.0</td>\n",
       "      <td>88.0</td>\n",
       "      <td>1015.0</td>\n",
       "      <td>337.0</td>\n",
       "      <td>4.0</td>\n",
       "      <td>3.0</td>\n",
       "      <td>1993</td>\n",
       "    </tr>\n",
       "    <tr>\n",
       "      <th>3</th>\n",
       "      <td>650000</td>\n",
       "      <td>5</td>\n",
       "      <td>4</td>\n",
       "      <td>5809</td>\n",
       "      <td>2002</td>\n",
       "      <td>30056</td>\n",
       "      <td>Single-Family</td>\n",
       "      <td>NaN</td>\n",
       "      <td>Asphalt</td>\n",
       "      <td>1.0</td>\n",
       "      <td>4</td>\n",
       "      <td>0</td>\n",
       "      <td>1</td>\n",
       "      <td>0</td>\n",
       "      <td>4</td>\n",
       "      <td>0</td>\n",
       "      <td>5</td>\n",
       "      <td>8</td>\n",
       "      <td>37.0</td>\n",
       "      <td>64.0</td>\n",
       "      <td>55.0</td>\n",
       "      <td>727.0</td>\n",
       "      <td>187.0</td>\n",
       "      <td>7.0</td>\n",
       "      <td>3.0</td>\n",
       "      <td>2004</td>\n",
       "    </tr>\n",
       "    <tr>\n",
       "      <th>4</th>\n",
       "      <td>576145</td>\n",
       "      <td>4</td>\n",
       "      <td>3</td>\n",
       "      <td>3504</td>\n",
       "      <td>2004</td>\n",
       "      <td>4199</td>\n",
       "      <td>Single-Family</td>\n",
       "      <td>Siding (Alum/Vinyl)</td>\n",
       "      <td>Composition Shingle</td>\n",
       "      <td>1.0</td>\n",
       "      <td>20</td>\n",
       "      <td>3</td>\n",
       "      <td>1</td>\n",
       "      <td>1</td>\n",
       "      <td>12</td>\n",
       "      <td>1</td>\n",
       "      <td>12</td>\n",
       "      <td>5</td>\n",
       "      <td>34.0</td>\n",
       "      <td>91.0</td>\n",
       "      <td>59.0</td>\n",
       "      <td>528.0</td>\n",
       "      <td>161.0</td>\n",
       "      <td>7.0</td>\n",
       "      <td>2.0</td>\n",
       "      <td>2005</td>\n",
       "    </tr>\n",
       "  </tbody>\n",
       "</table>\n",
       "</div>"
      ],
      "text/plain": [
       "   tx_price  beds  baths  sqft  year_built  lot_size  property_type  \\\n",
       "0    257840     4      2  3796        1978     20473  Single-Family   \n",
       "1    540000     4      3  2500        1971     10500  Single-Family   \n",
       "2    300000     4      3  3480        1940     10890  Single-Family   \n",
       "3    650000     5      4  5809        2002     30056  Single-Family   \n",
       "4    576145     4      3  3504        2004      4199  Single-Family   \n",
       "\n",
       "        exterior_walls                 roof  basement  restaurants  groceries  \\\n",
       "0                Metal  Composition Shingle       1.0            0          0   \n",
       "1                Brick  Composition Shingle       1.0           19          2   \n",
       "2                Brick              Asphalt       1.0           32          2   \n",
       "3                  NaN              Asphalt       1.0            4          0   \n",
       "4  Siding (Alum/Vinyl)  Composition Shingle       1.0           20          3   \n",
       "\n",
       "   nightlife  cafes  shopping  arts_entertainment  beauty_spas  active_life  \\\n",
       "0          0      0         1                   0            0            0   \n",
       "1          2      1        21                   0           11            9   \n",
       "2          5      8        36                   8           25           35   \n",
       "3          1      0         4                   0            5            8   \n",
       "4          1      1        12                   1           12            5   \n",
       "\n",
       "   median_age  married  college_grad  property_tax  insurance  median_school  \\\n",
       "0        49.0     91.0          83.0         593.0      181.0            8.0   \n",
       "1        46.0     94.0          54.0         487.0      148.0            8.0   \n",
       "2        45.0     81.0          88.0        1015.0      337.0            4.0   \n",
       "3        37.0     64.0          55.0         727.0      187.0            7.0   \n",
       "4        34.0     91.0          59.0         528.0      161.0            7.0   \n",
       "\n",
       "   num_schools  tx_year  \n",
       "0          1.0     1997  \n",
       "1          3.0     2013  \n",
       "2          3.0     1993  \n",
       "3          3.0     2004  \n",
       "4          2.0     2005  "
      ]
     },
     "execution_count": 3,
     "metadata": {},
     "output_type": "execute_result"
    }
   ],
   "source": [
    "df.head()"
   ]
  },
  {
   "cell_type": "code",
   "execution_count": 4,
   "metadata": {},
   "outputs": [
    {
     "name": "stdout",
     "output_type": "stream",
     "text": [
      "tx_price ['property_type', 'exterior_walls', 'roof'] ['tx_price', 'beds', 'baths', 'sqft', 'year_built', 'lot_size', 'basement', 'restaurants', 'groceries', 'nightlife', 'cafes', 'shopping', 'arts_entertainment', 'beauty_spas', 'active_life', 'median_age', 'married', 'college_grad', 'property_tax', 'insurance', 'median_school', 'num_schools', 'tx_year']\n"
     ]
    }
   ],
   "source": [
    "target_col = 'tx_price'\n",
    "cat_cols = df.dtypes[df.dtypes == 'object'].index.tolist()\n",
    "num_cols = df.dtypes[df.dtypes != 'object'].index.tolist()\n",
    "print (target_col, cat_cols, num_cols)"
   ]
  },
  {
   "cell_type": "markdown",
   "metadata": {},
   "source": [
    "<a id = 'dc'></a>\n",
    "### 1. Data cleaning\n",
    "\n",
    "<a id = 'un'></a>\n",
    "#### 1. A. Unwanted observations"
   ]
  },
  {
   "cell_type": "code",
   "execution_count": 5,
   "metadata": {},
   "outputs": [
    {
     "data": {
      "text/plain": [
       "0"
      ]
     },
     "execution_count": 5,
     "metadata": {},
     "output_type": "execute_result"
    }
   ],
   "source": [
    "# check duplication\n",
    "sum(df.duplicated(keep = False))"
   ]
  },
  {
   "cell_type": "markdown",
   "metadata": {},
   "source": [
    "<a id = 'stuct'></a>\n",
    "#### 1.B. Structural errors\n",
    "##### 1.B.a. Typos"
   ]
  },
  {
   "cell_type": "code",
   "execution_count": 6,
   "metadata": {},
   "outputs": [
    {
     "data": {
      "text/plain": [
       "['asbestos',\n",
       " 'asphalt',\n",
       " 'asphalt',\n",
       " 'asphalt,shake-shingle',\n",
       " 'built-up',\n",
       " 'composition',\n",
       " 'composition',\n",
       " 'composition shingle',\n",
       " 'gravel/rock',\n",
       " 'metal',\n",
       " 'other',\n",
       " 'roll composition',\n",
       " 'shake shingle',\n",
       " 'shake-shingle',\n",
       " 'slate',\n",
       " 'wood shake/ shingles']"
      ]
     },
     "execution_count": 6,
     "metadata": {},
     "output_type": "execute_result"
    }
   ],
   "source": [
    "sorted(s.lower() for s in df.roof.value_counts().index.tolist())"
   ]
  },
  {
   "cell_type": "code",
   "execution_count": 7,
   "metadata": {},
   "outputs": [
    {
     "data": {
      "text/plain": [
       "['Asbestos',\n",
       " 'Asphalt',\n",
       " 'Built-up',\n",
       " 'Composition',\n",
       " 'Composition Shingle',\n",
       " 'Gravel/Rock',\n",
       " 'Metal',\n",
       " 'Other',\n",
       " 'Roll Composition',\n",
       " 'Shake Shingle',\n",
       " 'Slate',\n",
       " 'Wood Shake/ Shingles',\n",
       " 'asphalt',\n",
       " 'asphalt,shake-shingle',\n",
       " 'composition',\n",
       " 'shake-shingle']"
      ]
     },
     "execution_count": 7,
     "metadata": {},
     "output_type": "execute_result"
    }
   ],
   "source": [
    "sorted(df.roof.value_counts().index.tolist())"
   ]
  },
  {
   "cell_type": "code",
   "execution_count": 8,
   "metadata": {},
   "outputs": [
    {
     "data": {
      "image/png": "[encoded data removed]",
      "text/plain": [
       "<Figure size 432x288 with 1 Axes>"
      ]
     },
     "metadata": {
      "needs_background": "light"
     },
     "output_type": "display_data"
    }
   ],
   "source": [
    "sns.countplot(y = 'roof', data= df)\n",
    "plt.show()"
   ]
  },
  {
   "cell_type": "code",
   "execution_count": 9,
   "metadata": {},
   "outputs": [],
   "source": [
    "roof_replace_dict = {'asphalt': 'Asphalt', \n",
    "               'composition': 'Composition',\n",
    "               'shake-shingle': 'Shake Shingle'}"
   ]
  },
  {
   "cell_type": "code",
   "execution_count": 10,
   "metadata": {},
   "outputs": [],
   "source": [
    "df.loc[:,'roof'] = df['roof'].replace(roof_replace_dict)"
   ]
  },
  {
   "cell_type": "code",
   "execution_count": 11,
   "metadata": {},
   "outputs": [
    {
     "data": {
      "text/plain": [
       "Composition Shingle      951\n",
       "Asphalt                  108\n",
       "Shake Shingle             44\n",
       "Other                     37\n",
       "Gravel/Rock               24\n",
       "Wood Shake/ Shingles      22\n",
       "Roll Composition          10\n",
       "Asbestos                   7\n",
       "Slate                      6\n",
       "Composition                6\n",
       "Metal                      4\n",
       "Built-up                   2\n",
       "asphalt,shake-shingle      1\n",
       "Name: roof, dtype: int64"
      ]
     },
     "execution_count": 11,
     "metadata": {},
     "output_type": "execute_result"
    }
   ],
   "source": [
    "df.roof.value_counts()"
   ]
  },
  {
   "cell_type": "code",
   "execution_count": 12,
   "metadata": {},
   "outputs": [
    {
     "data": {
      "text/plain": [
       "Brick                  547\n",
       "Siding (Alum/Vinyl)    409\n",
       "Metal                   93\n",
       "Combination             84\n",
       "Wood                    57\n",
       "Brick veneer            41\n",
       "Wood Siding             37\n",
       "Stucco                  19\n",
       "Other                    9\n",
       "Concrete                 7\n",
       "Concrete Block           7\n",
       "Block                    6\n",
       "Asbestos shingle         5\n",
       "Rock, Stone              4\n",
       "Masonry                  2\n",
       "Wood Shingle             1\n",
       "Name: exterior_walls, dtype: int64"
      ]
     },
     "execution_count": 12,
     "metadata": {},
     "output_type": "execute_result"
    }
   ],
   "source": [
    "df.exterior_walls.value_counts()"
   ]
  },
  {
   "cell_type": "code",
   "execution_count": 13,
   "metadata": {},
   "outputs": [
    {
     "data": {
      "text/plain": [
       "['asbestos shingle',\n",
       " 'block',\n",
       " 'brick',\n",
       " 'brick veneer',\n",
       " 'combination',\n",
       " 'concrete',\n",
       " 'concrete block',\n",
       " 'masonry',\n",
       " 'metal',\n",
       " 'other',\n",
       " 'rock, stone',\n",
       " 'siding (alum/vinyl)',\n",
       " 'stucco',\n",
       " 'wood',\n",
       " 'wood shingle',\n",
       " 'wood siding']"
      ]
     },
     "execution_count": 13,
     "metadata": {},
     "output_type": "execute_result"
    }
   ],
   "source": [
    "sorted(s.lower() for s in df.exterior_walls.value_counts().index.tolist())"
   ]
  },
  {
   "cell_type": "markdown",
   "metadata": {},
   "source": [
    "##### 1.B.b. Indicator"
   ]
  },
  {
   "cell_type": "code",
   "execution_count": 14,
   "metadata": {},
   "outputs": [
    {
     "data": {
      "text/plain": [
       "array([ 1., nan])"
      ]
     },
     "execution_count": 14,
     "metadata": {},
     "output_type": "execute_result"
    }
   ],
   "source": [
    "df.basement.unique()"
   ]
  },
  {
   "cell_type": "code",
   "execution_count": 15,
   "metadata": {},
   "outputs": [],
   "source": [
    "df.loc[:,'basement'] = df.basement.fillna(0)"
   ]
  },
  {
   "cell_type": "code",
   "execution_count": 16,
   "metadata": {},
   "outputs": [
    {
     "data": {
      "text/plain": [
       "array([1., 0.])"
      ]
     },
     "execution_count": 16,
     "metadata": {},
     "output_type": "execute_result"
    }
   ],
   "source": [
    "df.basement.unique()"
   ]
  },
  {
   "cell_type": "markdown",
   "metadata": {},
   "source": [
    "<a id = 'out'></a>\n",
    "#### 1.C. Outliers"
   ]
  },
  {
   "cell_type": "code",
   "execution_count": 17,
   "metadata": {},
   "outputs": [
    {
     "data": {
      "image/png": "[encoded data removed]",
      "text/plain": [
       "<Figure size 432x288 with 1 Axes>"
      ]
     },
     "metadata": {
      "needs_background": "light"
     },
     "output_type": "display_data"
    }
   ],
   "source": [
    "sns.violinplot(x = num_cols[1], data = df)\n",
    "plt.show()"
   ]
  },
  {
   "cell_type": "code",
   "execution_count": 18,
   "metadata": {},
   "outputs": [],
   "source": [
    "def plot_num_dist(num_cols):\n",
    "    \n",
    "    figsize = (18, 24)\n",
    "    naxes = len(num_cols)\n",
    "    \n",
    "    if naxes%3 != 0:\n",
    "        nrows = naxes//3 + 1\n",
    "    else:\n",
    "        nrows = naxes//3\n",
    "\n",
    "    fig, axes = plt.subplots(nrows, 3, figsize=figsize)\n",
    "    axes = axes.ravel()\n",
    "    \n",
    "    for i in range(len(num_cols)):\n",
    "        sns.violinplot(df[num_cols[i]], ax = axes[i])\n",
    "        axes[i].set_xlabel(num_cols[i], fontsize = 20)\n",
    "    \n",
    "    plt.tight_layout()"
   ]
  },
  {
   "cell_type": "code",
   "execution_count": 19,
   "metadata": {},
   "outputs": [
    {
     "data": {
      "image/png": "[encoded data removed]",
      "text/plain": [
       "<Figure size 1296x1728 with 24 Axes>"
      ]
     },
     "metadata": {
      "needs_background": "light"
     },
     "output_type": "display_data"
    }
   ],
   "source": [
    "plot_num_dist(num_cols)"
   ]
  },
  {
   "cell_type": "code",
   "execution_count": 20,
   "metadata": {},
   "outputs": [
    {
     "data": {
      "text/html": [
       "<div>\n",
       "<style scoped>\n",
       "    .dataframe tbody tr th:only-of-type {\n",
       "        vertical-align: middle;\n",
       "    }\n",
       "\n",
       "    .dataframe tbody tr th {\n",
       "        vertical-align: top;\n",
       "    }\n",
       "\n",
       "    .dataframe thead th {\n",
       "        text-align: right;\n",
       "    }\n",
       "</style>\n",
       "<table border=\"1\" class=\"dataframe\">\n",
       "  <thead>\n",
       "    <tr style=\"text-align: right;\">\n",
       "      <th></th>\n",
       "      <th>count</th>\n",
       "      <th>mean</th>\n",
       "      <th>std</th>\n",
       "      <th>min</th>\n",
       "      <th>25%</th>\n",
       "      <th>50%</th>\n",
       "      <th>75%</th>\n",
       "      <th>max</th>\n",
       "    </tr>\n",
       "  </thead>\n",
       "  <tbody>\n",
       "    <tr>\n",
       "      <th>tx_price</th>\n",
       "      <td>1506.0</td>\n",
       "      <td>419130.136786</td>\n",
       "      <td>151194.479127</td>\n",
       "      <td>200000.0</td>\n",
       "      <td>297000.00</td>\n",
       "      <td>386500.0</td>\n",
       "      <td>523000.00</td>\n",
       "      <td>800000.0</td>\n",
       "    </tr>\n",
       "    <tr>\n",
       "      <th>beds</th>\n",
       "      <td>1506.0</td>\n",
       "      <td>3.426295</td>\n",
       "      <td>1.074723</td>\n",
       "      <td>1.0</td>\n",
       "      <td>3.00</td>\n",
       "      <td>3.0</td>\n",
       "      <td>4.00</td>\n",
       "      <td>5.0</td>\n",
       "    </tr>\n",
       "    <tr>\n",
       "      <th>baths</th>\n",
       "      <td>1506.0</td>\n",
       "      <td>2.580345</td>\n",
       "      <td>0.943866</td>\n",
       "      <td>1.0</td>\n",
       "      <td>2.00</td>\n",
       "      <td>3.0</td>\n",
       "      <td>3.00</td>\n",
       "      <td>6.0</td>\n",
       "    </tr>\n",
       "    <tr>\n",
       "      <th>sqft</th>\n",
       "      <td>1506.0</td>\n",
       "      <td>2334.859230</td>\n",
       "      <td>1339.044277</td>\n",
       "      <td>500.0</td>\n",
       "      <td>1332.00</td>\n",
       "      <td>1906.0</td>\n",
       "      <td>3028.50</td>\n",
       "      <td>8450.0</td>\n",
       "    </tr>\n",
       "    <tr>\n",
       "      <th>year_built</th>\n",
       "      <td>1506.0</td>\n",
       "      <td>1982.824037</td>\n",
       "      <td>20.392240</td>\n",
       "      <td>1880.0</td>\n",
       "      <td>1969.00</td>\n",
       "      <td>1986.0</td>\n",
       "      <td>2000.00</td>\n",
       "      <td>2015.0</td>\n",
       "    </tr>\n",
       "    <tr>\n",
       "      <th>lot_size</th>\n",
       "      <td>1506.0</td>\n",
       "      <td>13400.220452</td>\n",
       "      <td>47218.267773</td>\n",
       "      <td>0.0</td>\n",
       "      <td>1542.00</td>\n",
       "      <td>6002.5</td>\n",
       "      <td>11761.00</td>\n",
       "      <td>1220551.0</td>\n",
       "    </tr>\n",
       "    <tr>\n",
       "      <th>basement</th>\n",
       "      <td>1506.0</td>\n",
       "      <td>0.874502</td>\n",
       "      <td>0.331393</td>\n",
       "      <td>0.0</td>\n",
       "      <td>1.00</td>\n",
       "      <td>1.0</td>\n",
       "      <td>1.00</td>\n",
       "      <td>1.0</td>\n",
       "    </tr>\n",
       "    <tr>\n",
       "      <th>restaurants</th>\n",
       "      <td>1506.0</td>\n",
       "      <td>40.292829</td>\n",
       "      <td>46.981582</td>\n",
       "      <td>0.0</td>\n",
       "      <td>7.00</td>\n",
       "      <td>23.0</td>\n",
       "      <td>58.00</td>\n",
       "      <td>266.0</td>\n",
       "    </tr>\n",
       "    <tr>\n",
       "      <th>groceries</th>\n",
       "      <td>1506.0</td>\n",
       "      <td>4.455511</td>\n",
       "      <td>4.403224</td>\n",
       "      <td>0.0</td>\n",
       "      <td>1.00</td>\n",
       "      <td>3.0</td>\n",
       "      <td>7.00</td>\n",
       "      <td>23.0</td>\n",
       "    </tr>\n",
       "    <tr>\n",
       "      <th>nightlife</th>\n",
       "      <td>1506.0</td>\n",
       "      <td>5.067729</td>\n",
       "      <td>8.444900</td>\n",
       "      <td>0.0</td>\n",
       "      <td>0.00</td>\n",
       "      <td>2.0</td>\n",
       "      <td>6.00</td>\n",
       "      <td>54.0</td>\n",
       "    </tr>\n",
       "    <tr>\n",
       "      <th>cafes</th>\n",
       "      <td>1506.0</td>\n",
       "      <td>5.359894</td>\n",
       "      <td>7.637072</td>\n",
       "      <td>0.0</td>\n",
       "      <td>0.00</td>\n",
       "      <td>3.0</td>\n",
       "      <td>7.00</td>\n",
       "      <td>47.0</td>\n",
       "    </tr>\n",
       "    <tr>\n",
       "      <th>shopping</th>\n",
       "      <td>1506.0</td>\n",
       "      <td>41.211819</td>\n",
       "      <td>54.333628</td>\n",
       "      <td>0.0</td>\n",
       "      <td>6.00</td>\n",
       "      <td>22.0</td>\n",
       "      <td>51.75</td>\n",
       "      <td>340.0</td>\n",
       "    </tr>\n",
       "    <tr>\n",
       "      <th>arts_entertainment</th>\n",
       "      <td>1506.0</td>\n",
       "      <td>3.428287</td>\n",
       "      <td>4.754767</td>\n",
       "      <td>0.0</td>\n",
       "      <td>0.00</td>\n",
       "      <td>2.0</td>\n",
       "      <td>5.00</td>\n",
       "      <td>35.0</td>\n",
       "    </tr>\n",
       "    <tr>\n",
       "      <th>beauty_spas</th>\n",
       "      <td>1506.0</td>\n",
       "      <td>23.488712</td>\n",
       "      <td>25.991416</td>\n",
       "      <td>0.0</td>\n",
       "      <td>4.00</td>\n",
       "      <td>15.0</td>\n",
       "      <td>36.00</td>\n",
       "      <td>177.0</td>\n",
       "    </tr>\n",
       "    <tr>\n",
       "      <th>active_life</th>\n",
       "      <td>1506.0</td>\n",
       "      <td>15.885126</td>\n",
       "      <td>17.666477</td>\n",
       "      <td>0.0</td>\n",
       "      <td>4.00</td>\n",
       "      <td>10.0</td>\n",
       "      <td>21.00</td>\n",
       "      <td>94.0</td>\n",
       "    </tr>\n",
       "    <tr>\n",
       "      <th>median_age</th>\n",
       "      <td>1506.0</td>\n",
       "      <td>38.582337</td>\n",
       "      <td>6.724394</td>\n",
       "      <td>22.0</td>\n",
       "      <td>33.00</td>\n",
       "      <td>38.0</td>\n",
       "      <td>43.00</td>\n",
       "      <td>69.0</td>\n",
       "    </tr>\n",
       "    <tr>\n",
       "      <th>married</th>\n",
       "      <td>1506.0</td>\n",
       "      <td>69.152722</td>\n",
       "      <td>19.615691</td>\n",
       "      <td>11.0</td>\n",
       "      <td>58.00</td>\n",
       "      <td>73.0</td>\n",
       "      <td>84.00</td>\n",
       "      <td>100.0</td>\n",
       "    </tr>\n",
       "    <tr>\n",
       "      <th>college_grad</th>\n",
       "      <td>1506.0</td>\n",
       "      <td>64.968792</td>\n",
       "      <td>16.889233</td>\n",
       "      <td>5.0</td>\n",
       "      <td>53.00</td>\n",
       "      <td>66.0</td>\n",
       "      <td>78.00</td>\n",
       "      <td>100.0</td>\n",
       "    </tr>\n",
       "    <tr>\n",
       "      <th>property_tax</th>\n",
       "      <td>1506.0</td>\n",
       "      <td>466.263612</td>\n",
       "      <td>238.150359</td>\n",
       "      <td>88.0</td>\n",
       "      <td>317.25</td>\n",
       "      <td>425.0</td>\n",
       "      <td>564.00</td>\n",
       "      <td>4508.0</td>\n",
       "    </tr>\n",
       "    <tr>\n",
       "      <th>insurance</th>\n",
       "      <td>1506.0</td>\n",
       "      <td>140.313413</td>\n",
       "      <td>75.181119</td>\n",
       "      <td>30.0</td>\n",
       "      <td>93.00</td>\n",
       "      <td>124.0</td>\n",
       "      <td>169.00</td>\n",
       "      <td>1374.0</td>\n",
       "    </tr>\n",
       "    <tr>\n",
       "      <th>median_school</th>\n",
       "      <td>1506.0</td>\n",
       "      <td>6.487716</td>\n",
       "      <td>1.998009</td>\n",
       "      <td>1.0</td>\n",
       "      <td>5.00</td>\n",
       "      <td>7.0</td>\n",
       "      <td>8.00</td>\n",
       "      <td>10.0</td>\n",
       "    </tr>\n",
       "    <tr>\n",
       "      <th>num_schools</th>\n",
       "      <td>1506.0</td>\n",
       "      <td>2.802789</td>\n",
       "      <td>0.496117</td>\n",
       "      <td>1.0</td>\n",
       "      <td>3.00</td>\n",
       "      <td>3.0</td>\n",
       "      <td>3.00</td>\n",
       "      <td>4.0</td>\n",
       "    </tr>\n",
       "    <tr>\n",
       "      <th>tx_year</th>\n",
       "      <td>1506.0</td>\n",
       "      <td>2007.114874</td>\n",
       "      <td>5.238950</td>\n",
       "      <td>1993.0</td>\n",
       "      <td>2004.00</td>\n",
       "      <td>2007.0</td>\n",
       "      <td>2011.00</td>\n",
       "      <td>2016.0</td>\n",
       "    </tr>\n",
       "  </tbody>\n",
       "</table>\n",
       "</div>"
      ],
      "text/plain": [
       "                     count           mean            std       min        25%  \\\n",
       "tx_price            1506.0  419130.136786  151194.479127  200000.0  297000.00   \n",
       "beds                1506.0       3.426295       1.074723       1.0       3.00   \n",
       "baths               1506.0       2.580345       0.943866       1.0       2.00   \n",
       "sqft                1506.0    2334.859230    1339.044277     500.0    1332.00   \n",
       "year_built          1506.0    1982.824037      20.392240    1880.0    1969.00   \n",
       "lot_size            1506.0   13400.220452   47218.267773       0.0    1542.00   \n",
       "basement            1506.0       0.874502       0.331393       0.0       1.00   \n",
       "restaurants         1506.0      40.292829      46.981582       0.0       7.00   \n",
       "groceries           1506.0       4.455511       4.403224       0.0       1.00   \n",
       "nightlife           1506.0       5.067729       8.444900       0.0       0.00   \n",
       "cafes               1506.0       5.359894       7.637072       0.0       0.00   \n",
       "shopping            1506.0      41.211819      54.333628       0.0       6.00   \n",
       "arts_entertainment  1506.0       3.428287       4.754767       0.0       0.00   \n",
       "beauty_spas         1506.0      23.488712      25.991416       0.0       4.00   \n",
       "active_life         1506.0      15.885126      17.666477       0.0       4.00   \n",
       "median_age          1506.0      38.582337       6.724394      22.0      33.00   \n",
       "married             1506.0      69.152722      19.615691      11.0      58.00   \n",
       "college_grad        1506.0      64.968792      16.889233       5.0      53.00   \n",
       "property_tax        1506.0     466.263612     238.150359      88.0     317.25   \n",
       "insurance           1506.0     140.313413      75.181119      30.0      93.00   \n",
       "median_school       1506.0       6.487716       1.998009       1.0       5.00   \n",
       "num_schools         1506.0       2.802789       0.496117       1.0       3.00   \n",
       "tx_year             1506.0    2007.114874       5.238950    1993.0    2004.00   \n",
       "\n",
       "                         50%        75%        max  \n",
       "tx_price            386500.0  523000.00   800000.0  \n",
       "beds                     3.0       4.00        5.0  \n",
       "baths                    3.0       3.00        6.0  \n",
       "sqft                  1906.0    3028.50     8450.0  \n",
       "year_built            1986.0    2000.00     2015.0  \n",
       "lot_size              6002.5   11761.00  1220551.0  \n",
       "basement                 1.0       1.00        1.0  \n",
       "restaurants             23.0      58.00      266.0  \n",
       "groceries                3.0       7.00       23.0  \n",
       "nightlife                2.0       6.00       54.0  \n",
       "cafes                    3.0       7.00       47.0  \n",
       "shopping                22.0      51.75      340.0  \n",
       "arts_entertainment       2.0       5.00       35.0  \n",
       "beauty_spas             15.0      36.00      177.0  \n",
       "active_life             10.0      21.00       94.0  \n",
       "median_age              38.0      43.00       69.0  \n",
       "married                 73.0      84.00      100.0  \n",
       "college_grad            66.0      78.00      100.0  \n",
       "property_tax           425.0     564.00     4508.0  \n",
       "insurance              124.0     169.00     1374.0  \n",
       "median_school            7.0       8.00       10.0  \n",
       "num_schools              3.0       3.00        4.0  \n",
       "tx_year               2007.0    2011.00     2016.0  "
      ]
     },
     "execution_count": 20,
     "metadata": {},
     "output_type": "execute_result"
    }
   ],
   "source": [
    "df.describe().transpose()"
   ]
  },
  {
   "cell_type": "code",
   "execution_count": 21,
   "metadata": {},
   "outputs": [
    {
     "data": {
      "text/plain": [
       "472     1220551\n",
       "1392     436471\n",
       "1246     436035\n",
       "147      435600\n",
       "53       435600\n",
       "738      435600\n",
       "1102     435600\n",
       "1064     351529\n",
       "859      343252\n",
       "457      231303\n",
       "Name: lot_size, dtype: int64"
      ]
     },
     "execution_count": 21,
     "metadata": {},
     "output_type": "execute_result"
    }
   ],
   "source": [
    "df.lot_size.sort_values(ascending = False)[:10]"
   ]
  },
  {
   "cell_type": "code",
   "execution_count": 22,
   "metadata": {},
   "outputs": [
    {
     "data": {
      "text/html": [
       "<div>\n",
       "<style scoped>\n",
       "    .dataframe tbody tr th:only-of-type {\n",
       "        vertical-align: middle;\n",
       "    }\n",
       "\n",
       "    .dataframe tbody tr th {\n",
       "        vertical-align: top;\n",
       "    }\n",
       "\n",
       "    .dataframe thead th {\n",
       "        text-align: right;\n",
       "    }\n",
       "</style>\n",
       "<table border=\"1\" class=\"dataframe\">\n",
       "  <thead>\n",
       "    <tr style=\"text-align: right;\">\n",
       "      <th></th>\n",
       "      <th>472</th>\n",
       "    </tr>\n",
       "  </thead>\n",
       "  <tbody>\n",
       "    <tr>\n",
       "      <th>tx_price</th>\n",
       "      <td>292999</td>\n",
       "    </tr>\n",
       "    <tr>\n",
       "      <th>beds</th>\n",
       "      <td>2</td>\n",
       "    </tr>\n",
       "    <tr>\n",
       "      <th>baths</th>\n",
       "      <td>1</td>\n",
       "    </tr>\n",
       "    <tr>\n",
       "      <th>sqft</th>\n",
       "      <td>875</td>\n",
       "    </tr>\n",
       "    <tr>\n",
       "      <th>year_built</th>\n",
       "      <td>1950</td>\n",
       "    </tr>\n",
       "    <tr>\n",
       "      <th>lot_size</th>\n",
       "      <td>1220551</td>\n",
       "    </tr>\n",
       "    <tr>\n",
       "      <th>property_type</th>\n",
       "      <td>Apartment / Condo / Townhouse</td>\n",
       "    </tr>\n",
       "    <tr>\n",
       "      <th>exterior_walls</th>\n",
       "      <td>Brick</td>\n",
       "    </tr>\n",
       "    <tr>\n",
       "      <th>roof</th>\n",
       "      <td>NaN</td>\n",
       "    </tr>\n",
       "    <tr>\n",
       "      <th>basement</th>\n",
       "      <td>0</td>\n",
       "    </tr>\n",
       "    <tr>\n",
       "      <th>restaurants</th>\n",
       "      <td>63</td>\n",
       "    </tr>\n",
       "    <tr>\n",
       "      <th>groceries</th>\n",
       "      <td>11</td>\n",
       "    </tr>\n",
       "    <tr>\n",
       "      <th>nightlife</th>\n",
       "      <td>11</td>\n",
       "    </tr>\n",
       "    <tr>\n",
       "      <th>cafes</th>\n",
       "      <td>8</td>\n",
       "    </tr>\n",
       "    <tr>\n",
       "      <th>shopping</th>\n",
       "      <td>39</td>\n",
       "    </tr>\n",
       "    <tr>\n",
       "      <th>arts_entertainment</th>\n",
       "      <td>18</td>\n",
       "    </tr>\n",
       "    <tr>\n",
       "      <th>beauty_spas</th>\n",
       "      <td>42</td>\n",
       "    </tr>\n",
       "    <tr>\n",
       "      <th>active_life</th>\n",
       "      <td>44</td>\n",
       "    </tr>\n",
       "    <tr>\n",
       "      <th>median_age</th>\n",
       "      <td>33</td>\n",
       "    </tr>\n",
       "    <tr>\n",
       "      <th>married</th>\n",
       "      <td>35</td>\n",
       "    </tr>\n",
       "    <tr>\n",
       "      <th>college_grad</th>\n",
       "      <td>87</td>\n",
       "    </tr>\n",
       "    <tr>\n",
       "      <th>property_tax</th>\n",
       "      <td>230</td>\n",
       "    </tr>\n",
       "    <tr>\n",
       "      <th>insurance</th>\n",
       "      <td>79</td>\n",
       "    </tr>\n",
       "    <tr>\n",
       "      <th>median_school</th>\n",
       "      <td>6</td>\n",
       "    </tr>\n",
       "    <tr>\n",
       "      <th>num_schools</th>\n",
       "      <td>3</td>\n",
       "    </tr>\n",
       "    <tr>\n",
       "      <th>tx_year</th>\n",
       "      <td>2014</td>\n",
       "    </tr>\n",
       "  </tbody>\n",
       "</table>\n",
       "</div>"
      ],
      "text/plain": [
       "                                              472\n",
       "tx_price                                   292999\n",
       "beds                                            2\n",
       "baths                                           1\n",
       "sqft                                          875\n",
       "year_built                                   1950\n",
       "lot_size                                  1220551\n",
       "property_type       Apartment / Condo / Townhouse\n",
       "exterior_walls                              Brick\n",
       "roof                                          NaN\n",
       "basement                                        0\n",
       "restaurants                                    63\n",
       "groceries                                      11\n",
       "nightlife                                      11\n",
       "cafes                                           8\n",
       "shopping                                       39\n",
       "arts_entertainment                             18\n",
       "beauty_spas                                    42\n",
       "active_life                                    44\n",
       "median_age                                     33\n",
       "married                                        35\n",
       "college_grad                                   87\n",
       "property_tax                                  230\n",
       "insurance                                      79\n",
       "median_school                                   6\n",
       "num_schools                                     3\n",
       "tx_year                                      2014"
      ]
     },
     "execution_count": 22,
     "metadata": {},
     "output_type": "execute_result"
    }
   ],
   "source": [
    "df[df.lot_size == df.lot_size.max()].transpose()"
   ]
  },
  {
   "cell_type": "code",
   "execution_count": 23,
   "metadata": {},
   "outputs": [
    {
     "data": {
      "text/plain": [
       "(1506, 26)"
      ]
     },
     "execution_count": 23,
     "metadata": {},
     "output_type": "execute_result"
    }
   ],
   "source": [
    "df.shape"
   ]
  },
  {
   "cell_type": "code",
   "execution_count": 24,
   "metadata": {},
   "outputs": [],
   "source": [
    "# drop observation as the largest lot is disproportional to the bed and bath size, likely a mistake in puting in the lot size for the entire complex rather than one unit\n",
    "df = df[df.lot_size < 500000]"
   ]
  },
  {
   "cell_type": "code",
   "execution_count": 25,
   "metadata": {},
   "outputs": [
    {
     "data": {
      "text/plain": [
       "1392    436471\n",
       "1246    436035\n",
       "53      435600\n",
       "1102    435600\n",
       "147     435600\n",
       "738     435600\n",
       "1064    351529\n",
       "859     343252\n",
       "457     231303\n",
       "1033    217800\n",
       "Name: lot_size, dtype: int64"
      ]
     },
     "execution_count": 25,
     "metadata": {},
     "output_type": "execute_result"
    }
   ],
   "source": [
    "df.lot_size.sort_values(ascending = False)[:10]"
   ]
  },
  {
   "cell_type": "code",
   "execution_count": 26,
   "metadata": {},
   "outputs": [
    {
     "data": {
      "text/plain": [
       "(1505, 26)"
      ]
     },
     "execution_count": 26,
     "metadata": {},
     "output_type": "execute_result"
    }
   ],
   "source": [
    "df.shape"
   ]
  },
  {
   "cell_type": "markdown",
   "metadata": {},
   "source": [
    "<a id = 'miss'></a>\n",
    "#### 1.D. Missing values\n",
    "##### 1.D.a. Categorical features"
   ]
  },
  {
   "cell_type": "code",
   "execution_count": 27,
   "metadata": {},
   "outputs": [
    {
     "data": {
      "text/html": [
       "<div>\n",
       "<style scoped>\n",
       "    .dataframe tbody tr th:only-of-type {\n",
       "        vertical-align: middle;\n",
       "    }\n",
       "\n",
       "    .dataframe tbody tr th {\n",
       "        vertical-align: top;\n",
       "    }\n",
       "\n",
       "    .dataframe thead th {\n",
       "        text-align: right;\n",
       "    }\n",
       "</style>\n",
       "<table border=\"1\" class=\"dataframe\">\n",
       "  <thead>\n",
       "    <tr style=\"text-align: right;\">\n",
       "      <th></th>\n",
       "      <th>property_type</th>\n",
       "      <th>exterior_walls</th>\n",
       "      <th>roof</th>\n",
       "    </tr>\n",
       "  </thead>\n",
       "  <tbody>\n",
       "    <tr>\n",
       "      <th>count</th>\n",
       "      <td>1505</td>\n",
       "      <td>1327</td>\n",
       "      <td>1222</td>\n",
       "    </tr>\n",
       "    <tr>\n",
       "      <th>unique</th>\n",
       "      <td>2</td>\n",
       "      <td>16</td>\n",
       "      <td>13</td>\n",
       "    </tr>\n",
       "    <tr>\n",
       "      <th>top</th>\n",
       "      <td>Single-Family</td>\n",
       "      <td>Brick</td>\n",
       "      <td>Composition Shingle</td>\n",
       "    </tr>\n",
       "    <tr>\n",
       "      <th>freq</th>\n",
       "      <td>854</td>\n",
       "      <td>546</td>\n",
       "      <td>951</td>\n",
       "    </tr>\n",
       "  </tbody>\n",
       "</table>\n",
       "</div>"
      ],
      "text/plain": [
       "        property_type exterior_walls                 roof\n",
       "count            1505           1327                 1222\n",
       "unique              2             16                   13\n",
       "top     Single-Family          Brick  Composition Shingle\n",
       "freq              854            546                  951"
      ]
     },
     "execution_count": 27,
     "metadata": {},
     "output_type": "execute_result"
    }
   ],
   "source": [
    "df[cat_cols].describe()"
   ]
  },
  {
   "cell_type": "code",
   "execution_count": 28,
   "metadata": {},
   "outputs": [
    {
     "data": {
      "text/plain": [
       "(1505, 26)"
      ]
     },
     "execution_count": 28,
     "metadata": {},
     "output_type": "execute_result"
    }
   ],
   "source": [
    "df.shape"
   ]
  },
  {
   "cell_type": "code",
   "execution_count": 29,
   "metadata": {},
   "outputs": [],
   "source": [
    "for c in cat_cols:\n",
    "    df.loc[:,c] = df[c].fillna('Missing')"
   ]
  },
  {
   "cell_type": "code",
   "execution_count": 30,
   "metadata": {},
   "outputs": [
    {
     "data": {
      "text/html": [
       "<div>\n",
       "<style scoped>\n",
       "    .dataframe tbody tr th:only-of-type {\n",
       "        vertical-align: middle;\n",
       "    }\n",
       "\n",
       "    .dataframe tbody tr th {\n",
       "        vertical-align: top;\n",
       "    }\n",
       "\n",
       "    .dataframe thead th {\n",
       "        text-align: right;\n",
       "    }\n",
       "</style>\n",
       "<table border=\"1\" class=\"dataframe\">\n",
       "  <thead>\n",
       "    <tr style=\"text-align: right;\">\n",
       "      <th></th>\n",
       "      <th>property_type</th>\n",
       "      <th>exterior_walls</th>\n",
       "      <th>roof</th>\n",
       "    </tr>\n",
       "  </thead>\n",
       "  <tbody>\n",
       "    <tr>\n",
       "      <th>count</th>\n",
       "      <td>1505</td>\n",
       "      <td>1505</td>\n",
       "      <td>1505</td>\n",
       "    </tr>\n",
       "    <tr>\n",
       "      <th>unique</th>\n",
       "      <td>2</td>\n",
       "      <td>17</td>\n",
       "      <td>14</td>\n",
       "    </tr>\n",
       "    <tr>\n",
       "      <th>top</th>\n",
       "      <td>Single-Family</td>\n",
       "      <td>Brick</td>\n",
       "      <td>Composition Shingle</td>\n",
       "    </tr>\n",
       "    <tr>\n",
       "      <th>freq</th>\n",
       "      <td>854</td>\n",
       "      <td>546</td>\n",
       "      <td>951</td>\n",
       "    </tr>\n",
       "  </tbody>\n",
       "</table>\n",
       "</div>"
      ],
      "text/plain": [
       "        property_type exterior_walls                 roof\n",
       "count            1505           1505                 1505\n",
       "unique              2             17                   14\n",
       "top     Single-Family          Brick  Composition Shingle\n",
       "freq              854            546                  951"
      ]
     },
     "execution_count": 30,
     "metadata": {},
     "output_type": "execute_result"
    }
   ],
   "source": [
    "df[cat_cols].describe()"
   ]
  },
  {
   "cell_type": "code",
   "execution_count": 31,
   "metadata": {},
   "outputs": [
    {
     "data": {
      "text/plain": [
       "property_type     0\n",
       "exterior_walls    0\n",
       "roof              0\n",
       "dtype: int64"
      ]
     },
     "execution_count": 31,
     "metadata": {},
     "output_type": "execute_result"
    }
   ],
   "source": [
    "df[cat_cols].isnull().sum()"
   ]
  },
  {
   "cell_type": "markdown",
   "metadata": {},
   "source": [
    "##### 1.D.b. Numerical features"
   ]
  },
  {
   "cell_type": "code",
   "execution_count": 32,
   "metadata": {},
   "outputs": [
    {
     "data": {
      "text/plain": [
       "tx_price              0\n",
       "beds                  0\n",
       "baths                 0\n",
       "sqft                  0\n",
       "year_built            0\n",
       "lot_size              0\n",
       "basement              0\n",
       "restaurants           0\n",
       "groceries             0\n",
       "nightlife             0\n",
       "cafes                 0\n",
       "shopping              0\n",
       "arts_entertainment    0\n",
       "beauty_spas           0\n",
       "active_life           0\n",
       "median_age            0\n",
       "married               0\n",
       "college_grad          0\n",
       "property_tax          0\n",
       "insurance             0\n",
       "median_school         0\n",
       "num_schools           0\n",
       "tx_year               0\n",
       "dtype: int64"
      ]
     },
     "execution_count": 32,
     "metadata": {},
     "output_type": "execute_result"
    }
   ],
   "source": [
    "df[num_cols].isnull().sum()"
   ]
  },
  {
   "cell_type": "code",
   "execution_count": 33,
   "metadata": {},
   "outputs": [
    {
     "data": {
      "text/plain": [
       "tx_price              1505.0\n",
       "beds                  1505.0\n",
       "baths                 1505.0\n",
       "sqft                  1505.0\n",
       "year_built            1505.0\n",
       "lot_size              1505.0\n",
       "basement              1505.0\n",
       "restaurants           1505.0\n",
       "groceries             1505.0\n",
       "nightlife             1505.0\n",
       "cafes                 1505.0\n",
       "shopping              1505.0\n",
       "arts_entertainment    1505.0\n",
       "beauty_spas           1505.0\n",
       "active_life           1505.0\n",
       "median_age            1505.0\n",
       "married               1505.0\n",
       "college_grad          1505.0\n",
       "property_tax          1505.0\n",
       "insurance             1505.0\n",
       "median_school         1505.0\n",
       "num_schools           1505.0\n",
       "tx_year               1505.0\n",
       "Name: count, dtype: float64"
      ]
     },
     "execution_count": 33,
     "metadata": {},
     "output_type": "execute_result"
    }
   ],
   "source": [
    "df[num_cols].describe().transpose().loc[:, 'count']"
   ]
  },
  {
   "cell_type": "code",
   "execution_count": 34,
   "metadata": {},
   "outputs": [
    {
     "data": {
      "text/plain": [
       "(1505, 26)"
      ]
     },
     "execution_count": 34,
     "metadata": {},
     "output_type": "execute_result"
    }
   ],
   "source": [
    "df.shape"
   ]
  },
  {
   "cell_type": "code",
   "execution_count": 35,
   "metadata": {},
   "outputs": [],
   "source": [
    "df.to_csv('../data/train_clean.csv', index = None)"
   ]
  },
  {
   "cell_type": "markdown",
   "metadata": {},
   "source": [
    "<a href=\"#toc\">Back to top</a>"
   ]
  },
  {
   "cell_type": "code",
   "execution_count": 36,
   "metadata": {},
   "outputs": [],
   "source": [
    "df = pd.read_csv('../data/train_clean.csv')"
   ]
  },
  {
   "cell_type": "code",
   "execution_count": 37,
   "metadata": {},
   "outputs": [
    {
     "data": {
      "text/plain": [
       "(1505, 26)"
      ]
     },
     "execution_count": 37,
     "metadata": {},
     "output_type": "execute_result"
    }
   ],
   "source": [
    "df.shape"
   ]
  },
  {
   "cell_type": "markdown",
   "metadata": {},
   "source": [
    "<a id = 'fe'></a>\n",
    "### 2. Feature Engineering\n",
    "<a id = 'domain'></a>\n",
    "#### 2.A. Domain Knowledge\n",
    "##### 2.A.a. Premium for 2Be + 2Ba:  due to family size, maybe airbnb"
   ]
  },
  {
   "cell_type": "code",
   "execution_count": 38,
   "metadata": {},
   "outputs": [],
   "source": [
    "df.loc[:,'2ba2be'] = ((df.baths == 2) & (df.beds == 2)).astype(int)"
   ]
  },
  {
   "cell_type": "code",
   "execution_count": 39,
   "metadata": {},
   "outputs": [
    {
     "data": {
      "text/plain": [
       "count    1505.000000\n",
       "mean        0.092359\n",
       "std         0.289628\n",
       "min         0.000000\n",
       "25%         0.000000\n",
       "50%         0.000000\n",
       "75%         0.000000\n",
       "max         1.000000\n",
       "Name: 2ba2be, dtype: float64"
      ]
     },
     "execution_count": 39,
     "metadata": {},
     "output_type": "execute_result"
    }
   ],
   "source": [
    "df['2ba2be'].describe()"
   ]
  },
  {
   "cell_type": "code",
   "execution_count": 40,
   "metadata": {},
   "outputs": [
    {
     "data": {
      "text/plain": [
       "(1505, 27)"
      ]
     },
     "execution_count": 40,
     "metadata": {},
     "output_type": "execute_result"
    }
   ],
   "source": [
    "df.shape"
   ]
  },
  {
   "cell_type": "markdown",
   "metadata": {},
   "source": [
    "##### 2.A.b. recession"
   ]
  },
  {
   "cell_type": "code",
   "execution_count": 41,
   "metadata": {},
   "outputs": [],
   "source": [
    "df.loc[:,'recession_ind'] = df.tx_year.between(2008, 2014).astype(int)"
   ]
  },
  {
   "cell_type": "code",
   "execution_count": 42,
   "metadata": {},
   "outputs": [
    {
     "data": {
      "text/plain": [
       "count    1505.000000\n",
       "mean        0.438538\n",
       "std         0.496373\n",
       "min         0.000000\n",
       "25%         0.000000\n",
       "50%         0.000000\n",
       "75%         1.000000\n",
       "max         1.000000\n",
       "Name: recession_ind, dtype: float64"
      ]
     },
     "execution_count": 42,
     "metadata": {},
     "output_type": "execute_result"
    }
   ],
   "source": [
    "df.recession_ind.describe()"
   ]
  },
  {
   "cell_type": "code",
   "execution_count": 43,
   "metadata": {},
   "outputs": [
    {
     "data": {
      "text/plain": [
       "(1505, 28)"
      ]
     },
     "execution_count": 43,
     "metadata": {},
     "output_type": "execute_result"
    }
   ],
   "source": [
    "df.shape"
   ]
  },
  {
   "cell_type": "markdown",
   "metadata": {},
   "source": [
    "<a id = 'inter'></a>\n",
    "#### 2.B. Interaction features\n",
    "##### 2.B.a. property_age"
   ]
  },
  {
   "cell_type": "code",
   "execution_count": 44,
   "metadata": {},
   "outputs": [],
   "source": [
    "df.loc[:,'property_age'] = df.tx_year - df.year_built"
   ]
  },
  {
   "cell_type": "code",
   "execution_count": 45,
   "metadata": {},
   "outputs": [
    {
     "data": {
      "text/plain": [
       "count    1505.000000\n",
       "mean       24.264452\n",
       "std        21.245193\n",
       "min        -8.000000\n",
       "25%         5.000000\n",
       "50%        20.000000\n",
       "75%        39.000000\n",
       "max       114.000000\n",
       "Name: property_age, dtype: float64"
      ]
     },
     "execution_count": 45,
     "metadata": {},
     "output_type": "execute_result"
    }
   ],
   "source": [
    "df.property_age.describe()"
   ]
  },
  {
   "cell_type": "code",
   "execution_count": 46,
   "metadata": {},
   "outputs": [
    {
     "data": {
      "text/plain": [
       "15"
      ]
     },
     "execution_count": 46,
     "metadata": {},
     "output_type": "execute_result"
    }
   ],
   "source": [
    "sum(df.property_age < 0)"
   ]
  },
  {
   "cell_type": "code",
   "execution_count": 47,
   "metadata": {},
   "outputs": [
    {
     "data": {
      "text/html": [
       "<div>\n",
       "<style scoped>\n",
       "    .dataframe tbody tr th:only-of-type {\n",
       "        vertical-align: middle;\n",
       "    }\n",
       "\n",
       "    .dataframe tbody tr th {\n",
       "        vertical-align: top;\n",
       "    }\n",
       "\n",
       "    .dataframe thead th {\n",
       "        text-align: right;\n",
       "    }\n",
       "</style>\n",
       "<table border=\"1\" class=\"dataframe\">\n",
       "  <thead>\n",
       "    <tr style=\"text-align: right;\">\n",
       "      <th></th>\n",
       "      <th>tx_price</th>\n",
       "      <th>beds</th>\n",
       "      <th>baths</th>\n",
       "      <th>sqft</th>\n",
       "      <th>year_built</th>\n",
       "      <th>lot_size</th>\n",
       "      <th>property_type</th>\n",
       "      <th>exterior_walls</th>\n",
       "      <th>roof</th>\n",
       "      <th>basement</th>\n",
       "      <th>restaurants</th>\n",
       "      <th>groceries</th>\n",
       "      <th>nightlife</th>\n",
       "      <th>cafes</th>\n",
       "      <th>shopping</th>\n",
       "      <th>arts_entertainment</th>\n",
       "      <th>beauty_spas</th>\n",
       "      <th>active_life</th>\n",
       "      <th>median_age</th>\n",
       "      <th>married</th>\n",
       "      <th>college_grad</th>\n",
       "      <th>property_tax</th>\n",
       "      <th>insurance</th>\n",
       "      <th>median_school</th>\n",
       "      <th>num_schools</th>\n",
       "      <th>tx_year</th>\n",
       "      <th>2ba2be</th>\n",
       "      <th>recession_ind</th>\n",
       "      <th>property_age</th>\n",
       "    </tr>\n",
       "  </thead>\n",
       "  <tbody>\n",
       "    <tr>\n",
       "      <th>248</th>\n",
       "      <td>300000</td>\n",
       "      <td>4</td>\n",
       "      <td>4</td>\n",
       "      <td>5800</td>\n",
       "      <td>2002</td>\n",
       "      <td>22215</td>\n",
       "      <td>Single-Family</td>\n",
       "      <td>Brick</td>\n",
       "      <td>Composition Shingle</td>\n",
       "      <td>1.0</td>\n",
       "      <td>1</td>\n",
       "      <td>0</td>\n",
       "      <td>0</td>\n",
       "      <td>0</td>\n",
       "      <td>2</td>\n",
       "      <td>0</td>\n",
       "      <td>1</td>\n",
       "      <td>2</td>\n",
       "      <td>47.0</td>\n",
       "      <td>81.0</td>\n",
       "      <td>79.0</td>\n",
       "      <td>1799.0</td>\n",
       "      <td>548.0</td>\n",
       "      <td>6.0</td>\n",
       "      <td>3.0</td>\n",
       "      <td>2000</td>\n",
       "      <td>0</td>\n",
       "      <td>0</td>\n",
       "      <td>-2</td>\n",
       "    </tr>\n",
       "    <tr>\n",
       "      <th>252</th>\n",
       "      <td>550000</td>\n",
       "      <td>5</td>\n",
       "      <td>3</td>\n",
       "      <td>4681</td>\n",
       "      <td>2006</td>\n",
       "      <td>11761</td>\n",
       "      <td>Single-Family</td>\n",
       "      <td>Combination</td>\n",
       "      <td>Composition Shingle</td>\n",
       "      <td>1.0</td>\n",
       "      <td>57</td>\n",
       "      <td>9</td>\n",
       "      <td>4</td>\n",
       "      <td>5</td>\n",
       "      <td>68</td>\n",
       "      <td>2</td>\n",
       "      <td>36</td>\n",
       "      <td>22</td>\n",
       "      <td>40.0</td>\n",
       "      <td>87.0</td>\n",
       "      <td>84.0</td>\n",
       "      <td>1200.0</td>\n",
       "      <td>349.0</td>\n",
       "      <td>9.0</td>\n",
       "      <td>3.0</td>\n",
       "      <td>2005</td>\n",
       "      <td>0</td>\n",
       "      <td>0</td>\n",
       "      <td>-1</td>\n",
       "    </tr>\n",
       "    <tr>\n",
       "      <th>326</th>\n",
       "      <td>649000</td>\n",
       "      <td>5</td>\n",
       "      <td>5</td>\n",
       "      <td>7034</td>\n",
       "      <td>2006</td>\n",
       "      <td>25700</td>\n",
       "      <td>Single-Family</td>\n",
       "      <td>Wood</td>\n",
       "      <td>Composition Shingle</td>\n",
       "      <td>1.0</td>\n",
       "      <td>1</td>\n",
       "      <td>0</td>\n",
       "      <td>0</td>\n",
       "      <td>0</td>\n",
       "      <td>2</td>\n",
       "      <td>0</td>\n",
       "      <td>0</td>\n",
       "      <td>4</td>\n",
       "      <td>42.0</td>\n",
       "      <td>87.0</td>\n",
       "      <td>92.0</td>\n",
       "      <td>1146.0</td>\n",
       "      <td>349.0</td>\n",
       "      <td>10.0</td>\n",
       "      <td>3.0</td>\n",
       "      <td>2005</td>\n",
       "      <td>0</td>\n",
       "      <td>0</td>\n",
       "      <td>-1</td>\n",
       "    </tr>\n",
       "    <tr>\n",
       "      <th>377</th>\n",
       "      <td>570000</td>\n",
       "      <td>5</td>\n",
       "      <td>4</td>\n",
       "      <td>5480</td>\n",
       "      <td>2012</td>\n",
       "      <td>11325</td>\n",
       "      <td>Single-Family</td>\n",
       "      <td>Brick</td>\n",
       "      <td>Composition Shingle</td>\n",
       "      <td>1.0</td>\n",
       "      <td>5</td>\n",
       "      <td>0</td>\n",
       "      <td>0</td>\n",
       "      <td>0</td>\n",
       "      <td>6</td>\n",
       "      <td>1</td>\n",
       "      <td>3</td>\n",
       "      <td>9</td>\n",
       "      <td>38.0</td>\n",
       "      <td>70.0</td>\n",
       "      <td>89.0</td>\n",
       "      <td>1147.0</td>\n",
       "      <td>349.0</td>\n",
       "      <td>10.0</td>\n",
       "      <td>3.0</td>\n",
       "      <td>2011</td>\n",
       "      <td>0</td>\n",
       "      <td>1</td>\n",
       "      <td>-1</td>\n",
       "    </tr>\n",
       "    <tr>\n",
       "      <th>516</th>\n",
       "      <td>350000</td>\n",
       "      <td>5</td>\n",
       "      <td>4</td>\n",
       "      <td>4252</td>\n",
       "      <td>2010</td>\n",
       "      <td>22215</td>\n",
       "      <td>Single-Family</td>\n",
       "      <td>Other</td>\n",
       "      <td>Composition Shingle</td>\n",
       "      <td>1.0</td>\n",
       "      <td>47</td>\n",
       "      <td>7</td>\n",
       "      <td>2</td>\n",
       "      <td>5</td>\n",
       "      <td>25</td>\n",
       "      <td>1</td>\n",
       "      <td>17</td>\n",
       "      <td>7</td>\n",
       "      <td>33.0</td>\n",
       "      <td>46.0</td>\n",
       "      <td>63.0</td>\n",
       "      <td>739.0</td>\n",
       "      <td>225.0</td>\n",
       "      <td>4.0</td>\n",
       "      <td>3.0</td>\n",
       "      <td>2003</td>\n",
       "      <td>0</td>\n",
       "      <td>0</td>\n",
       "      <td>-7</td>\n",
       "    </tr>\n",
       "    <tr>\n",
       "      <th>579</th>\n",
       "      <td>280000</td>\n",
       "      <td>5</td>\n",
       "      <td>5</td>\n",
       "      <td>6542</td>\n",
       "      <td>2011</td>\n",
       "      <td>43995</td>\n",
       "      <td>Single-Family</td>\n",
       "      <td>Stucco</td>\n",
       "      <td>Composition Shingle</td>\n",
       "      <td>1.0</td>\n",
       "      <td>1</td>\n",
       "      <td>0</td>\n",
       "      <td>1</td>\n",
       "      <td>0</td>\n",
       "      <td>1</td>\n",
       "      <td>1</td>\n",
       "      <td>0</td>\n",
       "      <td>4</td>\n",
       "      <td>44.0</td>\n",
       "      <td>100.0</td>\n",
       "      <td>72.0</td>\n",
       "      <td>860.0</td>\n",
       "      <td>262.0</td>\n",
       "      <td>8.0</td>\n",
       "      <td>3.0</td>\n",
       "      <td>2010</td>\n",
       "      <td>0</td>\n",
       "      <td>1</td>\n",
       "      <td>-1</td>\n",
       "    </tr>\n",
       "    <tr>\n",
       "      <th>781</th>\n",
       "      <td>400000</td>\n",
       "      <td>5</td>\n",
       "      <td>4</td>\n",
       "      <td>5003</td>\n",
       "      <td>2013</td>\n",
       "      <td>21344</td>\n",
       "      <td>Single-Family</td>\n",
       "      <td>Siding (Alum/Vinyl)</td>\n",
       "      <td>Composition Shingle</td>\n",
       "      <td>1.0</td>\n",
       "      <td>45</td>\n",
       "      <td>5</td>\n",
       "      <td>4</td>\n",
       "      <td>6</td>\n",
       "      <td>77</td>\n",
       "      <td>7</td>\n",
       "      <td>73</td>\n",
       "      <td>19</td>\n",
       "      <td>41.0</td>\n",
       "      <td>80.0</td>\n",
       "      <td>78.0</td>\n",
       "      <td>1217.0</td>\n",
       "      <td>371.0</td>\n",
       "      <td>9.0</td>\n",
       "      <td>3.0</td>\n",
       "      <td>2012</td>\n",
       "      <td>0</td>\n",
       "      <td>1</td>\n",
       "      <td>-1</td>\n",
       "    </tr>\n",
       "    <tr>\n",
       "      <th>852</th>\n",
       "      <td>540000</td>\n",
       "      <td>4</td>\n",
       "      <td>6</td>\n",
       "      <td>4418</td>\n",
       "      <td>2007</td>\n",
       "      <td>11325</td>\n",
       "      <td>Single-Family</td>\n",
       "      <td>Siding (Alum/Vinyl)</td>\n",
       "      <td>Composition Shingle</td>\n",
       "      <td>1.0</td>\n",
       "      <td>70</td>\n",
       "      <td>6</td>\n",
       "      <td>9</td>\n",
       "      <td>14</td>\n",
       "      <td>122</td>\n",
       "      <td>2</td>\n",
       "      <td>43</td>\n",
       "      <td>17</td>\n",
       "      <td>29.0</td>\n",
       "      <td>75.0</td>\n",
       "      <td>45.0</td>\n",
       "      <td>868.0</td>\n",
       "      <td>264.0</td>\n",
       "      <td>8.0</td>\n",
       "      <td>3.0</td>\n",
       "      <td>2005</td>\n",
       "      <td>0</td>\n",
       "      <td>0</td>\n",
       "      <td>-2</td>\n",
       "    </tr>\n",
       "    <tr>\n",
       "      <th>921</th>\n",
       "      <td>555000</td>\n",
       "      <td>5</td>\n",
       "      <td>5</td>\n",
       "      <td>8450</td>\n",
       "      <td>2004</td>\n",
       "      <td>91911</td>\n",
       "      <td>Single-Family</td>\n",
       "      <td>Other</td>\n",
       "      <td>Composition Shingle</td>\n",
       "      <td>1.0</td>\n",
       "      <td>7</td>\n",
       "      <td>2</td>\n",
       "      <td>1</td>\n",
       "      <td>1</td>\n",
       "      <td>4</td>\n",
       "      <td>0</td>\n",
       "      <td>3</td>\n",
       "      <td>3</td>\n",
       "      <td>35.0</td>\n",
       "      <td>91.0</td>\n",
       "      <td>85.0</td>\n",
       "      <td>1966.0</td>\n",
       "      <td>599.0</td>\n",
       "      <td>10.0</td>\n",
       "      <td>3.0</td>\n",
       "      <td>2003</td>\n",
       "      <td>0</td>\n",
       "      <td>0</td>\n",
       "      <td>-1</td>\n",
       "    </tr>\n",
       "    <tr>\n",
       "      <th>965</th>\n",
       "      <td>294996</td>\n",
       "      <td>4</td>\n",
       "      <td>2</td>\n",
       "      <td>3711</td>\n",
       "      <td>2003</td>\n",
       "      <td>7405</td>\n",
       "      <td>Single-Family</td>\n",
       "      <td>Siding (Alum/Vinyl)</td>\n",
       "      <td>Composition Shingle</td>\n",
       "      <td>1.0</td>\n",
       "      <td>25</td>\n",
       "      <td>2</td>\n",
       "      <td>1</td>\n",
       "      <td>3</td>\n",
       "      <td>19</td>\n",
       "      <td>2</td>\n",
       "      <td>17</td>\n",
       "      <td>10</td>\n",
       "      <td>32.0</td>\n",
       "      <td>78.0</td>\n",
       "      <td>57.0</td>\n",
       "      <td>413.0</td>\n",
       "      <td>117.0</td>\n",
       "      <td>6.0</td>\n",
       "      <td>3.0</td>\n",
       "      <td>2002</td>\n",
       "      <td>0</td>\n",
       "      <td>0</td>\n",
       "      <td>-1</td>\n",
       "    </tr>\n",
       "    <tr>\n",
       "      <th>1053</th>\n",
       "      <td>365000</td>\n",
       "      <td>5</td>\n",
       "      <td>4</td>\n",
       "      <td>5654</td>\n",
       "      <td>2015</td>\n",
       "      <td>10175</td>\n",
       "      <td>Single-Family</td>\n",
       "      <td>Brick</td>\n",
       "      <td>Composition Shingle</td>\n",
       "      <td>1.0</td>\n",
       "      <td>36</td>\n",
       "      <td>5</td>\n",
       "      <td>3</td>\n",
       "      <td>2</td>\n",
       "      <td>38</td>\n",
       "      <td>1</td>\n",
       "      <td>19</td>\n",
       "      <td>4</td>\n",
       "      <td>44.0</td>\n",
       "      <td>72.0</td>\n",
       "      <td>42.0</td>\n",
       "      <td>799.0</td>\n",
       "      <td>243.0</td>\n",
       "      <td>4.0</td>\n",
       "      <td>3.0</td>\n",
       "      <td>2007</td>\n",
       "      <td>0</td>\n",
       "      <td>0</td>\n",
       "      <td>-8</td>\n",
       "    </tr>\n",
       "    <tr>\n",
       "      <th>1060</th>\n",
       "      <td>461000</td>\n",
       "      <td>4</td>\n",
       "      <td>3</td>\n",
       "      <td>4301</td>\n",
       "      <td>2004</td>\n",
       "      <td>9583</td>\n",
       "      <td>Single-Family</td>\n",
       "      <td>Missing</td>\n",
       "      <td>Composition Shingle</td>\n",
       "      <td>1.0</td>\n",
       "      <td>42</td>\n",
       "      <td>1</td>\n",
       "      <td>6</td>\n",
       "      <td>1</td>\n",
       "      <td>33</td>\n",
       "      <td>2</td>\n",
       "      <td>30</td>\n",
       "      <td>11</td>\n",
       "      <td>28.0</td>\n",
       "      <td>65.0</td>\n",
       "      <td>60.0</td>\n",
       "      <td>616.0</td>\n",
       "      <td>158.0</td>\n",
       "      <td>7.0</td>\n",
       "      <td>3.0</td>\n",
       "      <td>2003</td>\n",
       "      <td>0</td>\n",
       "      <td>0</td>\n",
       "      <td>-1</td>\n",
       "    </tr>\n",
       "    <tr>\n",
       "      <th>1135</th>\n",
       "      <td>320000</td>\n",
       "      <td>5</td>\n",
       "      <td>5</td>\n",
       "      <td>5984</td>\n",
       "      <td>2015</td>\n",
       "      <td>16988</td>\n",
       "      <td>Single-Family</td>\n",
       "      <td>Siding (Alum/Vinyl)</td>\n",
       "      <td>Composition Shingle</td>\n",
       "      <td>1.0</td>\n",
       "      <td>42</td>\n",
       "      <td>5</td>\n",
       "      <td>4</td>\n",
       "      <td>7</td>\n",
       "      <td>35</td>\n",
       "      <td>3</td>\n",
       "      <td>30</td>\n",
       "      <td>11</td>\n",
       "      <td>37.0</td>\n",
       "      <td>70.0</td>\n",
       "      <td>62.0</td>\n",
       "      <td>1057.0</td>\n",
       "      <td>322.0</td>\n",
       "      <td>5.0</td>\n",
       "      <td>3.0</td>\n",
       "      <td>2013</td>\n",
       "      <td>0</td>\n",
       "      <td>1</td>\n",
       "      <td>-2</td>\n",
       "    </tr>\n",
       "    <tr>\n",
       "      <th>1301</th>\n",
       "      <td>550000</td>\n",
       "      <td>5</td>\n",
       "      <td>4</td>\n",
       "      <td>4693</td>\n",
       "      <td>2006</td>\n",
       "      <td>16988</td>\n",
       "      <td>Single-Family</td>\n",
       "      <td>Brick</td>\n",
       "      <td>Composition Shingle</td>\n",
       "      <td>1.0</td>\n",
       "      <td>11</td>\n",
       "      <td>2</td>\n",
       "      <td>1</td>\n",
       "      <td>1</td>\n",
       "      <td>16</td>\n",
       "      <td>1</td>\n",
       "      <td>4</td>\n",
       "      <td>8</td>\n",
       "      <td>41.0</td>\n",
       "      <td>76.0</td>\n",
       "      <td>56.0</td>\n",
       "      <td>860.0</td>\n",
       "      <td>262.0</td>\n",
       "      <td>6.0</td>\n",
       "      <td>3.0</td>\n",
       "      <td>2005</td>\n",
       "      <td>0</td>\n",
       "      <td>0</td>\n",
       "      <td>-1</td>\n",
       "    </tr>\n",
       "    <tr>\n",
       "      <th>1451</th>\n",
       "      <td>370000</td>\n",
       "      <td>5</td>\n",
       "      <td>5</td>\n",
       "      <td>7578</td>\n",
       "      <td>2008</td>\n",
       "      <td>87120</td>\n",
       "      <td>Single-Family</td>\n",
       "      <td>Siding (Alum/Vinyl)</td>\n",
       "      <td>Composition Shingle</td>\n",
       "      <td>1.0</td>\n",
       "      <td>0</td>\n",
       "      <td>0</td>\n",
       "      <td>0</td>\n",
       "      <td>0</td>\n",
       "      <td>1</td>\n",
       "      <td>0</td>\n",
       "      <td>0</td>\n",
       "      <td>2</td>\n",
       "      <td>47.0</td>\n",
       "      <td>92.0</td>\n",
       "      <td>84.0</td>\n",
       "      <td>1045.0</td>\n",
       "      <td>318.0</td>\n",
       "      <td>9.0</td>\n",
       "      <td>3.0</td>\n",
       "      <td>2004</td>\n",
       "      <td>0</td>\n",
       "      <td>0</td>\n",
       "      <td>-4</td>\n",
       "    </tr>\n",
       "  </tbody>\n",
       "</table>\n",
       "</div>"
      ],
      "text/plain": [
       "      tx_price  beds  baths  sqft  year_built  lot_size  property_type  \\\n",
       "248     300000     4      4  5800        2002     22215  Single-Family   \n",
       "252     550000     5      3  4681        2006     11761  Single-Family   \n",
       "326     649000     5      5  7034        2006     25700  Single-Family   \n",
       "377     570000     5      4  5480        2012     11325  Single-Family   \n",
       "516     350000     5      4  4252        2010     22215  Single-Family   \n",
       "579     280000     5      5  6542        2011     43995  Single-Family   \n",
       "781     400000     5      4  5003        2013     21344  Single-Family   \n",
       "852     540000     4      6  4418        2007     11325  Single-Family   \n",
       "921     555000     5      5  8450        2004     91911  Single-Family   \n",
       "965     294996     4      2  3711        2003      7405  Single-Family   \n",
       "1053    365000     5      4  5654        2015     10175  Single-Family   \n",
       "1060    461000     4      3  4301        2004      9583  Single-Family   \n",
       "1135    320000     5      5  5984        2015     16988  Single-Family   \n",
       "1301    550000     5      4  4693        2006     16988  Single-Family   \n",
       "1451    370000     5      5  7578        2008     87120  Single-Family   \n",
       "\n",
       "           exterior_walls                 roof  basement  restaurants  \\\n",
       "248                 Brick  Composition Shingle       1.0            1   \n",
       "252           Combination  Composition Shingle       1.0           57   \n",
       "326                  Wood  Composition Shingle       1.0            1   \n",
       "377                 Brick  Composition Shingle       1.0            5   \n",
       "516                 Other  Composition Shingle       1.0           47   \n",
       "579                Stucco  Composition Shingle       1.0            1   \n",
       "781   Siding (Alum/Vinyl)  Composition Shingle       1.0           45   \n",
       "852   Siding (Alum/Vinyl)  Composition Shingle       1.0           70   \n",
       "921                 Other  Composition Shingle       1.0            7   \n",
       "965   Siding (Alum/Vinyl)  Composition Shingle       1.0           25   \n",
       "1053                Brick  Composition Shingle       1.0           36   \n",
       "1060              Missing  Composition Shingle       1.0           42   \n",
       "1135  Siding (Alum/Vinyl)  Composition Shingle       1.0           42   \n",
       "1301                Brick  Composition Shingle       1.0           11   \n",
       "1451  Siding (Alum/Vinyl)  Composition Shingle       1.0            0   \n",
       "\n",
       "      groceries  nightlife  cafes  shopping  arts_entertainment  beauty_spas  \\\n",
       "248           0          0      0         2                   0            1   \n",
       "252           9          4      5        68                   2           36   \n",
       "326           0          0      0         2                   0            0   \n",
       "377           0          0      0         6                   1            3   \n",
       "516           7          2      5        25                   1           17   \n",
       "579           0          1      0         1                   1            0   \n",
       "781           5          4      6        77                   7           73   \n",
       "852           6          9     14       122                   2           43   \n",
       "921           2          1      1         4                   0            3   \n",
       "965           2          1      3        19                   2           17   \n",
       "1053          5          3      2        38                   1           19   \n",
       "1060          1          6      1        33                   2           30   \n",
       "1135          5          4      7        35                   3           30   \n",
       "1301          2          1      1        16                   1            4   \n",
       "1451          0          0      0         1                   0            0   \n",
       "\n",
       "      active_life  median_age  married  college_grad  property_tax  insurance  \\\n",
       "248             2        47.0     81.0          79.0        1799.0      548.0   \n",
       "252            22        40.0     87.0          84.0        1200.0      349.0   \n",
       "326             4        42.0     87.0          92.0        1146.0      349.0   \n",
       "377             9        38.0     70.0          89.0        1147.0      349.0   \n",
       "516             7        33.0     46.0          63.0         739.0      225.0   \n",
       "579             4        44.0    100.0          72.0         860.0      262.0   \n",
       "781            19        41.0     80.0          78.0        1217.0      371.0   \n",
       "852            17        29.0     75.0          45.0         868.0      264.0   \n",
       "921             3        35.0     91.0          85.0        1966.0      599.0   \n",
       "965            10        32.0     78.0          57.0         413.0      117.0   \n",
       "1053            4        44.0     72.0          42.0         799.0      243.0   \n",
       "1060           11        28.0     65.0          60.0         616.0      158.0   \n",
       "1135           11        37.0     70.0          62.0        1057.0      322.0   \n",
       "1301            8        41.0     76.0          56.0         860.0      262.0   \n",
       "1451            2        47.0     92.0          84.0        1045.0      318.0   \n",
       "\n",
       "      median_school  num_schools  tx_year  2ba2be  recession_ind  property_age  \n",
       "248             6.0          3.0     2000       0              0            -2  \n",
       "252             9.0          3.0     2005       0              0            -1  \n",
       "326            10.0          3.0     2005       0              0            -1  \n",
       "377            10.0          3.0     2011       0              1            -1  \n",
       "516             4.0          3.0     2003       0              0            -7  \n",
       "579             8.0          3.0     2010       0              1            -1  \n",
       "781             9.0          3.0     2012       0              1            -1  \n",
       "852             8.0          3.0     2005       0              0            -2  \n",
       "921            10.0          3.0     2003       0              0            -1  \n",
       "965             6.0          3.0     2002       0              0            -1  \n",
       "1053            4.0          3.0     2007       0              0            -8  \n",
       "1060            7.0          3.0     2003       0              0            -1  \n",
       "1135            5.0          3.0     2013       0              1            -2  \n",
       "1301            6.0          3.0     2005       0              0            -1  \n",
       "1451            9.0          3.0     2004       0              0            -4  "
      ]
     },
     "execution_count": 47,
     "metadata": {},
     "output_type": "execute_result"
    }
   ],
   "source": [
    "df[df.property_age < 0]"
   ]
  },
  {
   "cell_type": "code",
   "execution_count": 48,
   "metadata": {},
   "outputs": [],
   "source": [
    "df['age_neg_ind'] = (df.property_age<0)"
   ]
  },
  {
   "cell_type": "code",
   "execution_count": 49,
   "metadata": {},
   "outputs": [],
   "source": [
    "df.loc[df.property_age < 0,'property_age'] = 0"
   ]
  },
  {
   "cell_type": "code",
   "execution_count": 50,
   "metadata": {},
   "outputs": [
    {
     "data": {
      "text/plain": [
       "count    1505.000000\n",
       "mean       24.287043\n",
       "std        21.216996\n",
       "min         0.000000\n",
       "25%         5.000000\n",
       "50%        20.000000\n",
       "75%        39.000000\n",
       "max       114.000000\n",
       "Name: property_age, dtype: float64"
      ]
     },
     "execution_count": 50,
     "metadata": {},
     "output_type": "execute_result"
    }
   ],
   "source": [
    "df.property_age.describe()"
   ]
  },
  {
   "cell_type": "code",
   "execution_count": 51,
   "metadata": {},
   "outputs": [
    {
     "data": {
      "text/plain": [
       "(1505, 30)"
      ]
     },
     "execution_count": 51,
     "metadata": {},
     "output_type": "execute_result"
    }
   ],
   "source": [
    "df.shape"
   ]
  },
  {
   "cell_type": "code",
   "execution_count": 52,
   "metadata": {},
   "outputs": [],
   "source": [
    "df = df.drop(['tx_year', 'year_built'], axis = 1)"
   ]
  },
  {
   "cell_type": "code",
   "execution_count": 53,
   "metadata": {},
   "outputs": [
    {
     "data": {
      "text/plain": [
       "(1505, 28)"
      ]
     },
     "execution_count": 53,
     "metadata": {},
     "output_type": "execute_result"
    }
   ],
   "source": [
    "df.shape"
   ]
  },
  {
   "cell_type": "markdown",
   "metadata": {},
   "source": [
    "##### 2.B.b. school_score"
   ]
  },
  {
   "cell_type": "code",
   "execution_count": 54,
   "metadata": {},
   "outputs": [
    {
     "data": {
      "text/html": [
       "<div>\n",
       "<style scoped>\n",
       "    .dataframe tbody tr th:only-of-type {\n",
       "        vertical-align: middle;\n",
       "    }\n",
       "\n",
       "    .dataframe tbody tr th {\n",
       "        vertical-align: top;\n",
       "    }\n",
       "\n",
       "    .dataframe thead th {\n",
       "        text-align: right;\n",
       "    }\n",
       "</style>\n",
       "<table border=\"1\" class=\"dataframe\">\n",
       "  <thead>\n",
       "    <tr style=\"text-align: right;\">\n",
       "      <th></th>\n",
       "      <th>num_schools</th>\n",
       "      <th>median_school</th>\n",
       "    </tr>\n",
       "  </thead>\n",
       "  <tbody>\n",
       "    <tr>\n",
       "      <th>count</th>\n",
       "      <td>1505.000000</td>\n",
       "      <td>1505.000000</td>\n",
       "    </tr>\n",
       "    <tr>\n",
       "      <th>mean</th>\n",
       "      <td>2.802658</td>\n",
       "      <td>6.488040</td>\n",
       "    </tr>\n",
       "    <tr>\n",
       "      <th>std</th>\n",
       "      <td>0.496256</td>\n",
       "      <td>1.998634</td>\n",
       "    </tr>\n",
       "    <tr>\n",
       "      <th>min</th>\n",
       "      <td>1.000000</td>\n",
       "      <td>1.000000</td>\n",
       "    </tr>\n",
       "    <tr>\n",
       "      <th>25%</th>\n",
       "      <td>3.000000</td>\n",
       "      <td>5.000000</td>\n",
       "    </tr>\n",
       "    <tr>\n",
       "      <th>50%</th>\n",
       "      <td>3.000000</td>\n",
       "      <td>7.000000</td>\n",
       "    </tr>\n",
       "    <tr>\n",
       "      <th>75%</th>\n",
       "      <td>3.000000</td>\n",
       "      <td>8.000000</td>\n",
       "    </tr>\n",
       "    <tr>\n",
       "      <th>max</th>\n",
       "      <td>4.000000</td>\n",
       "      <td>10.000000</td>\n",
       "    </tr>\n",
       "  </tbody>\n",
       "</table>\n",
       "</div>"
      ],
      "text/plain": [
       "       num_schools  median_school\n",
       "count  1505.000000    1505.000000\n",
       "mean      2.802658       6.488040\n",
       "std       0.496256       1.998634\n",
       "min       1.000000       1.000000\n",
       "25%       3.000000       5.000000\n",
       "50%       3.000000       7.000000\n",
       "75%       3.000000       8.000000\n",
       "max       4.000000      10.000000"
      ]
     },
     "execution_count": 54,
     "metadata": {},
     "output_type": "execute_result"
    }
   ],
   "source": [
    "df[['num_schools','median_school']].describe()"
   ]
  },
  {
   "cell_type": "code",
   "execution_count": 55,
   "metadata": {},
   "outputs": [],
   "source": [
    "df.loc[:,'school_score'] = df.num_schools * df.median_school"
   ]
  },
  {
   "cell_type": "code",
   "execution_count": 56,
   "metadata": {},
   "outputs": [
    {
     "data": {
      "text/plain": [
       "count    1505.000000\n",
       "mean       18.028571\n",
       "std         6.438837\n",
       "min         3.000000\n",
       "25%        12.000000\n",
       "50%        18.000000\n",
       "75%        24.000000\n",
       "max        30.000000\n",
       "Name: school_score, dtype: float64"
      ]
     },
     "execution_count": 56,
     "metadata": {},
     "output_type": "execute_result"
    }
   ],
   "source": [
    "df.school_score.describe()"
   ]
  },
  {
   "cell_type": "code",
   "execution_count": 57,
   "metadata": {},
   "outputs": [
    {
     "data": {
      "text/plain": [
       "(1505, 29)"
      ]
     },
     "execution_count": 57,
     "metadata": {},
     "output_type": "execute_result"
    }
   ],
   "source": [
    "df.shape"
   ]
  },
  {
   "cell_type": "markdown",
   "metadata": {},
   "source": [
    "##### 2.B.c. Baths to Beds ratio: higher means more convenience for guest house, more family number"
   ]
  },
  {
   "cell_type": "code",
   "execution_count": 58,
   "metadata": {},
   "outputs": [],
   "source": [
    "df.loc[:,'ba2be'] = df.baths*1.0/df.beds"
   ]
  },
  {
   "cell_type": "code",
   "execution_count": 59,
   "metadata": {},
   "outputs": [
    {
     "data": {
      "text/plain": [
       "count    1505.000000\n",
       "mean        0.779823\n",
       "std         0.233318\n",
       "min         0.200000\n",
       "25%         0.666667\n",
       "50%         0.750000\n",
       "75%         1.000000\n",
       "max         2.000000\n",
       "Name: ba2be, dtype: float64"
      ]
     },
     "execution_count": 59,
     "metadata": {},
     "output_type": "execute_result"
    }
   ],
   "source": [
    "df.ba2be.describe()"
   ]
  },
  {
   "cell_type": "code",
   "execution_count": 60,
   "metadata": {},
   "outputs": [
    {
     "data": {
      "text/plain": [
       "(1505, 30)"
      ]
     },
     "execution_count": 60,
     "metadata": {},
     "output_type": "execute_result"
    }
   ],
   "source": [
    "df.shape"
   ]
  },
  {
   "cell_type": "markdown",
   "metadata": {},
   "source": [
    "<a id = 'sparse'></a>\n",
    "### 2.C. Group sparse features\n",
    "#### 2.C.a. roof"
   ]
  },
  {
   "cell_type": "code",
   "execution_count": 61,
   "metadata": {},
   "outputs": [
    {
     "data": {
      "text/plain": [
       "count                    1505\n",
       "unique                     14\n",
       "top       Composition Shingle\n",
       "freq                      951\n",
       "Name: roof, dtype: object"
      ]
     },
     "execution_count": 61,
     "metadata": {},
     "output_type": "execute_result"
    }
   ],
   "source": [
    "df.roof.describe()"
   ]
  },
  {
   "cell_type": "code",
   "execution_count": 62,
   "metadata": {},
   "outputs": [
    {
     "data": {
      "text/plain": [
       "Composition Shingle      951\n",
       "Missing                  283\n",
       "Asphalt                  108\n",
       "Shake Shingle             44\n",
       "Other                     37\n",
       "Gravel/Rock               24\n",
       "Wood Shake/ Shingles      22\n",
       "Roll Composition          10\n",
       "Asbestos                   7\n",
       "Slate                      6\n",
       "Composition                6\n",
       "Metal                      4\n",
       "Built-up                   2\n",
       "asphalt,shake-shingle      1\n",
       "Name: roof, dtype: int64"
      ]
     },
     "execution_count": 62,
     "metadata": {},
     "output_type": "execute_result"
    }
   ],
   "source": [
    "df.roof.value_counts()"
   ]
  },
  {
   "cell_type": "code",
   "execution_count": 63,
   "metadata": {},
   "outputs": [
    {
     "data": {
      "text/plain": [
       "['Composition Shingle',\n",
       " 'Missing',\n",
       " 'Asphalt',\n",
       " 'Shake Shingle',\n",
       " 'Other',\n",
       " 'Gravel/Rock',\n",
       " 'Wood Shake/ Shingles',\n",
       " 'Roll Composition',\n",
       " 'Asbestos',\n",
       " 'Slate',\n",
       " 'Composition',\n",
       " 'Metal',\n",
       " 'Built-up',\n",
       " 'asphalt,shake-shingle']"
      ]
     },
     "execution_count": 63,
     "metadata": {},
     "output_type": "execute_result"
    }
   ],
   "source": [
    "df.roof.value_counts().index.tolist()"
   ]
  },
  {
   "cell_type": "code",
   "execution_count": 64,
   "metadata": {},
   "outputs": [],
   "source": [
    "df.loc[:,'roof'] = df['roof'].replace(['asphalt,shake-shingle', 'Built-up','Metal','Slate','Asbestos'], 'Other')\n",
    "df.loc[:,'roof'] = df['roof'].replace('Composition', 'Composition Shingle')"
   ]
  },
  {
   "cell_type": "code",
   "execution_count": 65,
   "metadata": {},
   "outputs": [
    {
     "data": {
      "text/plain": [
       "Composition Shingle     957\n",
       "Missing                 283\n",
       "Asphalt                 108\n",
       "Other                    57\n",
       "Shake Shingle            44\n",
       "Gravel/Rock              24\n",
       "Wood Shake/ Shingles     22\n",
       "Roll Composition         10\n",
       "Name: roof, dtype: int64"
      ]
     },
     "execution_count": 65,
     "metadata": {},
     "output_type": "execute_result"
    }
   ],
   "source": [
    "df.roof.value_counts()"
   ]
  },
  {
   "cell_type": "code",
   "execution_count": 66,
   "metadata": {},
   "outputs": [
    {
     "data": {
      "text/plain": [
       "(1505, 30)"
      ]
     },
     "execution_count": 66,
     "metadata": {},
     "output_type": "execute_result"
    }
   ],
   "source": [
    "df.shape"
   ]
  },
  {
   "cell_type": "markdown",
   "metadata": {},
   "source": [
    "#### 2.C.b. exterior walls"
   ]
  },
  {
   "cell_type": "code",
   "execution_count": 67,
   "metadata": {},
   "outputs": [
    {
     "data": {
      "text/plain": [
       "count      1505\n",
       "unique       17\n",
       "top       Brick\n",
       "freq        546\n",
       "Name: exterior_walls, dtype: object"
      ]
     },
     "execution_count": 67,
     "metadata": {},
     "output_type": "execute_result"
    }
   ],
   "source": [
    "df.exterior_walls.describe()"
   ]
  },
  {
   "cell_type": "code",
   "execution_count": 68,
   "metadata": {},
   "outputs": [
    {
     "data": {
      "text/plain": [
       "Brick                  546\n",
       "Siding (Alum/Vinyl)    409\n",
       "Missing                178\n",
       "Metal                   93\n",
       "Combination             84\n",
       "Wood                    57\n",
       "Brick veneer            41\n",
       "Wood Siding             37\n",
       "Stucco                  19\n",
       "Other                    9\n",
       "Concrete Block           7\n",
       "Concrete                 7\n",
       "Block                    6\n",
       "Asbestos shingle         5\n",
       "Rock, Stone              4\n",
       "Masonry                  2\n",
       "Wood Shingle             1\n",
       "Name: exterior_walls, dtype: int64"
      ]
     },
     "execution_count": 68,
     "metadata": {},
     "output_type": "execute_result"
    }
   ],
   "source": [
    "df.exterior_walls.value_counts()"
   ]
  },
  {
   "cell_type": "code",
   "execution_count": 69,
   "metadata": {},
   "outputs": [
    {
     "data": {
      "text/plain": [
       "['Brick',\n",
       " 'Siding (Alum/Vinyl)',\n",
       " 'Missing',\n",
       " 'Metal',\n",
       " 'Combination',\n",
       " 'Wood',\n",
       " 'Brick veneer',\n",
       " 'Wood Siding',\n",
       " 'Stucco',\n",
       " 'Other',\n",
       " 'Concrete Block',\n",
       " 'Concrete',\n",
       " 'Block',\n",
       " 'Asbestos shingle',\n",
       " 'Rock, Stone',\n",
       " 'Masonry',\n",
       " 'Wood Shingle']"
      ]
     },
     "execution_count": 69,
     "metadata": {},
     "output_type": "execute_result"
    }
   ],
   "source": [
    "df.exterior_walls.value_counts().index.tolist()"
   ]
  },
  {
   "cell_type": "code",
   "execution_count": 70,
   "metadata": {},
   "outputs": [],
   "source": [
    "df['exterior_walls'] = df['exterior_walls'].replace(['Wood Siding','Wood Shingle'], 'Wood')\n",
    "df['exterior_walls'] = df['exterior_walls'].replace(['Concrete Block','Block'], 'Concrete')\n",
    "df['exterior_walls'] = df['exterior_walls'].replace('Rock, Stone', 'Masonry')"
   ]
  },
  {
   "cell_type": "code",
   "execution_count": 71,
   "metadata": {},
   "outputs": [
    {
     "data": {
      "text/plain": [
       "count      1505\n",
       "unique       12\n",
       "top       Brick\n",
       "freq        546\n",
       "Name: exterior_walls, dtype: object"
      ]
     },
     "execution_count": 71,
     "metadata": {},
     "output_type": "execute_result"
    }
   ],
   "source": [
    "df.exterior_walls.describe()"
   ]
  },
  {
   "cell_type": "code",
   "execution_count": 72,
   "metadata": {},
   "outputs": [
    {
     "data": {
      "text/plain": [
       "Brick                  546\n",
       "Siding (Alum/Vinyl)    409\n",
       "Missing                178\n",
       "Wood                    95\n",
       "Metal                   93\n",
       "Combination             84\n",
       "Brick veneer            41\n",
       "Concrete                20\n",
       "Stucco                  19\n",
       "Other                    9\n",
       "Masonry                  6\n",
       "Asbestos shingle         5\n",
       "Name: exterior_walls, dtype: int64"
      ]
     },
     "execution_count": 72,
     "metadata": {},
     "output_type": "execute_result"
    }
   ],
   "source": [
    "df.exterior_walls.value_counts()"
   ]
  },
  {
   "cell_type": "code",
   "execution_count": 73,
   "metadata": {},
   "outputs": [],
   "source": [
    "df['exterior_walls'] = df['exterior_walls'].replace('Asbestos shingle', 'Other')"
   ]
  },
  {
   "cell_type": "code",
   "execution_count": 74,
   "metadata": {},
   "outputs": [
    {
     "data": {
      "text/plain": [
       "count      1505\n",
       "unique       11\n",
       "top       Brick\n",
       "freq        546\n",
       "Name: exterior_walls, dtype: object"
      ]
     },
     "execution_count": 74,
     "metadata": {},
     "output_type": "execute_result"
    }
   ],
   "source": [
    "df.exterior_walls.describe()"
   ]
  },
  {
   "cell_type": "code",
   "execution_count": 75,
   "metadata": {},
   "outputs": [
    {
     "data": {
      "text/plain": [
       "(1505, 30)"
      ]
     },
     "execution_count": 75,
     "metadata": {},
     "output_type": "execute_result"
    }
   ],
   "source": [
    "df.shape"
   ]
  },
  {
   "cell_type": "markdown",
   "metadata": {},
   "source": [
    "<a id = 'dummy'></a>\n",
    "#### 2.D.  Encode dummy variables"
   ]
  },
  {
   "cell_type": "code",
   "execution_count": 76,
   "metadata": {},
   "outputs": [
    {
     "data": {
      "text/plain": [
       "(1505, 30)"
      ]
     },
     "execution_count": 76,
     "metadata": {},
     "output_type": "execute_result"
    }
   ],
   "source": [
    "df.shape"
   ]
  },
  {
   "cell_type": "code",
   "execution_count": 77,
   "metadata": {},
   "outputs": [
    {
     "data": {
      "text/plain": [
       "['tx_price',\n",
       " 'beds',\n",
       " 'baths',\n",
       " 'sqft',\n",
       " 'lot_size',\n",
       " 'basement',\n",
       " 'restaurants',\n",
       " 'groceries',\n",
       " 'nightlife',\n",
       " 'cafes',\n",
       " 'shopping',\n",
       " 'arts_entertainment',\n",
       " 'beauty_spas',\n",
       " 'active_life',\n",
       " 'median_age',\n",
       " 'married',\n",
       " 'college_grad',\n",
       " 'property_tax',\n",
       " 'insurance',\n",
       " 'median_school',\n",
       " 'num_schools',\n",
       " '2ba2be',\n",
       " 'recession_ind',\n",
       " 'property_age',\n",
       " 'age_neg_ind',\n",
       " 'school_score',\n",
       " 'ba2be',\n",
       " 'property_type_Apartment / Condo / Townhouse',\n",
       " 'property_type_Single-Family',\n",
       " 'exterior_walls_Brick',\n",
       " 'exterior_walls_Brick veneer',\n",
       " 'exterior_walls_Combination',\n",
       " 'exterior_walls_Concrete',\n",
       " 'exterior_walls_Masonry',\n",
       " 'exterior_walls_Metal',\n",
       " 'exterior_walls_Missing',\n",
       " 'exterior_walls_Other',\n",
       " 'exterior_walls_Siding (Alum/Vinyl)',\n",
       " 'exterior_walls_Stucco',\n",
       " 'exterior_walls_Wood',\n",
       " 'roof_Asphalt',\n",
       " 'roof_Composition Shingle',\n",
       " 'roof_Gravel/Rock',\n",
       " 'roof_Missing',\n",
       " 'roof_Other',\n",
       " 'roof_Roll Composition',\n",
       " 'roof_Shake Shingle',\n",
       " 'roof_Wood Shake/ Shingles']"
      ]
     },
     "execution_count": 77,
     "metadata": {},
     "output_type": "execute_result"
    }
   ],
   "source": [
    "pd.get_dummies(df).columns.tolist()"
   ]
  },
  {
   "cell_type": "code",
   "execution_count": 78,
   "metadata": {},
   "outputs": [],
   "source": [
    "df = pd.get_dummies(df)"
   ]
  },
  {
   "cell_type": "code",
   "execution_count": 79,
   "metadata": {},
   "outputs": [
    {
     "data": {
      "text/plain": [
       "(1505, 48)"
      ]
     },
     "execution_count": 79,
     "metadata": {},
     "output_type": "execute_result"
    }
   ],
   "source": [
    "df.shape"
   ]
  },
  {
   "cell_type": "code",
   "execution_count": 80,
   "metadata": {},
   "outputs": [],
   "source": [
    "df.to_csv('../data/analytical_base_table.csv', index = None )"
   ]
  },
  {
   "cell_type": "markdown",
   "metadata": {},
   "source": [
    "<a href=\"#toc\">Back to top</a>"
   ]
  }
 ],
 "metadata": {
  "kernelspec": {
   "display_name": "Python 3",
   "language": "python",
   "name": "python3"
  },
  "language_info": {
   "codemirror_mode": {
    "name": "ipython",
    "version": 3
   },
   "file_extension": ".py",
   "mimetype": "text/x-python",
   "name": "python",
   "nbconvert_exporter": "python",
   "pygments_lexer": "ipython3",
   "version": "3.7.3"
  }
 },
 "nbformat": 4,
 "nbformat_minor": 2
}
