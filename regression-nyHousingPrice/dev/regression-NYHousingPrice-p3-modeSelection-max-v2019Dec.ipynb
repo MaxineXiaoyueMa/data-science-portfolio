{
 "cells": [
  {
   "cell_type": "markdown",
   "metadata": {},
   "source": [
    "# NY Housing Price - regression\n",
    "## Part 3. Model Selection\n",
    "<br>\n",
    "\n",
    "<a id = 'toc'></a>\n",
    "**Table of Contents**\n",
    "1. [Model comparison criteria](#cv)\n",
    "2. [Baseline model](#base)\n",
    "3. [Model selection with GridSearch](#select)\n",
    "    1. [create pipeline](#pipe)\n",
    "    2. [declare hyperparameter grid](#hyper)\n",
    "    3. [model training/tuning/selection](#select)\n",
    "4. [Parameter tuning with Baysian Optimization](#hyperopt)\n",
    "    - save final models\n",
    "5. [Feature importance](#imp)"
   ]
  },
  {
   "cell_type": "code",
   "execution_count": 125,
   "metadata": {},
   "outputs": [],
   "source": [
    "# import libraries\n",
    "import numpy as np\n",
    "import pandas as pd\n",
    "pd.set_option('display.max_columns', 100)\n",
    "import matplotlib.pyplot as plt\n",
    "%matplotlib inline\n",
    "\n",
    "from sklearn.preprocessing import StandardScaler\n",
    "from sklearn.pipeline import make_pipeline, Pipeline\n",
    "from sklearn.model_selection import KFold, cross_validate, GridSearchCV, cross_val_score\n",
    "\n",
    "from sklearn.dummy import DummyRegressor\n",
    "from sklearn.linear_model import Ridge, Lasso, ElasticNet\n",
    "from sklearn.svm import SVR\n",
    "from sklearn.ensemble import RandomForestRegressor, ExtraTreesRegressor, AdaBoostRegressor\n",
    "from xgboost import XGBRegressor\n",
    "\n",
    "from sklearn.metrics import make_scorer, r2_score, mean_absolute_error\n",
    "\n",
    "from hyperopt import fmin, hp, tpe, Trials, STATUS_OK, space_eval\n",
    "from hyperopt.pyll import stochastic, scope\n",
    "import pprint\n",
    "\n",
    "import pickle"
   ]
  },
  {
   "cell_type": "code",
   "execution_count": 2,
   "metadata": {},
   "outputs": [],
   "source": [
    "#load analytical base table\n",
    "df = pd.read_csv('../data/analytical_base_table.csv')"
   ]
  },
  {
   "cell_type": "code",
   "execution_count": 3,
   "metadata": {},
   "outputs": [
    {
     "data": {
      "text/plain": [
       "(1505, 48)"
      ]
     },
     "execution_count": 3,
     "metadata": {},
     "output_type": "execute_result"
    }
   ],
   "source": [
    "df.shape"
   ]
  },
  {
   "cell_type": "code",
   "execution_count": 4,
   "metadata": {},
   "outputs": [
    {
     "data": {
      "text/html": [
       "<div>\n",
       "<style scoped>\n",
       "    .dataframe tbody tr th:only-of-type {\n",
       "        vertical-align: middle;\n",
       "    }\n",
       "\n",
       "    .dataframe tbody tr th {\n",
       "        vertical-align: top;\n",
       "    }\n",
       "\n",
       "    .dataframe thead th {\n",
       "        text-align: right;\n",
       "    }\n",
       "</style>\n",
       "<table border=\"1\" class=\"dataframe\">\n",
       "  <thead>\n",
       "    <tr style=\"text-align: right;\">\n",
       "      <th></th>\n",
       "      <th>tx_price</th>\n",
       "      <th>beds</th>\n",
       "      <th>baths</th>\n",
       "      <th>sqft</th>\n",
       "      <th>lot_size</th>\n",
       "      <th>basement</th>\n",
       "      <th>restaurants</th>\n",
       "      <th>groceries</th>\n",
       "      <th>nightlife</th>\n",
       "      <th>cafes</th>\n",
       "      <th>shopping</th>\n",
       "      <th>arts_entertainment</th>\n",
       "      <th>beauty_spas</th>\n",
       "      <th>active_life</th>\n",
       "      <th>median_age</th>\n",
       "      <th>married</th>\n",
       "      <th>college_grad</th>\n",
       "      <th>property_tax</th>\n",
       "      <th>insurance</th>\n",
       "      <th>median_school</th>\n",
       "      <th>num_schools</th>\n",
       "      <th>2ba2be</th>\n",
       "      <th>recession_ind</th>\n",
       "      <th>property_age</th>\n",
       "      <th>age_neg_ind</th>\n",
       "      <th>school_score</th>\n",
       "      <th>ba2be</th>\n",
       "      <th>property_type_Apartment / Condo / Townhouse</th>\n",
       "      <th>property_type_Single-Family</th>\n",
       "      <th>exterior_walls_Brick</th>\n",
       "      <th>exterior_walls_Brick veneer</th>\n",
       "      <th>exterior_walls_Combination</th>\n",
       "      <th>exterior_walls_Concrete</th>\n",
       "      <th>exterior_walls_Masonry</th>\n",
       "      <th>exterior_walls_Metal</th>\n",
       "      <th>exterior_walls_Missing</th>\n",
       "      <th>exterior_walls_Other</th>\n",
       "      <th>exterior_walls_Siding (Alum/Vinyl)</th>\n",
       "      <th>exterior_walls_Stucco</th>\n",
       "      <th>exterior_walls_Wood</th>\n",
       "      <th>roof_Asphalt</th>\n",
       "      <th>roof_Composition Shingle</th>\n",
       "      <th>roof_Gravel/Rock</th>\n",
       "      <th>roof_Missing</th>\n",
       "      <th>roof_Other</th>\n",
       "      <th>roof_Roll Composition</th>\n",
       "      <th>roof_Shake Shingle</th>\n",
       "      <th>roof_Wood Shake/ Shingles</th>\n",
       "    </tr>\n",
       "  </thead>\n",
       "  <tbody>\n",
       "    <tr>\n",
       "      <th>0</th>\n",
       "      <td>257840</td>\n",
       "      <td>4</td>\n",
       "      <td>2</td>\n",
       "      <td>3796</td>\n",
       "      <td>20473</td>\n",
       "      <td>1.0</td>\n",
       "      <td>0</td>\n",
       "      <td>0</td>\n",
       "      <td>0</td>\n",
       "      <td>0</td>\n",
       "      <td>1</td>\n",
       "      <td>0</td>\n",
       "      <td>0</td>\n",
       "      <td>0</td>\n",
       "      <td>49.0</td>\n",
       "      <td>91.0</td>\n",
       "      <td>83.0</td>\n",
       "      <td>593.0</td>\n",
       "      <td>181.0</td>\n",
       "      <td>8.0</td>\n",
       "      <td>1.0</td>\n",
       "      <td>0</td>\n",
       "      <td>0</td>\n",
       "      <td>19</td>\n",
       "      <td>False</td>\n",
       "      <td>8.0</td>\n",
       "      <td>0.50</td>\n",
       "      <td>0</td>\n",
       "      <td>1</td>\n",
       "      <td>0</td>\n",
       "      <td>0</td>\n",
       "      <td>0</td>\n",
       "      <td>0</td>\n",
       "      <td>0</td>\n",
       "      <td>1</td>\n",
       "      <td>0</td>\n",
       "      <td>0</td>\n",
       "      <td>0</td>\n",
       "      <td>0</td>\n",
       "      <td>0</td>\n",
       "      <td>0</td>\n",
       "      <td>1</td>\n",
       "      <td>0</td>\n",
       "      <td>0</td>\n",
       "      <td>0</td>\n",
       "      <td>0</td>\n",
       "      <td>0</td>\n",
       "      <td>0</td>\n",
       "    </tr>\n",
       "    <tr>\n",
       "      <th>1</th>\n",
       "      <td>540000</td>\n",
       "      <td>4</td>\n",
       "      <td>3</td>\n",
       "      <td>2500</td>\n",
       "      <td>10500</td>\n",
       "      <td>1.0</td>\n",
       "      <td>19</td>\n",
       "      <td>2</td>\n",
       "      <td>2</td>\n",
       "      <td>1</td>\n",
       "      <td>21</td>\n",
       "      <td>0</td>\n",
       "      <td>11</td>\n",
       "      <td>9</td>\n",
       "      <td>46.0</td>\n",
       "      <td>94.0</td>\n",
       "      <td>54.0</td>\n",
       "      <td>487.0</td>\n",
       "      <td>148.0</td>\n",
       "      <td>8.0</td>\n",
       "      <td>3.0</td>\n",
       "      <td>0</td>\n",
       "      <td>1</td>\n",
       "      <td>42</td>\n",
       "      <td>False</td>\n",
       "      <td>24.0</td>\n",
       "      <td>0.75</td>\n",
       "      <td>0</td>\n",
       "      <td>1</td>\n",
       "      <td>1</td>\n",
       "      <td>0</td>\n",
       "      <td>0</td>\n",
       "      <td>0</td>\n",
       "      <td>0</td>\n",
       "      <td>0</td>\n",
       "      <td>0</td>\n",
       "      <td>0</td>\n",
       "      <td>0</td>\n",
       "      <td>0</td>\n",
       "      <td>0</td>\n",
       "      <td>0</td>\n",
       "      <td>1</td>\n",
       "      <td>0</td>\n",
       "      <td>0</td>\n",
       "      <td>0</td>\n",
       "      <td>0</td>\n",
       "      <td>0</td>\n",
       "      <td>0</td>\n",
       "    </tr>\n",
       "    <tr>\n",
       "      <th>2</th>\n",
       "      <td>300000</td>\n",
       "      <td>4</td>\n",
       "      <td>3</td>\n",
       "      <td>3480</td>\n",
       "      <td>10890</td>\n",
       "      <td>1.0</td>\n",
       "      <td>32</td>\n",
       "      <td>2</td>\n",
       "      <td>5</td>\n",
       "      <td>8</td>\n",
       "      <td>36</td>\n",
       "      <td>8</td>\n",
       "      <td>25</td>\n",
       "      <td>35</td>\n",
       "      <td>45.0</td>\n",
       "      <td>81.0</td>\n",
       "      <td>88.0</td>\n",
       "      <td>1015.0</td>\n",
       "      <td>337.0</td>\n",
       "      <td>4.0</td>\n",
       "      <td>3.0</td>\n",
       "      <td>0</td>\n",
       "      <td>0</td>\n",
       "      <td>53</td>\n",
       "      <td>False</td>\n",
       "      <td>12.0</td>\n",
       "      <td>0.75</td>\n",
       "      <td>0</td>\n",
       "      <td>1</td>\n",
       "      <td>1</td>\n",
       "      <td>0</td>\n",
       "      <td>0</td>\n",
       "      <td>0</td>\n",
       "      <td>0</td>\n",
       "      <td>0</td>\n",
       "      <td>0</td>\n",
       "      <td>0</td>\n",
       "      <td>0</td>\n",
       "      <td>0</td>\n",
       "      <td>0</td>\n",
       "      <td>1</td>\n",
       "      <td>0</td>\n",
       "      <td>0</td>\n",
       "      <td>0</td>\n",
       "      <td>0</td>\n",
       "      <td>0</td>\n",
       "      <td>0</td>\n",
       "      <td>0</td>\n",
       "    </tr>\n",
       "    <tr>\n",
       "      <th>3</th>\n",
       "      <td>650000</td>\n",
       "      <td>5</td>\n",
       "      <td>4</td>\n",
       "      <td>5809</td>\n",
       "      <td>30056</td>\n",
       "      <td>1.0</td>\n",
       "      <td>4</td>\n",
       "      <td>0</td>\n",
       "      <td>1</td>\n",
       "      <td>0</td>\n",
       "      <td>4</td>\n",
       "      <td>0</td>\n",
       "      <td>5</td>\n",
       "      <td>8</td>\n",
       "      <td>37.0</td>\n",
       "      <td>64.0</td>\n",
       "      <td>55.0</td>\n",
       "      <td>727.0</td>\n",
       "      <td>187.0</td>\n",
       "      <td>7.0</td>\n",
       "      <td>3.0</td>\n",
       "      <td>0</td>\n",
       "      <td>0</td>\n",
       "      <td>2</td>\n",
       "      <td>False</td>\n",
       "      <td>21.0</td>\n",
       "      <td>0.80</td>\n",
       "      <td>0</td>\n",
       "      <td>1</td>\n",
       "      <td>0</td>\n",
       "      <td>0</td>\n",
       "      <td>0</td>\n",
       "      <td>0</td>\n",
       "      <td>0</td>\n",
       "      <td>0</td>\n",
       "      <td>1</td>\n",
       "      <td>0</td>\n",
       "      <td>0</td>\n",
       "      <td>0</td>\n",
       "      <td>0</td>\n",
       "      <td>1</td>\n",
       "      <td>0</td>\n",
       "      <td>0</td>\n",
       "      <td>0</td>\n",
       "      <td>0</td>\n",
       "      <td>0</td>\n",
       "      <td>0</td>\n",
       "      <td>0</td>\n",
       "    </tr>\n",
       "    <tr>\n",
       "      <th>4</th>\n",
       "      <td>576145</td>\n",
       "      <td>4</td>\n",
       "      <td>3</td>\n",
       "      <td>3504</td>\n",
       "      <td>4199</td>\n",
       "      <td>1.0</td>\n",
       "      <td>20</td>\n",
       "      <td>3</td>\n",
       "      <td>1</td>\n",
       "      <td>1</td>\n",
       "      <td>12</td>\n",
       "      <td>1</td>\n",
       "      <td>12</td>\n",
       "      <td>5</td>\n",
       "      <td>34.0</td>\n",
       "      <td>91.0</td>\n",
       "      <td>59.0</td>\n",
       "      <td>528.0</td>\n",
       "      <td>161.0</td>\n",
       "      <td>7.0</td>\n",
       "      <td>2.0</td>\n",
       "      <td>0</td>\n",
       "      <td>0</td>\n",
       "      <td>1</td>\n",
       "      <td>False</td>\n",
       "      <td>14.0</td>\n",
       "      <td>0.75</td>\n",
       "      <td>0</td>\n",
       "      <td>1</td>\n",
       "      <td>0</td>\n",
       "      <td>0</td>\n",
       "      <td>0</td>\n",
       "      <td>0</td>\n",
       "      <td>0</td>\n",
       "      <td>0</td>\n",
       "      <td>0</td>\n",
       "      <td>0</td>\n",
       "      <td>1</td>\n",
       "      <td>0</td>\n",
       "      <td>0</td>\n",
       "      <td>0</td>\n",
       "      <td>1</td>\n",
       "      <td>0</td>\n",
       "      <td>0</td>\n",
       "      <td>0</td>\n",
       "      <td>0</td>\n",
       "      <td>0</td>\n",
       "      <td>0</td>\n",
       "    </tr>\n",
       "  </tbody>\n",
       "</table>\n",
       "</div>"
      ],
      "text/plain": [
       "   tx_price  beds  baths  sqft  lot_size  basement  restaurants  groceries  \\\n",
       "0    257840     4      2  3796     20473       1.0            0          0   \n",
       "1    540000     4      3  2500     10500       1.0           19          2   \n",
       "2    300000     4      3  3480     10890       1.0           32          2   \n",
       "3    650000     5      4  5809     30056       1.0            4          0   \n",
       "4    576145     4      3  3504      4199       1.0           20          3   \n",
       "\n",
       "   nightlife  cafes  shopping  arts_entertainment  beauty_spas  active_life  \\\n",
       "0          0      0         1                   0            0            0   \n",
       "1          2      1        21                   0           11            9   \n",
       "2          5      8        36                   8           25           35   \n",
       "3          1      0         4                   0            5            8   \n",
       "4          1      1        12                   1           12            5   \n",
       "\n",
       "   median_age  married  college_grad  property_tax  insurance  median_school  \\\n",
       "0        49.0     91.0          83.0         593.0      181.0            8.0   \n",
       "1        46.0     94.0          54.0         487.0      148.0            8.0   \n",
       "2        45.0     81.0          88.0        1015.0      337.0            4.0   \n",
       "3        37.0     64.0          55.0         727.0      187.0            7.0   \n",
       "4        34.0     91.0          59.0         528.0      161.0            7.0   \n",
       "\n",
       "   num_schools  2ba2be  recession_ind  property_age  age_neg_ind  \\\n",
       "0          1.0       0              0            19        False   \n",
       "1          3.0       0              1            42        False   \n",
       "2          3.0       0              0            53        False   \n",
       "3          3.0       0              0             2        False   \n",
       "4          2.0       0              0             1        False   \n",
       "\n",
       "   school_score  ba2be  property_type_Apartment / Condo / Townhouse  \\\n",
       "0           8.0   0.50                                            0   \n",
       "1          24.0   0.75                                            0   \n",
       "2          12.0   0.75                                            0   \n",
       "3          21.0   0.80                                            0   \n",
       "4          14.0   0.75                                            0   \n",
       "\n",
       "   property_type_Single-Family  exterior_walls_Brick  \\\n",
       "0                            1                     0   \n",
       "1                            1                     1   \n",
       "2                            1                     1   \n",
       "3                            1                     0   \n",
       "4                            1                     0   \n",
       "\n",
       "   exterior_walls_Brick veneer  exterior_walls_Combination  \\\n",
       "0                            0                           0   \n",
       "1                            0                           0   \n",
       "2                            0                           0   \n",
       "3                            0                           0   \n",
       "4                            0                           0   \n",
       "\n",
       "   exterior_walls_Concrete  exterior_walls_Masonry  exterior_walls_Metal  \\\n",
       "0                        0                       0                     1   \n",
       "1                        0                       0                     0   \n",
       "2                        0                       0                     0   \n",
       "3                        0                       0                     0   \n",
       "4                        0                       0                     0   \n",
       "\n",
       "   exterior_walls_Missing  exterior_walls_Other  \\\n",
       "0                       0                     0   \n",
       "1                       0                     0   \n",
       "2                       0                     0   \n",
       "3                       1                     0   \n",
       "4                       0                     0   \n",
       "\n",
       "   exterior_walls_Siding (Alum/Vinyl)  exterior_walls_Stucco  \\\n",
       "0                                   0                      0   \n",
       "1                                   0                      0   \n",
       "2                                   0                      0   \n",
       "3                                   0                      0   \n",
       "4                                   1                      0   \n",
       "\n",
       "   exterior_walls_Wood  roof_Asphalt  roof_Composition Shingle  \\\n",
       "0                    0             0                         1   \n",
       "1                    0             0                         1   \n",
       "2                    0             1                         0   \n",
       "3                    0             1                         0   \n",
       "4                    0             0                         1   \n",
       "\n",
       "   roof_Gravel/Rock  roof_Missing  roof_Other  roof_Roll Composition  \\\n",
       "0                 0             0           0                      0   \n",
       "1                 0             0           0                      0   \n",
       "2                 0             0           0                      0   \n",
       "3                 0             0           0                      0   \n",
       "4                 0             0           0                      0   \n",
       "\n",
       "   roof_Shake Shingle  roof_Wood Shake/ Shingles  \n",
       "0                   0                          0  \n",
       "1                   0                          0  \n",
       "2                   0                          0  \n",
       "3                   0                          0  \n",
       "4                   0                          0  "
      ]
     },
     "execution_count": 4,
     "metadata": {},
     "output_type": "execute_result"
    }
   ],
   "source": [
    "df.head()"
   ]
  },
  {
   "cell_type": "code",
   "execution_count": 5,
   "metadata": {},
   "outputs": [],
   "source": [
    "# create X, y\n",
    "y = df['tx_price']\n",
    "X = df.drop('tx_price', axis = 1)"
   ]
  },
  {
   "cell_type": "code",
   "execution_count": 6,
   "metadata": {},
   "outputs": [
    {
     "name": "stdout",
     "output_type": "stream",
     "text": [
      "(1505, 47) (1505,)\n"
     ]
    }
   ],
   "source": [
    "print (X.shape, y.shape)"
   ]
  },
  {
   "cell_type": "markdown",
   "metadata": {},
   "source": [
    "[back to top](#toc)\n",
    "<a id = 'cv'></a>\n",
    "### 1. Determine model comparison criteria"
   ]
  },
  {
   "cell_type": "code",
   "execution_count": 7,
   "metadata": {},
   "outputs": [],
   "source": [
    "# cross validation creteria\n",
    "cv = KFold(n_splits = 5, shuffle = True, random_state = 26)\n",
    "#scoring = {'r2': make_scorer(r2_score),\n",
    "#           'MAE':make_scorer(mean_absolute_error, greater_is_better=False)}\n",
    "scoring = 'neg_mean_absolute_error'\n",
    "n_jobs = -1\n",
    "max_evals = 50"
   ]
  },
  {
   "cell_type": "markdown",
   "metadata": {},
   "source": [
    "[back to top](#toc)\n",
    "<a id = 'base'></a>\n",
    "### 2. Baseline model"
   ]
  },
  {
   "cell_type": "code",
   "execution_count": 8,
   "metadata": {},
   "outputs": [],
   "source": [
    "scores = cross_validate(DummyRegressor(strategy = 'mean'), \n",
    "                        X, y, \n",
    "                        cv = cv, \n",
    "                        scoring = scoring, \n",
    "                        n_jobs = n_jobs)"
   ]
  },
  {
   "cell_type": "code",
   "execution_count": 9,
   "metadata": {},
   "outputs": [
    {
     "name": "stdout",
     "output_type": "stream",
     "text": [
      "125301.15313627885\n"
     ]
    }
   ],
   "source": [
    "#print (scores['test_r2'].mean())\n",
    "print (-scores['test_score'].mean())"
   ]
  },
  {
   "cell_type": "markdown",
   "metadata": {},
   "source": [
    "\n",
    "**Notes:**\n",
    "\n",
    "**MAE >120K**"
   ]
  },
  {
   "cell_type": "markdown",
   "metadata": {},
   "source": [
    "[back to top](#toc)\n",
    "<a id = 'select'></a>\n",
    "### 3. Model selection with GridSearch"
   ]
  },
  {
   "cell_type": "markdown",
   "metadata": {},
   "source": [
    "#### 3.1. Create pipelines"
   ]
  },
  {
   "cell_type": "code",
   "execution_count": 62,
   "metadata": {},
   "outputs": [],
   "source": [
    "linear_pipelines = {'lasso': make_pipeline(StandardScaler(), Lasso(random_state = 26)),\n",
    "                    'ridge': make_pipeline(StandardScaler(), Ridge(random_state = 26)),\n",
    "                    'enet': make_pipeline(StandardScaler(), ElasticNet(random_state = 26)),\n",
    "                   'svr': make_pipeline(StandardScaler(), SVR())}\n",
    "tree_pipelines = {'rf': make_pipeline(StandardScaler(), RandomForestRegressor(random_state =26)),\n",
    "                 'et': make_pipeline(StandardScaler(), ExtraTreesRegressor(random_state=26)),\n",
    "                  'adab': make_pipeline(StandardScaler(), AdaBoostRegressor(random_state=26)),\n",
    "                 'xgb': make_pipeline(StandardScaler(), XGBRegressor(random_state=26))}"
   ]
  },
  {
   "cell_type": "code",
   "execution_count": 11,
   "metadata": {},
   "outputs": [],
   "source": [
    "def check_pipes(pipelines):\n",
    "    for n, p in pipelines.items():\n",
    "        print (n, type(p))"
   ]
  },
  {
   "cell_type": "code",
   "execution_count": 12,
   "metadata": {},
   "outputs": [
    {
     "name": "stdout",
     "output_type": "stream",
     "text": [
      "lasso <class 'sklearn.pipeline.Pipeline'>\n",
      "ridge <class 'sklearn.pipeline.Pipeline'>\n",
      "enet <class 'sklearn.pipeline.Pipeline'>\n",
      "svr <class 'sklearn.pipeline.Pipeline'>\n"
     ]
    }
   ],
   "source": [
    "check_pipes(linear_pipelines)"
   ]
  },
  {
   "cell_type": "code",
   "execution_count": 63,
   "metadata": {},
   "outputs": [
    {
     "name": "stdout",
     "output_type": "stream",
     "text": [
      "rf <class 'sklearn.pipeline.Pipeline'>\n",
      "et <class 'sklearn.pipeline.Pipeline'>\n",
      "adab <class 'sklearn.pipeline.Pipeline'>\n",
      "xgb <class 'sklearn.pipeline.Pipeline'>\n"
     ]
    }
   ],
   "source": [
    "check_pipes(tree_pipelines)"
   ]
  },
  {
   "cell_type": "markdown",
   "metadata": {},
   "source": [
    "<a id = 'hyper'></a>\n",
    "#### 3.2. Declare hyperparameter grid"
   ]
  },
  {
   "cell_type": "code",
   "execution_count": 35,
   "metadata": {},
   "outputs": [],
   "source": [
    "# model_hyperparameters = {'model__param':[values]}\n",
    "lasso_hyperparameters = {'lasso__alpha': [0.01, 0.1, 1.0, 10, 100]}\n",
    "ridge_hyperparameters = {'ridge__alpha': [0.01, 0.1, 1.0, 10, 100]}\n",
    "enet_hyperparameters = {'elasticnet__alpha': [0.01, 0.1, 1.0, 10, 100],\n",
    "                       'elasticnet__l1_ratio': [0.1, 0.3, 0.5, 0.7, 0.9]}\n",
    "svr_hyperparameters = {'svr__C': [0.01, 0.1, 1.0, 10, 100],\n",
    "                      'svr__kernel': ['linear', 'rbf']}"
   ]
  },
  {
   "cell_type": "code",
   "execution_count": 36,
   "metadata": {},
   "outputs": [],
   "source": [
    "linear_hyperparameters = {'lasso': lasso_hyperparameters,\n",
    "                         'ridge': ridge_hyperparameters,\n",
    "                         'enet': enet_hyperparameters,\n",
    "                         'svr': svr_hyperparameters}"
   ]
  },
  {
   "cell_type": "code",
   "execution_count": 52,
   "metadata": {},
   "outputs": [],
   "source": [
    "rf_hyperparameters = {'randomforestregressor__n_estimators': [300,],\n",
    "                     'randomforestregressor__max_features': [None, 'sqrt', 'log2']}\n",
    "et_hyperparameters = {'extratreesregressor__n_estimators': [300,],\n",
    "                     'extratreesregressor__max_features': [None, 'sqrt', 'log2']}\n",
    "adab_hyperparameters = {'adaboostregressor__n_estimators': [300,],\n",
    "                       'adaboostregressor__learning_rate': [0.01, 0.1, 1.0]}\n",
    "xgb_hyperparameters = {'xgbregressor__n_estimators': [300],\n",
    "                      'xgbregressor__learning_rate': [0.01, 0.03, 0.1],\n",
    "                      'xgbregressor__max_depth': [3,5,7]}"
   ]
  },
  {
   "cell_type": "code",
   "execution_count": 53,
   "metadata": {},
   "outputs": [],
   "source": [
    "tree_hyperparameters = {'rf': rf_hyperparameters,\n",
    "                       'et': et_hyperparameters,\n",
    "                       'adab': adab_hyperparameters,\n",
    "                       'xgb': xgb_hyperparameters}"
   ]
  },
  {
   "cell_type": "code",
   "execution_count": 39,
   "metadata": {},
   "outputs": [],
   "source": [
    "def check_hyperparameters_setup(hyperparameters):\n",
    "    for key in hyperparameters.keys():\n",
    "        if type(hyperparameters[key]) is dict:\n",
    "            print (key, 'was found in hyperparameters, and it is a grid.')\n",
    "        else:\n",
    "            print (key, 'was found in hyperparameters, but it is not a grid.')"
   ]
  },
  {
   "cell_type": "code",
   "execution_count": 40,
   "metadata": {},
   "outputs": [
    {
     "name": "stdout",
     "output_type": "stream",
     "text": [
      "lasso was found in hyperparameters, and it is a grid.\n",
      "ridge was found in hyperparameters, and it is a grid.\n",
      "enet was found in hyperparameters, and it is a grid.\n",
      "svr was found in hyperparameters, and it is a grid.\n"
     ]
    }
   ],
   "source": [
    "check_hyperparameters_setup(linear_hyperparameters)"
   ]
  },
  {
   "cell_type": "code",
   "execution_count": 54,
   "metadata": {},
   "outputs": [
    {
     "name": "stdout",
     "output_type": "stream",
     "text": [
      "rf was found in hyperparameters, and it is a grid.\n",
      "et was found in hyperparameters, and it is a grid.\n",
      "adab was found in hyperparameters, and it is a grid.\n",
      "xgb was found in hyperparameters, and it is a grid.\n"
     ]
    }
   ],
   "source": [
    "check_hyperparameters_setup(tree_hyperparameters)"
   ]
  },
  {
   "cell_type": "markdown",
   "metadata": {},
   "source": [
    "<a id = 'select'></a>\n",
    "#### 3.3. Model selection"
   ]
  },
  {
   "cell_type": "code",
   "execution_count": 42,
   "metadata": {},
   "outputs": [],
   "source": [
    "# refit= setting for multi metric\n",
    "#print(refit)"
   ]
  },
  {
   "cell_type": "code",
   "execution_count": 43,
   "metadata": {},
   "outputs": [],
   "source": [
    "def fit_models(pipelines, hyperparameters, cv, scoring): #refit):\n",
    "    fitted_models = {}\n",
    "    for name, pipeline in pipelines.items():\n",
    "        model = GridSearchCV(pipeline, hyperparameters[name], \n",
    "                             cv=cv, scoring=scoring, n_jobs = -1)#, refit = refit )\n",
    "        model.fit(X, y)\n",
    "        fitted_models[name] = model\n",
    "        print (name, 'is fitted.')\n",
    "    return fitted_models"
   ]
  },
  {
   "cell_type": "code",
   "execution_count": 44,
   "metadata": {},
   "outputs": [],
   "source": [
    "def check_bestscore(fitted_models):    \n",
    "    for name, model in fitted_models.items():\n",
    "        print( name, model.best_score_)"
   ]
  },
  {
   "cell_type": "code",
   "execution_count": 45,
   "metadata": {},
   "outputs": [
    {
     "name": "stdout",
     "output_type": "stream",
     "text": [
      "lasso is fitted.\n",
      "ridge is fitted.\n",
      "enet is fitted.\n",
      "svr is fitted.\n"
     ]
    }
   ],
   "source": [
    "linear_fitted_models = fit_models(linear_pipelines, linear_hyperparameters, cv, scoring)#, refit)"
   ]
  },
  {
   "cell_type": "code",
   "execution_count": 46,
   "metadata": {},
   "outputs": [
    {
     "name": "stdout",
     "output_type": "stream",
     "text": [
      "lasso -96436.73822225734\n",
      "ridge -95905.99620567032\n",
      "enet -95880.43355453238\n",
      "svr -96176.41330842978\n"
     ]
    }
   ],
   "source": [
    "check_bestscore(linear_fitted_models)"
   ]
  },
  {
   "cell_type": "code",
   "execution_count": 64,
   "metadata": {
    "scrolled": true
   },
   "outputs": [
    {
     "name": "stdout",
     "output_type": "stream",
     "text": [
      "rf is fitted.\n",
      "et is fitted.\n",
      "adab is fitted.\n",
      "[18:46:25] WARNING: src/objective/regression_obj.cu:152: reg:linear is now deprecated in favor of reg:squarederror.\n",
      "xgb is fitted.\n"
     ]
    }
   ],
   "source": [
    "%timeit\n",
    "tree_fitted_models = fit_models(tree_pipelines, tree_hyperparameters, cv, scoring)#, refit)"
   ]
  },
  {
   "cell_type": "code",
   "execution_count": 68,
   "metadata": {},
   "outputs": [
    {
     "name": "stdout",
     "output_type": "stream",
     "text": [
      "rf -78091.8554662237\n",
      "et -79625.12462015504\n",
      "adab -82135.44623420012\n",
      "xgb -79994.98966985049\n"
     ]
    }
   ],
   "source": [
    "check_bestscore(tree_fitted_models)"
   ]
  },
  {
   "cell_type": "code",
   "execution_count": 65,
   "metadata": {},
   "outputs": [],
   "source": [
    "def check_bestparams(fitted_models):\n",
    "    for n, m in fitted_models.items():\n",
    "        print (m.best_params_)"
   ]
  },
  {
   "cell_type": "code",
   "execution_count": 66,
   "metadata": {},
   "outputs": [
    {
     "name": "stdout",
     "output_type": "stream",
     "text": [
      "{'lasso__alpha': 100}\n",
      "{'ridge__alpha': 100}\n",
      "{'elasticnet__alpha': 1.0, 'elasticnet__l1_ratio': 0.9}\n",
      "{'svr__C': 100, 'svr__kernel': 'linear'}\n"
     ]
    }
   ],
   "source": [
    "check_bestparams(linear_fitted_models)"
   ]
  },
  {
   "cell_type": "code",
   "execution_count": 67,
   "metadata": {},
   "outputs": [
    {
     "name": "stdout",
     "output_type": "stream",
     "text": [
      "{'randomforestregressor__max_features': None, 'randomforestregressor__n_estimators': 300}\n",
      "{'extratreesregressor__max_features': None, 'extratreesregressor__n_estimators': 300}\n",
      "{'adaboostregressor__learning_rate': 0.01, 'adaboostregressor__n_estimators': 300}\n",
      "{'xgbregressor__learning_rate': 0.03, 'xgbregressor__max_depth': 3, 'xgbregressor__n_estimators': 300}\n"
     ]
    }
   ],
   "source": [
    "check_bestparams(tree_fitted_models)"
   ]
  },
  {
   "cell_type": "markdown",
   "metadata": {},
   "source": [
    "[back to top](#toc)\n",
    "<a id = 'hyperopt'></a>\n",
    "### 4. Hyperopt hyperparameter tuning"
   ]
  },
  {
   "cell_type": "code",
   "execution_count": 15,
   "metadata": {},
   "outputs": [],
   "source": [
    "def hyperopt_tune_model(pipeline, hyperparameters, X=X, y=y, cv=cv, scoring=scoring, max_evals=max_evals):\n",
    "    \n",
    "    def objective(params):\n",
    "        model = pipeline.set_params(**params)\n",
    "        score = -cross_val_score(model, X, y, cv=cv, scoring=scoring, n_jobs = -1).mean()\n",
    "        return {'loss': score, 'status':STATUS_OK}\n",
    "    \n",
    "    trials = Trials()\n",
    "    \n",
    "    best = fmin(fn = objective,\n",
    "               space = hyperparameters,\n",
    "               algo = tpe.suggest,\n",
    "               max_evals = max_evals,\n",
    "               trials = trials)\n",
    "    \n",
    "    return best, trials"
   ]
  },
  {
   "cell_type": "markdown",
   "metadata": {},
   "source": [
    "#### 4.1. Lasso"
   ]
  },
  {
   "cell_type": "code",
   "execution_count": 16,
   "metadata": {},
   "outputs": [],
   "source": [
    "lasso_hyperparameters = {'lasso__alpha': hp.loguniform('lasso__alpha', np.log(1e1), np.log(1e10))}"
   ]
  },
  {
   "cell_type": "code",
   "execution_count": 17,
   "metadata": {},
   "outputs": [
    {
     "name": "stdout",
     "output_type": "stream",
     "text": [
      "100%|██████████| 100/100 [00:13<00:00,  7.46it/s, best loss: 95881.59335982102]\n"
     ]
    }
   ],
   "source": [
    "lasso_best, lasso_trials = hyperopt_tune_model(linear_pipelines['lasso'], lasso_hyperparameters, max_evals = 100)"
   ]
  },
  {
   "cell_type": "code",
   "execution_count": 85,
   "metadata": {},
   "outputs": [],
   "source": [
    "lasso_final_model = linear_pipelines['lasso'].set_params(**lasso_best)"
   ]
  },
  {
   "cell_type": "code",
   "execution_count": 87,
   "metadata": {},
   "outputs": [],
   "source": [
    "fitted_lasso_final_model = lasso_final_model.fit(X, y)"
   ]
  },
  {
   "cell_type": "code",
   "execution_count": 88,
   "metadata": {},
   "outputs": [
    {
     "name": "stdout",
     "output_type": "stream",
     "text": [
      "93067\n"
     ]
    }
   ],
   "source": [
    "mae_lasso = int(mean_absolute_error(lasso_final_model.predict(X), y))\n",
    "print (mae_lasso)"
   ]
  },
  {
   "cell_type": "markdown",
   "metadata": {},
   "source": [
    "#### 4.2. Random Forest"
   ]
  },
  {
   "cell_type": "code",
   "execution_count": 18,
   "metadata": {},
   "outputs": [],
   "source": [
    "rf_hyperparameters_space = {'randomforestregressor__n_estimators': \n",
    "                      scope.int(hp.qloguniform('randomforestregressor__n_estimators', np.log(299.5), np.log(1000.5), 1)),\n",
    "                      'randomforestregressor__max_features': \n",
    "                      hp.uniform('randomforestregressor__max_features',0.,1.),\n",
    "                      'randomforestregressor__max_depth':\n",
    "                      hp.pchoice('randomforestregressor__max_depth', [(0.7,None),(0.05,2),(0.05,4),(0.05,8),(0.05,16),(0.05,25),(0.05,30)]),\n",
    "                      'randomforestregressor__criterion':\n",
    "                      hp.pchoice('randomforestregressor__criterion', [(0.5,'mse'),(0.5,'mae')])\n",
    "                     }"
   ]
  },
  {
   "cell_type": "code",
   "execution_count": 23,
   "metadata": {},
   "outputs": [
    {
     "name": "stdout",
     "output_type": "stream",
     "text": [
      " 35%|███▌      | 7/20 [19:35<44:49, 206.88s/it, best loss: 78263.48759228499]  "
     ]
    },
    {
     "name": "stderr",
     "output_type": "stream",
     "text": [
      "//anaconda3/lib/python3.7/site-packages/joblib/externals/loky/process_executor.py:706: UserWarning: A worker stopped while some jobs were given to the executor. This can be caused by a too short worker timeout or by a memory leak.\n",
      "  \"timeout or by a memory leak.\", UserWarning\n",
      "\n"
     ]
    },
    {
     "name": "stdout",
     "output_type": "stream",
     "text": [
      "100%|██████████| 20/20 [37:52<00:00, 113.61s/it, best loss: 78169.63760875666]\n"
     ]
    }
   ],
   "source": [
    "rf_best, rf_trials = hyperopt_tune_model(tree_pipelines['rf'], rf_hyperparameters_space, max_evals = 20)"
   ]
  },
  {
   "cell_type": "code",
   "execution_count": 132,
   "metadata": {},
   "outputs": [
    {
     "data": {
      "text/plain": [
       "28725.33483942414"
      ]
     },
     "execution_count": 132,
     "metadata": {},
     "output_type": "execute_result"
    }
   ],
   "source": [
    "fitted_rf_final_model = tree_fitted_models['rf'].best_estimator_\n",
    "mae_rf = mean_absolute_error(fitted_rf_final_model.predict(X), y)\n",
    "mae_rf"
   ]
  },
  {
   "cell_type": "markdown",
   "metadata": {},
   "source": [
    "#### 4.3. XGB"
   ]
  },
  {
   "cell_type": "code",
   "execution_count": 73,
   "metadata": {},
   "outputs": [],
   "source": [
    "xgb_hyperparameters_space = {'xgbregressor__n_estimators': \n",
    "                             scope.int(hp.quniform('xgbregressor__n_estimators', 100, 500, 100)),\n",
    "                             'xgbregressor__learning_rate': \n",
    "                             hp.loguniform('xgbregressor__learning_rate', np.log(0.0001), np.log(0.5)) - 0.0001,\n",
    "                             'xgbregressor__max_depth':\n",
    "                             scope.int(hp.uniform('xgbregressor__max_depth', 1, 11)),\n",
    "                             'xgbregressor__min_child_weight':\n",
    "                             scope.int(hp.loguniform('xgbregressor__min_child_weight', np.log(1), np.log(100))),\n",
    "                             'xgbregressor__colsample_bytree':\n",
    "                             hp.uniform('xgbregressor__colsample_bytree', 0.5, 1),\n",
    "                             'xgbregressor__subsample':\n",
    "                             hp.uniform('xgbregressor__subsample', 0.5, 1),\n",
    "                             'xgbregressor__gamma':\n",
    "                             hp.loguniform('xgbregressor__gamma', np.log(0.0001), np.log(5)) - 0.0001,\n",
    "                             'xgbregressor__reg_alpha':\n",
    "                             hp.loguniform('xgbregressor__reg_alpha', np.log(0.0001), np.log(1)) - 0.0001,\n",
    "                             'xgbregressor__reg_lambda':\n",
    "                             hp.loguniform('xgbregressor__reg_lambda', np.log(1), np.log(4))\n",
    "                            }"
   ]
  },
  {
   "cell_type": "code",
   "execution_count": 75,
   "metadata": {},
   "outputs": [
    {
     "data": {
      "text/plain": [
       "{'xgbregressor__colsample_bytree': 0.8661558648698062,\n",
       " 'xgbregressor__gamma': 0.022766450929252603,\n",
       " 'xgbregressor__learning_rate': 0.00022934750136879465,\n",
       " 'xgbregressor__max_depth': 9,\n",
       " 'xgbregressor__min_child_weight': 86,\n",
       " 'xgbregressor__n_estimators': 400,\n",
       " 'xgbregressor__reg_alpha': 0.0009580517169326919,\n",
       " 'xgbregressor__reg_lambda': 1.5675681089039277,\n",
       " 'xgbregressor__subsample': 0.8956129101638679}"
      ]
     },
     "execution_count": 75,
     "metadata": {},
     "output_type": "execute_result"
    }
   ],
   "source": [
    "stochastic.sample(xgb_hyperparameters_space)"
   ]
  },
  {
   "cell_type": "code",
   "execution_count": 77,
   "metadata": {},
   "outputs": [
    {
     "name": "stdout",
     "output_type": "stream",
     "text": [
      "100%|██████████| 20/20 [01:47<00:00,  5.39s/it, best loss: 79752.45181686046]\n"
     ]
    }
   ],
   "source": [
    "%timeit\n",
    "xgb_best, xgb_trials = hyperopt_tune_model(tree_pipelines['xgb'], xgb_hyperparameters_space, max_evals = 20)"
   ]
  },
  {
   "cell_type": "code",
   "execution_count": 78,
   "metadata": {},
   "outputs": [
    {
     "data": {
      "text/plain": [
       "{'xgbregressor__colsample_bytree': 0.9004386852542656,\n",
       " 'xgbregressor__gamma': 0.002122017099175308,\n",
       " 'xgbregressor__learning_rate': 0.022945422269477024,\n",
       " 'xgbregressor__max_depth': 5.605032764276819,\n",
       " 'xgbregressor__min_child_weight': 90.03020409171693,\n",
       " 'xgbregressor__n_estimators': 300.0,\n",
       " 'xgbregressor__reg_alpha': 0.0034763714438069485,\n",
       " 'xgbregressor__reg_lambda': 2.2959590998528903,\n",
       " 'xgbregressor__subsample': 0.7950965604832355}"
      ]
     },
     "execution_count": 78,
     "metadata": {},
     "output_type": "execute_result"
    }
   ],
   "source": [
    "xgb_best"
   ]
  },
  {
   "cell_type": "code",
   "execution_count": 79,
   "metadata": {},
   "outputs": [],
   "source": [
    "xgb_best['xgbregressor__max_depth'] = int(xgb_best['xgbregressor__max_depth'])# = int()\n",
    "\n",
    "xgb_best['xgbregressor__n_estimators'] = int(xgb_best['xgbregressor__n_estimators'])"
   ]
  },
  {
   "cell_type": "code",
   "execution_count": 80,
   "metadata": {},
   "outputs": [
    {
     "name": "stdout",
     "output_type": "stream",
     "text": [
      "Pipeline(memory=None,\n",
      "         steps=[('standardscaler',\n",
      "                 StandardScaler(copy=True, with_mean=True, with_std=True)),\n",
      "                ('xgbregressor',\n",
      "                 XGBRegressor(base_score=0.5, booster='gbtree',\n",
      "                              colsample_bylevel=1, colsample_bynode=1,\n",
      "                              colsample_bytree=0.9004386852542656,\n",
      "                              gamma=0.002122017099175308,\n",
      "                              importance_type='gain',\n",
      "                              learning_rate=0.022945422269477024,\n",
      "                              max_delta_step=0, max_depth=5,\n",
      "                              min_child_weight=90.03020409171693, missing=None,\n",
      "                              n_estimators=300, n_jobs=1, nthread=None,\n",
      "                              objective='reg:linear', random_state=26,\n",
      "                              reg_alpha=0.0034763714438069485,\n",
      "                              reg_lambda=2.2959590998528903, scale_pos_weight=1,\n",
      "                              seed=None, silent=None,\n",
      "                              subsample=0.7950965604832355, verbosity=1))],\n",
      "         verbose=False)\n"
     ]
    }
   ],
   "source": [
    "xgb_final_model = tree_pipelines['xgb'].set_params(**xgb_best)\n",
    "print (xgb_final_model)"
   ]
  },
  {
   "cell_type": "code",
   "execution_count": 81,
   "metadata": {},
   "outputs": [
    {
     "name": "stdout",
     "output_type": "stream",
     "text": [
      "[18:56:43] WARNING: src/objective/regression_obj.cu:152: reg:linear is now deprecated in favor of reg:squarederror.\n"
     ]
    }
   ],
   "source": [
    "fitted_xgb_final_model = xgb_final_model.fit(X, y)"
   ]
  },
  {
   "cell_type": "code",
   "execution_count": 82,
   "metadata": {},
   "outputs": [
    {
     "name": "stdout",
     "output_type": "stream",
     "text": [
      "69732.27274709303\n"
     ]
    }
   ],
   "source": [
    "mae_xgb = mean_absolute_error(fitted_xgb_final_model.predict(X),y)\n",
    "print (mae_xgb)"
   ]
  },
  {
   "cell_type": "markdown",
   "metadata": {},
   "source": [
    "**Save final models**\n",
    "1. Lasso and xgb are better tuned through hyperopt.\n",
    "2. Random forest have better validation performance from grid search.\n",
    "3. Even though random forest has the best validation score, the gap between validation and training is large, indicator for overfitting. On the other hand, xgb's gap between validation and training is a lot smaller."
   ]
  },
  {
   "cell_type": "code",
   "execution_count": 107,
   "metadata": {},
   "outputs": [],
   "source": [
    "fitted_final_models = {'lasso': fitted_lasso_final_model,\n",
    "                      'rf': fitted_rf_final_model,\n",
    "                      'xgb': fitted_xgb_final_model}"
   ]
  },
  {
   "cell_type": "code",
   "execution_count": 90,
   "metadata": {},
   "outputs": [],
   "source": [
    "fitted_final_models_mae = {'lasso': mae_lasso,\n",
    "                          'rf': mae_rf,\n",
    "                          'xgb': mae_xgb}"
   ]
  },
  {
   "cell_type": "code",
   "execution_count": 108,
   "metadata": {},
   "outputs": [],
   "source": [
    "with open ('../models/fitted_final_models.pkl', 'wb') as f:\n",
    "    pickle.dump(fitted_final_models, f)"
   ]
  },
  {
   "cell_type": "code",
   "execution_count": 92,
   "metadata": {},
   "outputs": [],
   "source": [
    "with open ('../models/fitted_final_models_mae.pkl', 'wb') as f:\n",
    "    pickle.dump(fitted_final_models_mae, f)"
   ]
  },
  {
   "cell_type": "markdown",
   "metadata": {},
   "source": [
    "[back to top](#toc)\n",
    "<a id = 'imp'></a>\n",
    "### 5. Feature importance"
   ]
  },
  {
   "cell_type": "code",
   "execution_count": 119,
   "metadata": {},
   "outputs": [],
   "source": [
    "def plot_feature_importance(features, importances, title, method, figsize = (6, 8)):\n",
    "    fi_dict = dict(zip(features, importances))\n",
    "    fi_df = pd.DataFrame.from_dict(fi_dict, orient = 'index').rename(columns = {0: method})\n",
    "    fi_df.sort_values(method).plot(kind = 'barh', figsize = figsize)\n",
    "    plt.title(title)\n",
    "    plt.show()"
   ]
  },
  {
   "cell_type": "code",
   "execution_count": 120,
   "metadata": {},
   "outputs": [
    {
     "data": {
      "image/png": "[encoded data removed]",
      "text/plain": [
       "<Figure size 432x576 with 1 Axes>"
      ]
     },
     "metadata": {
      "needs_background": "light"
     },
     "output_type": "display_data"
    }
   ],
   "source": [
    "plot_feature_importance(X.columns, fitted_final_models['rf'][1].feature_importances_, 'rf_feature_importances', 'gini')"
   ]
  },
  {
   "cell_type": "markdown",
   "metadata": {},
   "source": [
    "**CHECK DONE: All final models are saved correctly.**\n",
    "\n",
    "**Feature Importance**\n",
    "1. as expected and observed, property tax and insurance, property size related features are most predictive.\n",
    "2. recession indicator has some predictive power, which also makes sense, as macro environment plays a big role in real assets pricing.\n",
    "2. building materials, be it wall or roof, are of almost no importance in predicing the price.\n",
    "\n",
    "**References:**\n",
    "1. https://github.com/hyperopt/hyperopt-sklearn/blob/master/hpsklearn/components.py\n",
    "2. https://www.linkedin.com/pulse/approaching-almost-any-machine-learning-problem-abhishek-thakur\n",
    "3. sklearn RandomForestRegressor"
   ]
  }
 ],
 "metadata": {
  "kernelspec": {
   "display_name": "Python 3",
   "language": "python",
   "name": "python3"
  },
  "language_info": {
   "codemirror_mode": {
    "name": "ipython",
    "version": 3
   },
   "file_extension": ".py",
   "mimetype": "text/x-python",
   "name": "python",
   "nbconvert_exporter": "python",
   "pygments_lexer": "ipython3",
   "version": "3.7.3"
  }
 },
 "nbformat": 4,
 "nbformat_minor": 2
}
