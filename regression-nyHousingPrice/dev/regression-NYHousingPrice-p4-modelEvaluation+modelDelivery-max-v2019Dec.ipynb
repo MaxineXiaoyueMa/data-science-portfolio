{
 "cells": [
  {
   "cell_type": "markdown",
   "metadata": {},
   "source": [
    "# NY Housing Price - regression\n",
    "## Part 4. Model Evaluation & Project Delivery\n",
    "<br>\n",
    "\n",
    "<a id = 'toc'></a>\n",
    "**Table of Contents**\n",
    "1. [Premodeling function](#pre)\n",
    "2. [Model evaluation](#eval)\n",
    "    1. [Load test set](#eval)\n",
    "    2. [Load models](#model)\n",
    "    3. [Evaluate models on test_X](#eval1)\n",
    "3. [Construct model class](#class)\n",
    "4. [Project delivery](#deliver)"
   ]
  },
  {
   "cell_type": "code",
   "execution_count": 60,
   "metadata": {},
   "outputs": [],
   "source": [
    "# import libraries\n",
    "import pandas as pd\n",
    "import numpy as np\n",
    "\n",
    "import pickle as pickle\n",
    "\n",
    "from sklearn.metrics import mean_absolute_error\n",
    "from sklearn.inspection import permutation_importance\n",
    "\n",
    "import matplotlib.pyplot as plt\n",
    "%matplotlib inline\n",
    "import seaborn as sns\n",
    "sns.set_style('darkgrid')"
   ]
  },
  {
   "cell_type": "code",
   "execution_count": 3,
   "metadata": {},
   "outputs": [
    {
     "name": "stdout",
     "output_type": "stream",
     "text": [
      "(1505, 48)\n",
      "(1505,) (1505, 47)\n"
     ]
    }
   ],
   "source": [
    "# Load data\n",
    "train_df = pd.read_csv('../data/analytical_base_table.csv')\n",
    "print (train_df.shape)\n",
    "\n",
    "# Create X, y\n",
    "train_y = train_df['tx_price']\n",
    "train_X = train_df.drop(['tx_price'], axis = 1)\n",
    "print (train_y.shape, train_X.shape)"
   ]
  },
  {
   "cell_type": "code",
   "execution_count": 4,
   "metadata": {},
   "outputs": [],
   "source": [
    "# load raw data \n",
    "raw_data = pd.read_csv('../data/train.csv')"
   ]
  },
  {
   "cell_type": "code",
   "execution_count": 5,
   "metadata": {},
   "outputs": [
    {
     "data": {
      "text/plain": [
       "(1506, 26)"
      ]
     },
     "execution_count": 5,
     "metadata": {},
     "output_type": "execute_result"
    }
   ],
   "source": [
    "raw_data.shape"
   ]
  },
  {
   "cell_type": "code",
   "execution_count": 6,
   "metadata": {},
   "outputs": [
    {
     "data": {
      "text/html": [
       "<div>\n",
       "<style scoped>\n",
       "    .dataframe tbody tr th:only-of-type {\n",
       "        vertical-align: middle;\n",
       "    }\n",
       "\n",
       "    .dataframe tbody tr th {\n",
       "        vertical-align: top;\n",
       "    }\n",
       "\n",
       "    .dataframe thead th {\n",
       "        text-align: right;\n",
       "    }\n",
       "</style>\n",
       "<table border=\"1\" class=\"dataframe\">\n",
       "  <thead>\n",
       "    <tr style=\"text-align: right;\">\n",
       "      <th></th>\n",
       "      <th>tx_price</th>\n",
       "      <th>beds</th>\n",
       "      <th>baths</th>\n",
       "      <th>sqft</th>\n",
       "      <th>year_built</th>\n",
       "      <th>lot_size</th>\n",
       "      <th>property_type</th>\n",
       "      <th>exterior_walls</th>\n",
       "      <th>roof</th>\n",
       "      <th>basement</th>\n",
       "      <th>...</th>\n",
       "      <th>beauty_spas</th>\n",
       "      <th>active_life</th>\n",
       "      <th>median_age</th>\n",
       "      <th>married</th>\n",
       "      <th>college_grad</th>\n",
       "      <th>property_tax</th>\n",
       "      <th>insurance</th>\n",
       "      <th>median_school</th>\n",
       "      <th>num_schools</th>\n",
       "      <th>tx_year</th>\n",
       "    </tr>\n",
       "  </thead>\n",
       "  <tbody>\n",
       "    <tr>\n",
       "      <th>0</th>\n",
       "      <td>257840</td>\n",
       "      <td>4</td>\n",
       "      <td>2</td>\n",
       "      <td>3796</td>\n",
       "      <td>1978</td>\n",
       "      <td>20473</td>\n",
       "      <td>Single-Family</td>\n",
       "      <td>Metal</td>\n",
       "      <td>Composition Shingle</td>\n",
       "      <td>1.0</td>\n",
       "      <td>...</td>\n",
       "      <td>0</td>\n",
       "      <td>0</td>\n",
       "      <td>49.0</td>\n",
       "      <td>91.0</td>\n",
       "      <td>83.0</td>\n",
       "      <td>593.0</td>\n",
       "      <td>181.0</td>\n",
       "      <td>8.0</td>\n",
       "      <td>1.0</td>\n",
       "      <td>1997</td>\n",
       "    </tr>\n",
       "    <tr>\n",
       "      <th>1</th>\n",
       "      <td>540000</td>\n",
       "      <td>4</td>\n",
       "      <td>3</td>\n",
       "      <td>2500</td>\n",
       "      <td>1971</td>\n",
       "      <td>10500</td>\n",
       "      <td>Single-Family</td>\n",
       "      <td>Brick</td>\n",
       "      <td>Composition Shingle</td>\n",
       "      <td>1.0</td>\n",
       "      <td>...</td>\n",
       "      <td>11</td>\n",
       "      <td>9</td>\n",
       "      <td>46.0</td>\n",
       "      <td>94.0</td>\n",
       "      <td>54.0</td>\n",
       "      <td>487.0</td>\n",
       "      <td>148.0</td>\n",
       "      <td>8.0</td>\n",
       "      <td>3.0</td>\n",
       "      <td>2013</td>\n",
       "    </tr>\n",
       "    <tr>\n",
       "      <th>2</th>\n",
       "      <td>300000</td>\n",
       "      <td>4</td>\n",
       "      <td>3</td>\n",
       "      <td>3480</td>\n",
       "      <td>1940</td>\n",
       "      <td>10890</td>\n",
       "      <td>Single-Family</td>\n",
       "      <td>Brick</td>\n",
       "      <td>Asphalt</td>\n",
       "      <td>1.0</td>\n",
       "      <td>...</td>\n",
       "      <td>25</td>\n",
       "      <td>35</td>\n",
       "      <td>45.0</td>\n",
       "      <td>81.0</td>\n",
       "      <td>88.0</td>\n",
       "      <td>1015.0</td>\n",
       "      <td>337.0</td>\n",
       "      <td>4.0</td>\n",
       "      <td>3.0</td>\n",
       "      <td>1993</td>\n",
       "    </tr>\n",
       "    <tr>\n",
       "      <th>3</th>\n",
       "      <td>650000</td>\n",
       "      <td>5</td>\n",
       "      <td>4</td>\n",
       "      <td>5809</td>\n",
       "      <td>2002</td>\n",
       "      <td>30056</td>\n",
       "      <td>Single-Family</td>\n",
       "      <td>NaN</td>\n",
       "      <td>Asphalt</td>\n",
       "      <td>1.0</td>\n",
       "      <td>...</td>\n",
       "      <td>5</td>\n",
       "      <td>8</td>\n",
       "      <td>37.0</td>\n",
       "      <td>64.0</td>\n",
       "      <td>55.0</td>\n",
       "      <td>727.0</td>\n",
       "      <td>187.0</td>\n",
       "      <td>7.0</td>\n",
       "      <td>3.0</td>\n",
       "      <td>2004</td>\n",
       "    </tr>\n",
       "    <tr>\n",
       "      <th>4</th>\n",
       "      <td>576145</td>\n",
       "      <td>4</td>\n",
       "      <td>3</td>\n",
       "      <td>3504</td>\n",
       "      <td>2004</td>\n",
       "      <td>4199</td>\n",
       "      <td>Single-Family</td>\n",
       "      <td>Siding (Alum/Vinyl)</td>\n",
       "      <td>Composition Shingle</td>\n",
       "      <td>1.0</td>\n",
       "      <td>...</td>\n",
       "      <td>12</td>\n",
       "      <td>5</td>\n",
       "      <td>34.0</td>\n",
       "      <td>91.0</td>\n",
       "      <td>59.0</td>\n",
       "      <td>528.0</td>\n",
       "      <td>161.0</td>\n",
       "      <td>7.0</td>\n",
       "      <td>2.0</td>\n",
       "      <td>2005</td>\n",
       "    </tr>\n",
       "  </tbody>\n",
       "</table>\n",
       "<p>5 rows × 26 columns</p>\n",
       "</div>"
      ],
      "text/plain": [
       "   tx_price  beds  baths  sqft  year_built  lot_size  property_type  \\\n",
       "0    257840     4      2  3796        1978     20473  Single-Family   \n",
       "1    540000     4      3  2500        1971     10500  Single-Family   \n",
       "2    300000     4      3  3480        1940     10890  Single-Family   \n",
       "3    650000     5      4  5809        2002     30056  Single-Family   \n",
       "4    576145     4      3  3504        2004      4199  Single-Family   \n",
       "\n",
       "        exterior_walls                 roof  basement  ...  beauty_spas  \\\n",
       "0                Metal  Composition Shingle       1.0  ...            0   \n",
       "1                Brick  Composition Shingle       1.0  ...           11   \n",
       "2                Brick              Asphalt       1.0  ...           25   \n",
       "3                  NaN              Asphalt       1.0  ...            5   \n",
       "4  Siding (Alum/Vinyl)  Composition Shingle       1.0  ...           12   \n",
       "\n",
       "   active_life  median_age  married  college_grad  property_tax  insurance  \\\n",
       "0            0        49.0     91.0          83.0         593.0      181.0   \n",
       "1            9        46.0     94.0          54.0         487.0      148.0   \n",
       "2           35        45.0     81.0          88.0        1015.0      337.0   \n",
       "3            8        37.0     64.0          55.0         727.0      187.0   \n",
       "4            5        34.0     91.0          59.0         528.0      161.0   \n",
       "\n",
       "   median_school  num_schools  tx_year  \n",
       "0            8.0          1.0     1997  \n",
       "1            8.0          3.0     2013  \n",
       "2            4.0          3.0     1993  \n",
       "3            7.0          3.0     2004  \n",
       "4            7.0          2.0     2005  \n",
       "\n",
       "[5 rows x 26 columns]"
      ]
     },
     "execution_count": 6,
     "metadata": {},
     "output_type": "execute_result"
    }
   ],
   "source": [
    "raw_data.head()"
   ]
  },
  {
   "cell_type": "code",
   "execution_count": 7,
   "metadata": {},
   "outputs": [
    {
     "name": "stdout",
     "output_type": "stream",
     "text": [
      "(1506, 26)\n",
      "(1506, 25)\n"
     ]
    }
   ],
   "source": [
    "print (raw_data.shape)\n",
    "raw_data = raw_data.drop(['tx_price'], axis =1)\n",
    "print (raw_data.shape)"
   ]
  },
  {
   "cell_type": "markdown",
   "metadata": {},
   "source": [
    "<a id = 'pre'></a>\n",
    "## 1. Premodeling function\n",
    "\n",
    "1. [clean_data](#clean) \n",
    "2. [engineer_feature](#eng)"
   ]
  },
  {
   "cell_type": "markdown",
   "metadata": {},
   "source": [
    "<a id = 'clean'></a>\n",
    "### 1.1 clean_data"
   ]
  },
  {
   "cell_type": "code",
   "execution_count": 10,
   "metadata": {},
   "outputs": [],
   "source": [
    "# data cleaning function\n",
    "def clean_data(df):\n",
    "    \n",
    "    roof_replace_dict = {'asphalt': 'Asphalt', \n",
    "                         'composition': 'Composition',\n",
    "                         'shake-shingle': 'Shake Shingle'}\n",
    "    df.loc[:, 'roof'] = df['roof'].replace(roof_replace_dict)    \n",
    "    df.loc[:, 'basement'] = df.basement.fillna(0)\n",
    "    \n",
    "    df = df[df.lot_size < 500000]\n",
    "    \n",
    "    cat_cols=['property_type', 'exterior_walls', 'roof']    \n",
    "    for c in cat_cols:\n",
    "        df.loc[:,c] = df[c].fillna('Missing')\n",
    "        \n",
    "    return df"
   ]
  },
  {
   "cell_type": "code",
   "execution_count": 11,
   "metadata": {},
   "outputs": [
    {
     "name": "stdout",
     "output_type": "stream",
     "text": [
      "(1505, 25)\n"
     ]
    }
   ],
   "source": [
    "cleaned_data = clean_data(raw_data)\n",
    "\n",
    "print ( cleaned_data.shape)"
   ]
  },
  {
   "cell_type": "markdown",
   "metadata": {},
   "source": [
    "<a id = 'eng'></a>\n",
    "### 1.2 engineer_features"
   ]
  },
  {
   "cell_type": "code",
   "execution_count": 28,
   "metadata": {},
   "outputs": [],
   "source": [
    "def engineer_features(df):\n",
    "    \n",
    "    df.loc[:,'2ba2be'] = ((df.baths == 2) & (df.beds == 2)).astype(int)\n",
    "    df.loc[:,'recession_ind'] = df.tx_year.between(2008, 2014).astype(int)\n",
    "    df.loc[:,'property_age'] = df.tx_year - df.year_built\n",
    "    df.loc[:,'age_neg_ind'] = (df.property_age < 0)\n",
    "    df.loc[df.property_age < 0, 'property_age'] = 0\n",
    "    df = df.drop(['tx_year', 'year_built'], axis = 1)\n",
    "    df.loc[:,'school_score'] = df.num_schools * df.median_school\n",
    "    df.loc[:,'ba2be'] = df.baths*1.0/df.beds\n",
    "    \n",
    "    df.loc[:,'roof'] = df['roof'].replace(['asphalt,shake-shingle', 'Built-up','Metal','Slate','Asbestos'], 'Other')\n",
    "    df.loc[:,'roof'] = df['roof'].replace('Composition', 'Composition Shingle')\n",
    "    \n",
    "    df.loc[:,'exterior_walls'] = df['exterior_walls'].replace(['Wood Siding','Wood Shingle'], 'Wood')\n",
    "    df.loc[:,'exterior_walls'] = df['exterior_walls'].replace(['Concrete Block','Block'], 'Concrete')\n",
    "    df.loc[:,'exterior_walls'] = df['exterior_walls'].replace('Rock, Stone', 'Masonry')\n",
    "    df.loc[:,'exterior_walls'] = df['exterior_walls'].replace('Asbestos shingle', 'Other')\n",
    "    \n",
    "    df = pd.get_dummies\n",
    "    \n",
    "    return df"
   ]
  },
  {
   "cell_type": "code",
   "execution_count": 29,
   "metadata": {},
   "outputs": [
    {
     "name": "stdout",
     "output_type": "stream",
     "text": [
      "(1505, 29) (1505, 47)\n"
     ]
    }
   ],
   "source": [
    "augmented_data = engineer_features(cleaned_data)\n",
    "print (cleaned_data.shape, augmented_data.shape)"
   ]
  },
  {
   "cell_type": "code",
   "execution_count": 30,
   "metadata": {},
   "outputs": [
    {
     "data": {
      "text/plain": [
       "True"
      ]
     },
     "execution_count": 30,
     "metadata": {},
     "output_type": "execute_result"
    }
   ],
   "source": [
    "(train_X == augmented_data.reset_index(drop=True)).all().all()"
   ]
  },
  {
   "cell_type": "markdown",
   "metadata": {},
   "source": [
    "[back to top](#toc)\n",
    "\n",
    "<a id = 'eval'></a>\n",
    "\n",
    "## 2. Model evaluation\n",
    "\n",
    "### 2.A. Load test set"
   ]
  },
  {
   "cell_type": "code",
   "execution_count": 36,
   "metadata": {},
   "outputs": [
    {
     "name": "stdout",
     "output_type": "stream",
     "text": [
      "(377, 26)\n"
     ]
    }
   ],
   "source": [
    "test_data = pd.read_csv('../data/test.csv')\n",
    "print(test_data.shape)"
   ]
  },
  {
   "cell_type": "code",
   "execution_count": 37,
   "metadata": {},
   "outputs": [
    {
     "name": "stdout",
     "output_type": "stream",
     "text": [
      "(377, 25) (377,)\n"
     ]
    }
   ],
   "source": [
    "test_y = test_data.tx_price\n",
    "test_X = test_data.drop(['tx_price'], axis = 1)\n",
    "print (test_X.shape, test_y.shape)"
   ]
  },
  {
   "cell_type": "code",
   "execution_count": 38,
   "metadata": {},
   "outputs": [
    {
     "name": "stdout",
     "output_type": "stream",
     "text": [
      "(377, 47)\n"
     ]
    }
   ],
   "source": [
    "# Premodeling function\n",
    "test_X = engineer_features(clean_data(test_X))\n",
    "print(test_X.shape)"
   ]
  },
  {
   "cell_type": "markdown",
   "metadata": {},
   "source": [
    "[back to top](#toc)\n",
    "\n",
    "<a id = 'load'></a>\n",
    "### 2.B. Load models"
   ]
  },
  {
   "cell_type": "code",
   "execution_count": 19,
   "metadata": {},
   "outputs": [
    {
     "name": "stdout",
     "output_type": "stream",
     "text": [
      "[09:44:07] WARNING: src/objective/regression_obj.cu:152: reg:linear is now deprecated in favor of reg:squarederror.\n"
     ]
    }
   ],
   "source": [
    "with open('../models/fitted_final_models.pkl', 'rb') as f:\n",
    "    fitted_final_models = pickle.load(f)"
   ]
  },
  {
   "cell_type": "code",
   "execution_count": 20,
   "metadata": {},
   "outputs": [],
   "source": [
    "with open('../models/fitted_final_models_mae.pkl', 'rb') as f:\n",
    "    fitted_final_models_mae = pickle.load(f)"
   ]
  },
  {
   "cell_type": "code",
   "execution_count": 40,
   "metadata": {},
   "outputs": [
    {
     "name": "stdout",
     "output_type": "stream",
     "text": [
      "MAE on train_X from loaded lasso model is 93067, is should be 93067\n",
      "MAE on train_X from loaded rf model is 28725, is should be 28725\n",
      "MAE on train_X from loaded xgb model is 69732, is should be 69732\n"
     ]
    }
   ],
   "source": [
    "# verify model \n",
    "for name, model in fitted_final_models.items():\n",
    "    score_loaded_model = int(mean_absolute_error(train_y, model.predict(train_X)))\n",
    "    score_loaded_score = int(fitted_final_models_mae[name])\n",
    "    print ('MAE on train_X from loaded {} model is {}, is should be {}'.format(name, score_loaded_model, score_loaded_score))"
   ]
  },
  {
   "cell_type": "markdown",
   "metadata": {},
   "source": [
    "[back to top](#toc)\n",
    "\n",
    "<a id = 'eval1'></a>\n",
    "### 2.C. Evaluate models on test_X"
   ]
  },
  {
   "cell_type": "code",
   "execution_count": 41,
   "metadata": {},
   "outputs": [
    {
     "name": "stdout",
     "output_type": "stream",
     "text": [
      "MAE on test_X for lasso is 90727\n",
      "MAE on test_X for rf is 72623\n",
      "MAE on test_X for xgb is 75025\n"
     ]
    }
   ],
   "source": [
    "for name, model in fitted_final_models.items():\n",
    "    score = int(mean_absolute_error(test_y, model.predict(test_X)))\n",
    "    print ('MAE on test_X for {} is {}'.format(name, score))"
   ]
  },
  {
   "cell_type": "markdown",
   "metadata": {},
   "source": [
    "<div class = 'alert alert-info'>\n",
    "\n",
    "**CONCLUSION: RandomForestRegressor stil has the best performance. Evaluation result is consistent with cross validation result. Although, it is really close to xgb's performance** "
   ]
  },
  {
   "cell_type": "code",
   "execution_count": 46,
   "metadata": {},
   "outputs": [],
   "source": [
    "fi = permutation_importance(fitted_final_models['rf'], test_X, test_y, 'neg_mean_absolute_error', 10, -2)['importances_mean']"
   ]
  },
  {
   "cell_type": "code",
   "execution_count": 54,
   "metadata": {},
   "outputs": [],
   "source": [
    "features = test_X.columns\n",
    "fi_dict = dict(zip(features, fi))\n",
    "fi_df = pd.DataFrame.from_dict(fi_dict, orient = 'index').rename(columns = {0: 'permutation_importance'})"
   ]
  },
  {
   "cell_type": "code",
   "execution_count": 64,
   "metadata": {},
   "outputs": [
    {
     "data": {
      "image/png": "[encoded data removed]",
      "text/plain": [
       "<Figure size 432x576 with 1 Axes>"
      ]
     },
     "metadata": {},
     "output_type": "display_data"
    }
   ],
   "source": [
    "fi_df.sort_values('permutation_importance').plot(kind = 'barh', figsize = (6, 8))\n",
    "plt.title('random forest feature permutation importance on test set')\n",
    "plt.show()"
   ]
  },
  {
   "cell_type": "markdown",
   "metadata": {},
   "source": [
    "**Insurance, recession, property_tax, property age, again, are all importance factors which is consisent with training. Neighborhood features play a lessor role compared with training, which indicates where overfitting likely happened.**\n",
    "\n",
    "[back to top](#toc)\n",
    "\n",
    "<a id = 'class'></a>\n",
    "## 3. Construct model class"
   ]
  },
  {
   "cell_type": "code",
   "execution_count": 30,
   "metadata": {},
   "outputs": [
    {
     "name": "stdout",
     "output_type": "stream",
     "text": [
      "[17:37:47] WARNING: src/objective/regression_obj.cu:152: reg:linear is now deprecated in favor of reg:squarederror.\n"
     ]
    }
   ],
   "source": [
    "with open('../models/fitted_final_models.pkl', 'rb') as f:\n",
    "    model = pickle.load(f)['rf']"
   ]
  },
  {
   "cell_type": "code",
   "execution_count": 38,
   "metadata": {},
   "outputs": [],
   "source": [
    "class HousePriceModel:\n",
    "    \n",
    "    def __init__(self, model_location):\n",
    "        with open(model_location, 'rb') as f:\n",
    "            self.model = pickle.load(f)['rf']\n",
    "    \n",
    "    def predict(self, X, clean=True, augment=True):\n",
    "        if clean == True:\n",
    "            X = self.clean_data(X)\n",
    "        if augment == True:\n",
    "            X = self.engineer_features(X)\n",
    "        return X, self.model.predict(X)\n",
    "    \n",
    "    \n",
    "    def clean_data(self, df):\n",
    "    \n",
    "        roof_replace_dict = {'asphalt': 'Asphalt', \n",
    "                             'composition': 'Composition',\n",
    "                             'shake-shingle': 'Shake Shingle'}\n",
    "        df.loc[:, 'roof'] = df['roof'].replace(roof_replace_dict)\n",
    "\n",
    "        df.loc[:,'basement'] = df.basement.fillna(0)\n",
    "\n",
    "        df = df.loc[df.lot_size < 500000, :]\n",
    "\n",
    "        cat_cols=['property_type', 'exterior_walls', 'roof']\n",
    "        for c in cat_cols:\n",
    "            df.loc[:,c] = df[c].fillna('Missing')\n",
    "        \n",
    "        return df    \n",
    "    \n",
    "    \n",
    "    def engineer_features(self, df):\n",
    "    \n",
    "        df.loc[:,'2ba2be'] = ((df.baths == 2) & (df.beds == 2)).astype(int)\n",
    "        df.loc[:,'recession_ind'] = df.tx_year.between(2008, 2014).astype(int)\n",
    "        df.loc[:,'property_age'] = df.tx_year - df.year_built\n",
    "        df.loc[:,'age_neg_ind'] = (df.property_age < 0)\n",
    "        df.loc[df.property_age < 0,'property_age'] = 0\n",
    "        df = df.drop(['tx_year', 'year_built'], axis = 1)\n",
    "        df.loc[:,'school_score'] = df.num_schools * df.median_school\n",
    "        df.loc[:,'ba2be'] = df.baths*1.0/df.beds\n",
    "\n",
    "        df.loc[:,'roof'] = df['roof'].replace(['asphalt,shake-shingle', 'Built-up','Metal','Slate','Asbestos'], 'Other')\n",
    "        df.loc[:,'roof'] = df['roof'].replace('Composition', 'Composition Shingle')\n",
    "\n",
    "        df.loc[:,'exterior_walls'] = df['exterior_walls'].replace(['Wood Siding','Wood Shingle'], 'Wood')\n",
    "        df.loc[:,'exterior_walls'] = df['exterior_walls'].replace(['Concrete Block','Block'], 'Concrete')\n",
    "        df.loc[:,'exterior_walls'] = df['exterior_walls'].replace('Rock, Stone', 'Masonry')\n",
    "        df.loc[:,'exterior_walls'] = df['exterior_walls'].replace('Asbestos shingle', 'Other')\n",
    "\n",
    "        df = pd.get_dummies(df)\n",
    "\n",
    "        return df\n",
    "            "
   ]
  },
  {
   "cell_type": "code",
   "execution_count": 39,
   "metadata": {},
   "outputs": [
    {
     "name": "stdout",
     "output_type": "stream",
     "text": [
      "[18:01:10] WARNING: src/objective/regression_obj.cu:152: reg:linear is now deprecated in favor of reg:squarederror.\n"
     ]
    }
   ],
   "source": [
    "model = HousePriceModel('../models/fitted_final_models.pkl')"
   ]
  },
  {
   "cell_type": "code",
   "execution_count": 40,
   "metadata": {},
   "outputs": [],
   "source": [
    "pred1 = fitted_final_models['rf'].predict(augmented_data)"
   ]
  },
  {
   "cell_type": "code",
   "execution_count": 41,
   "metadata": {},
   "outputs": [
    {
     "name": "stderr",
     "output_type": "stream",
     "text": [
      "//anaconda3/lib/python3.7/site-packages/pandas/core/indexing.py:543: SettingWithCopyWarning: \n",
      "A value is trying to be set on a copy of a slice from a DataFrame.\n",
      "Try using .loc[row_indexer,col_indexer] = value instead\n",
      "\n",
      "See the caveats in the documentation: http://pandas.pydata.org/pandas-docs/stable/indexing.html#indexing-view-versus-copy\n",
      "  self.obj[item] = s\n",
      "//anaconda3/lib/python3.7/site-packages/pandas/core/indexing.py:543: SettingWithCopyWarning: \n",
      "A value is trying to be set on a copy of a slice from a DataFrame.\n",
      "Try using .loc[row_indexer,col_indexer] = value instead\n",
      "\n",
      "See the caveats in the documentation: http://pandas.pydata.org/pandas-docs/stable/indexing.html#indexing-view-versus-copy\n",
      "  self.obj[item] = s\n",
      "//anaconda3/lib/python3.7/site-packages/pandas/core/indexing.py:362: SettingWithCopyWarning: \n",
      "A value is trying to be set on a copy of a slice from a DataFrame.\n",
      "Try using .loc[row_indexer,col_indexer] = value instead\n",
      "\n",
      "See the caveats in the documentation: http://pandas.pydata.org/pandas-docs/stable/indexing.html#indexing-view-versus-copy\n",
      "  self.obj[key] = _infer_fill_value(value)\n"
     ]
    },
    {
     "name": "stdout",
     "output_type": "stream",
     "text": [
      "True True True\n"
     ]
    }
   ],
   "source": [
    "_, pred2 = model.predict(augmented_data, clean=False, augment=False)\n",
    "_, pred3 = model.predict(cleaned_data, clean=False)\n",
    "_, pred4 = model.predict(raw_data)\n",
    "print (np.array_equal(pred1, pred2), np.array_equal(pred1, pred3), np.array_equal(pred1, pred4))"
   ]
  },
  {
   "cell_type": "markdown",
   "metadata": {},
   "source": [
    "<a id = 'deliever'></a>\n",
    "\n",
    "## 4. Project delievery"
   ]
  },
  {
   "cell_type": "code",
   "execution_count": 67,
   "metadata": {},
   "outputs": [],
   "source": [
    "final_model= fitted_final_models['rf']"
   ]
  },
  {
   "cell_type": "code",
   "execution_count": 68,
   "metadata": {},
   "outputs": [
    {
     "data": {
      "text/plain": [
       "28725.33483942414"
      ]
     },
     "execution_count": 68,
     "metadata": {},
     "output_type": "execute_result"
    }
   ],
   "source": [
    "mean_absolute_error(train_y, final_model.predict(train_X))"
   ]
  },
  {
   "cell_type": "code",
   "execution_count": 72,
   "metadata": {},
   "outputs": [],
   "source": [
    "with open('../deliverables/final_model.pkl', 'wb') as f:\n",
    "    pickle.dump(final_model, f)"
   ]
  },
  {
   "cell_type": "code",
   "execution_count": 73,
   "metadata": {},
   "outputs": [],
   "source": [
    "with open('../deliverables/final_model.pkl', 'rb') as f:\n",
    "    final_model = pickle.load(f)"
   ]
  },
  {
   "cell_type": "code",
   "execution_count": 74,
   "metadata": {},
   "outputs": [
    {
     "data": {
      "text/plain": [
       "28725.33483942414"
      ]
     },
     "execution_count": 74,
     "metadata": {},
     "output_type": "execute_result"
    }
   ],
   "source": [
    "mean_absolute_error(train_y, final_model.predict(train_X))"
   ]
  },
  {
   "cell_type": "markdown",
   "metadata": {},
   "source": [
    "**This is the end of the end of the project.**"
   ]
  }
 ],
 "metadata": {
  "kernelspec": {
   "display_name": "Python 3",
   "language": "python",
   "name": "python3"
  },
  "language_info": {
   "codemirror_mode": {
    "name": "ipython",
    "version": 3
   },
   "file_extension": ".py",
   "mimetype": "text/x-python",
   "name": "python",
   "nbconvert_exporter": "python",
   "pygments_lexer": "ipython3",
   "version": "3.7.3"
  }
 },
 "nbformat": 4,
 "nbformat_minor": 2
}
